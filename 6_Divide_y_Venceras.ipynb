{
  "nbformat": 4,
  "nbformat_minor": 0,
  "metadata": {
    "colab": {
      "name": "6. Divide y Venceras",
      "provenance": [],
      "collapsed_sections": [],
      "authorship_tag": "ABX9TyPzrs5UBf/WknY8lpNeBpFJ",
      "include_colab_link": true
    },
    "kernelspec": {
      "name": "python3",
      "display_name": "Python 3"
    },
    "language_info": {
      "name": "python"
    }
  },
  "cells": [
    {
      "cell_type": "markdown",
      "metadata": {
        "id": "view-in-github",
        "colab_type": "text"
      },
      "source": [
        "<a href=\"https://colab.research.google.com/github/RodriCalle/ComplejidadAlgoritmica/blob/main/6_Divide_y_Venceras.ipynb\" target=\"_parent\"><img src=\"https://colab.research.google.com/assets/colab-badge.svg\" alt=\"Open In Colab\"/></a>"
      ]
    },
    {
      "cell_type": "markdown",
      "metadata": {
        "id": "qLyI5WCFbyTW"
      },
      "source": [
        "##Master Theorem\n",
        "\n",
        "$$ T(n) = aT(\\frac{n}{b}) + O(n^k) $$\n",
        "\n",
        "So...\n",
        "\n",
        "$$\n",
        "T(n) = \\begin{equation}\n",
        "\\left\\{ \n",
        "  \\begin{aligned}\n",
        "    O(n^k)           && a < b^k\\\\\n",
        "    O(n^k\\,log\\,n)   && a = b^k\\\\\n",
        "    O(n^{log_b\\,a})  && a > b^k\n",
        "  \\end{aligned}\n",
        "  \\right.\n",
        "\\end{equation}\n",
        "$$"
      ]
    },
    {
      "cell_type": "code",
      "metadata": {
        "colab": {
          "base_uri": "https://localhost:8080/"
        },
        "id": "BLr3zUy3cuOc",
        "outputId": "5ec0bd3b-3ff5-405d-d8b9-81d0657daac5"
      },
      "source": [
        "import random\n",
        "\n",
        "lst = list(range(10))\n",
        "random.shuffle(lst)\n",
        "print(lst)"
      ],
      "execution_count": 48,
      "outputs": [
        {
          "output_type": "stream",
          "name": "stdout",
          "text": [
            "[9, 3, 8, 1, 4, 7, 2, 5, 0, 6]\n"
          ]
        }
      ]
    },
    {
      "cell_type": "markdown",
      "metadata": {
        "id": "SNj2FDzlcWTi"
      },
      "source": [
        "##Multiplicacion de dos numeros"
      ]
    },
    {
      "cell_type": "code",
      "metadata": {
        "colab": {
          "base_uri": "https://localhost:8080/"
        },
        "id": "xHLyN1ybcaha",
        "outputId": "c11f6a9a-dadb-4100-e22b-278997bd22ac"
      },
      "source": [
        "def mult(a, b, n):\n",
        "  if n == 1:\n",
        "    return a * b\n",
        "\n",
        "  ai = a // 10**(n//2)\n",
        "  ad = a % 10**(n//2)\n",
        "  bi = b // 10**(n//2)\n",
        "  bd = b % 10**(n//2)\n",
        "  z1 = mult(ai, bi, n//2) * 10**n\n",
        "  z2 = (mult(ai, bd, n//2) + mult(ad, bi, n//2)) * 10**(n//2)\n",
        "  z3 = mult(ad, bd, n//2)\n",
        "  \n",
        "  return z1 + z2 + z3\n",
        "\n",
        "a = 548929495\n",
        "b = 102043934\n",
        "n = 16\n",
        "res = mult(a, b, n)\n",
        "print(res)"
      ],
      "execution_count": 49,
      "outputs": [
        {
          "output_type": "stream",
          "name": "stdout",
          "text": [
            "56014925158433330\n"
          ]
        }
      ]
    },
    {
      "cell_type": "markdown",
      "metadata": {
        "id": "wNqj7FteQkVy"
      },
      "source": [
        "##El mayor de un arreglo"
      ]
    },
    {
      "cell_type": "markdown",
      "metadata": {
        "id": "PNV4qNbVc5iK"
      },
      "source": [
        "###Fuerza Bruta"
      ]
    },
    {
      "cell_type": "code",
      "metadata": {
        "id": "I9wRNmJDc7z0"
      },
      "source": [
        "def bfmax(a):\n",
        "  m = a[0]\n",
        "  for i in range(1, len(a)):\n",
        "    if a[i] > m:\n",
        "      m = a[i]\n",
        "  return m"
      ],
      "execution_count": 50,
      "outputs": []
    },
    {
      "cell_type": "code",
      "metadata": {
        "colab": {
          "base_uri": "https://localhost:8080/"
        },
        "id": "Xrt5sEjIw-En",
        "outputId": "e0e63e79-efcb-4f66-bf4d-ca039bd9d023"
      },
      "source": [
        "bfmax(lst)"
      ],
      "execution_count": 51,
      "outputs": [
        {
          "output_type": "execute_result",
          "data": {
            "text/plain": [
              "9"
            ]
          },
          "metadata": {},
          "execution_count": 51
        }
      ]
    },
    {
      "cell_type": "markdown",
      "metadata": {
        "id": "Nv8p8pbjdfoF"
      },
      "source": [
        "### Divide y venceras"
      ]
    },
    {
      "cell_type": "code",
      "metadata": {
        "colab": {
          "base_uri": "https://localhost:8080/"
        },
        "id": "-wbFjOPddhkY",
        "outputId": "f1b69b1b-5ff8-4413-db94-005bcfda28cf"
      },
      "source": [
        "def dcmax(a, i, f):\n",
        "  if i == f:\n",
        "    return a[i]\n",
        "  \n",
        "  mid = (i + f) // 2\n",
        "  maxleft = dcmax(a, i, mid)\n",
        "  maxright = dcmax(a, mid + 1, f)\n",
        "  \n",
        "  return maxleft if maxleft > maxright else maxright\n",
        "\n",
        "dcmax(lst, 0, len(lst)-1)"
      ],
      "execution_count": 52,
      "outputs": [
        {
          "output_type": "execute_result",
          "data": {
            "text/plain": [
              "9"
            ]
          },
          "metadata": {},
          "execution_count": 52
        }
      ]
    },
    {
      "cell_type": "markdown",
      "metadata": {
        "id": "tsVu4u-VeEDv"
      },
      "source": [
        "$$ T(n) = 2T(\\frac{n}{2}) + O(1) $$\n",
        "\n",
        "\n",
        "$$\n",
        "a = 2\\\\\n",
        "b = 2\\\\\n",
        "k = 0\n",
        "$$\n",
        "\n",
        "$$\n",
        "T(n) = n^{\\log_2{2}}\\\\\n",
        "T(n) = n\\\\\n",
        "T(n) \\implies O(n)\n",
        "$$"
      ]
    },
    {
      "cell_type": "markdown",
      "metadata": {
        "id": "5r5rClSlQnIT"
      },
      "source": [
        "##Sumatoria de un arreglo"
      ]
    },
    {
      "cell_type": "code",
      "metadata": {
        "id": "VJUq_bO1GDlO",
        "colab": {
          "base_uri": "https://localhost:8080/"
        },
        "outputId": "c7768289-ca9b-47fe-d4c6-c2787743c3ea"
      },
      "source": [
        "def suma(ini, fin, arr):\n",
        "  if (ini == fin):\n",
        "    return arr[ini]\n",
        "  else:\n",
        "    mitad = (ini+fin)//2\n",
        "    x = suma(ini, mitad, arr)\n",
        "    y = suma(mitad+1, fin,arr)\n",
        "    return x+y\n",
        "  \n",
        "suma(0,len(lst)-1, lst)"
      ],
      "execution_count": 53,
      "outputs": [
        {
          "output_type": "execute_result",
          "data": {
            "text/plain": [
              "45"
            ]
          },
          "metadata": {},
          "execution_count": 53
        }
      ]
    },
    {
      "cell_type": "markdown",
      "metadata": {
        "id": "69zlgJWUeqLI"
      },
      "source": [
        "##Multiplicacion de matrices\n",
        "\n",
        "para matrices donde $n = 2^k \\,,\\, k \\in N$"
      ]
    },
    {
      "cell_type": "markdown",
      "metadata": {
        "id": "qS1Jj7H3u9ph"
      },
      "source": [
        "### Classic way"
      ]
    },
    {
      "cell_type": "code",
      "metadata": {
        "id": "5wEd26X4ibM1"
      },
      "source": [
        "def matmul(a, b):\n",
        "  n = len(a)\n",
        "  c = [[0]*n for _ in range(n)]\n",
        "  for i in range(n):\n",
        "    for j in range(n):\n",
        "      accum = 0\n",
        "      for k in range(n):\n",
        "        accum += a[i][k] * b[k][j]\n",
        "      c[i][j] = accum\n",
        "  return c"
      ],
      "execution_count": 54,
      "outputs": []
    },
    {
      "cell_type": "code",
      "metadata": {
        "id": "oKAjGnctvfjS"
      },
      "source": [
        "import numpy as np"
      ],
      "execution_count": 55,
      "outputs": []
    },
    {
      "cell_type": "code",
      "metadata": {
        "colab": {
          "base_uri": "https://localhost:8080/"
        },
        "id": "c0v5kAJnvjBm",
        "outputId": "f2c43210-f40b-45b2-ee0f-60807c4620ed"
      },
      "source": [
        "n = 8\n",
        "a = np.array(list(range(n*n))).reshape((n, n))\n",
        "b = np.array(list(range(n*n))).reshape((n, n))\n",
        "print(a)\n",
        "print(b)"
      ],
      "execution_count": 56,
      "outputs": [
        {
          "output_type": "stream",
          "name": "stdout",
          "text": [
            "[[ 0  1  2  3  4  5  6  7]\n",
            " [ 8  9 10 11 12 13 14 15]\n",
            " [16 17 18 19 20 21 22 23]\n",
            " [24 25 26 27 28 29 30 31]\n",
            " [32 33 34 35 36 37 38 39]\n",
            " [40 41 42 43 44 45 46 47]\n",
            " [48 49 50 51 52 53 54 55]\n",
            " [56 57 58 59 60 61 62 63]]\n",
            "[[ 0  1  2  3  4  5  6  7]\n",
            " [ 8  9 10 11 12 13 14 15]\n",
            " [16 17 18 19 20 21 22 23]\n",
            " [24 25 26 27 28 29 30 31]\n",
            " [32 33 34 35 36 37 38 39]\n",
            " [40 41 42 43 44 45 46 47]\n",
            " [48 49 50 51 52 53 54 55]\n",
            " [56 57 58 59 60 61 62 63]]\n"
          ]
        }
      ]
    },
    {
      "cell_type": "code",
      "metadata": {
        "colab": {
          "base_uri": "https://localhost:8080/"
        },
        "id": "674GSlc7vudz",
        "outputId": "9feab76b-8b9d-4b07-e95d-5eb71c9fd4ce"
      },
      "source": [
        "c = matmul(a, b)\n",
        "np.array(c)"
      ],
      "execution_count": 57,
      "outputs": [
        {
          "output_type": "execute_result",
          "data": {
            "text/plain": [
              "array([[ 1120,  1148,  1176,  1204,  1232,  1260,  1288,  1316],\n",
              "       [ 2912,  3004,  3096,  3188,  3280,  3372,  3464,  3556],\n",
              "       [ 4704,  4860,  5016,  5172,  5328,  5484,  5640,  5796],\n",
              "       [ 6496,  6716,  6936,  7156,  7376,  7596,  7816,  8036],\n",
              "       [ 8288,  8572,  8856,  9140,  9424,  9708,  9992, 10276],\n",
              "       [10080, 10428, 10776, 11124, 11472, 11820, 12168, 12516],\n",
              "       [11872, 12284, 12696, 13108, 13520, 13932, 14344, 14756],\n",
              "       [13664, 14140, 14616, 15092, 15568, 16044, 16520, 16996]])"
            ]
          },
          "metadata": {},
          "execution_count": 57
        }
      ]
    },
    {
      "cell_type": "markdown",
      "metadata": {
        "id": "4v58lrYPv6Xd"
      },
      "source": [
        "### Divide and conquer way"
      ]
    },
    {
      "cell_type": "code",
      "metadata": {
        "id": "jVj3uWPKv1U-"
      },
      "source": [
        "def dcmatmul(a, b, c, ri, rf, ci, cf):\n",
        "  n = len(a)\n",
        "  if ri == rf:\n",
        "    accum = 0\n",
        "    for k in range(n):\n",
        "      accum += a[ri][k] * b[k][cf]\n",
        "\n",
        "    c[ri][cf] = accum\n",
        "  else:\n",
        "    rmid = (ri + rf) // 2\n",
        "    cmid = (ci + cf) // 2\n",
        "    dcmatmul(a, b, c, ri, rmid, ci, cmid)\n",
        "    dcmatmul(a, b, c, rmid+1, rf, ci, cmid)\n",
        "    dcmatmul(a, b, c, ri, rmid, cmid +1, cf)\n",
        "    dcmatmul(a, b, c, rmid+1, rf, cmid + 1, cf)"
      ],
      "execution_count": 58,
      "outputs": []
    },
    {
      "cell_type": "code",
      "metadata": {
        "colab": {
          "base_uri": "https://localhost:8080/"
        },
        "id": "a7Law5vNw-hV",
        "outputId": "6b5d9f05-4b59-4fd3-dab9-49af2dfc3ac8"
      },
      "source": [
        "n = 8\n",
        "a = np.array(list(range(n*n))).reshape((n, n))\n",
        "b = np.array(list(range(n*n))).reshape((n, n))\n",
        "c = np.zeros((n, n))\n",
        "dcmatmul(a, b, c, 0, n-1, 0, n-1)\n",
        "print(c)"
      ],
      "execution_count": 59,
      "outputs": [
        {
          "output_type": "stream",
          "name": "stdout",
          "text": [
            "[[ 1120.  1148.  1176.  1204.  1232.  1260.  1288.  1316.]\n",
            " [ 2912.  3004.  3096.  3188.  3280.  3372.  3464.  3556.]\n",
            " [ 4704.  4860.  5016.  5172.  5328.  5484.  5640.  5796.]\n",
            " [ 6496.  6716.  6936.  7156.  7376.  7596.  7816.  8036.]\n",
            " [ 8288.  8572.  8856.  9140.  9424.  9708.  9992. 10276.]\n",
            " [10080. 10428. 10776. 11124. 11472. 11820. 12168. 12516.]\n",
            " [11872. 12284. 12696. 13108. 13520. 13932. 14344. 14756.]\n",
            " [13664. 14140. 14616. 15092. 15568. 16044. 16520. 16996.]]\n"
          ]
        }
      ]
    }
  ]
}