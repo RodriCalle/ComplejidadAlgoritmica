{
  "nbformat": 4,
  "nbformat_minor": 0,
  "metadata": {
    "colab": {
      "name": "3. MergeSort.ipynb",
      "provenance": [],
      "collapsed_sections": [],
      "authorship_tag": "ABX9TyM1tEWD3NeGeAIC62Jkgima",
      "include_colab_link": true
    },
    "kernelspec": {
      "name": "python3",
      "display_name": "Python 3"
    },
    "language_info": {
      "name": "python"
    }
  },
  "cells": [
    {
      "cell_type": "markdown",
      "metadata": {
        "id": "view-in-github",
        "colab_type": "text"
      },
      "source": [
        "<a href=\"https://colab.research.google.com/github/RodriCalle/ComplejidadAlgoritmica/blob/main/3_MergeSort.ipynb\" target=\"_parent\"><img src=\"https://colab.research.google.com/assets/colab-badge.svg\" alt=\"Open In Colab\"/></a>"
      ]
    },
    {
      "cell_type": "code",
      "metadata": {
        "id": "syAT5yvvpaHW"
      },
      "source": [
        "def merge(a, ini, fin):\n",
        "  mid = (ini + fin) // 2\n",
        "  i = ini\n",
        "  j = mid + 1\n",
        "  n = fin - ini + 1\n",
        "  temp = [0]*n\n",
        "  for k in range(n):\n",
        "    if j > fin or (i <= mid and a[i] < a[j]):\n",
        "      temp[k] = a[i]\n",
        "      i += 1\n",
        "    else:\n",
        "      temp[k] = a[j]\n",
        "      j += 1\n",
        "\n",
        "  for k in range(n):\n",
        "    a[ini + k] = temp[k]\n",
        "\n",
        "def mergeSort(a, ini, fin):\n",
        "  if ini < fin:\n",
        "    mid = (ini + fin) // 2\n",
        "    mergeSort(a, ini, mid)\n",
        "    mergeSort(a, mid + 1, fin)\n",
        "    merge(a, ini, fin)"
      ],
      "execution_count": null,
      "outputs": []
    },
    {
      "cell_type": "code",
      "metadata": {
        "colab": {
          "base_uri": "https://localhost:8080/"
        },
        "id": "IF75rU3czKeI",
        "outputId": "051d22ac-619c-4c30-c649-dbed08a4f73d"
      },
      "source": [
        "import random\n",
        "\n",
        "lst = [i+1 for i in range(20)]\n",
        "\n",
        "print(\"Estado inicial: \", lst)\n",
        "random.shuffle(lst)\n",
        "print(\"Datos alterados: \", lst)\n",
        "mergeSort(lst, 0, len(lst) - 1)\n",
        "print(\"Datos ordenados:\\n\",lst)"
      ],
      "execution_count": null,
      "outputs": [
        {
          "output_type": "stream",
          "name": "stdout",
          "text": [
            "Estado inicial:  [1, 2, 3, 4, 5, 6, 7, 8, 9, 10, 11, 12, 13, 14, 15, 16, 17, 18, 19, 20]\n",
            "Datos alterados:  [10, 11, 2, 19, 16, 3, 14, 7, 1, 13, 4, 17, 6, 8, 12, 18, 9, 15, 5, 20]\n",
            "Datos ordenados:\n",
            " [1, 2, 3, 4, 5, 6, 7, 8, 9, 10, 11, 12, 13, 14, 15, 16, 17, 18, 19, 20]\n"
          ]
        }
      ]
    },
    {
      "cell_type": "markdown",
      "metadata": {
        "id": "C5zl8usdzi1U"
      },
      "source": [
        "##Merge Sort con un error"
      ]
    },
    {
      "cell_type": "code",
      "metadata": {
        "colab": {
          "base_uri": "https://localhost:8080/"
        },
        "id": "pMQVsOpTzmy8",
        "outputId": "f4261b2a-05d8-45a8-e3e0-8b3622aefc43"
      },
      "source": [
        "def merge2(a):\n",
        "  n = len(a)\n",
        "  mid = n // 2\n",
        "  i = 0\n",
        "  j = mid + 1\n",
        "  temp = [0]*n\n",
        "  k = 0\n",
        "  while i <= mid or j < n:\n",
        "    if j >= n or (i <= mid and a[i] < a[j]):\n",
        "      temp[k] = a[i]\n",
        "      i += 1\n",
        "    else:\n",
        "      temp[k] = a[j]\n",
        "      j += 1\n",
        "    k += 1\n",
        "\n",
        "  for k in range(n):\n",
        "    a[k] = temp[k]\n",
        "\n",
        "def mergeSort2(a):\n",
        "  n = len(a)\n",
        "  if n > 1:\n",
        "    mid = n // 2\n",
        "    mergeSort2(a[:mid])\n",
        "    mergeSort2(a[mid:])\n",
        "    merge2(a)\n",
        "\n",
        "random.shuffle(lst)\n",
        "print(lst)\n",
        "mergeSort2(lst)\n",
        "print(lst)"
      ],
      "execution_count": null,
      "outputs": [
        {
          "output_type": "stream",
          "text": [
            "[19, 20, 9, 17, 1, 8, 18, 11, 14, 15, 10, 2, 3, 12, 6, 13, 16, 5, 4, 7]\n",
            "[2, 3, 12, 6, 13, 16, 5, 4, 7, 19, 20, 9, 17, 1, 8, 18, 11, 14, 15, 10]\n"
          ],
          "name": "stdout"
        }
      ]
    },
    {
      "cell_type": "markdown",
      "metadata": {
        "id": "fRUL8FB30O82"
      },
      "source": [
        "Ojo: la segunda versión de mergesort (2) no funciona debido a que los slices de las listas son por valor, es decir son una copia de la porción de la lista original, como se demuestra en el siguiente ejemplo en el que el valor a[2] debería cambiar a 100 luego de la llamada a x()"
      ]
    },
    {
      "cell_type": "code",
      "metadata": {
        "colab": {
          "base_uri": "https://localhost:8080/"
        },
        "id": "kLwXkFce0WqY",
        "outputId": "47fb9808-2896-42ca-c661-9dada7a38556"
      },
      "source": [
        "a = [1, 2, 3, 4, 5]\n",
        "def x(b):\n",
        "  print(\"List A: \", a)\n",
        "  print(\"List B: \", b)\n",
        "  b[1] = 100\n",
        "  print(\"List B, second element modified: \", b)\n",
        "  print(\"List A: \", a)\n",
        "\n",
        "x(a[1: 4])\n",
        "\n",
        "print(\"***********\")\n",
        "x(a)"
      ],
      "execution_count": null,
      "outputs": [
        {
          "output_type": "stream",
          "text": [
            "List A:  [1, 2, 3, 4, 5]\n",
            "List B:  [2, 3, 4]\n",
            "List B, second element modified:  [2, 100, 4]\n",
            "List A:  [1, 2, 3, 4, 5]\n",
            "***********\n",
            "List A:  [1, 2, 3, 4, 5]\n",
            "List B:  [1, 2, 3, 4, 5]\n",
            "List B, second element modified:  [1, 100, 3, 4, 5]\n",
            "List A:  [1, 100, 3, 4, 5]\n"
          ],
          "name": "stdout"
        }
      ]
    },
    {
      "cell_type": "markdown",
      "metadata": {
        "id": "69LYeNPPZfz6"
      },
      "source": [
        "##Analisis de complejidad"
      ]
    },
    {
      "cell_type": "code",
      "metadata": {
        "id": "rRVSfw9qZiW3"
      },
      "source": [
        "#Merge Sort\n",
        "def mergeAnalysis(a, ini, fin):                           # T1(n)\n",
        "  mid = (ini + fin) // 2                              # 1+1+1\n",
        "  i = ini                                             # 1\n",
        "  j = mid + 1                                         # 1+1\n",
        "  n = fin - ini + 1                                   # 1+1+1 \n",
        "  temp = [0]*n                                        # 1 + n\n",
        "  for k in range(n):                                  # n *\n",
        "    if j > fin or (i <= mid and a[i] < a[j]):           # 7 \n",
        "      temp[k] = a[i]                                      # 1+1+1\n",
        "      i += 1                                              # 1+1\n",
        "    else:                                                 \n",
        "      temp[k] = a[j]                                      # 1+1+1\n",
        "      j += 1                                              # 1+1\n",
        "\n",
        "  for k in range(n):                                  # n *\n",
        "    a[ini + k] = temp[k]                                # 1+1+1+1\n",
        "\n",
        "def mergeSortAnalysis(a, ini, fin):             # T2(n)\n",
        "  if ini < fin:                           # 1 +\n",
        "    mid = (ini + fin) // 2                   # 1+1+1\n",
        "    mergeSort(a, ini, mid)                   # T(n/2)\n",
        "    mergeSort(a, mid + 1, fin)               # T(n/2)\n",
        "    merge(a, ini, fin)                       # O(n)"
      ],
      "execution_count": null,
      "outputs": []
    },
    {
      "cell_type": "markdown",
      "metadata": {
        "id": "qWUI8QYSZjK1"
      },
      "source": [
        "merge:\n",
        "$\n",
        "T1(n) = 3 + 1 + 2 + 3 + 1 + n + n * (7 + 3 + 2) + n * (4)\n",
        "$\n",
        "\n",
        "$\n",
        "T1(n) = 10 + n + 12n + 4n\n",
        "$\n",
        "\n",
        "$\n",
        "T1(n) = 10 + 17n\n",
        "$\n",
        "\n",
        "$\n",
        "T1(n) => O(n)\n",
        "$\n",
        "\n",
        "\n",
        "mergeSort:\n",
        "$\n",
        "T(n) = 1 + (3 + T(n/2) + T(n/2) + O(n))\n",
        "$\n",
        "\n",
        "$\n",
        "T(n) = 1 + (3 + 2T(n/2) + O(n))\n",
        "$\n",
        "\n",
        "$\n",
        "T(n) = 4 + 2T(n/2) + O(n)\n",
        "$"
      ]
    }
  ]
}