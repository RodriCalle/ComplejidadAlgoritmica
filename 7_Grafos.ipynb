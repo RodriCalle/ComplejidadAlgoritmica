{
  "nbformat": 4,
  "nbformat_minor": 0,
  "metadata": {
    "colab": {
      "name": "7. Grafos.ipynb",
      "provenance": [],
      "collapsed_sections": [
        "V4o4FgFV8zsC",
        "QO7U9jG--mLl"
      ],
      "authorship_tag": "ABX9TyNp9hYi19WQfz03MpJD3JFH",
      "include_colab_link": true
    },
    "kernelspec": {
      "name": "python3",
      "display_name": "Python 3"
    },
    "language_info": {
      "name": "python"
    }
  },
  "cells": [
    {
      "cell_type": "markdown",
      "metadata": {
        "id": "view-in-github",
        "colab_type": "text"
      },
      "source": [
        "<a href=\"https://colab.research.google.com/github/RodriCalle/ComplejidadAlgoritmica/blob/main/7_Grafos.ipynb\" target=\"_parent\"><img src=\"https://colab.research.google.com/assets/colab-badge.svg\" alt=\"Open In Colab\"/></a>"
      ]
    },
    {
      "cell_type": "markdown",
      "metadata": {
        "id": "S0ga2hWhz-T4"
      },
      "source": [
        "Funciones utilitarias"
      ]
    },
    {
      "cell_type": "code",
      "metadata": {
        "id": "_U4LDhvr0EKo"
      },
      "source": [
        "import graphviz as gv\n",
        "import numpy as np\n",
        "import pandas as pd"
      ],
      "execution_count": 1,
      "outputs": []
    },
    {
      "cell_type": "code",
      "metadata": {
        "id": "Lou2zkUI0T5N"
      },
      "source": [
        "def adjmShow(M, labels=None, directed=False, weighted=False, layout=\"neato\"):\n",
        "  g = gv.Digraph(\"G\") if directed else gv.Graph(\"G\")\n",
        "  g.graph_attr[\"layout\"] = layout\n",
        "  g.node_attr[\"style\"] = \"filled\"\n",
        "  g.node_attr[\"color\"] = \"orange\"\n",
        "  n = len(M)\n",
        "  for u in range(n):\n",
        "    g.node(str(u), labels[u] if labels else str(u))\n",
        "  for u in range(n):\n",
        "    for v in range(0 if directed else u, n):\n",
        "      if weighted:\n",
        "        if not np.isnan(M[u, v]):\n",
        "          g.edge(str(u), str(v), f\"{M[u, v]:.0f}\")\n",
        "      else:\n",
        "        if M[u, v] == 1:\n",
        "          g.edge(str(u), str(v))\n",
        "  return g"
      ],
      "execution_count": 2,
      "outputs": []
    },
    {
      "cell_type": "code",
      "metadata": {
        "id": "NqflKVCz0WIU"
      },
      "source": [
        "def adjlShow(L, labels=None, directed=False, weighted=False, layout=\"neato\"):\n",
        "  g = gv.Digraph(\"G\") if directed else gv.Graph(\"G\")\n",
        "  g.graph_attr[\"layout\"] = layout\n",
        "  g.node_attr[\"style\"] = \"filled\"\n",
        "  g.node_attr[\"color\"] = \"orange\"\n",
        "  n = len(L)\n",
        "  for u in range(n):\n",
        "    g.node(str(u), labels[u] if labels else str(u))\n",
        "  added = set()\n",
        "  if weighted:\n",
        "    for u in range(n):\n",
        "      for v, w in L[u]:\n",
        "        if not directed and not f\"{u},{v}\" in added:\n",
        "          added.add(f\"{u},{v}\")\n",
        "          added.add(f\"{v},{u}\")\n",
        "          g.edge(str(u), str(v), str(w))\n",
        "        elif directed:\n",
        "          g.edge(str(u), str(v), str(w))\n",
        "  else:\n",
        "    for u in range(n):\n",
        "      for v in L[u]:\n",
        "        if not directed and not f\"{u},{v}\" in added:\n",
        "          added.add(f\"{u},{v}\")\n",
        "          added.add(f\"{v},{u}\")\n",
        "          g.edge(str(u), str(v))\n",
        "        elif directed:\n",
        "          g.edge(str(u), str(v))\n",
        "  return g"
      ],
      "execution_count": 3,
      "outputs": []
    },
    {
      "cell_type": "code",
      "metadata": {
        "id": "lNu_CC8R0YLx"
      },
      "source": [
        "def readAdjl(fn, haslabels=False, weighted=False, sep=\"|\"):\n",
        "  with open(fn) as f:\n",
        "    labels = None\n",
        "    if haslabels:\n",
        "      labels = f.readline().strip().split()\n",
        "    L = []\n",
        "    for line in f:\n",
        "      if weighted:\n",
        "        L.append([tuple(map(int, p.split(sep))) for p in line.strip().split()])\n",
        "        # line => \"1|3 2|5 4|4\" ==> [(1, 3), (2, 5), (4, 4)]\n",
        "      else: \n",
        "        L.append(list(map(int, line.strip().split()))) # \"1 3 5\" => [1, 3, 5]\n",
        "        # L.append([int(x) for x in line.strip().split()])\n",
        "  return L, labels"
      ],
      "execution_count": 4,
      "outputs": []
    },
    {
      "cell_type": "markdown",
      "metadata": {
        "id": "YjT2ZhyK0hyW"
      },
      "source": [
        "##Matriz de adyacencia"
      ]
    },
    {
      "cell_type": "markdown",
      "metadata": {
        "id": "qsigeRiD3AS4"
      },
      "source": [
        "Version binaria"
      ]
    },
    {
      "cell_type": "code",
      "metadata": {
        "colab": {
          "base_uri": "https://localhost:8080/",
          "height": 246
        },
        "id": "T2Iqd3Wb0fDq",
        "outputId": "eba695ae-1525-4450-d81e-5e658586dbf4"
      },
      "source": [
        "name = [\"A\",\"B\",\"C\",\"D\",\"E\"]\n",
        "M1 = [[0, 1, 0, 1, 0],\n",
        "      [1, 0, 1, 0, 1],\n",
        "      [0, 1, 0, 1, 0],\n",
        "      [1, 0, 1, 0, 1],\n",
        "      [0, 1, 0, 1, 0]]\n",
        "  \n",
        "adjmShow(np.array(M1), labels=name)"
      ],
      "execution_count": 5,
      "outputs": [
        {
          "output_type": "execute_result",
          "data": {
            "text/plain": [
              "<graphviz.dot.Graph at 0x7f4a8a6d1450>"
            ],
            "image/svg+xml": "<?xml version=\"1.0\" encoding=\"UTF-8\" standalone=\"no\"?>\n<!DOCTYPE svg PUBLIC \"-//W3C//DTD SVG 1.1//EN\"\n \"http://www.w3.org/Graphics/SVG/1.1/DTD/svg11.dtd\">\n<!-- Generated by graphviz version 2.40.1 (20161225.0304)\n -->\n<!-- Title: G Pages: 1 -->\n<svg width=\"175pt\" height=\"169pt\"\n viewBox=\"0.00 0.00 175.18 169.08\" xmlns=\"http://www.w3.org/2000/svg\" xmlns:xlink=\"http://www.w3.org/1999/xlink\">\n<g id=\"graph0\" class=\"graph\" transform=\"scale(1 1) rotate(0) translate(4 165.0843)\">\n<title>G</title>\n<polygon fill=\"#ffffff\" stroke=\"transparent\" points=\"-4,4 -4,-165.0843 171.1761,-165.0843 171.1761,4 -4,4\"/>\n<!-- 0 -->\n<g id=\"node1\" class=\"node\">\n<title>0</title>\n<ellipse fill=\"#ffa500\" stroke=\"#ffa500\" cx=\"27\" cy=\"-71.6288\" rx=\"27\" ry=\"18\"/>\n<text text-anchor=\"middle\" x=\"27\" y=\"-67.9288\" font-family=\"Times,serif\" font-size=\"14.00\" fill=\"#000000\">A</text>\n</g>\n<!-- 1 -->\n<g id=\"node2\" class=\"node\">\n<title>1</title>\n<ellipse fill=\"#ffa500\" stroke=\"#ffa500\" cx=\"121.4207\" cy=\"-70.8682\" rx=\"27\" ry=\"18\"/>\n<text text-anchor=\"middle\" x=\"121.4207\" y=\"-67.1682\" font-family=\"Times,serif\" font-size=\"14.00\" fill=\"#000000\">B</text>\n</g>\n<!-- 0&#45;&#45;1 -->\n<g id=\"edge1\" class=\"edge\">\n<title>0&#45;&#45;1</title>\n<path fill=\"none\" stroke=\"#000000\" d=\"M54.0572,-71.4108C66.6999,-71.309 81.7164,-71.188 94.3596,-71.0862\"/>\n</g>\n<!-- 3 -->\n<g id=\"node4\" class=\"node\">\n<title>3</title>\n<ellipse fill=\"#ffa500\" stroke=\"#ffa500\" cx=\"73.1096\" cy=\"-110.3962\" rx=\"27\" ry=\"18\"/>\n<text text-anchor=\"middle\" x=\"73.1096\" y=\"-106.6962\" font-family=\"Times,serif\" font-size=\"14.00\" fill=\"#000000\">D</text>\n</g>\n<!-- 0&#45;&#45;3 -->\n<g id=\"edge2\" class=\"edge\">\n<title>0&#45;&#45;3</title>\n<path fill=\"none\" stroke=\"#000000\" d=\"M43.9077,-85.8442C47.9173,-89.2153 52.1944,-92.8114 56.2039,-96.1825\"/>\n</g>\n<!-- 2 -->\n<g id=\"node3\" class=\"node\">\n<title>2</title>\n<ellipse fill=\"#ffa500\" stroke=\"#ffa500\" cx=\"92.5356\" cy=\"-18\" rx=\"27\" ry=\"18\"/>\n<text text-anchor=\"middle\" x=\"92.5356\" y=\"-14.3\" font-family=\"Times,serif\" font-size=\"14.00\" fill=\"#000000\">C</text>\n</g>\n<!-- 1&#45;&#45;2 -->\n<g id=\"edge3\" class=\"edge\">\n<title>1&#45;&#45;2</title>\n<path fill=\"none\" stroke=\"#000000\" d=\"M112.1223,-53.8494C108.8239,-47.8122 105.1136,-41.0214 101.8166,-34.987\"/>\n</g>\n<!-- 4 -->\n<g id=\"node5\" class=\"node\">\n<title>4</title>\n<ellipse fill=\"#ffa500\" stroke=\"#ffa500\" cx=\"140.1761\" cy=\"-143.0843\" rx=\"27\" ry=\"18\"/>\n<text text-anchor=\"middle\" x=\"140.1761\" y=\"-139.3843\" font-family=\"Times,serif\" font-size=\"14.00\" fill=\"#000000\">E</text>\n</g>\n<!-- 1&#45;&#45;4 -->\n<g id=\"edge4\" class=\"edge\">\n<title>1&#45;&#45;4</title>\n<path fill=\"none\" stroke=\"#000000\" d=\"M126.0569,-88.7194C128.9424,-99.8297 132.6406,-114.0695 135.5282,-125.1882\"/>\n</g>\n<!-- 2&#45;&#45;3 -->\n<g id=\"edge5\" class=\"edge\">\n<title>2&#45;&#45;3</title>\n<path fill=\"none\" stroke=\"#000000\" d=\"M88.6977,-36.2545C85.2699,-52.558 80.2785,-76.2988 76.8735,-92.494\"/>\n</g>\n<!-- 3&#45;&#45;4 -->\n<g id=\"edge6\" class=\"edge\">\n<title>3&#45;&#45;4</title>\n<path fill=\"none\" stroke=\"#000000\" d=\"M95.0696,-121.0995C102.4044,-124.6745 110.5812,-128.6598 117.937,-132.2451\"/>\n</g>\n</g>\n</svg>\n"
          },
          "metadata": {},
          "execution_count": 5
        }
      ]
    },
    {
      "cell_type": "code",
      "metadata": {
        "colab": {
          "base_uri": "https://localhost:8080/"
        },
        "id": "z8yxJlHk2c6i",
        "outputId": "0fb8eea9-e103-46ec-8677-527ba45e5f4a"
      },
      "source": [
        "%%file 1.adjm\n",
        "0 1 0 1 0\n",
        "1 0 1 0 1\n",
        "0 1 0 1 0\n",
        "1 0 1 0 1\n",
        "0 1 0 1 0"
      ],
      "execution_count": 6,
      "outputs": [
        {
          "output_type": "stream",
          "name": "stdout",
          "text": [
            "Writing 1.adjm\n"
          ]
        }
      ]
    },
    {
      "cell_type": "code",
      "metadata": {
        "colab": {
          "base_uri": "https://localhost:8080/",
          "height": 246
        },
        "id": "i-NPxftn2Smy",
        "outputId": "98b9f185-a55a-458a-b82f-4620e9f9bfc8"
      },
      "source": [
        "M2 = np.loadtxt(\"1.adjm\", dtype=np.int)\n",
        "adjmShow(M2)"
      ],
      "execution_count": 7,
      "outputs": [
        {
          "output_type": "execute_result",
          "data": {
            "text/plain": [
              "<graphviz.dot.Graph at 0x7f4a87dde650>"
            ],
            "image/svg+xml": "<?xml version=\"1.0\" encoding=\"UTF-8\" standalone=\"no\"?>\n<!DOCTYPE svg PUBLIC \"-//W3C//DTD SVG 1.1//EN\"\n \"http://www.w3.org/Graphics/SVG/1.1/DTD/svg11.dtd\">\n<!-- Generated by graphviz version 2.40.1 (20161225.0304)\n -->\n<!-- Title: G Pages: 1 -->\n<svg width=\"175pt\" height=\"169pt\"\n viewBox=\"0.00 0.00 175.18 169.08\" xmlns=\"http://www.w3.org/2000/svg\" xmlns:xlink=\"http://www.w3.org/1999/xlink\">\n<g id=\"graph0\" class=\"graph\" transform=\"scale(1 1) rotate(0) translate(4 165.0843)\">\n<title>G</title>\n<polygon fill=\"#ffffff\" stroke=\"transparent\" points=\"-4,4 -4,-165.0843 171.1761,-165.0843 171.1761,4 -4,4\"/>\n<!-- 0 -->\n<g id=\"node1\" class=\"node\">\n<title>0</title>\n<ellipse fill=\"#ffa500\" stroke=\"#ffa500\" cx=\"27\" cy=\"-71.6288\" rx=\"27\" ry=\"18\"/>\n<text text-anchor=\"middle\" x=\"27\" y=\"-67.9288\" font-family=\"Times,serif\" font-size=\"14.00\" fill=\"#000000\">0</text>\n</g>\n<!-- 1 -->\n<g id=\"node2\" class=\"node\">\n<title>1</title>\n<ellipse fill=\"#ffa500\" stroke=\"#ffa500\" cx=\"121.4207\" cy=\"-70.8682\" rx=\"27\" ry=\"18\"/>\n<text text-anchor=\"middle\" x=\"121.4207\" y=\"-67.1682\" font-family=\"Times,serif\" font-size=\"14.00\" fill=\"#000000\">1</text>\n</g>\n<!-- 0&#45;&#45;1 -->\n<g id=\"edge1\" class=\"edge\">\n<title>0&#45;&#45;1</title>\n<path fill=\"none\" stroke=\"#000000\" d=\"M54.0572,-71.4108C66.6999,-71.309 81.7164,-71.188 94.3596,-71.0862\"/>\n</g>\n<!-- 3 -->\n<g id=\"node4\" class=\"node\">\n<title>3</title>\n<ellipse fill=\"#ffa500\" stroke=\"#ffa500\" cx=\"73.1096\" cy=\"-110.3962\" rx=\"27\" ry=\"18\"/>\n<text text-anchor=\"middle\" x=\"73.1096\" y=\"-106.6962\" font-family=\"Times,serif\" font-size=\"14.00\" fill=\"#000000\">3</text>\n</g>\n<!-- 0&#45;&#45;3 -->\n<g id=\"edge2\" class=\"edge\">\n<title>0&#45;&#45;3</title>\n<path fill=\"none\" stroke=\"#000000\" d=\"M43.9077,-85.8442C47.9173,-89.2153 52.1944,-92.8114 56.2039,-96.1825\"/>\n</g>\n<!-- 2 -->\n<g id=\"node3\" class=\"node\">\n<title>2</title>\n<ellipse fill=\"#ffa500\" stroke=\"#ffa500\" cx=\"92.5356\" cy=\"-18\" rx=\"27\" ry=\"18\"/>\n<text text-anchor=\"middle\" x=\"92.5356\" y=\"-14.3\" font-family=\"Times,serif\" font-size=\"14.00\" fill=\"#000000\">2</text>\n</g>\n<!-- 1&#45;&#45;2 -->\n<g id=\"edge3\" class=\"edge\">\n<title>1&#45;&#45;2</title>\n<path fill=\"none\" stroke=\"#000000\" d=\"M112.1223,-53.8494C108.8239,-47.8122 105.1136,-41.0214 101.8166,-34.987\"/>\n</g>\n<!-- 4 -->\n<g id=\"node5\" class=\"node\">\n<title>4</title>\n<ellipse fill=\"#ffa500\" stroke=\"#ffa500\" cx=\"140.1761\" cy=\"-143.0843\" rx=\"27\" ry=\"18\"/>\n<text text-anchor=\"middle\" x=\"140.1761\" y=\"-139.3843\" font-family=\"Times,serif\" font-size=\"14.00\" fill=\"#000000\">4</text>\n</g>\n<!-- 1&#45;&#45;4 -->\n<g id=\"edge4\" class=\"edge\">\n<title>1&#45;&#45;4</title>\n<path fill=\"none\" stroke=\"#000000\" d=\"M126.0569,-88.7194C128.9424,-99.8297 132.6406,-114.0695 135.5282,-125.1882\"/>\n</g>\n<!-- 2&#45;&#45;3 -->\n<g id=\"edge5\" class=\"edge\">\n<title>2&#45;&#45;3</title>\n<path fill=\"none\" stroke=\"#000000\" d=\"M88.6977,-36.2545C85.2699,-52.558 80.2785,-76.2988 76.8735,-92.494\"/>\n</g>\n<!-- 3&#45;&#45;4 -->\n<g id=\"edge6\" class=\"edge\">\n<title>3&#45;&#45;4</title>\n<path fill=\"none\" stroke=\"#000000\" d=\"M95.0696,-121.0995C102.4044,-124.6745 110.5812,-128.6598 117.937,-132.2451\"/>\n</g>\n</g>\n</svg>\n"
          },
          "metadata": {},
          "execution_count": 7
        }
      ]
    },
    {
      "cell_type": "markdown",
      "metadata": {
        "id": "-N_u_WD73FGS"
      },
      "source": [
        "Version con pesos"
      ]
    },
    {
      "cell_type": "code",
      "metadata": {
        "colab": {
          "base_uri": "https://localhost:8080/"
        },
        "id": "lMiei0TA28ou",
        "outputId": "729b425a-9a8d-4d50-be11-d9c07d4d78dd"
      },
      "source": [
        "%%file 3.adjm\n",
        "x 2 x -3 x\n",
        "2 x 4 x 3\n",
        "x 4 x 5 x\n",
        "-3 x 5 x 1\n",
        "x 3 x 1 x"
      ],
      "execution_count": 8,
      "outputs": [
        {
          "output_type": "stream",
          "name": "stdout",
          "text": [
            "Writing 3.adjm\n"
          ]
        }
      ]
    },
    {
      "cell_type": "code",
      "metadata": {
        "colab": {
          "base_uri": "https://localhost:8080/",
          "height": 334
        },
        "id": "eobuo10_3EdF",
        "outputId": "a2106122-5133-4ece-f9b4-35d8ce339aff"
      },
      "source": [
        "df = pd.read_csv(\"3.adjm\", sep=\" \", header=None).replace(\"x\", np.nan)\n",
        "M3 = df.to_numpy().astype(np.float)\n",
        "adjmShow(M3, weighted=True, layout=\"circo\")"
      ],
      "execution_count": 9,
      "outputs": [
        {
          "output_type": "execute_result",
          "data": {
            "text/plain": [
              "<graphviz.dot.Graph at 0x7f4a89449bd0>"
            ],
            "image/svg+xml": "<?xml version=\"1.0\" encoding=\"UTF-8\" standalone=\"no\"?>\n<!DOCTYPE svg PUBLIC \"-//W3C//DTD SVG 1.1//EN\"\n \"http://www.w3.org/Graphics/SVG/1.1/DTD/svg11.dtd\">\n<!-- Generated by graphviz version 2.40.1 (20161225.0304)\n -->\n<!-- Title: G Pages: 1 -->\n<svg width=\"243pt\" height=\"235pt\"\n viewBox=\"0.00 0.00 243.39 234.72\" xmlns=\"http://www.w3.org/2000/svg\" xmlns:xlink=\"http://www.w3.org/1999/xlink\">\n<g id=\"graph0\" class=\"graph\" transform=\"scale(1 1) rotate(0) translate(4 230.7203)\">\n<title>G</title>\n<polygon fill=\"#ffffff\" stroke=\"transparent\" points=\"-4,4 -4,-230.7203 239.3858,-230.7203 239.3858,4 -4,4\"/>\n<!-- 0 -->\n<g id=\"node1\" class=\"node\">\n<title>0</title>\n<ellipse fill=\"#ffa500\" stroke=\"#ffa500\" cx=\"139.1026\" cy=\"-18\" rx=\"27\" ry=\"18\"/>\n<text text-anchor=\"middle\" x=\"139.1026\" y=\"-14.3\" font-family=\"Times,serif\" font-size=\"14.00\" fill=\"#000000\">0</text>\n</g>\n<!-- 1 -->\n<g id=\"node2\" class=\"node\">\n<title>1</title>\n<ellipse fill=\"#ffa500\" stroke=\"#ffa500\" cx=\"27\" cy=\"-54.4243\" rx=\"27\" ry=\"18\"/>\n<text text-anchor=\"middle\" x=\"27\" y=\"-50.7243\" font-family=\"Times,serif\" font-size=\"14.00\" fill=\"#000000\">1</text>\n</g>\n<!-- 0&#45;&#45;1 -->\n<g id=\"edge1\" class=\"edge\">\n<title>0&#45;&#45;1</title>\n<path fill=\"none\" stroke=\"#000000\" d=\"M114.778,-25.9035C95.9746,-32.0131 70.0685,-40.4305 51.2771,-46.5362\"/>\n<text text-anchor=\"middle\" x=\"79.0276\" y=\"-40.0199\" font-family=\"Times,serif\" font-size=\"14.00\" fill=\"#000000\">2</text>\n</g>\n<!-- 3 -->\n<g id=\"node4\" class=\"node\">\n<title>3</title>\n<ellipse fill=\"#ffa500\" stroke=\"#ffa500\" cx=\"139.1026\" cy=\"-208.7203\" rx=\"27\" ry=\"18\"/>\n<text text-anchor=\"middle\" x=\"139.1026\" y=\"-205.0203\" font-family=\"Times,serif\" font-size=\"14.00\" fill=\"#000000\">3</text>\n</g>\n<!-- 0&#45;&#45;3 -->\n<g id=\"edge2\" class=\"edge\">\n<title>0&#45;&#45;3</title>\n<path fill=\"none\" stroke=\"#000000\" d=\"M139.1026,-36.2871C139.1026,-72.7415 139.1026,-154.0797 139.1026,-190.4886\"/>\n<text text-anchor=\"middle\" x=\"132.6026\" y=\"-117.1879\" font-family=\"Times,serif\" font-size=\"14.00\" fill=\"#000000\">&#45;3</text>\n</g>\n<!-- 2 -->\n<g id=\"node3\" class=\"node\">\n<title>2</title>\n<ellipse fill=\"#ffa500\" stroke=\"#ffa500\" cx=\"27\" cy=\"-172.296\" rx=\"27\" ry=\"18\"/>\n<text text-anchor=\"middle\" x=\"27\" y=\"-168.596\" font-family=\"Times,serif\" font-size=\"14.00\" fill=\"#000000\">2</text>\n</g>\n<!-- 1&#45;&#45;2 -->\n<g id=\"edge3\" class=\"edge\">\n<title>1&#45;&#45;2</title>\n<path fill=\"none\" stroke=\"#000000\" d=\"M27,-72.5835C27,-94.6692 27,-131.7397 27,-153.922\"/>\n<text text-anchor=\"middle\" x=\"23\" y=\"-117.0528\" font-family=\"Times,serif\" font-size=\"14.00\" fill=\"#000000\">4</text>\n</g>\n<!-- 4 -->\n<g id=\"node5\" class=\"node\">\n<title>4</title>\n<ellipse fill=\"#ffa500\" stroke=\"#ffa500\" cx=\"208.3858\" cy=\"-113.3602\" rx=\"27\" ry=\"18\"/>\n<text text-anchor=\"middle\" x=\"208.3858\" y=\"-109.6602\" font-family=\"Times,serif\" font-size=\"14.00\" fill=\"#000000\">4</text>\n</g>\n<!-- 1&#45;&#45;4 -->\n<g id=\"edge4\" class=\"edge\">\n<title>1&#45;&#45;4</title>\n<path fill=\"none\" stroke=\"#000000\" d=\"M51.4625,-62.3727C86.1779,-73.6524 149.3605,-94.1817 184.0219,-105.4439\"/>\n<text text-anchor=\"middle\" x=\"113.7422\" y=\"-87.7083\" font-family=\"Times,serif\" font-size=\"14.00\" fill=\"#000000\">3</text>\n</g>\n<!-- 2&#45;&#45;3 -->\n<g id=\"edge5\" class=\"edge\">\n<title>2&#45;&#45;3</title>\n<path fill=\"none\" stroke=\"#000000\" d=\"M51.3246,-180.1995C70.128,-186.3091 96.0341,-194.7265 114.8255,-200.8322\"/>\n<text text-anchor=\"middle\" x=\"79.075\" y=\"-194.3159\" font-family=\"Times,serif\" font-size=\"14.00\" fill=\"#000000\">5</text>\n</g>\n<!-- 3&#45;&#45;4 -->\n<g id=\"edge6\" class=\"edge\">\n<title>3&#45;&#45;4</title>\n<path fill=\"none\" stroke=\"#000000\" d=\"M151.1708,-192.1099C163.8873,-174.6071 183.7918,-147.2109 196.4559,-129.7803\"/>\n<text text-anchor=\"middle\" x=\"169.8134\" y=\"-164.7451\" font-family=\"Times,serif\" font-size=\"14.00\" fill=\"#000000\">1</text>\n</g>\n</g>\n</svg>\n"
          },
          "metadata": {},
          "execution_count": 9
        }
      ]
    },
    {
      "cell_type": "code",
      "metadata": {
        "colab": {
          "base_uri": "https://localhost:8080/"
        },
        "id": "5irs0Qoz3_eV",
        "outputId": "818561a0-d88c-4eb7-f1f1-289a2cabdd86"
      },
      "source": [
        "print(M3)"
      ],
      "execution_count": 10,
      "outputs": [
        {
          "output_type": "stream",
          "name": "stdout",
          "text": [
            "[[nan  2. nan -3. nan]\n",
            " [ 2. nan  4. nan  3.]\n",
            " [nan  4. nan  5. nan]\n",
            " [-3. nan  5. nan  1.]\n",
            " [nan  3. nan  1. nan]]\n"
          ]
        }
      ]
    },
    {
      "cell_type": "markdown",
      "metadata": {
        "id": "Sqb3dedH4B5y"
      },
      "source": [
        "##Grafos dirigidos"
      ]
    },
    {
      "cell_type": "code",
      "metadata": {
        "colab": {
          "base_uri": "https://localhost:8080/",
          "height": 334
        },
        "id": "bKeoGrv94Al-",
        "outputId": "9c2a6cf8-7c0e-44c9-d683-c528365bf416"
      },
      "source": [
        "adjmShow(M3, directed=True, weighted=True, layout=\"circo\")"
      ],
      "execution_count": 11,
      "outputs": [
        {
          "output_type": "execute_result",
          "data": {
            "text/plain": [
              "<graphviz.dot.Digraph at 0x7f4a84397190>"
            ],
            "image/svg+xml": "<?xml version=\"1.0\" encoding=\"UTF-8\" standalone=\"no\"?>\n<!DOCTYPE svg PUBLIC \"-//W3C//DTD SVG 1.1//EN\"\n \"http://www.w3.org/Graphics/SVG/1.1/DTD/svg11.dtd\">\n<!-- Generated by graphviz version 2.40.1 (20161225.0304)\n -->\n<!-- Title: G Pages: 1 -->\n<svg width=\"243pt\" height=\"235pt\"\n viewBox=\"0.00 0.00 243.39 234.72\" xmlns=\"http://www.w3.org/2000/svg\" xmlns:xlink=\"http://www.w3.org/1999/xlink\">\n<g id=\"graph0\" class=\"graph\" transform=\"scale(1 1) rotate(0) translate(4 230.7203)\">\n<title>G</title>\n<polygon fill=\"#ffffff\" stroke=\"transparent\" points=\"-4,4 -4,-230.7203 239.3858,-230.7203 239.3858,4 -4,4\"/>\n<!-- 0 -->\n<g id=\"node1\" class=\"node\">\n<title>0</title>\n<ellipse fill=\"#ffa500\" stroke=\"#ffa500\" cx=\"139.1026\" cy=\"-18\" rx=\"27\" ry=\"18\"/>\n<text text-anchor=\"middle\" x=\"139.1026\" y=\"-14.3\" font-family=\"Times,serif\" font-size=\"14.00\" fill=\"#000000\">0</text>\n</g>\n<!-- 1 -->\n<g id=\"node2\" class=\"node\">\n<title>1</title>\n<ellipse fill=\"#ffa500\" stroke=\"#ffa500\" cx=\"27\" cy=\"-54.4243\" rx=\"27\" ry=\"18\"/>\n<text text-anchor=\"middle\" x=\"27\" y=\"-50.7243\" font-family=\"Times,serif\" font-size=\"14.00\" fill=\"#000000\">1</text>\n</g>\n<!-- 0&#45;&gt;1 -->\n<g id=\"edge1\" class=\"edge\">\n<title>0&#45;&gt;1</title>\n<path fill=\"none\" stroke=\"#000000\" d=\"M112.1707,-20.7148C95.3958,-24.9058 73.816,-31.7789 56.5693,-38.3648\"/>\n<polygon fill=\"#000000\" stroke=\"#000000\" points=\"54.9768,-35.2317 46.9845,-42.1868 57.5696,-41.7338 54.9768,-35.2317\"/>\n<text text-anchor=\"middle\" x=\"80.37\" y=\"-18.3398\" font-family=\"Times,serif\" font-size=\"14.00\" fill=\"#000000\">2</text>\n</g>\n<!-- 3 -->\n<g id=\"node4\" class=\"node\">\n<title>3</title>\n<ellipse fill=\"#ffa500\" stroke=\"#ffa500\" cx=\"139.1026\" cy=\"-208.7203\" rx=\"27\" ry=\"18\"/>\n<text text-anchor=\"middle\" x=\"139.1026\" y=\"-205.0203\" font-family=\"Times,serif\" font-size=\"14.00\" fill=\"#000000\">3</text>\n</g>\n<!-- 0&#45;&gt;3 -->\n<g id=\"edge2\" class=\"edge\">\n<title>0&#45;&gt;3</title>\n<path fill=\"none\" stroke=\"#000000\" d=\"M134.9565,-35.9425C131.7789,-69.2394 131.5096,-140.8143 134.1486,-180.5993\"/>\n<polygon fill=\"#000000\" stroke=\"#000000\" points=\"130.6688,-180.9943 134.9478,-190.6866 137.6469,-180.4413 130.6688,-180.9943\"/>\n<text text-anchor=\"middle\" x=\"128.0525\" y=\"-112.0709\" font-family=\"Times,serif\" font-size=\"14.00\" fill=\"#000000\">&#45;3</text>\n</g>\n<!-- 1&#45;&gt;0 -->\n<g id=\"edge3\" class=\"edge\">\n<title>1&#45;&gt;0</title>\n<path fill=\"none\" stroke=\"#000000\" d=\"M53.9319,-51.7096C70.7068,-47.5185 92.2866,-40.6455 109.5333,-34.0596\"/>\n<polygon fill=\"#000000\" stroke=\"#000000\" points=\"111.1258,-37.1926 119.1181,-30.2375 108.533,-30.6905 111.1258,-37.1926\"/>\n<text text-anchor=\"middle\" x=\"77.7326\" y=\"-46.6846\" font-family=\"Times,serif\" font-size=\"14.00\" fill=\"#000000\">2</text>\n</g>\n<!-- 2 -->\n<g id=\"node3\" class=\"node\">\n<title>2</title>\n<ellipse fill=\"#ffa500\" stroke=\"#ffa500\" cx=\"27\" cy=\"-172.296\" rx=\"27\" ry=\"18\"/>\n<text text-anchor=\"middle\" x=\"27\" y=\"-168.596\" font-family=\"Times,serif\" font-size=\"14.00\" fill=\"#000000\">2</text>\n</g>\n<!-- 1&#45;&gt;2 -->\n<g id=\"edge4\" class=\"edge\">\n<title>1&#45;&gt;2</title>\n<path fill=\"none\" stroke=\"#000000\" d=\"M21.9906,-72.3265C20.0012,-91.3656 19.7171,-121.7467 21.1384,-144.0249\"/>\n<polygon fill=\"#000000\" stroke=\"#000000\" points=\"17.6691,-144.5442 21.9731,-154.2254 24.6458,-143.9732 17.6691,-144.5442\"/>\n<text text-anchor=\"middle\" x=\"17.5645\" y=\"-111.9757\" font-family=\"Times,serif\" font-size=\"14.00\" fill=\"#000000\">4</text>\n</g>\n<!-- 4 -->\n<g id=\"node5\" class=\"node\">\n<title>4</title>\n<ellipse fill=\"#ffa500\" stroke=\"#ffa500\" cx=\"208.3858\" cy=\"-113.3602\" rx=\"27\" ry=\"18\"/>\n<text text-anchor=\"middle\" x=\"208.3858\" y=\"-109.6602\" font-family=\"Times,serif\" font-size=\"14.00\" fill=\"#000000\">4</text>\n</g>\n<!-- 1&#45;&gt;4 -->\n<g id=\"edge5\" class=\"edge\">\n<title>1&#45;&gt;4</title>\n<path fill=\"none\" stroke=\"#000000\" d=\"M47.8156,-66.0395C78.0751,-78.5367 134.6123,-97.1995 171.8859,-107.2306\"/>\n<polygon fill=\"#000000\" stroke=\"#000000\" points=\"171.2916,-110.6923 181.8503,-109.8187 173.0514,-103.9171 171.2916,-110.6923\"/>\n<text text-anchor=\"middle\" x=\"105.8508\" y=\"-90.435\" font-family=\"Times,serif\" font-size=\"14.00\" fill=\"#000000\">3</text>\n</g>\n<!-- 2&#45;&gt;1 -->\n<g id=\"edge6\" class=\"edge\">\n<title>2&#45;&gt;1</title>\n<path fill=\"none\" stroke=\"#000000\" d=\"M32.0094,-154.3938C33.9988,-135.3548 34.2829,-104.9737 32.8616,-82.6955\"/>\n<polygon fill=\"#000000\" stroke=\"#000000\" points=\"36.3309,-82.1762 32.0269,-72.495 29.3542,-82.7472 36.3309,-82.1762\"/>\n<text text-anchor=\"middle\" x=\"28.4355\" y=\"-122.3446\" font-family=\"Times,serif\" font-size=\"14.00\" fill=\"#000000\">4</text>\n</g>\n<!-- 2&#45;&gt;3 -->\n<g id=\"edge7\" class=\"edge\">\n<title>2&#45;&gt;3</title>\n<path fill=\"none\" stroke=\"#000000\" d=\"M46.9279,-184.5098C62.287,-190.9421 83.9309,-198.2687 102.3916,-203.4136\"/>\n<polygon fill=\"#000000\" stroke=\"#000000\" points=\"101.697,-206.8503 112.2599,-206.0278 103.4896,-200.0837 101.697,-206.8503\"/>\n<text text-anchor=\"middle\" x=\"70.6597\" y=\"-197.7617\" font-family=\"Times,serif\" font-size=\"14.00\" fill=\"#000000\">5</text>\n</g>\n<!-- 3&#45;&gt;0 -->\n<g id=\"edge8\" class=\"edge\">\n<title>3&#45;&gt;0</title>\n<path fill=\"none\" stroke=\"#000000\" d=\"M143.2487,-190.7778C146.4263,-157.4809 146.6956,-85.9061 144.0566,-46.1211\"/>\n<polygon fill=\"#000000\" stroke=\"#000000\" points=\"147.5364,-45.7261 143.2574,-36.0338 140.5583,-46.279 147.5364,-45.7261\"/>\n<text text-anchor=\"middle\" x=\"150.1527\" y=\"-122.2495\" font-family=\"Times,serif\" font-size=\"14.00\" fill=\"#000000\">&#45;3</text>\n</g>\n<!-- 3&#45;&gt;2 -->\n<g id=\"edge9\" class=\"edge\">\n<title>3&#45;&gt;2</title>\n<path fill=\"none\" stroke=\"#000000\" d=\"M119.1747,-196.5065C103.8156,-190.0743 82.1717,-182.7476 63.711,-177.6027\"/>\n<polygon fill=\"#000000\" stroke=\"#000000\" points=\"64.4056,-174.1661 53.8427,-174.9885 62.613,-180.9327 64.4056,-174.1661\"/>\n<text text-anchor=\"middle\" x=\"87.4429\" y=\"-190.8546\" font-family=\"Times,serif\" font-size=\"14.00\" fill=\"#000000\">5</text>\n</g>\n<!-- 3&#45;&gt;4 -->\n<g id=\"edge10\" class=\"edge\">\n<title>3&#45;&gt;4</title>\n<path fill=\"none\" stroke=\"#000000\" d=\"M156.1498,-194.3827C168.7415,-179.8856 185.356,-157.2972 196.551,-139.6135\"/>\n<polygon fill=\"#000000\" stroke=\"#000000\" points=\"199.6555,-141.2446 201.8613,-130.8819 193.6747,-137.6072 199.6555,-141.2446\"/>\n<text text-anchor=\"middle\" x=\"172.3504\" y=\"-170.7981\" font-family=\"Times,serif\" font-size=\"14.00\" fill=\"#000000\">1</text>\n</g>\n<!-- 4&#45;&gt;1 -->\n<g id=\"edge11\" class=\"edge\">\n<title>4&#45;&gt;1</title>\n<path fill=\"none\" stroke=\"#000000\" d=\"M187.5702,-101.7451C157.3107,-89.2478 100.7735,-70.585 63.4999,-60.5539\"/>\n<polygon fill=\"#000000\" stroke=\"#000000\" points=\"64.0942,-57.0922 53.5355,-57.9658 62.3344,-63.8674 64.0942,-57.0922\"/>\n<text text-anchor=\"middle\" x=\"121.5351\" y=\"-84.9495\" font-family=\"Times,serif\" font-size=\"14.00\" fill=\"#000000\">3</text>\n</g>\n<!-- 4&#45;&gt;3 -->\n<g id=\"edge12\" class=\"edge\">\n<title>4&#45;&gt;3</title>\n<path fill=\"none\" stroke=\"#000000\" d=\"M191.3386,-127.6978C178.7469,-142.1949 162.1325,-164.7833 150.9374,-182.467\"/>\n<polygon fill=\"#000000\" stroke=\"#000000\" points=\"147.8329,-180.8359 145.6271,-191.1986 153.8137,-184.4733 147.8329,-180.8359\"/>\n<text text-anchor=\"middle\" x=\"167.138\" y=\"-143.8824\" font-family=\"Times,serif\" font-size=\"14.00\" fill=\"#000000\">1</text>\n</g>\n</g>\n</svg>\n"
          },
          "metadata": {},
          "execution_count": 11
        }
      ]
    },
    {
      "cell_type": "code",
      "metadata": {
        "colab": {
          "base_uri": "https://localhost:8080/"
        },
        "id": "ngdCCRJh4M0L",
        "outputId": "42f2d7aa-e48a-47bc-c2c3-23489772c2ce"
      },
      "source": [
        "%%file 4.adjm\n",
        "x 2 x -3 x\n",
        "x x x x x\n",
        "x 4 x 5 x\n",
        "x x x x x\n",
        "x 3 x 1 x"
      ],
      "execution_count": 12,
      "outputs": [
        {
          "output_type": "stream",
          "name": "stdout",
          "text": [
            "Writing 4.adjm\n"
          ]
        }
      ]
    },
    {
      "cell_type": "code",
      "metadata": {
        "colab": {
          "base_uri": "https://localhost:8080/",
          "height": 334
        },
        "id": "Pf0e0iyT4S9e",
        "outputId": "9c1d2ef4-ba03-4a41-e1e2-c844753ce18f"
      },
      "source": [
        "df = pd.read_csv(\"4.adjm\", sep=\" \", header=None).replace(\"x\", np.nan)\n",
        "M4 = df.to_numpy().astype(np.float)\n",
        "adjmShow(M4, directed=True, weighted=True, layout=\"circo\")"
      ],
      "execution_count": 13,
      "outputs": [
        {
          "output_type": "execute_result",
          "data": {
            "text/plain": [
              "<graphviz.dot.Digraph at 0x7f4a84367350>"
            ],
            "image/svg+xml": "<?xml version=\"1.0\" encoding=\"UTF-8\" standalone=\"no\"?>\n<!DOCTYPE svg PUBLIC \"-//W3C//DTD SVG 1.1//EN\"\n \"http://www.w3.org/Graphics/SVG/1.1/DTD/svg11.dtd\">\n<!-- Generated by graphviz version 2.40.1 (20161225.0304)\n -->\n<!-- Title: G Pages: 1 -->\n<svg width=\"243pt\" height=\"235pt\"\n viewBox=\"0.00 0.00 243.39 234.72\" xmlns=\"http://www.w3.org/2000/svg\" xmlns:xlink=\"http://www.w3.org/1999/xlink\">\n<g id=\"graph0\" class=\"graph\" transform=\"scale(1 1) rotate(0) translate(4 230.7203)\">\n<title>G</title>\n<polygon fill=\"#ffffff\" stroke=\"transparent\" points=\"-4,4 -4,-230.7203 239.3858,-230.7203 239.3858,4 -4,4\"/>\n<!-- 0 -->\n<g id=\"node1\" class=\"node\">\n<title>0</title>\n<ellipse fill=\"#ffa500\" stroke=\"#ffa500\" cx=\"139.1026\" cy=\"-18\" rx=\"27\" ry=\"18\"/>\n<text text-anchor=\"middle\" x=\"139.1026\" y=\"-14.3\" font-family=\"Times,serif\" font-size=\"14.00\" fill=\"#000000\">0</text>\n</g>\n<!-- 1 -->\n<g id=\"node2\" class=\"node\">\n<title>1</title>\n<ellipse fill=\"#ffa500\" stroke=\"#ffa500\" cx=\"27\" cy=\"-54.4243\" rx=\"27\" ry=\"18\"/>\n<text text-anchor=\"middle\" x=\"27\" y=\"-50.7243\" font-family=\"Times,serif\" font-size=\"14.00\" fill=\"#000000\">1</text>\n</g>\n<!-- 0&#45;&gt;1 -->\n<g id=\"edge1\" class=\"edge\">\n<title>0&#45;&gt;1</title>\n<path fill=\"none\" stroke=\"#000000\" d=\"M114.778,-25.9035C99.0596,-31.0108 78.3778,-37.7307 61.0377,-43.3648\"/>\n<polygon fill=\"#000000\" stroke=\"#000000\" points=\"59.7061,-40.1173 51.2771,-46.5362 61.8693,-46.7747 59.7061,-40.1173\"/>\n<text text-anchor=\"middle\" x=\"83.9079\" y=\"-38.4342\" font-family=\"Times,serif\" font-size=\"14.00\" fill=\"#000000\">2</text>\n</g>\n<!-- 3 -->\n<g id=\"node4\" class=\"node\">\n<title>3</title>\n<ellipse fill=\"#ffa500\" stroke=\"#ffa500\" cx=\"139.1026\" cy=\"-208.7203\" rx=\"27\" ry=\"18\"/>\n<text text-anchor=\"middle\" x=\"139.1026\" y=\"-205.0203\" font-family=\"Times,serif\" font-size=\"14.00\" fill=\"#000000\">3</text>\n</g>\n<!-- 0&#45;&gt;3 -->\n<g id=\"edge2\" class=\"edge\">\n<title>0&#45;&gt;3</title>\n<path fill=\"none\" stroke=\"#000000\" d=\"M139.1026,-36.2871C139.1026,-69.6799 139.1026,-140.734 139.1026,-180.4178\"/>\n<polygon fill=\"#000000\" stroke=\"#000000\" points=\"135.6027,-180.4886 139.1026,-190.4886 142.6027,-180.4887 135.6027,-180.4886\"/>\n<text text-anchor=\"middle\" x=\"132.6026\" y=\"-112.1524\" font-family=\"Times,serif\" font-size=\"14.00\" fill=\"#000000\">&#45;3</text>\n</g>\n<!-- 2 -->\n<g id=\"node3\" class=\"node\">\n<title>2</title>\n<ellipse fill=\"#ffa500\" stroke=\"#ffa500\" cx=\"27\" cy=\"-172.296\" rx=\"27\" ry=\"18\"/>\n<text text-anchor=\"middle\" x=\"27\" y=\"-168.596\" font-family=\"Times,serif\" font-size=\"14.00\" fill=\"#000000\">2</text>\n</g>\n<!-- 2&#45;&gt;1 -->\n<g id=\"edge3\" class=\"edge\">\n<title>2&#45;&gt;1</title>\n<path fill=\"none\" stroke=\"#000000\" d=\"M27,-154.1369C27,-135.157 27,-105.1104 27,-82.9567\"/>\n<polygon fill=\"#000000\" stroke=\"#000000\" points=\"30.5001,-82.7983 27,-72.7983 23.5001,-82.7983 30.5001,-82.7983\"/>\n<text text-anchor=\"middle\" x=\"23\" y=\"-122.3468\" font-family=\"Times,serif\" font-size=\"14.00\" fill=\"#000000\">4</text>\n</g>\n<!-- 2&#45;&gt;3 -->\n<g id=\"edge4\" class=\"edge\">\n<title>2&#45;&gt;3</title>\n<path fill=\"none\" stroke=\"#000000\" d=\"M51.3246,-180.1995C67.043,-185.3068 87.7248,-192.0267 105.0649,-197.6608\"/>\n<polygon fill=\"#000000\" stroke=\"#000000\" points=\"104.2333,-201.0707 114.8255,-200.8322 106.3965,-194.4133 104.2333,-201.0707\"/>\n<text text-anchor=\"middle\" x=\"74.1947\" y=\"-192.7302\" font-family=\"Times,serif\" font-size=\"14.00\" fill=\"#000000\">5</text>\n</g>\n<!-- 4 -->\n<g id=\"node5\" class=\"node\">\n<title>4</title>\n<ellipse fill=\"#ffa500\" stroke=\"#ffa500\" cx=\"208.3858\" cy=\"-113.3602\" rx=\"27\" ry=\"18\"/>\n<text text-anchor=\"middle\" x=\"208.3858\" y=\"-109.6602\" font-family=\"Times,serif\" font-size=\"14.00\" fill=\"#000000\">4</text>\n</g>\n<!-- 4&#45;&gt;1 -->\n<g id=\"edge5\" class=\"edge\">\n<title>4&#45;&gt;1</title>\n<path fill=\"none\" stroke=\"#000000\" d=\"M183.9233,-105.4118C152.1913,-95.1014 96.6746,-77.063 60.8958,-65.4378\"/>\n<polygon fill=\"#000000\" stroke=\"#000000\" points=\"61.9561,-62.1022 51.3639,-62.3407 59.7929,-68.7596 61.9561,-62.1022\"/>\n<text text-anchor=\"middle\" x=\"118.4096\" y=\"-89.2248\" font-family=\"Times,serif\" font-size=\"14.00\" fill=\"#000000\">3</text>\n</g>\n<!-- 4&#45;&gt;3 -->\n<g id=\"edge6\" class=\"edge\">\n<title>4&#45;&gt;3</title>\n<path fill=\"none\" stroke=\"#000000\" d=\"M196.3176,-129.9706C185.4887,-144.8753 169.4474,-166.9544 157.1034,-183.9444\"/>\n<polygon fill=\"#000000\" stroke=\"#000000\" points=\"154.0788,-182.1528 151.0325,-192.3002 159.742,-186.2673 154.0788,-182.1528\"/>\n<text text-anchor=\"middle\" x=\"172.7105\" y=\"-160.7575\" font-family=\"Times,serif\" font-size=\"14.00\" fill=\"#000000\">1</text>\n</g>\n</g>\n</svg>\n"
          },
          "metadata": {},
          "execution_count": 13
        }
      ]
    },
    {
      "cell_type": "markdown",
      "metadata": {
        "id": "7tBzvUE44gW8"
      },
      "source": [
        "##Procesando matrices de adyacencia"
      ]
    },
    {
      "cell_type": "markdown",
      "metadata": {
        "id": "GuZc4YVF6h0H"
      },
      "source": [
        "Verificando nodos"
      ]
    },
    {
      "cell_type": "code",
      "metadata": {
        "colab": {
          "base_uri": "https://localhost:8080/"
        },
        "id": "ZwnLym6W4zws",
        "outputId": "31b20697-b2f6-443e-e4bd-e10aeab80390"
      },
      "source": [
        "n = len(M2)\n",
        "print(\"Tamaño de matriz\", n, \"*\",n)\n",
        "print(\"Nodos (desde 0 hasta n-1): \")\n",
        "for u in range(n):\n",
        "  print(\"Nodo\",u)"
      ],
      "execution_count": 14,
      "outputs": [
        {
          "output_type": "stream",
          "name": "stdout",
          "text": [
            "Tamaño de matriz 5 * 5\n",
            "Nodos (desde 0 hasta n-1): \n",
            "Nodo 0\n",
            "Nodo 1\n",
            "Nodo 2\n",
            "Nodo 3\n",
            "Nodo 4\n"
          ]
        }
      ]
    },
    {
      "cell_type": "markdown",
      "metadata": {
        "id": "kBkTYM1f6jv0"
      },
      "source": [
        "Verificando aristas"
      ]
    },
    {
      "cell_type": "code",
      "metadata": {
        "colab": {
          "base_uri": "https://localhost:8080/"
        },
        "id": "_KesIQNH6ASL",
        "outputId": "5465e503-6731-4f72-dd4d-d0d055c8b531"
      },
      "source": [
        "for u in range(n):\n",
        "  for v in range(n):\n",
        "    if (M2[u,v] == 1):\n",
        "      print(\"Arista desde nodo\", u,\"hasta nodo\", v)"
      ],
      "execution_count": 15,
      "outputs": [
        {
          "output_type": "stream",
          "name": "stdout",
          "text": [
            "Arista desde nodo 0 hasta nodo 1\n",
            "Arista desde nodo 0 hasta nodo 3\n",
            "Arista desde nodo 1 hasta nodo 0\n",
            "Arista desde nodo 1 hasta nodo 2\n",
            "Arista desde nodo 1 hasta nodo 4\n",
            "Arista desde nodo 2 hasta nodo 1\n",
            "Arista desde nodo 2 hasta nodo 3\n",
            "Arista desde nodo 3 hasta nodo 0\n",
            "Arista desde nodo 3 hasta nodo 2\n",
            "Arista desde nodo 3 hasta nodo 4\n",
            "Arista desde nodo 4 hasta nodo 1\n",
            "Arista desde nodo 4 hasta nodo 3\n"
          ]
        }
      ]
    },
    {
      "cell_type": "markdown",
      "metadata": {
        "id": "1K5SRzOH6rGR"
      },
      "source": [
        "Verificando en matriz de adyacencia con pesos"
      ]
    },
    {
      "cell_type": "code",
      "metadata": {
        "colab": {
          "base_uri": "https://localhost:8080/"
        },
        "id": "aEl8hass6mRt",
        "outputId": "6fb1832b-d2ce-4059-c825-2951b66e6009"
      },
      "source": [
        "for u in range(n):\n",
        "  for v in range(n):\n",
        "    if not np.isnan(M4[u, v]):\n",
        "      print(f\"Arista desde nodo {u} hasta nodo {v} con peso {M4[u, v]}\")"
      ],
      "execution_count": 16,
      "outputs": [
        {
          "output_type": "stream",
          "name": "stdout",
          "text": [
            "Arista desde nodo 0 hasta nodo 1 con peso 2.0\n",
            "Arista desde nodo 0 hasta nodo 3 con peso -3.0\n",
            "Arista desde nodo 2 hasta nodo 1 con peso 4.0\n",
            "Arista desde nodo 2 hasta nodo 3 con peso 5.0\n",
            "Arista desde nodo 4 hasta nodo 1 con peso 3.0\n",
            "Arista desde nodo 4 hasta nodo 3 con peso 1.0\n"
          ]
        }
      ]
    },
    {
      "cell_type": "markdown",
      "metadata": {
        "id": "V4o4FgFV8zsC"
      },
      "source": [
        "##Lista de adyacencia"
      ]
    },
    {
      "cell_type": "code",
      "metadata": {
        "colab": {
          "base_uri": "https://localhost:8080/",
          "height": 0
        },
        "id": "z2XLGCEq83kE",
        "outputId": "83ddf1c8-80ff-481d-cb20-e20b8ae1b80b"
      },
      "source": [
        "L1 = [[1, 3],\n",
        "      [0, 2, 4],\n",
        "      [1, 3],\n",
        "      [0, 2, 4],\n",
        "      [1, 3]]\n",
        "adjlShow(L1, labels=[\"A\", \"B\", \"C\", \"D\", \"E\"])"
      ],
      "execution_count": 17,
      "outputs": [
        {
          "output_type": "execute_result",
          "data": {
            "text/plain": [
              "<graphviz.dot.Graph at 0x7f4a8433c810>"
            ],
            "image/svg+xml": "<?xml version=\"1.0\" encoding=\"UTF-8\" standalone=\"no\"?>\n<!DOCTYPE svg PUBLIC \"-//W3C//DTD SVG 1.1//EN\"\n \"http://www.w3.org/Graphics/SVG/1.1/DTD/svg11.dtd\">\n<!-- Generated by graphviz version 2.40.1 (20161225.0304)\n -->\n<!-- Title: G Pages: 1 -->\n<svg width=\"175pt\" height=\"169pt\"\n viewBox=\"0.00 0.00 175.18 169.08\" xmlns=\"http://www.w3.org/2000/svg\" xmlns:xlink=\"http://www.w3.org/1999/xlink\">\n<g id=\"graph0\" class=\"graph\" transform=\"scale(1 1) rotate(0) translate(4 165.0843)\">\n<title>G</title>\n<polygon fill=\"#ffffff\" stroke=\"transparent\" points=\"-4,4 -4,-165.0843 171.1761,-165.0843 171.1761,4 -4,4\"/>\n<!-- 0 -->\n<g id=\"node1\" class=\"node\">\n<title>0</title>\n<ellipse fill=\"#ffa500\" stroke=\"#ffa500\" cx=\"27\" cy=\"-71.6288\" rx=\"27\" ry=\"18\"/>\n<text text-anchor=\"middle\" x=\"27\" y=\"-67.9288\" font-family=\"Times,serif\" font-size=\"14.00\" fill=\"#000000\">A</text>\n</g>\n<!-- 1 -->\n<g id=\"node2\" class=\"node\">\n<title>1</title>\n<ellipse fill=\"#ffa500\" stroke=\"#ffa500\" cx=\"121.4207\" cy=\"-70.8682\" rx=\"27\" ry=\"18\"/>\n<text text-anchor=\"middle\" x=\"121.4207\" y=\"-67.1682\" font-family=\"Times,serif\" font-size=\"14.00\" fill=\"#000000\">B</text>\n</g>\n<!-- 0&#45;&#45;1 -->\n<g id=\"edge1\" class=\"edge\">\n<title>0&#45;&#45;1</title>\n<path fill=\"none\" stroke=\"#000000\" d=\"M54.0572,-71.4108C66.6999,-71.309 81.7164,-71.188 94.3596,-71.0862\"/>\n</g>\n<!-- 3 -->\n<g id=\"node4\" class=\"node\">\n<title>3</title>\n<ellipse fill=\"#ffa500\" stroke=\"#ffa500\" cx=\"73.1096\" cy=\"-110.3962\" rx=\"27\" ry=\"18\"/>\n<text text-anchor=\"middle\" x=\"73.1096\" y=\"-106.6962\" font-family=\"Times,serif\" font-size=\"14.00\" fill=\"#000000\">D</text>\n</g>\n<!-- 0&#45;&#45;3 -->\n<g id=\"edge2\" class=\"edge\">\n<title>0&#45;&#45;3</title>\n<path fill=\"none\" stroke=\"#000000\" d=\"M43.9077,-85.8442C47.9173,-89.2153 52.1944,-92.8114 56.2039,-96.1825\"/>\n</g>\n<!-- 2 -->\n<g id=\"node3\" class=\"node\">\n<title>2</title>\n<ellipse fill=\"#ffa500\" stroke=\"#ffa500\" cx=\"92.5356\" cy=\"-18\" rx=\"27\" ry=\"18\"/>\n<text text-anchor=\"middle\" x=\"92.5356\" y=\"-14.3\" font-family=\"Times,serif\" font-size=\"14.00\" fill=\"#000000\">C</text>\n</g>\n<!-- 1&#45;&#45;2 -->\n<g id=\"edge3\" class=\"edge\">\n<title>1&#45;&#45;2</title>\n<path fill=\"none\" stroke=\"#000000\" d=\"M112.1223,-53.8494C108.8239,-47.8122 105.1136,-41.0214 101.8166,-34.987\"/>\n</g>\n<!-- 4 -->\n<g id=\"node5\" class=\"node\">\n<title>4</title>\n<ellipse fill=\"#ffa500\" stroke=\"#ffa500\" cx=\"140.1761\" cy=\"-143.0843\" rx=\"27\" ry=\"18\"/>\n<text text-anchor=\"middle\" x=\"140.1761\" y=\"-139.3843\" font-family=\"Times,serif\" font-size=\"14.00\" fill=\"#000000\">E</text>\n</g>\n<!-- 1&#45;&#45;4 -->\n<g id=\"edge4\" class=\"edge\">\n<title>1&#45;&#45;4</title>\n<path fill=\"none\" stroke=\"#000000\" d=\"M126.0569,-88.7194C128.9424,-99.8297 132.6406,-114.0695 135.5282,-125.1882\"/>\n</g>\n<!-- 2&#45;&#45;3 -->\n<g id=\"edge5\" class=\"edge\">\n<title>2&#45;&#45;3</title>\n<path fill=\"none\" stroke=\"#000000\" d=\"M88.6977,-36.2545C85.2699,-52.558 80.2785,-76.2988 76.8735,-92.494\"/>\n</g>\n<!-- 3&#45;&#45;4 -->\n<g id=\"edge6\" class=\"edge\">\n<title>3&#45;&#45;4</title>\n<path fill=\"none\" stroke=\"#000000\" d=\"M95.0696,-121.0995C102.4044,-124.6745 110.5812,-128.6598 117.937,-132.2451\"/>\n</g>\n</g>\n</svg>\n"
          },
          "metadata": {},
          "execution_count": 17
        }
      ]
    },
    {
      "cell_type": "code",
      "metadata": {
        "colab": {
          "base_uri": "https://localhost:8080/"
        },
        "id": "qF8fMOOE9Zon",
        "outputId": "53748737-9fce-4e9c-f787-e2c188f7ed97"
      },
      "source": [
        "%%file 2.adjl\n",
        "A B C D E\n",
        "1 3\n",
        "0 2 4\n",
        "1 3\n",
        "0 2 4\n",
        "1 3"
      ],
      "execution_count": 18,
      "outputs": [
        {
          "output_type": "stream",
          "name": "stdout",
          "text": [
            "Writing 2.adjl\n"
          ]
        }
      ]
    },
    {
      "cell_type": "code",
      "metadata": {
        "colab": {
          "base_uri": "https://localhost:8080/",
          "height": 0
        },
        "id": "0tHfCYHZ9aou",
        "outputId": "311a5471-c790-413a-c0be-bae78a4e00bd"
      },
      "source": [
        "L2, labels = readAdjl(\"2.adjl\", haslabels=True)\n",
        "for l in L2:\n",
        "  print(l)\n",
        "adjlShow(L2, labels=labels)"
      ],
      "execution_count": 19,
      "outputs": [
        {
          "output_type": "stream",
          "name": "stdout",
          "text": [
            "[1, 3]\n",
            "[0, 2, 4]\n",
            "[1, 3]\n",
            "[0, 2, 4]\n",
            "[1, 3]\n"
          ]
        },
        {
          "output_type": "execute_result",
          "data": {
            "text/plain": [
              "<graphviz.dot.Graph at 0x7f4a84351a90>"
            ],
            "image/svg+xml": "<?xml version=\"1.0\" encoding=\"UTF-8\" standalone=\"no\"?>\n<!DOCTYPE svg PUBLIC \"-//W3C//DTD SVG 1.1//EN\"\n \"http://www.w3.org/Graphics/SVG/1.1/DTD/svg11.dtd\">\n<!-- Generated by graphviz version 2.40.1 (20161225.0304)\n -->\n<!-- Title: G Pages: 1 -->\n<svg width=\"175pt\" height=\"169pt\"\n viewBox=\"0.00 0.00 175.18 169.08\" xmlns=\"http://www.w3.org/2000/svg\" xmlns:xlink=\"http://www.w3.org/1999/xlink\">\n<g id=\"graph0\" class=\"graph\" transform=\"scale(1 1) rotate(0) translate(4 165.0843)\">\n<title>G</title>\n<polygon fill=\"#ffffff\" stroke=\"transparent\" points=\"-4,4 -4,-165.0843 171.1761,-165.0843 171.1761,4 -4,4\"/>\n<!-- 0 -->\n<g id=\"node1\" class=\"node\">\n<title>0</title>\n<ellipse fill=\"#ffa500\" stroke=\"#ffa500\" cx=\"27\" cy=\"-71.6288\" rx=\"27\" ry=\"18\"/>\n<text text-anchor=\"middle\" x=\"27\" y=\"-67.9288\" font-family=\"Times,serif\" font-size=\"14.00\" fill=\"#000000\">A</text>\n</g>\n<!-- 1 -->\n<g id=\"node2\" class=\"node\">\n<title>1</title>\n<ellipse fill=\"#ffa500\" stroke=\"#ffa500\" cx=\"121.4207\" cy=\"-70.8682\" rx=\"27\" ry=\"18\"/>\n<text text-anchor=\"middle\" x=\"121.4207\" y=\"-67.1682\" font-family=\"Times,serif\" font-size=\"14.00\" fill=\"#000000\">B</text>\n</g>\n<!-- 0&#45;&#45;1 -->\n<g id=\"edge1\" class=\"edge\">\n<title>0&#45;&#45;1</title>\n<path fill=\"none\" stroke=\"#000000\" d=\"M54.0572,-71.4108C66.6999,-71.309 81.7164,-71.188 94.3596,-71.0862\"/>\n</g>\n<!-- 3 -->\n<g id=\"node4\" class=\"node\">\n<title>3</title>\n<ellipse fill=\"#ffa500\" stroke=\"#ffa500\" cx=\"73.1096\" cy=\"-110.3962\" rx=\"27\" ry=\"18\"/>\n<text text-anchor=\"middle\" x=\"73.1096\" y=\"-106.6962\" font-family=\"Times,serif\" font-size=\"14.00\" fill=\"#000000\">D</text>\n</g>\n<!-- 0&#45;&#45;3 -->\n<g id=\"edge2\" class=\"edge\">\n<title>0&#45;&#45;3</title>\n<path fill=\"none\" stroke=\"#000000\" d=\"M43.9077,-85.8442C47.9173,-89.2153 52.1944,-92.8114 56.2039,-96.1825\"/>\n</g>\n<!-- 2 -->\n<g id=\"node3\" class=\"node\">\n<title>2</title>\n<ellipse fill=\"#ffa500\" stroke=\"#ffa500\" cx=\"92.5356\" cy=\"-18\" rx=\"27\" ry=\"18\"/>\n<text text-anchor=\"middle\" x=\"92.5356\" y=\"-14.3\" font-family=\"Times,serif\" font-size=\"14.00\" fill=\"#000000\">C</text>\n</g>\n<!-- 1&#45;&#45;2 -->\n<g id=\"edge3\" class=\"edge\">\n<title>1&#45;&#45;2</title>\n<path fill=\"none\" stroke=\"#000000\" d=\"M112.1223,-53.8494C108.8239,-47.8122 105.1136,-41.0214 101.8166,-34.987\"/>\n</g>\n<!-- 4 -->\n<g id=\"node5\" class=\"node\">\n<title>4</title>\n<ellipse fill=\"#ffa500\" stroke=\"#ffa500\" cx=\"140.1761\" cy=\"-143.0843\" rx=\"27\" ry=\"18\"/>\n<text text-anchor=\"middle\" x=\"140.1761\" y=\"-139.3843\" font-family=\"Times,serif\" font-size=\"14.00\" fill=\"#000000\">E</text>\n</g>\n<!-- 1&#45;&#45;4 -->\n<g id=\"edge4\" class=\"edge\">\n<title>1&#45;&#45;4</title>\n<path fill=\"none\" stroke=\"#000000\" d=\"M126.0569,-88.7194C128.9424,-99.8297 132.6406,-114.0695 135.5282,-125.1882\"/>\n</g>\n<!-- 2&#45;&#45;3 -->\n<g id=\"edge5\" class=\"edge\">\n<title>2&#45;&#45;3</title>\n<path fill=\"none\" stroke=\"#000000\" d=\"M88.6977,-36.2545C85.2699,-52.558 80.2785,-76.2988 76.8735,-92.494\"/>\n</g>\n<!-- 3&#45;&#45;4 -->\n<g id=\"edge6\" class=\"edge\">\n<title>3&#45;&#45;4</title>\n<path fill=\"none\" stroke=\"#000000\" d=\"M95.0696,-121.0995C102.4044,-124.6745 110.5812,-128.6598 117.937,-132.2451\"/>\n</g>\n</g>\n</svg>\n"
          },
          "metadata": {},
          "execution_count": 19
        }
      ]
    },
    {
      "cell_type": "markdown",
      "metadata": {
        "id": "DJflh_qv9wv1"
      },
      "source": [
        "Lista de adyacencia con pesos"
      ]
    },
    {
      "cell_type": "code",
      "metadata": {
        "colab": {
          "base_uri": "https://localhost:8080/"
        },
        "id": "PpZjljLD9z4d",
        "outputId": "503116ae-6158-4b9b-f38f-8c0973cf4c27"
      },
      "source": [
        "%%file 3.adjl\n",
        "A B C D E\n",
        "1|2 3|-3\n",
        "\n",
        "1|4 3|5\n",
        "\n",
        "1|3 3|1"
      ],
      "execution_count": 20,
      "outputs": [
        {
          "output_type": "stream",
          "name": "stdout",
          "text": [
            "Writing 3.adjl\n"
          ]
        }
      ]
    },
    {
      "cell_type": "code",
      "metadata": {
        "colab": {
          "base_uri": "https://localhost:8080/",
          "height": 0
        },
        "id": "uii0B5B29_Ge",
        "outputId": "ac2f8267-1fd1-4549-9afb-aeffa6e94753"
      },
      "source": [
        "L3, labels = readAdjl(\"3.adjl\", haslabels=True, weighted=True)\n",
        "for l in L3:\n",
        "  print(l)\n",
        "adjlShow(L3, labels=labels, directed=True, weighted=True, layout=\"circo\")"
      ],
      "execution_count": 21,
      "outputs": [
        {
          "output_type": "stream",
          "name": "stdout",
          "text": [
            "[(1, 2), (3, -3)]\n",
            "[]\n",
            "[(1, 4), (3, 5)]\n",
            "[]\n",
            "[(1, 3), (3, 1)]\n"
          ]
        },
        {
          "output_type": "execute_result",
          "data": {
            "text/plain": [
              "<graphviz.dot.Digraph at 0x7f4a84346c10>"
            ],
            "image/svg+xml": "<?xml version=\"1.0\" encoding=\"UTF-8\" standalone=\"no\"?>\n<!DOCTYPE svg PUBLIC \"-//W3C//DTD SVG 1.1//EN\"\n \"http://www.w3.org/Graphics/SVG/1.1/DTD/svg11.dtd\">\n<!-- Generated by graphviz version 2.40.1 (20161225.0304)\n -->\n<!-- Title: G Pages: 1 -->\n<svg width=\"243pt\" height=\"235pt\"\n viewBox=\"0.00 0.00 243.39 234.72\" xmlns=\"http://www.w3.org/2000/svg\" xmlns:xlink=\"http://www.w3.org/1999/xlink\">\n<g id=\"graph0\" class=\"graph\" transform=\"scale(1 1) rotate(0) translate(4 230.7203)\">\n<title>G</title>\n<polygon fill=\"#ffffff\" stroke=\"transparent\" points=\"-4,4 -4,-230.7203 239.3858,-230.7203 239.3858,4 -4,4\"/>\n<!-- 0 -->\n<g id=\"node1\" class=\"node\">\n<title>0</title>\n<ellipse fill=\"#ffa500\" stroke=\"#ffa500\" cx=\"139.1026\" cy=\"-18\" rx=\"27\" ry=\"18\"/>\n<text text-anchor=\"middle\" x=\"139.1026\" y=\"-14.3\" font-family=\"Times,serif\" font-size=\"14.00\" fill=\"#000000\">A</text>\n</g>\n<!-- 1 -->\n<g id=\"node2\" class=\"node\">\n<title>1</title>\n<ellipse fill=\"#ffa500\" stroke=\"#ffa500\" cx=\"27\" cy=\"-54.4243\" rx=\"27\" ry=\"18\"/>\n<text text-anchor=\"middle\" x=\"27\" y=\"-50.7243\" font-family=\"Times,serif\" font-size=\"14.00\" fill=\"#000000\">B</text>\n</g>\n<!-- 0&#45;&gt;1 -->\n<g id=\"edge1\" class=\"edge\">\n<title>0&#45;&gt;1</title>\n<path fill=\"none\" stroke=\"#000000\" d=\"M114.778,-25.9035C99.0596,-31.0108 78.3778,-37.7307 61.0377,-43.3648\"/>\n<polygon fill=\"#000000\" stroke=\"#000000\" points=\"59.7061,-40.1173 51.2771,-46.5362 61.8693,-46.7747 59.7061,-40.1173\"/>\n<text text-anchor=\"middle\" x=\"83.9079\" y=\"-38.4342\" font-family=\"Times,serif\" font-size=\"14.00\" fill=\"#000000\">2</text>\n</g>\n<!-- 3 -->\n<g id=\"node4\" class=\"node\">\n<title>3</title>\n<ellipse fill=\"#ffa500\" stroke=\"#ffa500\" cx=\"139.1026\" cy=\"-208.7203\" rx=\"27\" ry=\"18\"/>\n<text text-anchor=\"middle\" x=\"139.1026\" y=\"-205.0203\" font-family=\"Times,serif\" font-size=\"14.00\" fill=\"#000000\">D</text>\n</g>\n<!-- 0&#45;&gt;3 -->\n<g id=\"edge2\" class=\"edge\">\n<title>0&#45;&gt;3</title>\n<path fill=\"none\" stroke=\"#000000\" d=\"M139.1026,-36.2871C139.1026,-69.6799 139.1026,-140.734 139.1026,-180.4178\"/>\n<polygon fill=\"#000000\" stroke=\"#000000\" points=\"135.6027,-180.4886 139.1026,-190.4886 142.6027,-180.4887 135.6027,-180.4886\"/>\n<text text-anchor=\"middle\" x=\"132.6026\" y=\"-112.1524\" font-family=\"Times,serif\" font-size=\"14.00\" fill=\"#000000\">&#45;3</text>\n</g>\n<!-- 2 -->\n<g id=\"node3\" class=\"node\">\n<title>2</title>\n<ellipse fill=\"#ffa500\" stroke=\"#ffa500\" cx=\"27\" cy=\"-172.296\" rx=\"27\" ry=\"18\"/>\n<text text-anchor=\"middle\" x=\"27\" y=\"-168.596\" font-family=\"Times,serif\" font-size=\"14.00\" fill=\"#000000\">C</text>\n</g>\n<!-- 2&#45;&gt;1 -->\n<g id=\"edge3\" class=\"edge\">\n<title>2&#45;&gt;1</title>\n<path fill=\"none\" stroke=\"#000000\" d=\"M27,-154.1369C27,-135.157 27,-105.1104 27,-82.9567\"/>\n<polygon fill=\"#000000\" stroke=\"#000000\" points=\"30.5001,-82.7983 27,-72.7983 23.5001,-82.7983 30.5001,-82.7983\"/>\n<text text-anchor=\"middle\" x=\"23\" y=\"-122.3468\" font-family=\"Times,serif\" font-size=\"14.00\" fill=\"#000000\">4</text>\n</g>\n<!-- 2&#45;&gt;3 -->\n<g id=\"edge4\" class=\"edge\">\n<title>2&#45;&gt;3</title>\n<path fill=\"none\" stroke=\"#000000\" d=\"M51.3246,-180.1995C67.043,-185.3068 87.7248,-192.0267 105.0649,-197.6608\"/>\n<polygon fill=\"#000000\" stroke=\"#000000\" points=\"104.2333,-201.0707 114.8255,-200.8322 106.3965,-194.4133 104.2333,-201.0707\"/>\n<text text-anchor=\"middle\" x=\"74.1947\" y=\"-192.7302\" font-family=\"Times,serif\" font-size=\"14.00\" fill=\"#000000\">5</text>\n</g>\n<!-- 4 -->\n<g id=\"node5\" class=\"node\">\n<title>4</title>\n<ellipse fill=\"#ffa500\" stroke=\"#ffa500\" cx=\"208.3858\" cy=\"-113.3602\" rx=\"27\" ry=\"18\"/>\n<text text-anchor=\"middle\" x=\"208.3858\" y=\"-109.6602\" font-family=\"Times,serif\" font-size=\"14.00\" fill=\"#000000\">E</text>\n</g>\n<!-- 4&#45;&gt;1 -->\n<g id=\"edge5\" class=\"edge\">\n<title>4&#45;&gt;1</title>\n<path fill=\"none\" stroke=\"#000000\" d=\"M183.9233,-105.4118C152.1913,-95.1014 96.6746,-77.063 60.8958,-65.4378\"/>\n<polygon fill=\"#000000\" stroke=\"#000000\" points=\"61.9561,-62.1022 51.3639,-62.3407 59.7929,-68.7596 61.9561,-62.1022\"/>\n<text text-anchor=\"middle\" x=\"118.4096\" y=\"-89.2248\" font-family=\"Times,serif\" font-size=\"14.00\" fill=\"#000000\">3</text>\n</g>\n<!-- 4&#45;&gt;3 -->\n<g id=\"edge6\" class=\"edge\">\n<title>4&#45;&gt;3</title>\n<path fill=\"none\" stroke=\"#000000\" d=\"M196.3176,-129.9706C185.4887,-144.8753 169.4474,-166.9544 157.1034,-183.9444\"/>\n<polygon fill=\"#000000\" stroke=\"#000000\" points=\"154.0788,-182.1528 151.0325,-192.3002 159.742,-186.2673 154.0788,-182.1528\"/>\n<text text-anchor=\"middle\" x=\"172.7105\" y=\"-160.7575\" font-family=\"Times,serif\" font-size=\"14.00\" fill=\"#000000\">1</text>\n</g>\n</g>\n</svg>\n"
          },
          "metadata": {},
          "execution_count": 21
        }
      ]
    },
    {
      "cell_type": "markdown",
      "metadata": {
        "id": "QO7U9jG--mLl"
      },
      "source": [
        "##Procesando lista de adyacencia"
      ]
    },
    {
      "cell_type": "markdown",
      "metadata": {
        "id": "YW-MtFSC-2bJ"
      },
      "source": [
        "Verificando nodos"
      ]
    },
    {
      "cell_type": "code",
      "metadata": {
        "colab": {
          "base_uri": "https://localhost:8080/"
        },
        "id": "7B-EdnvW-q42",
        "outputId": "af125a72-d522-4418-a84a-84342746a2a2"
      },
      "source": [
        "n = len(L2)\n",
        "for u in range(n):\n",
        "  print(f\"Node {u}\")"
      ],
      "execution_count": 22,
      "outputs": [
        {
          "output_type": "stream",
          "name": "stdout",
          "text": [
            "Node 0\n",
            "Node 1\n",
            "Node 2\n",
            "Node 3\n",
            "Node 4\n"
          ]
        }
      ]
    },
    {
      "cell_type": "markdown",
      "metadata": {
        "id": "N1obnepB-7kf"
      },
      "source": [
        "Verificando aristas"
      ]
    },
    {
      "cell_type": "code",
      "metadata": {
        "colab": {
          "base_uri": "https://localhost:8080/"
        },
        "id": "aFhyUlqV-uim",
        "outputId": "ed97b4c5-8ab9-484c-8cd4-72d1a002c4e5"
      },
      "source": [
        "for u in range(n):\n",
        "  for v in L2[u]:\n",
        "    print(f\"Edge from node {u} to node {v}\")"
      ],
      "execution_count": 23,
      "outputs": [
        {
          "output_type": "stream",
          "name": "stdout",
          "text": [
            "Edge from node 0 to node 1\n",
            "Edge from node 0 to node 3\n",
            "Edge from node 1 to node 0\n",
            "Edge from node 1 to node 2\n",
            "Edge from node 1 to node 4\n",
            "Edge from node 2 to node 1\n",
            "Edge from node 2 to node 3\n",
            "Edge from node 3 to node 0\n",
            "Edge from node 3 to node 2\n",
            "Edge from node 3 to node 4\n",
            "Edge from node 4 to node 1\n",
            "Edge from node 4 to node 3\n"
          ]
        }
      ]
    },
    {
      "cell_type": "markdown",
      "metadata": {
        "id": "yvd6a432-_DD"
      },
      "source": [
        "Verificando aristas en lista de adyancencia con pesos"
      ]
    },
    {
      "cell_type": "code",
      "metadata": {
        "colab": {
          "base_uri": "https://localhost:8080/"
        },
        "id": "4M7cIF-Q_G4X",
        "outputId": "f9d09dfa-a728-4196-cba8-20c62075e4ca"
      },
      "source": [
        "for u in range(n):\n",
        "  for v, w in L3[u]:\n",
        "    print(f\"Edge from node {u} to node {v} with weight {w}\")"
      ],
      "execution_count": 24,
      "outputs": [
        {
          "output_type": "stream",
          "name": "stdout",
          "text": [
            "Edge from node 0 to node 1 with weight 2\n",
            "Edge from node 0 to node 3 with weight -3\n",
            "Edge from node 2 to node 1 with weight 4\n",
            "Edge from node 2 to node 3 with weight 5\n",
            "Edge from node 4 to node 1 with weight 3\n",
            "Edge from node 4 to node 3 with weight 1\n"
          ]
        }
      ]
    },
    {
      "cell_type": "markdown",
      "metadata": {
        "id": "Q7ZgKth3A_MK"
      },
      "source": [
        "##Ejercicio en clase"
      ]
    },
    {
      "cell_type": "code",
      "metadata": {
        "colab": {
          "base_uri": "https://localhost:8080/"
        },
        "id": "3-Fp7UOIBEYR",
        "outputId": "f8eedd18-1995-470e-9752-adda33bb5f5f"
      },
      "source": [
        "%%file ejercicio.adjl\n",
        "0 1 2 3 4 5 6 7\n",
        "1 4       \n",
        "0 2 3\n",
        "1 5\n",
        "1\n",
        "0 6\n",
        "2 6 7\n",
        "1 5 7\n",
        "5 6"
      ],
      "execution_count": 25,
      "outputs": [
        {
          "output_type": "stream",
          "name": "stdout",
          "text": [
            "Writing ejercicio.adjl\n"
          ]
        }
      ]
    },
    {
      "cell_type": "code",
      "metadata": {
        "colab": {
          "base_uri": "https://localhost:8080/",
          "height": 380
        },
        "id": "hgsnA8TlBpsA",
        "outputId": "b24686e4-fda9-48a1-9056-217237fd9f03"
      },
      "source": [
        "G, labeled = readAdjl(\"ejercicio.adjl\", haslabels=True)\n",
        "adjlShow(G, labeled)"
      ],
      "execution_count": 26,
      "outputs": [
        {
          "output_type": "execute_result",
          "data": {
            "text/plain": [
              "<graphviz.dot.Graph at 0x7f4a84358150>"
            ],
            "image/svg+xml": "<?xml version=\"1.0\" encoding=\"UTF-8\" standalone=\"no\"?>\n<!DOCTYPE svg PUBLIC \"-//W3C//DTD SVG 1.1//EN\"\n \"http://www.w3.org/Graphics/SVG/1.1/DTD/svg11.dtd\">\n<!-- Generated by graphviz version 2.40.1 (20161225.0304)\n -->\n<!-- Title: G Pages: 1 -->\n<svg width=\"228pt\" height=\"269pt\"\n viewBox=\"0.00 0.00 227.54 268.96\" xmlns=\"http://www.w3.org/2000/svg\" xmlns:xlink=\"http://www.w3.org/1999/xlink\">\n<g id=\"graph0\" class=\"graph\" transform=\"scale(1 1) rotate(0) translate(4 264.9595)\">\n<title>G</title>\n<polygon fill=\"#ffffff\" stroke=\"transparent\" points=\"-4,4 -4,-264.9595 223.5405,-264.9595 223.5405,4 -4,4\"/>\n<!-- 0 -->\n<g id=\"node1\" class=\"node\">\n<title>0</title>\n<ellipse fill=\"#ffa500\" stroke=\"#ffa500\" cx=\"27\" cy=\"-148.7864\" rx=\"27\" ry=\"18\"/>\n<text text-anchor=\"middle\" x=\"27\" y=\"-145.0864\" font-family=\"Times,serif\" font-size=\"14.00\" fill=\"#000000\">0</text>\n</g>\n<!-- 1 -->\n<g id=\"node2\" class=\"node\">\n<title>1</title>\n<ellipse fill=\"#ffa500\" stroke=\"#ffa500\" cx=\"108.4668\" cy=\"-163.4018\" rx=\"27\" ry=\"18\"/>\n<text text-anchor=\"middle\" x=\"108.4668\" y=\"-159.7018\" font-family=\"Times,serif\" font-size=\"14.00\" fill=\"#000000\">1</text>\n</g>\n<!-- 0&#45;&#45;1 -->\n<g id=\"edge1\" class=\"edge\">\n<title>0&#45;&#45;1</title>\n<path fill=\"none\" stroke=\"#000000\" d=\"M53.225,-153.4913C62.5279,-155.1602 72.9921,-157.0375 82.2909,-158.7057\"/>\n</g>\n<!-- 4 -->\n<g id=\"node5\" class=\"node\">\n<title>4</title>\n<ellipse fill=\"#ffa500\" stroke=\"#ffa500\" cx=\"34.0795\" cy=\"-69.6406\" rx=\"27\" ry=\"18\"/>\n<text text-anchor=\"middle\" x=\"34.0795\" y=\"-65.9406\" font-family=\"Times,serif\" font-size=\"14.00\" fill=\"#000000\">4</text>\n</g>\n<!-- 0&#45;&#45;4 -->\n<g id=\"edge2\" class=\"edge\">\n<title>0&#45;&#45;4</title>\n<path fill=\"none\" stroke=\"#000000\" d=\"M28.642,-130.4299C29.7938,-117.5523 31.3264,-100.4192 32.4708,-87.6248\"/>\n</g>\n<!-- 2 -->\n<g id=\"node3\" class=\"node\">\n<title>2</title>\n<ellipse fill=\"#ffa500\" stroke=\"#ffa500\" cx=\"189.9455\" cy=\"-154.98\" rx=\"27\" ry=\"18\"/>\n<text text-anchor=\"middle\" x=\"189.9455\" y=\"-151.28\" font-family=\"Times,serif\" font-size=\"14.00\" fill=\"#000000\">2</text>\n</g>\n<!-- 1&#45;&#45;2 -->\n<g id=\"edge3\" class=\"edge\">\n<title>1&#45;&#45;2</title>\n<path fill=\"none\" stroke=\"#000000\" d=\"M135.598,-160.5974C144.4864,-159.6787 154.351,-158.6591 163.2099,-157.7434\"/>\n</g>\n<!-- 3 -->\n<g id=\"node4\" class=\"node\">\n<title>3</title>\n<ellipse fill=\"#ffa500\" stroke=\"#ffa500\" cx=\"107.161\" cy=\"-242.9595\" rx=\"27\" ry=\"18\"/>\n<text text-anchor=\"middle\" x=\"107.161\" y=\"-239.2595\" font-family=\"Times,serif\" font-size=\"14.00\" fill=\"#000000\">3</text>\n</g>\n<!-- 1&#45;&#45;3 -->\n<g id=\"edge4\" class=\"edge\">\n<title>1&#45;&#45;3</title>\n<path fill=\"none\" stroke=\"#000000\" d=\"M108.1705,-181.4546C107.9583,-194.383 107.6736,-211.7281 107.4607,-224.7026\"/>\n</g>\n<!-- 5 -->\n<g id=\"node6\" class=\"node\">\n<title>5</title>\n<ellipse fill=\"#ffa500\" stroke=\"#ffa500\" cx=\"192.5405\" cy=\"-77.0887\" rx=\"27\" ry=\"18\"/>\n<text text-anchor=\"middle\" x=\"192.5405\" y=\"-73.3887\" font-family=\"Times,serif\" font-size=\"14.00\" fill=\"#000000\">5</text>\n</g>\n<!-- 2&#45;&#45;5 -->\n<g id=\"edge5\" class=\"edge\">\n<title>2&#45;&#45;5</title>\n<path fill=\"none\" stroke=\"#000000\" d=\"M190.5474,-136.9144C190.9636,-124.4207 191.5154,-107.8569 191.9329,-95.3261\"/>\n</g>\n<!-- 6 -->\n<g id=\"node7\" class=\"node\">\n<title>6</title>\n<ellipse fill=\"#ffa500\" stroke=\"#ffa500\" cx=\"113.6395\" cy=\"-80.1353\" rx=\"27\" ry=\"18\"/>\n<text text-anchor=\"middle\" x=\"113.6395\" y=\"-76.4353\" font-family=\"Times,serif\" font-size=\"14.00\" fill=\"#000000\">6</text>\n</g>\n<!-- 4&#45;&#45;6 -->\n<g id=\"edge6\" class=\"edge\">\n<title>4&#45;&#45;6</title>\n<path fill=\"none\" stroke=\"#000000\" d=\"M60.5718,-73.1352C69.07,-74.2562 78.4823,-75.4977 86.9916,-76.6202\"/>\n</g>\n<!-- 5&#45;&#45;6 -->\n<g id=\"edge7\" class=\"edge\">\n<title>5&#45;&#45;6</title>\n<path fill=\"none\" stroke=\"#000000\" d=\"M165.3872,-78.1371C157.4526,-78.4435 148.7805,-78.7784 140.8428,-79.0849\"/>\n</g>\n<!-- 7 -->\n<g id=\"node8\" class=\"node\">\n<title>7</title>\n<ellipse fill=\"#ffa500\" stroke=\"#ffa500\" cx=\"156.9996\" cy=\"-18\" rx=\"27\" ry=\"18\"/>\n<text text-anchor=\"middle\" x=\"156.9996\" y=\"-14.3\" font-family=\"Times,serif\" font-size=\"14.00\" fill=\"#000000\">7</text>\n</g>\n<!-- 5&#45;&#45;7 -->\n<g id=\"edge8\" class=\"edge\">\n<title>5&#45;&#45;7</title>\n<path fill=\"none\" stroke=\"#000000\" d=\"M182.4509,-60.3143C177.6897,-52.3986 172.0177,-42.9684 167.2377,-35.0215\"/>\n</g>\n<!-- 6&#45;&#45;1 -->\n<g id=\"edge9\" class=\"edge\">\n<title>6&#45;&#45;1</title>\n<path fill=\"none\" stroke=\"#000000\" d=\"M112.5171,-98.2029C111.6495,-112.1694 110.4541,-131.4117 109.587,-145.3694\"/>\n</g>\n<!-- 6&#45;&#45;7 -->\n<g id=\"edge10\" class=\"edge\">\n<title>6&#45;&#45;7</title>\n<path fill=\"none\" stroke=\"#000000\" d=\"M125.0319,-63.81C131.3549,-54.749 139.1978,-43.51 145.5328,-34.432\"/>\n</g>\n</g>\n</svg>\n"
          },
          "metadata": {},
          "execution_count": 26
        }
      ]
    },
    {
      "cell_type": "code",
      "metadata": {
        "colab": {
          "base_uri": "https://localhost:8080/"
        },
        "id": "M3Nza3ldERKE",
        "outputId": "6e3145e2-03c1-46b4-bdf7-172f458f6565"
      },
      "source": [
        "%%file ejercicio.adjm\n",
        "0 1 0 0 1 0 0 0\n",
        "1 0 1 1 0 0 1 0\n",
        "0 1 0 0 0 1 0 0\n",
        "0 1 0 0 0 0 0 0\n",
        "1 0 0 0 0 0 1 0\n",
        "0 0 1 0 0 0 1 1\n",
        "0 1 0 0 1 0 0 1\n",
        "0 0 0 0 0 1 1 0"
      ],
      "execution_count": 27,
      "outputs": [
        {
          "output_type": "stream",
          "name": "stdout",
          "text": [
            "Writing ejercicio.adjm\n"
          ]
        }
      ]
    },
    {
      "cell_type": "code",
      "metadata": {
        "colab": {
          "base_uri": "https://localhost:8080/",
          "height": 380
        },
        "id": "QCHxbfByET-u",
        "outputId": "3bc9ac1c-e4cf-419f-d649-b072c6cf2e99"
      },
      "source": [
        "G = np.loadtxt(\"ejercicio.adjm\")\n",
        "adjmShow(G)"
      ],
      "execution_count": 28,
      "outputs": [
        {
          "output_type": "execute_result",
          "data": {
            "text/plain": [
              "<graphviz.dot.Graph at 0x7f4a8ac5d050>"
            ],
            "image/svg+xml": "<?xml version=\"1.0\" encoding=\"UTF-8\" standalone=\"no\"?>\n<!DOCTYPE svg PUBLIC \"-//W3C//DTD SVG 1.1//EN\"\n \"http://www.w3.org/Graphics/SVG/1.1/DTD/svg11.dtd\">\n<!-- Generated by graphviz version 2.40.1 (20161225.0304)\n -->\n<!-- Title: G Pages: 1 -->\n<svg width=\"228pt\" height=\"269pt\"\n viewBox=\"0.00 0.00 227.54 268.96\" xmlns=\"http://www.w3.org/2000/svg\" xmlns:xlink=\"http://www.w3.org/1999/xlink\">\n<g id=\"graph0\" class=\"graph\" transform=\"scale(1 1) rotate(0) translate(4 264.9595)\">\n<title>G</title>\n<polygon fill=\"#ffffff\" stroke=\"transparent\" points=\"-4,4 -4,-264.9595 223.5405,-264.9595 223.5405,4 -4,4\"/>\n<!-- 0 -->\n<g id=\"node1\" class=\"node\">\n<title>0</title>\n<ellipse fill=\"#ffa500\" stroke=\"#ffa500\" cx=\"27\" cy=\"-148.7864\" rx=\"27\" ry=\"18\"/>\n<text text-anchor=\"middle\" x=\"27\" y=\"-145.0864\" font-family=\"Times,serif\" font-size=\"14.00\" fill=\"#000000\">0</text>\n</g>\n<!-- 1 -->\n<g id=\"node2\" class=\"node\">\n<title>1</title>\n<ellipse fill=\"#ffa500\" stroke=\"#ffa500\" cx=\"108.4668\" cy=\"-163.4018\" rx=\"27\" ry=\"18\"/>\n<text text-anchor=\"middle\" x=\"108.4668\" y=\"-159.7018\" font-family=\"Times,serif\" font-size=\"14.00\" fill=\"#000000\">1</text>\n</g>\n<!-- 0&#45;&#45;1 -->\n<g id=\"edge1\" class=\"edge\">\n<title>0&#45;&#45;1</title>\n<path fill=\"none\" stroke=\"#000000\" d=\"M53.225,-153.4913C62.5279,-155.1602 72.9921,-157.0375 82.2909,-158.7057\"/>\n</g>\n<!-- 4 -->\n<g id=\"node5\" class=\"node\">\n<title>4</title>\n<ellipse fill=\"#ffa500\" stroke=\"#ffa500\" cx=\"34.0795\" cy=\"-69.6406\" rx=\"27\" ry=\"18\"/>\n<text text-anchor=\"middle\" x=\"34.0795\" y=\"-65.9406\" font-family=\"Times,serif\" font-size=\"14.00\" fill=\"#000000\">4</text>\n</g>\n<!-- 0&#45;&#45;4 -->\n<g id=\"edge2\" class=\"edge\">\n<title>0&#45;&#45;4</title>\n<path fill=\"none\" stroke=\"#000000\" d=\"M28.642,-130.4299C29.7938,-117.5523 31.3264,-100.4192 32.4708,-87.6248\"/>\n</g>\n<!-- 2 -->\n<g id=\"node3\" class=\"node\">\n<title>2</title>\n<ellipse fill=\"#ffa500\" stroke=\"#ffa500\" cx=\"189.9455\" cy=\"-154.98\" rx=\"27\" ry=\"18\"/>\n<text text-anchor=\"middle\" x=\"189.9455\" y=\"-151.28\" font-family=\"Times,serif\" font-size=\"14.00\" fill=\"#000000\">2</text>\n</g>\n<!-- 1&#45;&#45;2 -->\n<g id=\"edge3\" class=\"edge\">\n<title>1&#45;&#45;2</title>\n<path fill=\"none\" stroke=\"#000000\" d=\"M135.598,-160.5974C144.4864,-159.6787 154.351,-158.6591 163.2099,-157.7434\"/>\n</g>\n<!-- 3 -->\n<g id=\"node4\" class=\"node\">\n<title>3</title>\n<ellipse fill=\"#ffa500\" stroke=\"#ffa500\" cx=\"107.161\" cy=\"-242.9595\" rx=\"27\" ry=\"18\"/>\n<text text-anchor=\"middle\" x=\"107.161\" y=\"-239.2595\" font-family=\"Times,serif\" font-size=\"14.00\" fill=\"#000000\">3</text>\n</g>\n<!-- 1&#45;&#45;3 -->\n<g id=\"edge4\" class=\"edge\">\n<title>1&#45;&#45;3</title>\n<path fill=\"none\" stroke=\"#000000\" d=\"M108.1705,-181.4546C107.9583,-194.383 107.6736,-211.7281 107.4607,-224.7026\"/>\n</g>\n<!-- 6 -->\n<g id=\"node7\" class=\"node\">\n<title>6</title>\n<ellipse fill=\"#ffa500\" stroke=\"#ffa500\" cx=\"113.6395\" cy=\"-80.1353\" rx=\"27\" ry=\"18\"/>\n<text text-anchor=\"middle\" x=\"113.6395\" y=\"-76.4353\" font-family=\"Times,serif\" font-size=\"14.00\" fill=\"#000000\">6</text>\n</g>\n<!-- 1&#45;&#45;6 -->\n<g id=\"edge5\" class=\"edge\">\n<title>1&#45;&#45;6</title>\n<path fill=\"none\" stroke=\"#000000\" d=\"M109.5892,-145.3342C110.4568,-131.3676 111.6522,-112.1253 112.5193,-98.1676\"/>\n</g>\n<!-- 5 -->\n<g id=\"node6\" class=\"node\">\n<title>5</title>\n<ellipse fill=\"#ffa500\" stroke=\"#ffa500\" cx=\"192.5405\" cy=\"-77.0887\" rx=\"27\" ry=\"18\"/>\n<text text-anchor=\"middle\" x=\"192.5405\" y=\"-73.3887\" font-family=\"Times,serif\" font-size=\"14.00\" fill=\"#000000\">5</text>\n</g>\n<!-- 2&#45;&#45;5 -->\n<g id=\"edge6\" class=\"edge\">\n<title>2&#45;&#45;5</title>\n<path fill=\"none\" stroke=\"#000000\" d=\"M190.5474,-136.9144C190.9636,-124.4207 191.5154,-107.8569 191.9329,-95.3261\"/>\n</g>\n<!-- 4&#45;&#45;6 -->\n<g id=\"edge7\" class=\"edge\">\n<title>4&#45;&#45;6</title>\n<path fill=\"none\" stroke=\"#000000\" d=\"M60.5718,-73.1352C69.07,-74.2562 78.4823,-75.4977 86.9916,-76.6202\"/>\n</g>\n<!-- 5&#45;&#45;6 -->\n<g id=\"edge8\" class=\"edge\">\n<title>5&#45;&#45;6</title>\n<path fill=\"none\" stroke=\"#000000\" d=\"M165.3872,-78.1371C157.4526,-78.4435 148.7805,-78.7784 140.8428,-79.0849\"/>\n</g>\n<!-- 7 -->\n<g id=\"node8\" class=\"node\">\n<title>7</title>\n<ellipse fill=\"#ffa500\" stroke=\"#ffa500\" cx=\"156.9996\" cy=\"-18\" rx=\"27\" ry=\"18\"/>\n<text text-anchor=\"middle\" x=\"156.9996\" y=\"-14.3\" font-family=\"Times,serif\" font-size=\"14.00\" fill=\"#000000\">7</text>\n</g>\n<!-- 5&#45;&#45;7 -->\n<g id=\"edge9\" class=\"edge\">\n<title>5&#45;&#45;7</title>\n<path fill=\"none\" stroke=\"#000000\" d=\"M182.4509,-60.3143C177.6897,-52.3986 172.0177,-42.9684 167.2377,-35.0215\"/>\n</g>\n<!-- 6&#45;&#45;7 -->\n<g id=\"edge10\" class=\"edge\">\n<title>6&#45;&#45;7</title>\n<path fill=\"none\" stroke=\"#000000\" d=\"M125.0319,-63.81C131.3549,-54.749 139.1978,-43.51 145.5328,-34.432\"/>\n</g>\n</g>\n</svg>\n"
          },
          "metadata": {},
          "execution_count": 28
        }
      ]
    },
    {
      "cell_type": "code",
      "metadata": {
        "id": "fN8OfQ3JEcqm"
      },
      "source": [
        "def isfull(G):\n",
        "  n = len(G)\n",
        "  for u in range(n):\n",
        "    for v in range(n):\n",
        "      if u != v and G[u, v] == 0:\n",
        "        return False\n",
        "  return True"
      ],
      "execution_count": 29,
      "outputs": []
    },
    {
      "cell_type": "code",
      "metadata": {
        "colab": {
          "base_uri": "https://localhost:8080/"
        },
        "id": "AupdwWxNFxP_",
        "outputId": "37106f3d-ab9a-4811-e099-53d4a662e994"
      },
      "source": [
        "isfull(M2)"
      ],
      "execution_count": 30,
      "outputs": [
        {
          "output_type": "execute_result",
          "data": {
            "text/plain": [
              "False"
            ]
          },
          "metadata": {},
          "execution_count": 30
        }
      ]
    },
    {
      "cell_type": "code",
      "metadata": {
        "colab": {
          "base_uri": "https://localhost:8080/"
        },
        "id": "58VlQyqwF1x0",
        "outputId": "78173077-aa1a-4dab-af93-85eccc9259fe"
      },
      "source": [
        "%%file full.adjm\n",
        "0 1 1 1\n",
        "1 0 1 1\n",
        "1 1 0 1\n",
        "1 1 1 0"
      ],
      "execution_count": 31,
      "outputs": [
        {
          "output_type": "stream",
          "name": "stdout",
          "text": [
            "Writing full.adjm\n"
          ]
        }
      ]
    },
    {
      "cell_type": "code",
      "metadata": {
        "colab": {
          "base_uri": "https://localhost:8080/",
          "height": 194
        },
        "id": "_oQjTvmrF4_C",
        "outputId": "01e38d9f-a69b-457a-e114-3fe8eee164c7"
      },
      "source": [
        "G = np.loadtxt(\"full.adjm\")\n",
        "adjmShow(G)"
      ],
      "execution_count": 32,
      "outputs": [
        {
          "output_type": "execute_result",
          "data": {
            "text/plain": [
              "<graphviz.dot.Graph at 0x7f4a84346890>"
            ],
            "image/svg+xml": "<?xml version=\"1.0\" encoding=\"UTF-8\" standalone=\"no\"?>\n<!DOCTYPE svg PUBLIC \"-//W3C//DTD SVG 1.1//EN\"\n \"http://www.w3.org/Graphics/SVG/1.1/DTD/svg11.dtd\">\n<!-- Generated by graphviz version 2.40.1 (20161225.0304)\n -->\n<!-- Title: G Pages: 1 -->\n<svg width=\"148pt\" height=\"130pt\"\n viewBox=\"0.00 0.00 147.94 130.01\" xmlns=\"http://www.w3.org/2000/svg\" xmlns:xlink=\"http://www.w3.org/1999/xlink\">\n<g id=\"graph0\" class=\"graph\" transform=\"scale(1 1) rotate(0) translate(4 126.0128)\">\n<title>G</title>\n<polygon fill=\"#ffffff\" stroke=\"transparent\" points=\"-4,4 -4,-126.0128 143.9362,-126.0128 143.9362,4 -4,4\"/>\n<!-- 0 -->\n<g id=\"node1\" class=\"node\">\n<title>0</title>\n<ellipse fill=\"#ffa500\" stroke=\"#ffa500\" cx=\"27\" cy=\"-54.6315\" rx=\"27\" ry=\"18\"/>\n<text text-anchor=\"middle\" x=\"27\" y=\"-50.9315\" font-family=\"Times,serif\" font-size=\"14.00\" fill=\"#000000\">0</text>\n</g>\n<!-- 1 -->\n<g id=\"node2\" class=\"node\">\n<title>1</title>\n<ellipse fill=\"#ffa500\" stroke=\"#ffa500\" cx=\"112.9362\" cy=\"-67.3525\" rx=\"27\" ry=\"18\"/>\n<text text-anchor=\"middle\" x=\"112.9362\" y=\"-63.6525\" font-family=\"Times,serif\" font-size=\"14.00\" fill=\"#000000\">1</text>\n</g>\n<!-- 0&#45;&#45;1 -->\n<g id=\"edge1\" class=\"edge\">\n<title>0&#45;&#45;1</title>\n<path fill=\"none\" stroke=\"#000000\" d=\"M53.7197,-58.5868C64.1651,-60.133 76.113,-61.9016 86.5282,-63.4434\"/>\n</g>\n<!-- 2 -->\n<g id=\"node3\" class=\"node\">\n<title>2</title>\n<ellipse fill=\"#ffa500\" stroke=\"#ffa500\" cx=\"76.2914\" cy=\"-18\" rx=\"27\" ry=\"18\"/>\n<text text-anchor=\"middle\" x=\"76.2914\" y=\"-14.3\" font-family=\"Times,serif\" font-size=\"14.00\" fill=\"#000000\">2</text>\n</g>\n<!-- 0&#45;&#45;2 -->\n<g id=\"edge2\" class=\"edge\">\n<title>0&#45;&#45;2</title>\n<path fill=\"none\" stroke=\"#000000\" d=\"M45.0744,-41.1993C49.3607,-38.0139 53.933,-34.6159 58.2192,-31.4306\"/>\n</g>\n<!-- 3 -->\n<g id=\"node4\" class=\"node\">\n<title>3</title>\n<ellipse fill=\"#ffa500\" stroke=\"#ffa500\" cx=\"63.5551\" cy=\"-104.0128\" rx=\"27\" ry=\"18\"/>\n<text text-anchor=\"middle\" x=\"63.5551\" y=\"-100.3128\" font-family=\"Times,serif\" font-size=\"14.00\" fill=\"#000000\">3</text>\n</g>\n<!-- 0&#45;&#45;3 -->\n<g id=\"edge3\" class=\"edge\">\n<title>0&#45;&#45;3</title>\n<path fill=\"none\" stroke=\"#000000\" d=\"M38.9695,-70.8008C42.9674,-76.2014 47.4242,-82.222 51.4335,-87.6382\"/>\n</g>\n<!-- 1&#45;&#45;2 -->\n<g id=\"edge4\" class=\"edge\">\n<title>1&#45;&#45;2</title>\n<path fill=\"none\" stroke=\"#000000\" d=\"M100.9373,-51.1926C96.9296,-45.7952 92.4619,-39.7781 88.4427,-34.3651\"/>\n</g>\n<!-- 1&#45;&#45;3 -->\n<g id=\"edge5\" class=\"edge\">\n<title>1&#45;&#45;3</title>\n<path fill=\"none\" stroke=\"#000000\" d=\"M94.8289,-80.7953C90.5348,-83.9832 85.9542,-87.3838 81.6602,-90.5717\"/>\n</g>\n<!-- 2&#45;&#45;3 -->\n<g id=\"edge6\" class=\"edge\">\n<title>2&#45;&#45;3</title>\n<path fill=\"none\" stroke=\"#000000\" d=\"M73.5903,-36.2411C71.4143,-50.9364 68.3718,-71.4838 66.2085,-86.0929\"/>\n</g>\n</g>\n</svg>\n"
          },
          "metadata": {},
          "execution_count": 32
        }
      ]
    },
    {
      "cell_type": "code",
      "metadata": {
        "colab": {
          "base_uri": "https://localhost:8080/"
        },
        "id": "eCxZj9tnF9ru",
        "outputId": "9bd9677d-0c03-4c83-dceb-63673b4ab97d"
      },
      "source": [
        "isfull(G)"
      ],
      "execution_count": 33,
      "outputs": [
        {
          "output_type": "execute_result",
          "data": {
            "text/plain": [
              "True"
            ]
          },
          "metadata": {},
          "execution_count": 33
        }
      ]
    },
    {
      "cell_type": "code",
      "metadata": {
        "colab": {
          "base_uri": "https://localhost:8080/"
        },
        "id": "SPfZwA5AGDs1",
        "outputId": "b8e6d980-d83e-4f6e-f095-53e21f3d9de0"
      },
      "source": [
        "%%file notfull.adjm\n",
        "1 0 1 1\n",
        "1 0 1 1\n",
        "1 1 0 1\n",
        "1 1 1 0"
      ],
      "execution_count": 34,
      "outputs": [
        {
          "output_type": "stream",
          "name": "stdout",
          "text": [
            "Writing notfull.adjm\n"
          ]
        }
      ]
    },
    {
      "cell_type": "code",
      "metadata": {
        "colab": {
          "base_uri": "https://localhost:8080/",
          "height": 172
        },
        "id": "_vx8C74hGF0n",
        "outputId": "568e7416-b283-4ac6-e7b5-adda8c12f1fd"
      },
      "source": [
        "G = np.loadtxt(\"notfull.adjm\")\n",
        "adjmShow(G)"
      ],
      "execution_count": 35,
      "outputs": [
        {
          "output_type": "execute_result",
          "data": {
            "text/plain": [
              "<graphviz.dot.Graph at 0x7f4a842ed3d0>"
            ],
            "image/svg+xml": "<?xml version=\"1.0\" encoding=\"UTF-8\" standalone=\"no\"?>\n<!DOCTYPE svg PUBLIC \"-//W3C//DTD SVG 1.1//EN\"\n \"http://www.w3.org/Graphics/SVG/1.1/DTD/svg11.dtd\">\n<!-- Generated by graphviz version 2.40.1 (20161225.0304)\n -->\n<!-- Title: G Pages: 1 -->\n<svg width=\"191pt\" height=\"113pt\"\n viewBox=\"0.00 0.00 190.52 113.27\" xmlns=\"http://www.w3.org/2000/svg\" xmlns:xlink=\"http://www.w3.org/1999/xlink\">\n<g id=\"graph0\" class=\"graph\" transform=\"scale(1 1) rotate(0) translate(4 109.2678)\">\n<title>G</title>\n<polygon fill=\"#ffffff\" stroke=\"transparent\" points=\"-4,4 -4,-109.2678 186.5193,-109.2678 186.5193,4 -4,4\"/>\n<!-- 0 -->\n<g id=\"node1\" class=\"node\">\n<title>0</title>\n<ellipse fill=\"#ffa500\" stroke=\"#ffa500\" cx=\"27\" cy=\"-42.1737\" rx=\"27\" ry=\"18\"/>\n<text text-anchor=\"middle\" x=\"27\" y=\"-38.4737\" font-family=\"Times,serif\" font-size=\"14.00\" fill=\"#000000\">0</text>\n</g>\n<!-- 0&#45;&#45;0 -->\n<g id=\"edge1\" class=\"edge\">\n<title>0&#45;&#45;0</title>\n<path fill=\"none\" stroke=\"#000000\" d=\"M52.4435,-48.8644C63.0278,-49.3258 72,-47.0956 72,-42.1737 72,-37.2518 63.0278,-35.0216 52.4435,-35.483\"/>\n</g>\n<!-- 2 -->\n<g id=\"node3\" class=\"node\">\n<title>2</title>\n<ellipse fill=\"#ffa500\" stroke=\"#ffa500\" cx=\"96.8432\" cy=\"-18\" rx=\"27\" ry=\"18\"/>\n<text text-anchor=\"middle\" x=\"96.8432\" y=\"-14.3\" font-family=\"Times,serif\" font-size=\"14.00\" fill=\"#000000\">2</text>\n</g>\n<!-- 0&#45;&#45;2 -->\n<g id=\"edge2\" class=\"edge\">\n<title>0&#45;&#45;2</title>\n<path fill=\"none\" stroke=\"#000000\" d=\"M51.0361,-33.8545C57.9809,-31.4508 65.5639,-28.8262 72.5257,-26.4166\"/>\n</g>\n<!-- 3 -->\n<g id=\"node4\" class=\"node\">\n<title>3</title>\n<ellipse fill=\"#ffa500\" stroke=\"#ffa500\" cx=\"85.6494\" cy=\"-87.2678\" rx=\"27\" ry=\"18\"/>\n<text text-anchor=\"middle\" x=\"85.6494\" y=\"-83.5678\" font-family=\"Times,serif\" font-size=\"14.00\" fill=\"#000000\">3</text>\n</g>\n<!-- 0&#45;&#45;3 -->\n<g id=\"edge3\" class=\"edge\">\n<title>0&#45;&#45;3</title>\n<path fill=\"none\" stroke=\"#000000\" d=\"M44.9154,-55.9484C52.1918,-61.5431 60.5785,-67.9914 67.8437,-73.5774\"/>\n</g>\n<!-- 1 -->\n<g id=\"node2\" class=\"node\">\n<title>1</title>\n<ellipse fill=\"#ffa500\" stroke=\"#ffa500\" cx=\"155.5193\" cy=\"-62.9399\" rx=\"27\" ry=\"18\"/>\n<text text-anchor=\"middle\" x=\"155.5193\" y=\"-59.2399\" font-family=\"Times,serif\" font-size=\"14.00\" fill=\"#000000\">1</text>\n</g>\n<!-- 1&#45;&#45;2 -->\n<g id=\"edge4\" class=\"edge\">\n<title>1&#45;&#45;2</title>\n<path fill=\"none\" stroke=\"#000000\" d=\"M137.5957,-49.2123C130.316,-43.6368 121.9255,-37.2105 114.657,-31.6436\"/>\n</g>\n<!-- 1&#45;&#45;3 -->\n<g id=\"edge5\" class=\"edge\">\n<title>1&#45;&#45;3</title>\n<path fill=\"none\" stroke=\"#000000\" d=\"M131.474,-71.3122C124.5266,-73.7312 116.9406,-76.3725 109.9762,-78.7975\"/>\n</g>\n<!-- 2&#45;&#45;3 -->\n<g id=\"edge6\" class=\"edge\">\n<title>2&#45;&#45;3</title>\n<path fill=\"none\" stroke=\"#000000\" d=\"M93.9022,-36.1993C92.2698,-46.3004 90.2451,-58.8295 88.6097,-68.9495\"/>\n</g>\n</g>\n</svg>\n"
          },
          "metadata": {},
          "execution_count": 35
        }
      ]
    },
    {
      "cell_type": "code",
      "metadata": {
        "colab": {
          "base_uri": "https://localhost:8080/"
        },
        "id": "7vIIE1YKGHW_",
        "outputId": "604a61d0-91a0-4da5-9a35-0c0d7bd5cf45"
      },
      "source": [
        "isfull(G)"
      ],
      "execution_count": 36,
      "outputs": [
        {
          "output_type": "execute_result",
          "data": {
            "text/plain": [
              "False"
            ]
          },
          "metadata": {},
          "execution_count": 36
        }
      ]
    }
  ]
}