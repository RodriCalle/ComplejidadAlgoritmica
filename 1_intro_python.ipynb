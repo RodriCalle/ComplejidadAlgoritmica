{
  "nbformat": 4,
  "nbformat_minor": 0,
  "metadata": {
    "colab": {
      "name": "1. intro-python.ipynb",
      "provenance": [],
      "collapsed_sections": [
        "Kdgta4eK7gMr",
        "ByJ-ZRZr8O_w",
        "gbEuUqux9fmT",
        "mbtDS5ai935M",
        "mVUQGuXrAbZh",
        "-ADKyAswNT-g",
        "GSX7KXVlUdIt",
        "PeZu_49oXSQm",
        "0hARi4lWaHRi",
        "NzWS3g6iHDuN",
        "BsFM6GswcxN5"
      ],
      "authorship_tag": "ABX9TyNmn310k7Qu3BTjaXVQi/Yk",
      "include_colab_link": true
    },
    "kernelspec": {
      "name": "python3",
      "display_name": "Python 3"
    },
    "language_info": {
      "name": "python"
    }
  },
  "cells": [
    {
      "cell_type": "markdown",
      "metadata": {
        "id": "view-in-github",
        "colab_type": "text"
      },
      "source": [
        "<a href=\"https://colab.research.google.com/github/RodriCalle/ComplejidadAlgoritmica/blob/main/1_intro_python.ipynb\" target=\"_parent\"><img src=\"https://colab.research.google.com/assets/colab-badge.svg\" alt=\"Open In Colab\"/></a>"
      ]
    },
    {
      "cell_type": "markdown",
      "metadata": {
        "id": "Kdgta4eK7gMr"
      },
      "source": [
        "#Hello World"
      ]
    },
    {
      "cell_type": "code",
      "metadata": {
        "colab": {
          "base_uri": "https://localhost:8080/"
        },
        "id": "ZVizbsSrEPdT",
        "outputId": "3877465b-7376-4d34-dd3d-e386ffa7a787"
      },
      "source": [
        "print(\"Hello World\")"
      ],
      "execution_count": null,
      "outputs": [
        {
          "output_type": "stream",
          "text": [
            "Hello World\n"
          ],
          "name": "stdout"
        }
      ]
    },
    {
      "cell_type": "markdown",
      "metadata": {
        "id": "xDd2bgJ270qj"
      },
      "source": [
        "Python Version"
      ]
    },
    {
      "cell_type": "code",
      "metadata": {
        "colab": {
          "base_uri": "https://localhost:8080/"
        },
        "id": "aqTt8AV2GTJU",
        "outputId": "7da69bbf-22b0-44be-ee71-45b76436c4e9"
      },
      "source": [
        "import sys\n",
        "print(sys.version)"
      ],
      "execution_count": null,
      "outputs": [
        {
          "output_type": "stream",
          "text": [
            "3.7.11 (default, Jul  3 2021, 18:01:19) \n",
            "[GCC 7.5.0]\n"
          ],
          "name": "stdout"
        }
      ]
    },
    {
      "cell_type": "markdown",
      "metadata": {
        "id": "yecFOd3m8Gaj"
      },
      "source": [
        "Input and output of data"
      ]
    },
    {
      "cell_type": "code",
      "metadata": {
        "colab": {
          "base_uri": "https://localhost:8080/"
        },
        "id": "mF0qV2PjEg2O",
        "outputId": "d29a7b92-f89d-4f31-a05b-c52a49bbf808"
      },
      "source": [
        "nombre = input(\"Enter your name: \")\n",
        "print(f\"Hi, {nombre}\")"
      ],
      "execution_count": null,
      "outputs": [
        {
          "output_type": "stream",
          "text": [
            "Enter your name: Paolo\n",
            "Hi, Paolo\n"
          ],
          "name": "stdout"
        }
      ]
    },
    {
      "cell_type": "code",
      "metadata": {
        "colab": {
          "base_uri": "https://localhost:8080/"
        },
        "id": "BqLnGVB4cFZ7",
        "outputId": "feda7544-8de7-408e-fd6b-a6336f2f5cd4"
      },
      "source": [
        "print(\"hola\")\n",
        "print(\"mundo\")\n",
        "\n",
        "print(\"hola\\nmundo\")\n",
        "\n",
        "print(\"\"\"hola\n",
        "mundo\"\"\")"
      ],
      "execution_count": null,
      "outputs": [
        {
          "output_type": "stream",
          "text": [
            "hola\n",
            "mundo\n",
            "hola\n",
            "mundo\n",
            "hola\n",
            "mundo\n"
          ],
          "name": "stdout"
        }
      ]
    },
    {
      "cell_type": "code",
      "metadata": {
        "colab": {
          "base_uri": "https://localhost:8080/"
        },
        "id": "aj2J3tTK6ghU",
        "outputId": "da4c4211-e60c-4fbb-8e38-fe40f10de7f4"
      },
      "source": [
        "word = input(\"Input a word: \")\n",
        "numInt = int(input(\"Input a int: \"))\n",
        "numFloat = float(input(\"Input a float: \" ))\n",
        "numComplex = complex(input(\"Input a complex: \"))\n",
        "\n",
        "print(word, numInt, numFloat, numComplex)\n"
      ],
      "execution_count": null,
      "outputs": [
        {
          "output_type": "stream",
          "text": [
            "Input a word: asdad\n",
            "Input a int: 4\n",
            "Input a float: -23.3453\n",
            "Input a complex: 5+7j\n",
            "asdad 4 -23.3453 (5+7j)\n"
          ],
          "name": "stdout"
        }
      ]
    },
    {
      "cell_type": "markdown",
      "metadata": {
        "id": "ByJ-ZRZr8O_w"
      },
      "source": [
        "#Comentarios"
      ]
    },
    {
      "cell_type": "code",
      "metadata": {
        "colab": {
          "base_uri": "https://localhost:8080/"
        },
        "id": "8EVwo-Vq8XAF",
        "outputId": "04431e25-d6a8-4e48-ee4a-39e99f6f79da"
      },
      "source": [
        "# This is a line-comment\n",
        "print(\"This is not a comment\")\n",
        "\n",
        "\"\"\" This is a multiple line comment,\n",
        "it calls docstring \"\"\"\n",
        "\n",
        "print(\":)\")"
      ],
      "execution_count": null,
      "outputs": [
        {
          "output_type": "stream",
          "text": [
            "This is not a comment\n",
            ":)\n"
          ],
          "name": "stdout"
        }
      ]
    },
    {
      "cell_type": "markdown",
      "metadata": {
        "id": "gbEuUqux9fmT"
      },
      "source": [
        "#Python Errors"
      ]
    },
    {
      "cell_type": "code",
      "metadata": {
        "colab": {
          "base_uri": "https://localhost:8080/",
          "height": 214
        },
        "id": "KpppIuav9lVw",
        "outputId": "b11093e7-75e3-4944-83fb-6125f5f05955"
      },
      "source": [
        "print(\"Hi\")\n",
        "frint(\"World\")\n",
        "print(\":\")"
      ],
      "execution_count": null,
      "outputs": [
        {
          "output_type": "stream",
          "text": [
            "Hi\n"
          ],
          "name": "stdout"
        },
        {
          "output_type": "error",
          "ename": "NameError",
          "evalue": "ignored",
          "traceback": [
            "\u001b[0;31m---------------------------------------------------------------------------\u001b[0m",
            "\u001b[0;31mNameError\u001b[0m                                 Traceback (most recent call last)",
            "\u001b[0;32m<ipython-input-13-fd11b518357b>\u001b[0m in \u001b[0;36m<module>\u001b[0;34m()\u001b[0m\n\u001b[1;32m      1\u001b[0m \u001b[0mprint\u001b[0m\u001b[0;34m(\u001b[0m\u001b[0;34m\"Hi\"\u001b[0m\u001b[0;34m)\u001b[0m\u001b[0;34m\u001b[0m\u001b[0;34m\u001b[0m\u001b[0m\n\u001b[0;32m----> 2\u001b[0;31m \u001b[0mfrint\u001b[0m\u001b[0;34m(\u001b[0m\u001b[0;34m\"World\"\u001b[0m\u001b[0;34m)\u001b[0m\u001b[0;34m\u001b[0m\u001b[0;34m\u001b[0m\u001b[0m\n\u001b[0m\u001b[1;32m      3\u001b[0m \u001b[0mprint\u001b[0m\u001b[0;34m(\u001b[0m\u001b[0;34m\":\"\u001b[0m\u001b[0;34m)\u001b[0m\u001b[0;34m\u001b[0m\u001b[0;34m\u001b[0m\u001b[0m\n",
            "\u001b[0;31mNameError\u001b[0m: name 'frint' is not defined"
          ]
        }
      ]
    },
    {
      "cell_type": "markdown",
      "metadata": {
        "id": "mbtDS5ai935M"
      },
      "source": [
        "#Data types"
      ]
    },
    {
      "cell_type": "code",
      "metadata": {
        "colab": {
          "base_uri": "https://localhost:8080/"
        },
        "id": "HYuJQ9Fg4fZ3",
        "outputId": "67369348-6c9f-46a2-d16d-85f6dfae1c84"
      },
      "source": [
        "#int\n",
        "numberInt = 10\n",
        "#long\n",
        "numberLong = 932043246746\n",
        "#float\n",
        "numberFloat = 12.434323434\n",
        "#complex\n",
        "numberComplex = 5 + 6j\n",
        "#string\n",
        "string = \"roadsfsaddsf\"\n",
        "#bool\n",
        "vof = True\n",
        "\n",
        "print(numberInt, type(numberInt))\n",
        "print(numberLong,  type(numberLong))\n",
        "print(numberFloat,  type(numberFloat))\n",
        "print(numberComplex, type(numberComplex))\n",
        "print(string, type(string))\n",
        "print(vof, type(vof))"
      ],
      "execution_count": null,
      "outputs": [
        {
          "output_type": "stream",
          "text": [
            "10 <class 'int'>\n",
            "932043246746 <class 'int'>\n",
            "12.434323434 <class 'float'>\n",
            "(5+6j) <class 'complex'>\n",
            "roadsfsaddsf <class 'str'>\n",
            "True <class 'bool'>\n"
          ],
          "name": "stdout"
        }
      ]
    },
    {
      "cell_type": "markdown",
      "metadata": {
        "id": "jf5cCk_D_vIs"
      },
      "source": [
        "Some important data types"
      ]
    },
    {
      "cell_type": "code",
      "metadata": {
        "colab": {
          "base_uri": "https://localhost:8080/"
        },
        "id": "guAj1NTc9-aJ",
        "outputId": "8af5b2b0-5d04-4cd6-8d28-f65cad4c4c5c"
      },
      "source": [
        "print(12, 23.4, \"Hello\", True)"
      ],
      "execution_count": null,
      "outputs": [
        {
          "output_type": "stream",
          "text": [
            "12 23.4 Hello True\n"
          ],
          "name": "stdout"
        }
      ]
    },
    {
      "cell_type": "markdown",
      "metadata": {
        "id": "CagSXeQJ_ous"
      },
      "source": [
        "Get a type of a data"
      ]
    },
    {
      "cell_type": "code",
      "metadata": {
        "colab": {
          "base_uri": "https://localhost:8080/"
        },
        "id": "FRlh7Kgw-MBn",
        "outputId": "ebc95fb9-0c73-4e62-8162-0f4265101275"
      },
      "source": [
        "print(type(12), type(23.4), type(\"Hello\"), type(True))"
      ],
      "execution_count": null,
      "outputs": [
        {
          "output_type": "stream",
          "text": [
            "<class 'int'> <class 'float'> <class 'str'> <class 'bool'>\n"
          ],
          "name": "stdout"
        }
      ]
    },
    {
      "cell_type": "markdown",
      "metadata": {
        "id": "KJ6NMnxx_r-B"
      },
      "source": [
        "Parsing data types"
      ]
    },
    {
      "cell_type": "code",
      "metadata": {
        "colab": {
          "base_uri": "https://localhost:8080/"
        },
        "id": "BBYh_zGm-lol",
        "outputId": "9cb2c07f-6a06-46bf-8f92-832b49292c34"
      },
      "source": [
        "print(int(14.353), float(15.423), float(\"18.3242\"), str(12.34))"
      ],
      "execution_count": null,
      "outputs": [
        {
          "output_type": "stream",
          "text": [
            "14 15.423 18.3242 12.34\n"
          ],
          "name": "stdout"
        }
      ]
    },
    {
      "cell_type": "markdown",
      "metadata": {
        "id": "nZJfKWsOAHZa"
      },
      "source": [
        "Parsing Error"
      ]
    },
    {
      "cell_type": "code",
      "metadata": {
        "colab": {
          "base_uri": "https://localhost:8080/",
          "height": 163
        },
        "id": "SB-833ANALgn",
        "outputId": "c6f04254-00fb-4795-9638-43e0b459f093"
      },
      "source": [
        "float(\"this is a parsing error\")"
      ],
      "execution_count": null,
      "outputs": [
        {
          "output_type": "error",
          "ename": "ValueError",
          "evalue": "ignored",
          "traceback": [
            "\u001b[0;31m---------------------------------------------------------------------------\u001b[0m",
            "\u001b[0;31mValueError\u001b[0m                                Traceback (most recent call last)",
            "\u001b[0;32m<ipython-input-22-14941a3e6a45>\u001b[0m in \u001b[0;36m<module>\u001b[0;34m()\u001b[0m\n\u001b[0;32m----> 1\u001b[0;31m \u001b[0mfloat\u001b[0m\u001b[0;34m(\u001b[0m\u001b[0;34m\"this is a parsing error\"\u001b[0m\u001b[0;34m)\u001b[0m\u001b[0;34m\u001b[0m\u001b[0;34m\u001b[0m\u001b[0m\n\u001b[0m",
            "\u001b[0;31mValueError\u001b[0m: could not convert string to float: 'this is a parsing error'"
          ]
        }
      ]
    },
    {
      "cell_type": "markdown",
      "metadata": {
        "id": "mVUQGuXrAbZh"
      },
      "source": [
        "#Expressions"
      ]
    },
    {
      "cell_type": "markdown",
      "metadata": {
        "id": "8xYe8kcSBF5V"
      },
      "source": [
        "Simple Operations"
      ]
    },
    {
      "cell_type": "code",
      "metadata": {
        "colab": {
          "base_uri": "https://localhost:8080/"
        },
        "id": "RUJms_8lFJYW",
        "outputId": "814599c0-993f-4cf8-fb0a-362dbe301f7a"
      },
      "source": [
        "5+9"
      ],
      "execution_count": null,
      "outputs": [
        {
          "output_type": "execute_result",
          "data": {
            "text/plain": [
              "14"
            ]
          },
          "metadata": {},
          "execution_count": 28
        }
      ]
    },
    {
      "cell_type": "code",
      "metadata": {
        "colab": {
          "base_uri": "https://localhost:8080/"
        },
        "id": "RvZEE5suBNWW",
        "outputId": "68b96d76-f03d-4e1c-c82b-41a0efabd3bc"
      },
      "source": [
        "-5-9"
      ],
      "execution_count": null,
      "outputs": [
        {
          "output_type": "execute_result",
          "data": {
            "text/plain": [
              "-14"
            ]
          },
          "metadata": {},
          "execution_count": 30
        }
      ]
    },
    {
      "cell_type": "code",
      "metadata": {
        "colab": {
          "base_uri": "https://localhost:8080/"
        },
        "id": "fgkxwC_QBVV6",
        "outputId": "79fd7432-67e3-4d3e-f603-2fb153e3dfd9"
      },
      "source": [
        "9*3"
      ],
      "execution_count": null,
      "outputs": [
        {
          "output_type": "execute_result",
          "data": {
            "text/plain": [
              "27"
            ]
          },
          "metadata": {},
          "execution_count": 31
        }
      ]
    },
    {
      "cell_type": "code",
      "metadata": {
        "colab": {
          "base_uri": "https://localhost:8080/"
        },
        "id": "ix2IDeMbBJ9u",
        "outputId": "4850264d-d0fc-46d9-fe3a-5eeafa93b02f"
      },
      "source": [
        "7/3"
      ],
      "execution_count": null,
      "outputs": [
        {
          "output_type": "execute_result",
          "data": {
            "text/plain": [
              "2.3333333333333335"
            ]
          },
          "metadata": {},
          "execution_count": 32
        }
      ]
    },
    {
      "cell_type": "code",
      "metadata": {
        "colab": {
          "base_uri": "https://localhost:8080/"
        },
        "id": "BmCGVXLiBv1z",
        "outputId": "b9db19fe-42b9-437c-d887-3bb8674f7791"
      },
      "source": [
        "7//3"
      ],
      "execution_count": null,
      "outputs": [
        {
          "output_type": "execute_result",
          "data": {
            "text/plain": [
              "2"
            ]
          },
          "metadata": {},
          "execution_count": 33
        }
      ]
    },
    {
      "cell_type": "code",
      "metadata": {
        "colab": {
          "base_uri": "https://localhost:8080/"
        },
        "id": "S_DHiEV2B0rN",
        "outputId": "af9c4c8b-3449-47c3-9be0-6523d8e79116"
      },
      "source": [
        "7 % 3"
      ],
      "execution_count": null,
      "outputs": [
        {
          "output_type": "execute_result",
          "data": {
            "text/plain": [
              "1"
            ]
          },
          "metadata": {},
          "execution_count": 37
        }
      ]
    },
    {
      "cell_type": "code",
      "metadata": {
        "colab": {
          "base_uri": "https://localhost:8080/"
        },
        "id": "P-Eo4zmVB9oS",
        "outputId": "f2a31a2e-52c7-4221-d4b3-a974944378e9"
      },
      "source": [
        "3 ** 3"
      ],
      "execution_count": null,
      "outputs": [
        {
          "output_type": "execute_result",
          "data": {
            "text/plain": [
              "27"
            ]
          },
          "metadata": {},
          "execution_count": 39
        }
      ]
    },
    {
      "cell_type": "code",
      "metadata": {
        "colab": {
          "base_uri": "https://localhost:8080/"
        },
        "id": "Jx7BgOWm9qc6",
        "outputId": "3ec9ad66-4873-4dfc-e52c-2b6443a34fdb"
      },
      "source": [
        "redondeo = 6 / 7\n",
        "print(redondeo)\n",
        "print(round(redondeo, 2))"
      ],
      "execution_count": null,
      "outputs": [
        {
          "output_type": "stream",
          "text": [
            "0.8571428571428571\n",
            "0.86\n"
          ],
          "name": "stdout"
        }
      ]
    },
    {
      "cell_type": "code",
      "metadata": {
        "colab": {
          "base_uri": "https://localhost:8080/"
        },
        "id": "Z-teydLWCPJN",
        "outputId": "8825fe68-7c59-4afd-aa32-3b69b33c3f1d"
      },
      "source": [
        "import math\n",
        "math.sqrt(25)"
      ],
      "execution_count": null,
      "outputs": [
        {
          "output_type": "execute_result",
          "data": {
            "text/plain": [
              "5.0"
            ]
          },
          "metadata": {},
          "execution_count": 43
        }
      ]
    },
    {
      "cell_type": "code",
      "metadata": {
        "colab": {
          "base_uri": "https://localhost:8080/"
        },
        "id": "wypO0QAfCgRo",
        "outputId": "312ed824-e5a1-4ce4-bafd-958ce1ea3c0a"
      },
      "source": [
        "print(math.e)\n",
        "print(math.pi)"
      ],
      "execution_count": null,
      "outputs": [
        {
          "output_type": "stream",
          "text": [
            "2.718281828459045\n",
            "3.141592653589793\n"
          ],
          "name": "stdout"
        }
      ]
    },
    {
      "cell_type": "code",
      "metadata": {
        "colab": {
          "base_uri": "https://localhost:8080/"
        },
        "id": "Zd2B31LXFaoL",
        "outputId": "3d40043f-4cec-4334-a102-c5b627199e23"
      },
      "source": [
        "abs(-100)"
      ],
      "execution_count": null,
      "outputs": [
        {
          "output_type": "execute_result",
          "data": {
            "text/plain": [
              "100"
            ]
          },
          "metadata": {
            "tags": []
          },
          "execution_count": 11
        }
      ]
    },
    {
      "cell_type": "code",
      "metadata": {
        "colab": {
          "base_uri": "https://localhost:8080/"
        },
        "id": "mJn8X_N5Ffqu",
        "outputId": "39d44f7d-9abb-4e32-e68d-6d36c0c0234d"
      },
      "source": [
        "import math\n",
        "math.sin(10)"
      ],
      "execution_count": null,
      "outputs": [
        {
          "output_type": "execute_result",
          "data": {
            "text/plain": [
              "-0.5440211108893698"
            ]
          },
          "metadata": {
            "tags": []
          },
          "execution_count": 14
        }
      ]
    },
    {
      "cell_type": "markdown",
      "metadata": {
        "id": "Sk4Sr1J5AzlC"
      },
      "source": [
        "Combined Operations"
      ]
    },
    {
      "cell_type": "code",
      "metadata": {
        "colab": {
          "base_uri": "https://localhost:8080/"
        },
        "id": "TtJ7vSODAfPc",
        "outputId": "ebc272e5-e5a0-43da-ef42-c70535106e8b"
      },
      "source": [
        "3 + 10 * 5"
      ],
      "execution_count": null,
      "outputs": [
        {
          "output_type": "execute_result",
          "data": {
            "text/plain": [
              "53"
            ]
          },
          "metadata": {},
          "execution_count": 23
        }
      ]
    },
    {
      "cell_type": "code",
      "metadata": {
        "colab": {
          "base_uri": "https://localhost:8080/"
        },
        "id": "armbwCz6A5He",
        "outputId": "cbb49d8b-1bde-4b0d-fa07-0be2b81ad845"
      },
      "source": [
        "8 * (3 + 2)"
      ],
      "execution_count": null,
      "outputs": [
        {
          "output_type": "execute_result",
          "data": {
            "text/plain": [
              "40"
            ]
          },
          "metadata": {},
          "execution_count": 25
        }
      ]
    },
    {
      "cell_type": "markdown",
      "metadata": {
        "id": "2lFOOm5tDg9t"
      },
      "source": [
        "Relational Operators"
      ]
    },
    {
      "cell_type": "code",
      "metadata": {
        "colab": {
          "base_uri": "https://localhost:8080/"
        },
        "id": "l4PPT2PlDj0r",
        "outputId": "e14e3504-b7c7-4b66-8b51-30bd1f46a867"
      },
      "source": [
        "5 < 4"
      ],
      "execution_count": null,
      "outputs": [
        {
          "output_type": "execute_result",
          "data": {
            "text/plain": [
              "False"
            ]
          },
          "metadata": {},
          "execution_count": 64
        }
      ]
    },
    {
      "cell_type": "code",
      "metadata": {
        "colab": {
          "base_uri": "https://localhost:8080/"
        },
        "id": "bdQgetB1D1tz",
        "outputId": "82b1987d-c626-4995-90dc-b7e56135f0f1"
      },
      "source": [
        "7 > 6"
      ],
      "execution_count": null,
      "outputs": [
        {
          "output_type": "execute_result",
          "data": {
            "text/plain": [
              "True"
            ]
          },
          "metadata": {},
          "execution_count": 67
        }
      ]
    },
    {
      "cell_type": "code",
      "metadata": {
        "colab": {
          "base_uri": "https://localhost:8080/"
        },
        "id": "Xq305Hp5DsIO",
        "outputId": "d3eb588a-1da7-410a-d12e-4be3eb79f204"
      },
      "source": [
        "4 == 4"
      ],
      "execution_count": null,
      "outputs": [
        {
          "output_type": "execute_result",
          "data": {
            "text/plain": [
              "True"
            ]
          },
          "metadata": {},
          "execution_count": 65
        }
      ]
    },
    {
      "cell_type": "code",
      "metadata": {
        "colab": {
          "base_uri": "https://localhost:8080/"
        },
        "id": "QG8CyNJpD_hC",
        "outputId": "1ee7e514-efd1-4729-a408-9d8a8f8ae02e"
      },
      "source": [
        "5 != 2"
      ],
      "execution_count": null,
      "outputs": [
        {
          "output_type": "execute_result",
          "data": {
            "text/plain": [
              "True"
            ]
          },
          "metadata": {},
          "execution_count": 68
        }
      ]
    },
    {
      "cell_type": "markdown",
      "metadata": {
        "id": "rtBMSV0zFF7D"
      },
      "source": [
        "Logical Operators"
      ]
    },
    {
      "cell_type": "code",
      "metadata": {
        "colab": {
          "base_uri": "https://localhost:8080/"
        },
        "id": "yOPn3IkMFOqf",
        "outputId": "38a04940-8006-45f4-af38-1fbf1fac7cb3"
      },
      "source": [
        "numerito = 100\n",
        "if (numerito < 10 and numerito > 0):\n",
        "  print(\"Both conditions are ok\")\n",
        "else:\n",
        "  print(\"Conditions are bad\")\n",
        "\n",
        "#or   not"
      ],
      "execution_count": null,
      "outputs": [
        {
          "output_type": "stream",
          "text": [
            "Conditions are bad\n"
          ],
          "name": "stdout"
        }
      ]
    },
    {
      "cell_type": "markdown",
      "metadata": {
        "id": "ljYcJZX4FwQ6"
      },
      "source": [
        "#Variables\n",
        "Python is a language of dynamic types, it means that we dont need declaration of variables, it has explicit declaration."
      ]
    },
    {
      "cell_type": "code",
      "metadata": {
        "colab": {
          "base_uri": "https://localhost:8080/"
        },
        "id": "dKWkdgTfGCxe",
        "outputId": "c781d1ea-c12c-48bc-b142-9869d3442dc5"
      },
      "source": [
        "a = 120\n",
        "print(a)"
      ],
      "execution_count": null,
      "outputs": [
        {
          "output_type": "stream",
          "text": [
            "120\n"
          ],
          "name": "stdout"
        }
      ]
    },
    {
      "cell_type": "code",
      "metadata": {
        "colab": {
          "base_uri": "https://localhost:8080/"
        },
        "id": "MhCgosJnGGcU",
        "outputId": "2f9b88dd-5810-49f6-9f27-8ce0cc078a55"
      },
      "source": [
        "a = \"hola\"\n",
        "print(a)"
      ],
      "execution_count": null,
      "outputs": [
        {
          "output_type": "stream",
          "text": [
            "hola\n"
          ],
          "name": "stdout"
        }
      ]
    },
    {
      "cell_type": "code",
      "metadata": {
        "colab": {
          "base_uri": "https://localhost:8080/"
        },
        "id": "tyHvLwagMBmk",
        "outputId": "38a14e01-eb7a-46e5-dd89-872b8fa2bf8c"
      },
      "source": [
        "var1 = 1981\n",
        "var2 = var1 / 100\n",
        "print(var1, var2)"
      ],
      "execution_count": null,
      "outputs": [
        {
          "output_type": "stream",
          "text": [
            "1981 19.81\n"
          ],
          "name": "stdout"
        }
      ]
    },
    {
      "cell_type": "code",
      "metadata": {
        "colab": {
          "base_uri": "https://localhost:8080/"
        },
        "id": "NrOscB0OMs5u",
        "outputId": "c3ecfdae-46a6-4094-b6e1-ed66221f3913"
      },
      "source": [
        "var3 = var1 ** 2\n",
        "print(var3)"
      ],
      "execution_count": null,
      "outputs": [
        {
          "output_type": "stream",
          "text": [
            "3924361\n"
          ],
          "name": "stdout"
        }
      ]
    },
    {
      "cell_type": "markdown",
      "metadata": {
        "id": "zsbKUR56p3OF"
      },
      "source": [
        "##String"
      ]
    },
    {
      "cell_type": "code",
      "metadata": {
        "colab": {
          "base_uri": "https://localhost:8080/"
        },
        "id": "5QXx9G1Dogbh",
        "outputId": "fd696a55-f3e8-4db9-8177-9cc7a1c3fbb8"
      },
      "source": [
        "msm = \"Hi\"\n",
        "msm += \" \"\n",
        "msm += \"Rodrigo\"\n",
        "print(msm)\n",
        "\n",
        "msm1 = \"Bye\"\n",
        "msm2 = \" \"\n",
        "msm3 = \"Augusto\"\n",
        "print(msm1 + msm2 + msm3)"
      ],
      "execution_count": null,
      "outputs": [
        {
          "output_type": "stream",
          "text": [
            "Hi Rodrigo\n",
            "Bye Augusto\n"
          ],
          "name": "stdout"
        }
      ]
    },
    {
      "cell_type": "code",
      "metadata": {
        "id": "6dRKhPjSp8im",
        "colab": {
          "base_uri": "https://localhost:8080/"
        },
        "outputId": "c8969150-3544-407e-d882-2e350ac5fbb7"
      },
      "source": [
        "message = input(\"Ingrese un string: \")\n",
        "substring = input(\"Ingrese substring a buscar: \")\n",
        "buscar = message.find(substring)\n",
        "\n",
        "if message.find(substring) == -1:\n",
        "  print(\"Word wasnt found :(\")\n",
        "else:\n",
        "  print(substring, \"was found\")"
      ],
      "execution_count": null,
      "outputs": [
        {
          "output_type": "stream",
          "text": [
            "Ingrese un string: peel\n",
            "Ingrese substring a buscar: l\n",
            "l was found\n"
          ],
          "name": "stdout"
        }
      ]
    },
    {
      "cell_type": "code",
      "metadata": {
        "colab": {
          "base_uri": "https://localhost:8080/"
        },
        "id": "1Eh6LpD7uXDX",
        "outputId": "010bc06c-7227-44a1-a67a-cb93519d60df"
      },
      "source": [
        "msm = \"rodrigo calle\"\n",
        "substr = msm[2:7]\n",
        "print(substr)"
      ],
      "execution_count": null,
      "outputs": [
        {
          "output_type": "stream",
          "text": [
            "drigo\n"
          ],
          "name": "stdout"
        }
      ]
    },
    {
      "cell_type": "code",
      "metadata": {
        "colab": {
          "base_uri": "https://localhost:8080/"
        },
        "id": "FIidDL6dV6zO",
        "outputId": "5b631eac-1858-4f3b-a413-7909fb07e59e"
      },
      "source": [
        "print(\"Esto es un\", end=\" \")\n",
        "print(\"ejemplo\")"
      ],
      "execution_count": null,
      "outputs": [
        {
          "output_type": "stream",
          "text": [
            "Esto es un ejemplo\n"
          ],
          "name": "stdout"
        }
      ]
    },
    {
      "cell_type": "code",
      "metadata": {
        "colab": {
          "base_uri": "https://localhost:8080/"
        },
        "id": "0j_P-nev6JzZ",
        "outputId": "d0b44a50-577e-410b-a8d0-c80a34246db4"
      },
      "source": [
        "print(\"1\",\"2\",\"3\",\"4\",\"5\", sep=\"-\")"
      ],
      "execution_count": null,
      "outputs": [
        {
          "output_type": "stream",
          "text": [
            "1-2-3-4-5\n"
          ],
          "name": "stdout"
        }
      ]
    },
    {
      "cell_type": "markdown",
      "metadata": {
        "id": "lCsc474QNKs7"
      },
      "source": [
        "#Basic Collections"
      ]
    },
    {
      "cell_type": "markdown",
      "metadata": {
        "id": "-ADKyAswNT-g"
      },
      "source": [
        "##Tuples"
      ]
    },
    {
      "cell_type": "markdown",
      "metadata": {
        "id": "tO4ZcxOzO7R7"
      },
      "source": [
        "Tuples are immutables, we cant change the value of these ones."
      ]
    },
    {
      "cell_type": "code",
      "metadata": {
        "colab": {
          "base_uri": "https://localhost:8080/",
          "height": 282
        },
        "id": "Furx5sULNZ1x",
        "outputId": "e50e1049-9248-4ca4-f3d9-b621ac4f4fe5"
      },
      "source": [
        "t1 = (1,2,3,4,5,6,7,8,9,10)\n",
        "t2 = (10,20.3, \"Hola\", True)\n",
        "\n",
        "print(t1)\n",
        "print(t2)\n",
        "print(t1[0])\n",
        "print(t1[3])\n",
        "print(t1[9])\n",
        "t1[0] = 100"
      ],
      "execution_count": null,
      "outputs": [
        {
          "output_type": "stream",
          "text": [
            "(1, 2, 3, 4, 5, 6, 7, 8, 9, 10)\n",
            "(10, 20.3, 'Hola', True)\n",
            "1\n",
            "4\n",
            "10\n"
          ],
          "name": "stdout"
        },
        {
          "output_type": "error",
          "ename": "TypeError",
          "evalue": "ignored",
          "traceback": [
            "\u001b[0;31m---------------------------------------------------------------------------\u001b[0m",
            "\u001b[0;31mTypeError\u001b[0m                                 Traceback (most recent call last)",
            "\u001b[0;32m<ipython-input-59-6ff541ec63ef>\u001b[0m in \u001b[0;36m<module>\u001b[0;34m()\u001b[0m\n\u001b[1;32m      7\u001b[0m \u001b[0mprint\u001b[0m\u001b[0;34m(\u001b[0m\u001b[0mt1\u001b[0m\u001b[0;34m[\u001b[0m\u001b[0;36m3\u001b[0m\u001b[0;34m]\u001b[0m\u001b[0;34m)\u001b[0m\u001b[0;34m\u001b[0m\u001b[0;34m\u001b[0m\u001b[0m\n\u001b[1;32m      8\u001b[0m \u001b[0mprint\u001b[0m\u001b[0;34m(\u001b[0m\u001b[0mt1\u001b[0m\u001b[0;34m[\u001b[0m\u001b[0;36m9\u001b[0m\u001b[0;34m]\u001b[0m\u001b[0;34m)\u001b[0m\u001b[0;34m\u001b[0m\u001b[0;34m\u001b[0m\u001b[0m\n\u001b[0;32m----> 9\u001b[0;31m \u001b[0mt1\u001b[0m\u001b[0;34m[\u001b[0m\u001b[0;36m0\u001b[0m\u001b[0;34m]\u001b[0m \u001b[0;34m=\u001b[0m \u001b[0;36m100\u001b[0m\u001b[0;34m\u001b[0m\u001b[0;34m\u001b[0m\u001b[0m\n\u001b[0m",
            "\u001b[0;31mTypeError\u001b[0m: 'tuple' object does not support item assignment"
          ]
        }
      ]
    },
    {
      "cell_type": "code",
      "metadata": {
        "colab": {
          "base_uri": "https://localhost:8080/"
        },
        "id": "0gVNtWjpTZ05",
        "outputId": "4e8ad47b-a464-411b-d33a-405ffdff8cb2"
      },
      "source": [
        "print(t1[3:6])  # Show data from 3 to 5\n",
        "print(t1[0:6])  # Show data from 0 to 5\n",
        "print(t1[:6])   # Show data from init to 5\n",
        "print(t1[3:10]) # Show data from 3 to 9\n",
        "print(t1[3:])   # Show data from 3 to finish\n",
        "print(t1[:])    # Show all data\n",
        "print(t1)       # Show all data"
      ],
      "execution_count": null,
      "outputs": [
        {
          "output_type": "stream",
          "text": [
            "(4, 5, 6)\n",
            "(1, 2, 3, 4, 5, 6)\n",
            "(1, 2, 3, 4, 5, 6)\n",
            "(4, 5, 6, 7, 8, 9, 10)\n",
            "(4, 5, 6, 7, 8, 9, 10)\n",
            "(1, 2, 3, 4, 5, 6, 7, 8, 9, 10)\n",
            "(1, 2, 3, 4, 5, 6, 7, 8, 9, 10)\n"
          ],
          "name": "stdout"
        }
      ]
    },
    {
      "cell_type": "markdown",
      "metadata": {
        "id": "GSX7KXVlUdIt"
      },
      "source": [
        "##Lists"
      ]
    },
    {
      "cell_type": "code",
      "metadata": {
        "colab": {
          "base_uri": "https://localhost:8080/"
        },
        "id": "I9V1J8zxUe1H",
        "outputId": "48cef99f-c1e7-4382-970a-37df90ce4e16"
      },
      "source": [
        "l1 = [1, 2, 3, 4, 5, 6, 7, 8, 9, 10]\n",
        "l2 = [100, 3.1416, \"pi\", False, None]\n",
        "print(l1)\n",
        "print(l2)\n",
        "l1[3] = 100\n",
        "print(\"Changing third index\", l1)"
      ],
      "execution_count": null,
      "outputs": [
        {
          "output_type": "stream",
          "text": [
            "[1, 2, 3, 4, 5, 6, 7, 8, 9, 10]\n",
            "[100, 3.1416, 'pi', False, None]\n",
            "Changing third index [1, 2, 3, 100, 5, 6, 7, 8, 9, 10]\n"
          ],
          "name": "stdout"
        }
      ]
    },
    {
      "cell_type": "markdown",
      "metadata": {
        "id": "5kra3xFkVJti"
      },
      "source": [
        "Add a element to the end of a list"
      ]
    },
    {
      "cell_type": "code",
      "metadata": {
        "colab": {
          "base_uri": "https://localhost:8080/"
        },
        "id": "QmI2lS5jVFnk",
        "outputId": "60fc1af7-9fec-4ad7-e5ed-bb119cc284b3"
      },
      "source": [
        "l1.append(150)\n",
        "print(l1)"
      ],
      "execution_count": null,
      "outputs": [
        {
          "output_type": "stream",
          "text": [
            "[1, 2, 3, 100, 5, 6, 7, 8, 9, 10, 150]\n"
          ],
          "name": "stdout"
        }
      ]
    },
    {
      "cell_type": "markdown",
      "metadata": {
        "id": "ZASQ1wV5VY49"
      },
      "source": [
        "Get the number of items in a container."
      ]
    },
    {
      "cell_type": "code",
      "metadata": {
        "colab": {
          "base_uri": "https://localhost:8080/"
        },
        "id": "UojKtm-zVXJJ",
        "outputId": "d4c60657-5b8b-4fd3-975f-75ebaa67a5f8"
      },
      "source": [
        "len(l1)"
      ],
      "execution_count": null,
      "outputs": [
        {
          "output_type": "execute_result",
          "data": {
            "text/plain": [
              "11"
            ]
          },
          "metadata": {},
          "execution_count": 4
        }
      ]
    },
    {
      "cell_type": "markdown",
      "metadata": {
        "id": "KPyLBPGzV87E"
      },
      "source": [
        "Delete an item of the list by index."
      ]
    },
    {
      "cell_type": "code",
      "metadata": {
        "colab": {
          "base_uri": "https://localhost:8080/"
        },
        "id": "pa3TexviV9SM",
        "outputId": "da493f62-4a99-405a-d056-f37d0e946b4b"
      },
      "source": [
        "del l1[10]\n",
        "print(l1, len(l1))"
      ],
      "execution_count": null,
      "outputs": [
        {
          "output_type": "stream",
          "text": [
            "[1, 2, 3, 100, 5, 6, 7, 8, 9, 10] 10\n"
          ],
          "name": "stdout"
        }
      ]
    },
    {
      "cell_type": "markdown",
      "metadata": {
        "id": "2hPyQIWaWkVa"
      },
      "source": [
        "Remove a value from the list. Only the first occurrence."
      ]
    },
    {
      "cell_type": "code",
      "metadata": {
        "colab": {
          "base_uri": "https://localhost:8080/"
        },
        "id": "RYhN63ojWvV0",
        "outputId": "566137b4-bf54-42d7-e5d1-60ef00484dcb"
      },
      "source": [
        "l1.remove(8)\n",
        "print(l1, len(l1))"
      ],
      "execution_count": null,
      "outputs": [
        {
          "output_type": "stream",
          "text": [
            "[1, 2, 3, 100, 5, 6, 7, 9, 10] 9\n"
          ],
          "name": "stdout"
        }
      ]
    },
    {
      "cell_type": "markdown",
      "metadata": {
        "id": "PeZu_49oXSQm"
      },
      "source": [
        "##Sets (Conjuntos)"
      ]
    },
    {
      "cell_type": "markdown",
      "metadata": {
        "id": "8fSrnbIHYbLS"
      },
      "source": [
        "Sets doesnt allow duplicate elements, and we cant access by position or index."
      ]
    },
    {
      "cell_type": "code",
      "metadata": {
        "colab": {
          "base_uri": "https://localhost:8080/",
          "height": 231
        },
        "id": "giF4T1XqXV-2",
        "outputId": "b8847f95-d1d3-4582-cdcd-d6eda96ddb75"
      },
      "source": [
        "s1 = {1, 2, 3, 4, 5, 6, 7, 8, 9, 10,10}\n",
        "s2 = {100, 3.1416, \"pi\", False, None}\n",
        "print(s1)\n",
        "print(s2)\n",
        "print(s1[4])"
      ],
      "execution_count": null,
      "outputs": [
        {
          "output_type": "stream",
          "text": [
            "{1, 2, 3, 4, 5, 6, 7, 8, 9, 10}\n",
            "{False, 3.1416, 100, 'pi', None}\n"
          ],
          "name": "stdout"
        },
        {
          "output_type": "error",
          "ename": "TypeError",
          "evalue": "ignored",
          "traceback": [
            "\u001b[0;31m---------------------------------------------------------------------------\u001b[0m",
            "\u001b[0;31mTypeError\u001b[0m                                 Traceback (most recent call last)",
            "\u001b[0;32m<ipython-input-7-cd3a48b63051>\u001b[0m in \u001b[0;36m<module>\u001b[0;34m()\u001b[0m\n\u001b[1;32m      3\u001b[0m \u001b[0mprint\u001b[0m\u001b[0;34m(\u001b[0m\u001b[0ms1\u001b[0m\u001b[0;34m)\u001b[0m\u001b[0;34m\u001b[0m\u001b[0;34m\u001b[0m\u001b[0m\n\u001b[1;32m      4\u001b[0m \u001b[0mprint\u001b[0m\u001b[0;34m(\u001b[0m\u001b[0ms2\u001b[0m\u001b[0;34m)\u001b[0m\u001b[0;34m\u001b[0m\u001b[0;34m\u001b[0m\u001b[0m\n\u001b[0;32m----> 5\u001b[0;31m \u001b[0mprint\u001b[0m\u001b[0;34m(\u001b[0m\u001b[0ms1\u001b[0m\u001b[0;34m[\u001b[0m\u001b[0;36m4\u001b[0m\u001b[0;34m]\u001b[0m\u001b[0;34m)\u001b[0m\u001b[0;34m\u001b[0m\u001b[0;34m\u001b[0m\u001b[0m\n\u001b[0m",
            "\u001b[0;31mTypeError\u001b[0m: 'set' object is not subscriptable"
          ]
        }
      ]
    },
    {
      "cell_type": "markdown",
      "metadata": {
        "id": "cQV7MVjVZPWq"
      },
      "source": [
        "Adding elements to a set, when we add elements then order by themselfs."
      ]
    },
    {
      "cell_type": "code",
      "metadata": {
        "colab": {
          "base_uri": "https://localhost:8080/"
        },
        "id": "6MVecB7fY8H1",
        "outputId": "018e5ad3-9120-489e-9ceb-60d32fc34015"
      },
      "source": [
        "s1.add(6)\n",
        "s1.add(300)\n",
        "s1.add(9)\n",
        "s1.add(100)\n",
        "s1.add(0)\n",
        "print(s1, len(s1))"
      ],
      "execution_count": null,
      "outputs": [
        {
          "output_type": "stream",
          "text": [
            "{0, 1, 2, 3, 4, 5, 6, 7, 8, 9, 10, 100, 300} 13\n"
          ],
          "name": "stdout"
        }
      ]
    },
    {
      "cell_type": "markdown",
      "metadata": {
        "id": "Hx-9gbJeZe-h"
      },
      "source": [
        "Remove elements of a set"
      ]
    },
    {
      "cell_type": "code",
      "metadata": {
        "colab": {
          "base_uri": "https://localhost:8080/"
        },
        "id": "GWRxG6PJZhvz",
        "outputId": "679c5baf-c445-45e3-f942-7d4e105a6bec"
      },
      "source": [
        "s1.remove(100)\n",
        "print(s1)"
      ],
      "execution_count": null,
      "outputs": [
        {
          "output_type": "stream",
          "text": [
            "{0, 1, 2, 3, 4, 5, 6, 7, 8, 9, 10, 300}\n"
          ],
          "name": "stdout"
        }
      ]
    },
    {
      "cell_type": "markdown",
      "metadata": {
        "id": "y5I1t3UcZ_GU"
      },
      "source": [
        "Casting a set to list"
      ]
    },
    {
      "cell_type": "code",
      "metadata": {
        "colab": {
          "base_uri": "https://localhost:8080/"
        },
        "id": "53GZIRwuaCWU",
        "outputId": "0cfc8e48-d531-4217-b35b-949e3e30bc4f"
      },
      "source": [
        "print(list(s1))"
      ],
      "execution_count": null,
      "outputs": [
        {
          "output_type": "stream",
          "text": [
            "[0, 1, 2, 3, 4, 5, 6, 7, 8, 9, 10, 300]\n"
          ],
          "name": "stdout"
        }
      ]
    },
    {
      "cell_type": "markdown",
      "metadata": {
        "id": "0hARi4lWaHRi"
      },
      "source": [
        "#Dictionaries"
      ]
    },
    {
      "cell_type": "code",
      "metadata": {
        "colab": {
          "base_uri": "https://localhost:8080/"
        },
        "id": "Sn0G8Pl8aaxD",
        "outputId": "f953c40c-95c1-496f-c01d-43641236d27e"
      },
      "source": [
        "d1 = {\"clave\": \"valor\", \"nombre\": \"Luis Canaval\"}\n",
        "print(d1)"
      ],
      "execution_count": null,
      "outputs": [
        {
          "output_type": "stream",
          "text": [
            "{'clave': 'valor', 'nombre': 'Luis Canaval'}\n"
          ],
          "name": "stdout"
        }
      ]
    },
    {
      "cell_type": "code",
      "metadata": {
        "colab": {
          "base_uri": "https://localhost:8080/",
          "height": 35
        },
        "id": "8GGCr1yOloNH",
        "outputId": "415978e4-26b8-4073-81f1-29e8ced1cf55"
      },
      "source": [
        "d1[\"nombre\"]"
      ],
      "execution_count": null,
      "outputs": [
        {
          "output_type": "execute_result",
          "data": {
            "application/vnd.google.colaboratory.intrinsic+json": {
              "type": "string"
            },
            "text/plain": [
              "'Luis Canaval'"
            ]
          },
          "metadata": {},
          "execution_count": 11
        }
      ]
    },
    {
      "cell_type": "code",
      "metadata": {
        "id": "9BV0_ZASltnO",
        "colab": {
          "base_uri": "https://localhost:8080/"
        },
        "outputId": "6b9ce34d-e158-43eb-d43d-46c9b45968d7"
      },
      "source": [
        "d1[\"pais\"] = \"Perú\"\n",
        "print(d1)"
      ],
      "execution_count": null,
      "outputs": [
        {
          "output_type": "stream",
          "text": [
            "{'clave': 'valor', 'nombre': 'Luis Canaval', 'pais': 'Perú'}\n"
          ],
          "name": "stdout"
        }
      ]
    },
    {
      "cell_type": "markdown",
      "metadata": {
        "id": "NzWS3g6iHDuN"
      },
      "source": [
        "#Conditionals Structures"
      ]
    },
    {
      "cell_type": "code",
      "metadata": {
        "colab": {
          "base_uri": "https://localhost:8080/"
        },
        "id": "RQrDZp-abHPf",
        "outputId": "2c20d580-6796-4dfa-c530-1bb86d3fefae"
      },
      "source": [
        "a = 1\n",
        "if a < 2:\n",
        "    print(a , \"es menor que 2\")\n",
        "    print(\":)\")\n",
        "print(\"Salimos!\")"
      ],
      "execution_count": null,
      "outputs": [
        {
          "output_type": "stream",
          "text": [
            "1 es menor que 2\n",
            ":)\n",
            "Salimos!\n"
          ],
          "name": "stdout"
        }
      ]
    },
    {
      "cell_type": "code",
      "metadata": {
        "colab": {
          "base_uri": "https://localhost:8080/"
        },
        "id": "fWe0wzXpGY0U",
        "outputId": "f9df38ee-3098-405f-83f7-7ea744f16188"
      },
      "source": [
        "a = input(\"Enter a word:\")\n",
        "if a ==\"hola\":\n",
        "  print(a, \"mundo\")\n",
        "print(\"The word is: \", a)"
      ],
      "execution_count": null,
      "outputs": [
        {
          "output_type": "stream",
          "text": [
            "Enter a word:hola\n",
            "hola mundo\n",
            "The word is:  hola\n"
          ],
          "name": "stdout"
        }
      ]
    },
    {
      "cell_type": "code",
      "metadata": {
        "colab": {
          "base_uri": "https://localhost:8080/"
        },
        "id": "uSk6ECndcdy9",
        "outputId": "eda03c97-2f0b-4df7-b7ea-6b759f06e2e3"
      },
      "source": [
        "a = 10\n",
        "if a < 2:\n",
        "    print(\"menor que 2\")\n",
        "    print(\":)\")\n",
        "elif a < 4:\n",
        "    print(\"menor que 4\")\n",
        "    print(\":|\")\n",
        "elif a < 6:\n",
        "    print(\"menor que 6\")\n",
        "    print(\":O\")\n",
        "else:\n",
        "    print(\"No esperaba esto\")\n",
        "    print(\":(\")\n",
        "\n",
        "print(\"Salimos!\")"
      ],
      "execution_count": null,
      "outputs": [
        {
          "output_type": "stream",
          "text": [
            "No esperaba esto\n",
            ":(\n",
            "Salimos!\n"
          ],
          "name": "stdout"
        }
      ]
    },
    {
      "cell_type": "markdown",
      "metadata": {
        "id": "BsFM6GswcxN5"
      },
      "source": [
        "#Repetitive structures"
      ]
    },
    {
      "cell_type": "code",
      "metadata": {
        "colab": {
          "base_uri": "https://localhost:8080/"
        },
        "id": "yp4XyQIlc-Vo",
        "outputId": "82dbc7cd-2b06-49f4-d351-a36e7242a52b"
      },
      "source": [
        "n = 5\n",
        "while n > 0:\n",
        "  print(n)\n",
        "  n-=1\n",
        "print(\"Fin del While\")"
      ],
      "execution_count": null,
      "outputs": [
        {
          "output_type": "stream",
          "text": [
            "5\n",
            "4\n",
            "3\n",
            "2\n",
            "1\n",
            "Fin del While\n"
          ],
          "name": "stdout"
        }
      ]
    },
    {
      "cell_type": "code",
      "metadata": {
        "colab": {
          "base_uri": "https://localhost:8080/"
        },
        "id": "FmZjNun6dehS",
        "outputId": "6b2f6008-2921-42fd-8cb9-015bf25def44"
      },
      "source": [
        "for i in range(10):\n",
        "  print(i)"
      ],
      "execution_count": null,
      "outputs": [
        {
          "output_type": "stream",
          "text": [
            "0\n",
            "1\n",
            "2\n",
            "3\n",
            "4\n",
            "5\n",
            "6\n",
            "7\n",
            "8\n",
            "9\n"
          ],
          "name": "stdout"
        }
      ]
    },
    {
      "cell_type": "code",
      "metadata": {
        "colab": {
          "base_uri": "https://localhost:8080/"
        },
        "id": "FhFTAhFudqsH",
        "outputId": "30d2eefd-900a-473b-db64-bbc2e1da1cea"
      },
      "source": [
        "for i in range(5,10):\n",
        "  print(i)"
      ],
      "execution_count": null,
      "outputs": [
        {
          "output_type": "stream",
          "text": [
            "5\n",
            "6\n",
            "7\n",
            "8\n",
            "9\n"
          ],
          "name": "stdout"
        }
      ]
    },
    {
      "cell_type": "code",
      "metadata": {
        "colab": {
          "base_uri": "https://localhost:8080/"
        },
        "id": "ZelfOqp4dzAC",
        "outputId": "616323ff-223d-4054-a72e-acd71c401031"
      },
      "source": [
        "for i in range (6, 1000, 200):\n",
        "  print(i)"
      ],
      "execution_count": null,
      "outputs": [
        {
          "output_type": "stream",
          "text": [
            "6\n",
            "206\n",
            "406\n",
            "606\n",
            "806\n"
          ],
          "name": "stdout"
        }
      ]
    },
    {
      "cell_type": "code",
      "metadata": {
        "colab": {
          "base_uri": "https://localhost:8080/"
        },
        "id": "n-y6nA15eKQ9",
        "outputId": "eeb68724-2acd-4df1-d836-e60feda62dee"
      },
      "source": [
        "for i in range(10, 0, -3):\n",
        "  print(i)"
      ],
      "execution_count": null,
      "outputs": [
        {
          "output_type": "stream",
          "text": [
            "10\n",
            "7\n",
            "4\n",
            "1\n"
          ],
          "name": "stdout"
        }
      ]
    },
    {
      "cell_type": "code",
      "metadata": {
        "colab": {
          "base_uri": "https://localhost:8080/"
        },
        "id": "vDbZoLoIehje",
        "outputId": "e9a13c1a-28db-41fc-90a6-058ac21fc2c6"
      },
      "source": [
        "for i in l1:\n",
        "  print(i)"
      ],
      "execution_count": null,
      "outputs": [
        {
          "output_type": "stream",
          "text": [
            "1\n",
            "2\n",
            "3\n",
            "100\n",
            "5\n",
            "6\n",
            "7\n",
            "8\n",
            "9\n",
            "10\n",
            "150\n"
          ],
          "name": "stdout"
        }
      ]
    },
    {
      "cell_type": "code",
      "metadata": {
        "colab": {
          "base_uri": "https://localhost:8080/"
        },
        "id": "34Tnoei-e-4g",
        "outputId": "03ee8060-cfee-4557-bed0-c9a52688abf9"
      },
      "source": [
        "for i in reversed(l1):\n",
        "  print(i)"
      ],
      "execution_count": null,
      "outputs": [
        {
          "output_type": "stream",
          "text": [
            "150\n",
            "10\n",
            "9\n",
            "8\n",
            "7\n",
            "6\n",
            "5\n",
            "100\n",
            "3\n",
            "2\n",
            "1\n"
          ],
          "name": "stdout"
        }
      ]
    },
    {
      "cell_type": "code",
      "metadata": {
        "colab": {
          "base_uri": "https://localhost:8080/"
        },
        "id": "BXaCPpLhfXDr",
        "outputId": "5c1d805e-ffa4-4c76-855d-f0fbe250f127"
      },
      "source": [
        "for i in \"Python is the best\":\n",
        "  print(i)"
      ],
      "execution_count": null,
      "outputs": [
        {
          "output_type": "stream",
          "text": [
            "P\n",
            "y\n",
            "t\n",
            "h\n",
            "o\n",
            "n\n",
            " \n",
            "i\n",
            "s\n",
            " \n",
            "t\n",
            "h\n",
            "e\n",
            " \n",
            "b\n",
            "e\n",
            "s\n",
            "t\n"
          ],
          "name": "stdout"
        }
      ]
    },
    {
      "cell_type": "code",
      "metadata": {
        "colab": {
          "base_uri": "https://localhost:8080/"
        },
        "id": "XN6aCgQhfzsX",
        "outputId": "67ab7780-9dfa-420d-a4ca-c774c1e3c7a5"
      },
      "source": [
        "m = []\n",
        "for i in range(4):\n",
        "    m.append([])\n",
        "    for j in range(5):\n",
        "        m[i].append(i * j + 1)\n",
        "\n",
        "print(m)"
      ],
      "execution_count": null,
      "outputs": [
        {
          "output_type": "stream",
          "text": [
            "[[1, 1, 1, 1, 1], [1, 2, 3, 4, 5], [1, 3, 5, 7, 9], [1, 4, 7, 10, 13]]\n"
          ],
          "name": "stdout"
        }
      ]
    },
    {
      "cell_type": "code",
      "metadata": {
        "colab": {
          "base_uri": "https://localhost:8080/"
        },
        "id": "n5YdjiVXgbqd",
        "outputId": "71ae23a5-7398-4fb0-da88-571dc75cf80b"
      },
      "source": [
        "for l in m:\n",
        "    print(l)"
      ],
      "execution_count": null,
      "outputs": [
        {
          "output_type": "stream",
          "text": [
            "[1, 1, 1, 1, 1]\n",
            "[1, 2, 3, 4, 5]\n",
            "[1, 3, 5, 7, 9]\n",
            "[1, 4, 7, 10, 13]\n"
          ],
          "name": "stdout"
        }
      ]
    },
    {
      "cell_type": "code",
      "metadata": {
        "colab": {
          "base_uri": "https://localhost:8080/"
        },
        "id": "cmgUTwXagz0p",
        "outputId": "e08562d7-4580-423f-a079-7205a45ff85f"
      },
      "source": [
        "m2 = [[i * j + 1 for j in range(5)] for i in range(4)]\n",
        "for l in m2:\n",
        "    print(l)"
      ],
      "execution_count": null,
      "outputs": [
        {
          "output_type": "stream",
          "text": [
            "[1, 1, 1, 1, 1]\n",
            "[1, 2, 3, 4, 5]\n",
            "[1, 3, 5, 7, 9]\n",
            "[1, 4, 7, 10, 13]\n"
          ],
          "name": "stdout"
        }
      ]
    },
    {
      "cell_type": "code",
      "metadata": {
        "colab": {
          "base_uri": "https://localhost:8080/"
        },
        "id": "BiYTJh4Ig1H8",
        "outputId": "9bb063c6-e698-4ff4-9671-bb59e74aa5e1"
      },
      "source": [
        "[i for i in range(5)]"
      ],
      "execution_count": null,
      "outputs": [
        {
          "output_type": "execute_result",
          "data": {
            "text/plain": [
              "[0, 1, 2, 3, 4]"
            ]
          },
          "metadata": {},
          "execution_count": 126
        }
      ]
    },
    {
      "cell_type": "code",
      "metadata": {
        "colab": {
          "base_uri": "https://localhost:8080/"
        },
        "id": "LwSOKlA7hOpR",
        "outputId": "08b87b40-a16f-487f-d6ee-e71e5987870b"
      },
      "source": [
        "[i + 1 for i in range(5)]"
      ],
      "execution_count": null,
      "outputs": [
        {
          "output_type": "execute_result",
          "data": {
            "text/plain": [
              "[1, 2, 3, 4, 5]"
            ]
          },
          "metadata": {},
          "execution_count": 127
        }
      ]
    },
    {
      "cell_type": "code",
      "metadata": {
        "colab": {
          "base_uri": "https://localhost:8080/"
        },
        "id": "Go_2rxwvhQZf",
        "outputId": "f9aba053-3b74-4abe-ce64-427ddfc97d4d"
      },
      "source": [
        "[[i] for i in range(5)]"
      ],
      "execution_count": null,
      "outputs": [
        {
          "output_type": "execute_result",
          "data": {
            "text/plain": [
              "[[0], [1], [2], [3], [4]]"
            ]
          },
          "metadata": {},
          "execution_count": 128
        }
      ]
    },
    {
      "cell_type": "code",
      "metadata": {
        "colab": {
          "base_uri": "https://localhost:8080/"
        },
        "id": "JGiNPvYGhSnh",
        "outputId": "0dfc3235-c4a3-4105-90a4-71e6d9e6c114"
      },
      "source": [
        "[[i*j for j in range(4)] for i in range(3)]"
      ],
      "execution_count": null,
      "outputs": [
        {
          "output_type": "execute_result",
          "data": {
            "text/plain": [
              "[[0, 0, 0, 0], [0, 1, 2, 3], [0, 2, 4, 6]]"
            ]
          },
          "metadata": {},
          "execution_count": 129
        }
      ]
    },
    {
      "cell_type": "markdown",
      "metadata": {
        "id": "55M2MRzoEgRW"
      },
      "source": [
        "#Ejercicio 1"
      ]
    },
    {
      "cell_type": "code",
      "metadata": {
        "colab": {
          "base_uri": "https://localhost:8080/",
          "height": 612
        },
        "id": "UQje61e9EeRG",
        "outputId": "195be80a-7032-4f4e-f57e-f65bae37d516"
      },
      "source": [
        "print(\"**************************\")\n",
        "print(\"* Programa de vacaciones *\")\n",
        "print(\"**************************\")\n",
        "\n",
        "nombre = input(\"Ingrese nombre: \")\n",
        "clave = int(input(\"Ingrese clave de dpto: \"))\n",
        "years = float(input(\"Ingrese antiguedad en años: \"))\n",
        "\n",
        "if (clave == 1):\n",
        "  if (years >= 1 and years < 2):\n",
        "    vacations = 6\n",
        "  elif (years >=2 and years <=6):\n",
        "    vacations = 14\n",
        "  elif (years >= 7):\n",
        "    vacations = 20\n",
        "elif (clave == 2):\n",
        "  if (years >= 1 and years < 2):\n",
        "    vacations = 7\n",
        "  elif (years >=2 and years <=6):\n",
        "    vacations = 15\n",
        "  elif (years >= 7):\n",
        "    vacations = 22\n",
        "elif (clave == 3):\n",
        "  if (years >= 1 and years < 2):\n",
        "    vacations = 10\n",
        "  elif (years >=2 and years <=6):\n",
        "    vacations = 20\n",
        "  elif (years >= 7):\n",
        "    vacations = 30  \n",
        "\n",
        "if (clave >=1 and clave <=3):\n",
        "  if (years >= 1):\n",
        "    print(nombre)\n",
        "    print(\"Dias de vacaciones: \", vacations)\n",
        "  else:\n",
        "     print(\"Cantidad de años incorrecta\")\n",
        "else:\n",
        "  print(\"Clave de departamento no existe\")"
      ],
      "execution_count": null,
      "outputs": [
        {
          "metadata": {
            "tags": null
          },
          "name": "stdout",
          "output_type": "stream",
          "text": [
            "**************************\n",
            "* Programa de vacaciones *\n",
            "**************************\n"
          ]
        },
        {
          "output_type": "error",
          "ename": "KeyboardInterrupt",
          "evalue": "ignored",
          "traceback": [
            "\u001b[0;31m---------------------------------------------------------------------------\u001b[0m",
            "\u001b[0;31mKeyboardInterrupt\u001b[0m                         Traceback (most recent call last)",
            "\u001b[0;32m/usr/local/lib/python3.7/dist-packages/ipykernel/kernelbase.py\u001b[0m in \u001b[0;36m_input_request\u001b[0;34m(self, prompt, ident, parent, password)\u001b[0m\n\u001b[1;32m    728\u001b[0m             \u001b[0;32mtry\u001b[0m\u001b[0;34m:\u001b[0m\u001b[0;34m\u001b[0m\u001b[0;34m\u001b[0m\u001b[0m\n\u001b[0;32m--> 729\u001b[0;31m                 \u001b[0mident\u001b[0m\u001b[0;34m,\u001b[0m \u001b[0mreply\u001b[0m \u001b[0;34m=\u001b[0m \u001b[0mself\u001b[0m\u001b[0;34m.\u001b[0m\u001b[0msession\u001b[0m\u001b[0;34m.\u001b[0m\u001b[0mrecv\u001b[0m\u001b[0;34m(\u001b[0m\u001b[0mself\u001b[0m\u001b[0;34m.\u001b[0m\u001b[0mstdin_socket\u001b[0m\u001b[0;34m,\u001b[0m \u001b[0;36m0\u001b[0m\u001b[0;34m)\u001b[0m\u001b[0;34m\u001b[0m\u001b[0;34m\u001b[0m\u001b[0m\n\u001b[0m\u001b[1;32m    730\u001b[0m             \u001b[0;32mexcept\u001b[0m \u001b[0mException\u001b[0m\u001b[0;34m:\u001b[0m\u001b[0;34m\u001b[0m\u001b[0;34m\u001b[0m\u001b[0m\n",
            "\u001b[0;32m/usr/local/lib/python3.7/dist-packages/jupyter_client/session.py\u001b[0m in \u001b[0;36mrecv\u001b[0;34m(self, socket, mode, content, copy)\u001b[0m\n\u001b[1;32m    802\u001b[0m         \u001b[0;32mtry\u001b[0m\u001b[0;34m:\u001b[0m\u001b[0;34m\u001b[0m\u001b[0;34m\u001b[0m\u001b[0m\n\u001b[0;32m--> 803\u001b[0;31m             \u001b[0mmsg_list\u001b[0m \u001b[0;34m=\u001b[0m \u001b[0msocket\u001b[0m\u001b[0;34m.\u001b[0m\u001b[0mrecv_multipart\u001b[0m\u001b[0;34m(\u001b[0m\u001b[0mmode\u001b[0m\u001b[0;34m,\u001b[0m \u001b[0mcopy\u001b[0m\u001b[0;34m=\u001b[0m\u001b[0mcopy\u001b[0m\u001b[0;34m)\u001b[0m\u001b[0;34m\u001b[0m\u001b[0;34m\u001b[0m\u001b[0m\n\u001b[0m\u001b[1;32m    804\u001b[0m         \u001b[0;32mexcept\u001b[0m \u001b[0mzmq\u001b[0m\u001b[0;34m.\u001b[0m\u001b[0mZMQError\u001b[0m \u001b[0;32mas\u001b[0m \u001b[0me\u001b[0m\u001b[0;34m:\u001b[0m\u001b[0;34m\u001b[0m\u001b[0;34m\u001b[0m\u001b[0m\n",
            "\u001b[0;32m/usr/local/lib/python3.7/dist-packages/zmq/sugar/socket.py\u001b[0m in \u001b[0;36mrecv_multipart\u001b[0;34m(self, flags, copy, track)\u001b[0m\n\u001b[1;32m    618\u001b[0m         \"\"\"\n\u001b[0;32m--> 619\u001b[0;31m         \u001b[0mparts\u001b[0m \u001b[0;34m=\u001b[0m \u001b[0;34m[\u001b[0m\u001b[0mself\u001b[0m\u001b[0;34m.\u001b[0m\u001b[0mrecv\u001b[0m\u001b[0;34m(\u001b[0m\u001b[0mflags\u001b[0m\u001b[0;34m,\u001b[0m \u001b[0mcopy\u001b[0m\u001b[0;34m=\u001b[0m\u001b[0mcopy\u001b[0m\u001b[0;34m,\u001b[0m \u001b[0mtrack\u001b[0m\u001b[0;34m=\u001b[0m\u001b[0mtrack\u001b[0m\u001b[0;34m)\u001b[0m\u001b[0;34m]\u001b[0m\u001b[0;34m\u001b[0m\u001b[0;34m\u001b[0m\u001b[0m\n\u001b[0m\u001b[1;32m    620\u001b[0m         \u001b[0;31m# have first part already, only loop while more to receive\u001b[0m\u001b[0;34m\u001b[0m\u001b[0;34m\u001b[0m\u001b[0;34m\u001b[0m\u001b[0m\n",
            "\u001b[0;32mzmq/backend/cython/socket.pyx\u001b[0m in \u001b[0;36mzmq.backend.cython.socket.Socket.recv\u001b[0;34m()\u001b[0m\n",
            "\u001b[0;32mzmq/backend/cython/socket.pyx\u001b[0m in \u001b[0;36mzmq.backend.cython.socket.Socket.recv\u001b[0;34m()\u001b[0m\n",
            "\u001b[0;32mzmq/backend/cython/socket.pyx\u001b[0m in \u001b[0;36mzmq.backend.cython.socket._recv_copy\u001b[0;34m()\u001b[0m\n",
            "\u001b[0;32m/usr/local/lib/python3.7/dist-packages/zmq/backend/cython/checkrc.pxd\u001b[0m in \u001b[0;36mzmq.backend.cython.checkrc._check_rc\u001b[0;34m()\u001b[0m\n",
            "\u001b[0;31mKeyboardInterrupt\u001b[0m: ",
            "\nDuring handling of the above exception, another exception occurred:\n",
            "\u001b[0;31mKeyboardInterrupt\u001b[0m                         Traceback (most recent call last)",
            "\u001b[0;32m<ipython-input-25-4d6f4f98ebf3>\u001b[0m in \u001b[0;36m<module>\u001b[0;34m()\u001b[0m\n\u001b[1;32m      3\u001b[0m \u001b[0mprint\u001b[0m\u001b[0;34m(\u001b[0m\u001b[0;34m\"**************************\"\u001b[0m\u001b[0;34m)\u001b[0m\u001b[0;34m\u001b[0m\u001b[0;34m\u001b[0m\u001b[0m\n\u001b[1;32m      4\u001b[0m \u001b[0;34m\u001b[0m\u001b[0m\n\u001b[0;32m----> 5\u001b[0;31m \u001b[0mnombre\u001b[0m \u001b[0;34m=\u001b[0m \u001b[0minput\u001b[0m\u001b[0;34m(\u001b[0m\u001b[0;34m\"Ingrese nombre: \"\u001b[0m\u001b[0;34m)\u001b[0m\u001b[0;34m\u001b[0m\u001b[0;34m\u001b[0m\u001b[0m\n\u001b[0m\u001b[1;32m      6\u001b[0m \u001b[0mclave\u001b[0m \u001b[0;34m=\u001b[0m \u001b[0mint\u001b[0m\u001b[0;34m(\u001b[0m\u001b[0minput\u001b[0m\u001b[0;34m(\u001b[0m\u001b[0;34m\"Ingrese clave de dpto: \"\u001b[0m\u001b[0;34m)\u001b[0m\u001b[0;34m)\u001b[0m\u001b[0;34m\u001b[0m\u001b[0;34m\u001b[0m\u001b[0m\n\u001b[1;32m      7\u001b[0m \u001b[0myears\u001b[0m \u001b[0;34m=\u001b[0m \u001b[0mfloat\u001b[0m\u001b[0;34m(\u001b[0m\u001b[0minput\u001b[0m\u001b[0;34m(\u001b[0m\u001b[0;34m\"Ingrese antiguedad en años: \"\u001b[0m\u001b[0;34m)\u001b[0m\u001b[0;34m)\u001b[0m\u001b[0;34m\u001b[0m\u001b[0;34m\u001b[0m\u001b[0m\n",
            "\u001b[0;32m/usr/local/lib/python3.7/dist-packages/ipykernel/kernelbase.py\u001b[0m in \u001b[0;36mraw_input\u001b[0;34m(self, prompt)\u001b[0m\n\u001b[1;32m    702\u001b[0m             \u001b[0mself\u001b[0m\u001b[0;34m.\u001b[0m\u001b[0m_parent_ident\u001b[0m\u001b[0;34m,\u001b[0m\u001b[0;34m\u001b[0m\u001b[0;34m\u001b[0m\u001b[0m\n\u001b[1;32m    703\u001b[0m             \u001b[0mself\u001b[0m\u001b[0;34m.\u001b[0m\u001b[0m_parent_header\u001b[0m\u001b[0;34m,\u001b[0m\u001b[0;34m\u001b[0m\u001b[0;34m\u001b[0m\u001b[0m\n\u001b[0;32m--> 704\u001b[0;31m             \u001b[0mpassword\u001b[0m\u001b[0;34m=\u001b[0m\u001b[0;32mFalse\u001b[0m\u001b[0;34m,\u001b[0m\u001b[0;34m\u001b[0m\u001b[0;34m\u001b[0m\u001b[0m\n\u001b[0m\u001b[1;32m    705\u001b[0m         )\n\u001b[1;32m    706\u001b[0m \u001b[0;34m\u001b[0m\u001b[0m\n",
            "\u001b[0;32m/usr/local/lib/python3.7/dist-packages/ipykernel/kernelbase.py\u001b[0m in \u001b[0;36m_input_request\u001b[0;34m(self, prompt, ident, parent, password)\u001b[0m\n\u001b[1;32m    732\u001b[0m             \u001b[0;32mexcept\u001b[0m \u001b[0mKeyboardInterrupt\u001b[0m\u001b[0;34m:\u001b[0m\u001b[0;34m\u001b[0m\u001b[0;34m\u001b[0m\u001b[0m\n\u001b[1;32m    733\u001b[0m                 \u001b[0;31m# re-raise KeyboardInterrupt, to truncate traceback\u001b[0m\u001b[0;34m\u001b[0m\u001b[0;34m\u001b[0m\u001b[0;34m\u001b[0m\u001b[0m\n\u001b[0;32m--> 734\u001b[0;31m                 \u001b[0;32mraise\u001b[0m \u001b[0mKeyboardInterrupt\u001b[0m\u001b[0;34m\u001b[0m\u001b[0;34m\u001b[0m\u001b[0m\n\u001b[0m\u001b[1;32m    735\u001b[0m             \u001b[0;32melse\u001b[0m\u001b[0;34m:\u001b[0m\u001b[0;34m\u001b[0m\u001b[0;34m\u001b[0m\u001b[0m\n\u001b[1;32m    736\u001b[0m                 \u001b[0;32mbreak\u001b[0m\u001b[0;34m\u001b[0m\u001b[0;34m\u001b[0m\u001b[0m\n",
            "\u001b[0;31mKeyboardInterrupt\u001b[0m: "
          ]
        }
      ]
    },
    {
      "cell_type": "markdown",
      "metadata": {
        "id": "HohKT5WiPIn-"
      },
      "source": [
        "#Ejercicio 2"
      ]
    },
    {
      "cell_type": "code",
      "metadata": {
        "id": "av06qS-JPJ8s",
        "colab": {
          "base_uri": "https://localhost:8080/"
        },
        "outputId": "635db223-a49b-4332-f89d-e050b21ec0bd"
      },
      "source": [
        "print(\"***************************\")\n",
        "print(\"* Programa de par o impar *\")\n",
        "print(\"***************************\")\n",
        "\n",
        "paroimpar = int(input(\"Ingrese un numero entero: \"))\n",
        "\n",
        "if paroimpar % 2 == 0:\n",
        "  print(\"El numero\", paroimpar,\"es par.\")\n",
        "else:\n",
        "  print(\"El numero\", paroimpar,\"es impar.\")"
      ],
      "execution_count": null,
      "outputs": [
        {
          "output_type": "stream",
          "text": [
            "***************************\n",
            "* Programa de par o impar *\n",
            "***************************\n",
            "Ingrese un numero entero: 13\n",
            "El numero 13 es impar.\n"
          ],
          "name": "stdout"
        }
      ]
    },
    {
      "cell_type": "markdown",
      "metadata": {
        "id": "HeZgg4DHVNYl"
      },
      "source": [
        "#Ejercicio 3"
      ]
    },
    {
      "cell_type": "code",
      "metadata": {
        "colab": {
          "base_uri": "https://localhost:8080/"
        },
        "id": "g8k7Wr4_VRHQ",
        "outputId": "44b66d6e-d5fd-4d9f-d59f-11cbe8eb6eac"
      },
      "source": [
        "num1 = int(input(\"Ingrese primer numero: \"))\n",
        "num2 = int(input(\"Ingrese segundo numero: \"))\n",
        "num3 = int(input(\"Ingrese tercer numero: \"))\n",
        "\n",
        "if (num1 > num2):\n",
        "  max = num1\n",
        "else:\n",
        "  max = num2\n",
        "if (max < num3):\n",
        "  max = num3\n",
        "\n",
        "print(\"El numero mayor es: \", max)\n"
      ],
      "execution_count": null,
      "outputs": [
        {
          "output_type": "stream",
          "text": [
            "Ingrese primer numero: 97\n",
            "Ingrese segundo numero: 150\n",
            "Ingrese tercer numero: 4\n",
            "El numero mayor es:  150\n"
          ],
          "name": "stdout"
        }
      ]
    },
    {
      "cell_type": "markdown",
      "metadata": {
        "id": "MUHjupryQVJb"
      },
      "source": [
        "#Ejercicio 4"
      ]
    },
    {
      "cell_type": "code",
      "metadata": {
        "colab": {
          "base_uri": "https://localhost:8080/",
          "height": 731
        },
        "id": "rWQk8vbBQZBc",
        "outputId": "cf7fdc3f-4d4f-4be0-d693-d862ac6bec5e"
      },
      "source": [
        "print(\"*********************\")\n",
        "print(\"*    Calculadora    *\")\n",
        "print(\"*********************\")\n",
        " \n",
        "while (1):\n",
        "  option = 100\n",
        "\n",
        "  while (option >= 8 or option <= 0):\n",
        "    print(\"1. Suma\")\n",
        "    print(\"2. Resta\")\n",
        "    print(\"3. Multipicacion\")\n",
        "    print(\"4. Division\")\n",
        "    print(\"5. Exponente\")\n",
        "    print(\"6. Modulo\")\n",
        "    print(\"7. Division Entera\")\n",
        "    option = int(input(\"Elija la operacion: \"))\n",
        "  \n",
        "  num1 = int(input(\"Ingrese primer numero: \"))\n",
        "  num2 = int(input(\"Ingrese segundo numero: \"))\n",
        "\n",
        "  if (option == 1):\n",
        "    result = num1 + num2\n",
        "  elif (option == 2):\n",
        "    result = num1 - num2\n",
        "  elif (option == 3):\n",
        "    result = num1 * num2\n",
        "  elif (option == 4):\n",
        "    result = num1 / num2\n",
        "  elif (option == 5):\n",
        "    result = num1 ** num2\n",
        "  elif (option == 6):\n",
        "    result = num1 % num2\n",
        "  elif (option == 7):\n",
        "    result = num1 // num2\n",
        "\n",
        "  print(\"El resultado es: \", result)\n",
        "\n"
      ],
      "execution_count": null,
      "outputs": [
        {
          "output_type": "stream",
          "text": [
            "*********************\n",
            "*    Calculadora    *\n",
            "*********************\n",
            "1. Suma\n",
            "2. Resta\n",
            "3. Multipicacion\n",
            "4. Division\n",
            "5. Exponente\n",
            "6. Modulo\n",
            "7. Division Entera\n"
          ],
          "name": "stdout"
        },
        {
          "output_type": "error",
          "ename": "KeyboardInterrupt",
          "evalue": "ignored",
          "traceback": [
            "\u001b[0;31m---------------------------------------------------------------------------\u001b[0m",
            "\u001b[0;31mKeyboardInterrupt\u001b[0m                         Traceback (most recent call last)",
            "\u001b[0;32m/usr/local/lib/python3.7/dist-packages/ipykernel/kernelbase.py\u001b[0m in \u001b[0;36m_input_request\u001b[0;34m(self, prompt, ident, parent, password)\u001b[0m\n\u001b[1;32m    728\u001b[0m             \u001b[0;32mtry\u001b[0m\u001b[0;34m:\u001b[0m\u001b[0;34m\u001b[0m\u001b[0;34m\u001b[0m\u001b[0m\n\u001b[0;32m--> 729\u001b[0;31m                 \u001b[0mident\u001b[0m\u001b[0;34m,\u001b[0m \u001b[0mreply\u001b[0m \u001b[0;34m=\u001b[0m \u001b[0mself\u001b[0m\u001b[0;34m.\u001b[0m\u001b[0msession\u001b[0m\u001b[0;34m.\u001b[0m\u001b[0mrecv\u001b[0m\u001b[0;34m(\u001b[0m\u001b[0mself\u001b[0m\u001b[0;34m.\u001b[0m\u001b[0mstdin_socket\u001b[0m\u001b[0;34m,\u001b[0m \u001b[0;36m0\u001b[0m\u001b[0;34m)\u001b[0m\u001b[0;34m\u001b[0m\u001b[0;34m\u001b[0m\u001b[0m\n\u001b[0m\u001b[1;32m    730\u001b[0m             \u001b[0;32mexcept\u001b[0m \u001b[0mException\u001b[0m\u001b[0;34m:\u001b[0m\u001b[0;34m\u001b[0m\u001b[0;34m\u001b[0m\u001b[0m\n",
            "\u001b[0;32m/usr/local/lib/python3.7/dist-packages/jupyter_client/session.py\u001b[0m in \u001b[0;36mrecv\u001b[0;34m(self, socket, mode, content, copy)\u001b[0m\n\u001b[1;32m    802\u001b[0m         \u001b[0;32mtry\u001b[0m\u001b[0;34m:\u001b[0m\u001b[0;34m\u001b[0m\u001b[0;34m\u001b[0m\u001b[0m\n\u001b[0;32m--> 803\u001b[0;31m             \u001b[0mmsg_list\u001b[0m \u001b[0;34m=\u001b[0m \u001b[0msocket\u001b[0m\u001b[0;34m.\u001b[0m\u001b[0mrecv_multipart\u001b[0m\u001b[0;34m(\u001b[0m\u001b[0mmode\u001b[0m\u001b[0;34m,\u001b[0m \u001b[0mcopy\u001b[0m\u001b[0;34m=\u001b[0m\u001b[0mcopy\u001b[0m\u001b[0;34m)\u001b[0m\u001b[0;34m\u001b[0m\u001b[0;34m\u001b[0m\u001b[0m\n\u001b[0m\u001b[1;32m    804\u001b[0m         \u001b[0;32mexcept\u001b[0m \u001b[0mzmq\u001b[0m\u001b[0;34m.\u001b[0m\u001b[0mZMQError\u001b[0m \u001b[0;32mas\u001b[0m \u001b[0me\u001b[0m\u001b[0;34m:\u001b[0m\u001b[0;34m\u001b[0m\u001b[0;34m\u001b[0m\u001b[0m\n",
            "\u001b[0;32m/usr/local/lib/python3.7/dist-packages/zmq/sugar/socket.py\u001b[0m in \u001b[0;36mrecv_multipart\u001b[0;34m(self, flags, copy, track)\u001b[0m\n\u001b[1;32m    618\u001b[0m         \"\"\"\n\u001b[0;32m--> 619\u001b[0;31m         \u001b[0mparts\u001b[0m \u001b[0;34m=\u001b[0m \u001b[0;34m[\u001b[0m\u001b[0mself\u001b[0m\u001b[0;34m.\u001b[0m\u001b[0mrecv\u001b[0m\u001b[0;34m(\u001b[0m\u001b[0mflags\u001b[0m\u001b[0;34m,\u001b[0m \u001b[0mcopy\u001b[0m\u001b[0;34m=\u001b[0m\u001b[0mcopy\u001b[0m\u001b[0;34m,\u001b[0m \u001b[0mtrack\u001b[0m\u001b[0;34m=\u001b[0m\u001b[0mtrack\u001b[0m\u001b[0;34m)\u001b[0m\u001b[0;34m]\u001b[0m\u001b[0;34m\u001b[0m\u001b[0;34m\u001b[0m\u001b[0m\n\u001b[0m\u001b[1;32m    620\u001b[0m         \u001b[0;31m# have first part already, only loop while more to receive\u001b[0m\u001b[0;34m\u001b[0m\u001b[0;34m\u001b[0m\u001b[0;34m\u001b[0m\u001b[0m\n",
            "\u001b[0;32mzmq/backend/cython/socket.pyx\u001b[0m in \u001b[0;36mzmq.backend.cython.socket.Socket.recv\u001b[0;34m()\u001b[0m\n",
            "\u001b[0;32mzmq/backend/cython/socket.pyx\u001b[0m in \u001b[0;36mzmq.backend.cython.socket.Socket.recv\u001b[0;34m()\u001b[0m\n",
            "\u001b[0;32mzmq/backend/cython/socket.pyx\u001b[0m in \u001b[0;36mzmq.backend.cython.socket._recv_copy\u001b[0;34m()\u001b[0m\n",
            "\u001b[0;32m/usr/local/lib/python3.7/dist-packages/zmq/backend/cython/checkrc.pxd\u001b[0m in \u001b[0;36mzmq.backend.cython.checkrc._check_rc\u001b[0;34m()\u001b[0m\n",
            "\u001b[0;31mKeyboardInterrupt\u001b[0m: ",
            "\nDuring handling of the above exception, another exception occurred:\n",
            "\u001b[0;31mKeyboardInterrupt\u001b[0m                         Traceback (most recent call last)",
            "\u001b[0;32m<ipython-input-18-0efe046bbf30>\u001b[0m in \u001b[0;36m<module>\u001b[0;34m()\u001b[0m\n\u001b[1;32m     14\u001b[0m     \u001b[0mprint\u001b[0m\u001b[0;34m(\u001b[0m\u001b[0;34m\"6. Modulo\"\u001b[0m\u001b[0;34m)\u001b[0m\u001b[0;34m\u001b[0m\u001b[0;34m\u001b[0m\u001b[0m\n\u001b[1;32m     15\u001b[0m     \u001b[0mprint\u001b[0m\u001b[0;34m(\u001b[0m\u001b[0;34m\"7. Division Entera\"\u001b[0m\u001b[0;34m)\u001b[0m\u001b[0;34m\u001b[0m\u001b[0;34m\u001b[0m\u001b[0m\n\u001b[0;32m---> 16\u001b[0;31m     \u001b[0moption\u001b[0m \u001b[0;34m=\u001b[0m \u001b[0mint\u001b[0m\u001b[0;34m(\u001b[0m\u001b[0minput\u001b[0m\u001b[0;34m(\u001b[0m\u001b[0;34m\"Elija la operacion: \"\u001b[0m\u001b[0;34m)\u001b[0m\u001b[0;34m)\u001b[0m\u001b[0;34m\u001b[0m\u001b[0;34m\u001b[0m\u001b[0m\n\u001b[0m\u001b[1;32m     17\u001b[0m \u001b[0;34m\u001b[0m\u001b[0m\n\u001b[1;32m     18\u001b[0m   \u001b[0mnum1\u001b[0m \u001b[0;34m=\u001b[0m \u001b[0mint\u001b[0m\u001b[0;34m(\u001b[0m\u001b[0minput\u001b[0m\u001b[0;34m(\u001b[0m\u001b[0;34m\"Ingrese primer numero: \"\u001b[0m\u001b[0;34m)\u001b[0m\u001b[0;34m)\u001b[0m\u001b[0;34m\u001b[0m\u001b[0;34m\u001b[0m\u001b[0m\n",
            "\u001b[0;32m/usr/local/lib/python3.7/dist-packages/ipykernel/kernelbase.py\u001b[0m in \u001b[0;36mraw_input\u001b[0;34m(self, prompt)\u001b[0m\n\u001b[1;32m    702\u001b[0m             \u001b[0mself\u001b[0m\u001b[0;34m.\u001b[0m\u001b[0m_parent_ident\u001b[0m\u001b[0;34m,\u001b[0m\u001b[0;34m\u001b[0m\u001b[0;34m\u001b[0m\u001b[0m\n\u001b[1;32m    703\u001b[0m             \u001b[0mself\u001b[0m\u001b[0;34m.\u001b[0m\u001b[0m_parent_header\u001b[0m\u001b[0;34m,\u001b[0m\u001b[0;34m\u001b[0m\u001b[0;34m\u001b[0m\u001b[0m\n\u001b[0;32m--> 704\u001b[0;31m             \u001b[0mpassword\u001b[0m\u001b[0;34m=\u001b[0m\u001b[0;32mFalse\u001b[0m\u001b[0;34m,\u001b[0m\u001b[0;34m\u001b[0m\u001b[0;34m\u001b[0m\u001b[0m\n\u001b[0m\u001b[1;32m    705\u001b[0m         )\n\u001b[1;32m    706\u001b[0m \u001b[0;34m\u001b[0m\u001b[0m\n",
            "\u001b[0;32m/usr/local/lib/python3.7/dist-packages/ipykernel/kernelbase.py\u001b[0m in \u001b[0;36m_input_request\u001b[0;34m(self, prompt, ident, parent, password)\u001b[0m\n\u001b[1;32m    732\u001b[0m             \u001b[0;32mexcept\u001b[0m \u001b[0mKeyboardInterrupt\u001b[0m\u001b[0;34m:\u001b[0m\u001b[0;34m\u001b[0m\u001b[0;34m\u001b[0m\u001b[0m\n\u001b[1;32m    733\u001b[0m                 \u001b[0;31m# re-raise KeyboardInterrupt, to truncate traceback\u001b[0m\u001b[0;34m\u001b[0m\u001b[0;34m\u001b[0m\u001b[0;34m\u001b[0m\u001b[0m\n\u001b[0;32m--> 734\u001b[0;31m                 \u001b[0;32mraise\u001b[0m \u001b[0mKeyboardInterrupt\u001b[0m\u001b[0;34m\u001b[0m\u001b[0;34m\u001b[0m\u001b[0m\n\u001b[0m\u001b[1;32m    735\u001b[0m             \u001b[0;32melse\u001b[0m\u001b[0;34m:\u001b[0m\u001b[0;34m\u001b[0m\u001b[0;34m\u001b[0m\u001b[0m\n\u001b[1;32m    736\u001b[0m                 \u001b[0;32mbreak\u001b[0m\u001b[0;34m\u001b[0m\u001b[0;34m\u001b[0m\u001b[0m\n",
            "\u001b[0;31mKeyboardInterrupt\u001b[0m: "
          ]
        }
      ]
    },
    {
      "cell_type": "code",
      "metadata": {
        "colab": {
          "base_uri": "https://localhost:8080/"
        },
        "id": "3_vHyRn4IywP",
        "outputId": "4cf28fd2-1ca2-4b6d-8ba7-ac518a8e6699"
      },
      "source": [
        "base = int(input(\"Ingrese base: \"))\n",
        "altura = int(input(\"Ingrese altura: \"))\n",
        "\n",
        "resultado = ((base * altura) / 2)\n",
        "\n",
        "print(\"El area del triangulo es: \", resultado)"
      ],
      "execution_count": null,
      "outputs": [
        {
          "output_type": "stream",
          "text": [
            "Ingrese base: 5\n",
            "Ingrese altura: 4\n",
            "El area del triangulo es:  10.0\n"
          ],
          "name": "stdout"
        }
      ]
    },
    {
      "cell_type": "code",
      "metadata": {
        "colab": {
          "base_uri": "https://localhost:8080/"
        },
        "id": "oy-zbousxEjU",
        "outputId": "40047360-d0e4-4951-b41f-118a33f39030"
      },
      "source": [
        "cantidad = int(input(\"Combos de hamburguesa: \"))\n",
        "total = 0\n",
        "if cantidad >= 10:\n",
        "  promo = cantidad // 6\n",
        "  for i in range(0, promo):\n",
        "    cantidad = cantidad - 2\n",
        "\n",
        "  total = cantidad * 5\n",
        "else:\n",
        "  total = cantidad * 5\n",
        "\n",
        "print(total)"
      ],
      "execution_count": null,
      "outputs": [
        {
          "output_type": "stream",
          "name": "stdout",
          "text": [
            "Combos de hamburguesa: 18\n",
            "60\n"
          ]
        }
      ]
    }
  ]
}