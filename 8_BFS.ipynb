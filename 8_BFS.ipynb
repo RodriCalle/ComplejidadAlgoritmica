{
  "nbformat": 4,
  "nbformat_minor": 0,
  "metadata": {
    "colab": {
      "name": "8. BFS.ipynb",
      "provenance": [],
      "collapsed_sections": [],
      "authorship_tag": "ABX9TyNdxPvHFqwrUs4unKCZZLpi",
      "include_colab_link": true
    },
    "kernelspec": {
      "name": "python3",
      "display_name": "Python 3"
    },
    "language_info": {
      "name": "python"
    }
  },
  "cells": [
    {
      "cell_type": "markdown",
      "metadata": {
        "id": "view-in-github",
        "colab_type": "text"
      },
      "source": [
        "<a href=\"https://colab.research.google.com/github/RodriCalle/ComplejidadAlgoritmica/blob/main/8_BFS.ipynb\" target=\"_parent\"><img src=\"https://colab.research.google.com/assets/colab-badge.svg\" alt=\"Open In Colab\"/></a>"
      ]
    },
    {
      "cell_type": "markdown",
      "metadata": {
        "id": "iKUdg5V6SidL"
      },
      "source": [
        "#Breadth First Search"
      ]
    },
    {
      "cell_type": "code",
      "metadata": {
        "id": "-x_ZTyiLGiht"
      },
      "source": [
        "import graphviz as gv\n",
        "import numpy as np\n",
        "import pandas as pd"
      ],
      "execution_count": 1,
      "outputs": []
    },
    {
      "cell_type": "code",
      "metadata": {
        "id": "rlw_e6_jSp4b"
      },
      "source": [
        "def readAdjl(fn, haslabels=False, weighted=False, sep=\"|\"):\n",
        "  with open(fn) as f:\n",
        "    labels = None\n",
        "    if haslabels:\n",
        "      labels = f.readline().strip().split()\n",
        "    L = []\n",
        "    for line in f:\n",
        "      if weighted:\n",
        "        L.append([tuple(map(int, p.split(sep))) for p in line.strip().split()])\n",
        "        # line => \"1|3 2|5 4|4\" ==> [(1, 3), (2, 5), (4, 4)]\n",
        "      else: \n",
        "        L.append(list(map(int, line.strip().split()))) # \"1 3 5\" => [1, 3, 5]\n",
        "        # L.append([int(x) for x in line.strip().split()])\n",
        "  return L, labels\n",
        "\n",
        "def adjlShow(L, labels=None, directed=False, weighted=False, path=[], layout=\"sfdp\"):\n",
        "  g = gv.Digraph(\"G\") if directed else gv.Graph(\"G\")\n",
        "  g.graph_attr[\"layout\"] = layout\n",
        "  g.edge_attr[\"color\"] = \"gray\"\n",
        "  g.node_attr[\"color\"] = \"orangered\"\n",
        "  g.node_attr[\"width\"] = \"0.1\"\n",
        "  g.node_attr[\"height\"] = \"0.1\"\n",
        "  g.node_attr[\"fontsize\"] = \"8\"\n",
        "  g.node_attr[\"fontcolor\"] = \"mediumslateblue\"\n",
        "  g.node_attr[\"fontname\"] = \"monospace\"\n",
        "  n = len(L)\n",
        "  for u in range(n):\n",
        "    g.node(str(u), labels[u] if labels else str(u))\n",
        "  added = set()\n",
        "  for v, u in enumerate(path):\n",
        "    if u != None:\n",
        "      g.edge(str(u), str(v), dir=\"forward\", penwidth=\"2\", color=\"orange\")\n",
        "      added.add(f\"{u},{v}\")\n",
        "      added.add(f\"{v},{u}\")\n",
        "  if weighted:\n",
        "    for u in range(n):\n",
        "      for v, w in L[u]:\n",
        "        if not directed and not f\"{u},{v}\" in added:\n",
        "          added.add(f\"{u},{v}\")\n",
        "          added.add(f\"{v},{u}\")\n",
        "          g.edge(str(u), str(v), str(w))\n",
        "        elif directed:\n",
        "          g.edge(str(u), str(v), str(w))\n",
        "  else:\n",
        "    for u in range(n):\n",
        "      for v in L[u]:\n",
        "        if not directed and not f\"{u},{v}\" in added:\n",
        "          added.add(f\"{u},{v}\")\n",
        "          added.add(f\"{v},{u}\")\n",
        "          g.edge(str(u), str(v))\n",
        "        elif directed:\n",
        "          g.edge(str(u), str(v))\n",
        "  return g"
      ],
      "execution_count": 2,
      "outputs": []
    },
    {
      "cell_type": "code",
      "metadata": {
        "id": "pu01EeybTI3c"
      },
      "source": [
        "def bfs(G, s):\n",
        "  n = len(G)\n",
        "  visited = [False] * n\n",
        "  parents = [None] * n\n",
        "  queue = [s]\n",
        "  visited[s] = True\n",
        "\n",
        "  while len(queue) > 0:         #Puede ser queue solamente\n",
        "    u = queue.pop(0)\n",
        "    for v in G[u]:\n",
        "      if not visited[v]:\n",
        "        visited[v] = True\n",
        "        parents[v] = u\n",
        "        queue.append(v)\n",
        "\n",
        "  return parents"
      ],
      "execution_count": 3,
      "outputs": []
    },
    {
      "cell_type": "code",
      "metadata": {
        "colab": {
          "base_uri": "https://localhost:8080/"
        },
        "id": "RLDtBV-MVX1X",
        "outputId": "02a49044-b51c-4826-9280-08ded4df01df"
      },
      "source": [
        "%%file 1.in\n",
        "1 2 4 7\n",
        "0 4 5\n",
        "0\n",
        "6 10\n",
        "0 1 5\n",
        "1 4 6 8\n",
        "3 5 9\n",
        "0 8 14\n",
        "5 7\n",
        "6 10 12 13\n",
        "3 9 13 17\n",
        "12 15\n",
        "9 11 15 16\n",
        "9 10\n",
        "7 15\n",
        "11 12 14 16\n",
        "12 15 17\n",
        "10 16"
      ],
      "execution_count": 4,
      "outputs": [
        {
          "output_type": "stream",
          "name": "stdout",
          "text": [
            "Writing 1.in\n"
          ]
        }
      ]
    },
    {
      "cell_type": "code",
      "metadata": {
        "colab": {
          "base_uri": "https://localhost:8080/"
        },
        "id": "HNF1mqEpVtQq",
        "outputId": "0f401305-3e29-4abb-f00a-a54a4415df76"
      },
      "source": [
        "G, _ = readAdjl(\"1.in\")\n",
        "for i, edges in enumerate(G):\n",
        "  print(f\"{i:2}:{edges}\")"
      ],
      "execution_count": 5,
      "outputs": [
        {
          "output_type": "stream",
          "name": "stdout",
          "text": [
            " 0:[1, 2, 4, 7]\n",
            " 1:[0, 4, 5]\n",
            " 2:[0]\n",
            " 3:[6, 10]\n",
            " 4:[0, 1, 5]\n",
            " 5:[1, 4, 6, 8]\n",
            " 6:[3, 5, 9]\n",
            " 7:[0, 8, 14]\n",
            " 8:[5, 7]\n",
            " 9:[6, 10, 12, 13]\n",
            "10:[3, 9, 13, 17]\n",
            "11:[12, 15]\n",
            "12:[9, 11, 15, 16]\n",
            "13:[9, 10]\n",
            "14:[7, 15]\n",
            "15:[11, 12, 14, 16]\n",
            "16:[12, 15, 17]\n",
            "17:[10, 16]\n"
          ]
        }
      ]
    },
    {
      "cell_type": "code",
      "metadata": {
        "colab": {
          "base_uri": "https://localhost:8080/",
          "height": 352
        },
        "id": "ZStDBUnGWD9Y",
        "outputId": "e863f59c-e115-490d-ea71-ac5b6dea679a"
      },
      "source": [
        "adjlShow(G)"
      ],
      "execution_count": 6,
      "outputs": [
        {
          "output_type": "execute_result",
          "data": {
            "text/plain": [
              "<graphviz.dot.Graph at 0x7f1f430b0910>"
            ],
            "image/svg+xml": "<?xml version=\"1.0\" encoding=\"UTF-8\" standalone=\"no\"?>\n<!DOCTYPE svg PUBLIC \"-//W3C//DTD SVG 1.1//EN\"\n \"http://www.w3.org/Graphics/SVG/1.1/DTD/svg11.dtd\">\n<!-- Generated by graphviz version 2.40.1 (20161225.0304)\n -->\n<!-- Title: G Pages: 1 -->\n<svg width=\"489pt\" height=\"248pt\"\n viewBox=\"0.00 0.00 489.26 247.53\" xmlns=\"http://www.w3.org/2000/svg\" xmlns:xlink=\"http://www.w3.org/1999/xlink\">\n<g id=\"graph0\" class=\"graph\" transform=\"scale(1 1) rotate(0) translate(4 243.5315)\">\n<title>G</title>\n<polygon fill=\"#ffffff\" stroke=\"transparent\" points=\"-4,4 -4,-243.5315 485.2632,-243.5315 485.2632,4 -4,4\"/>\n<!-- 0 -->\n<g id=\"node1\" class=\"node\">\n<title>0</title>\n<ellipse fill=\"none\" stroke=\"#ff4500\" cx=\"394.1848\" cy=\"-122.7651\" rx=\"15.6129\" ry=\"12.0417\"/>\n<text text-anchor=\"middle\" x=\"394.1848\" y=\"-120.8651\" font-family=\"monospace\" font-size=\"8.00\" fill=\"#7b68ee\">0</text>\n</g>\n<!-- 1 -->\n<g id=\"node2\" class=\"node\">\n<title>1</title>\n<ellipse fill=\"none\" stroke=\"#ff4500\" cx=\"362.7164\" cy=\"-77.6457\" rx=\"15.6129\" ry=\"12.0417\"/>\n<text text-anchor=\"middle\" x=\"362.7164\" y=\"-75.7457\" font-family=\"monospace\" font-size=\"8.00\" fill=\"#7b68ee\">1</text>\n</g>\n<!-- 0&#45;&#45;1 -->\n<g id=\"edge1\" class=\"edge\">\n<title>0&#45;&#45;1</title>\n<path fill=\"none\" stroke=\"#c0c0c0\" d=\"M386.5672,-111.8429C381.6196,-104.749 375.1975,-95.541 370.2638,-88.4672\"/>\n</g>\n<!-- 2 -->\n<g id=\"node3\" class=\"node\">\n<title>2</title>\n<ellipse fill=\"none\" stroke=\"#ff4500\" cx=\"465.7068\" cy=\"-137.8518\" rx=\"15.6129\" ry=\"12.0417\"/>\n<text text-anchor=\"middle\" x=\"465.7068\" y=\"-135.9518\" font-family=\"monospace\" font-size=\"8.00\" fill=\"#7b68ee\">2</text>\n</g>\n<!-- 0&#45;&#45;2 -->\n<g id=\"edge2\" class=\"edge\">\n<title>0&#45;&#45;2</title>\n<path fill=\"none\" stroke=\"#c0c0c0\" d=\"M409.3528,-125.9646C421.4903,-128.5249 438.429,-132.0979 450.5607,-134.6569\"/>\n</g>\n<!-- 4 -->\n<g id=\"node5\" class=\"node\">\n<title>4</title>\n<ellipse fill=\"none\" stroke=\"#ff4500\" cx=\"375.3837\" cy=\"-55.1408\" rx=\"15.6129\" ry=\"12.0417\"/>\n<text text-anchor=\"middle\" x=\"375.3837\" y=\"-53.2408\" font-family=\"monospace\" font-size=\"8.00\" fill=\"#7b68ee\">4</text>\n</g>\n<!-- 0&#45;&#45;4 -->\n<g id=\"edge3\" class=\"edge\">\n<title>0&#45;&#45;4</title>\n<path fill=\"none\" stroke=\"#c0c0c0\" d=\"M390.9099,-110.9858C387.5012,-98.7252 382.1891,-79.6187 378.7477,-67.2404\"/>\n</g>\n<!-- 7 -->\n<g id=\"node8\" class=\"node\">\n<title>7</title>\n<ellipse fill=\"none\" stroke=\"#ff4500\" cx=\"318.085\" cy=\"-170.8687\" rx=\"15.6129\" ry=\"12.0417\"/>\n<text text-anchor=\"middle\" x=\"318.085\" y=\"-168.9687\" font-family=\"monospace\" font-size=\"8.00\" fill=\"#7b68ee\">7</text>\n</g>\n<!-- 0&#45;&#45;7 -->\n<g id=\"edge4\" class=\"edge\">\n<title>0&#45;&#45;7</title>\n<path fill=\"none\" stroke=\"#c0c0c0\" d=\"M381.9581,-130.4937C367.8411,-139.4173 344.7448,-154.0167 330.5342,-162.9994\"/>\n</g>\n<!-- 1&#45;&#45;4 -->\n<g id=\"edge5\" class=\"edge\">\n<title>1&#45;&#45;4</title>\n<path fill=\"none\" stroke=\"#c0c0c0\" d=\"M369.05,-66.3932C369.0995,-66.3053 369.149,-66.2174 369.1984,-66.1295\"/>\n</g>\n<!-- 5 -->\n<g id=\"node6\" class=\"node\">\n<title>5</title>\n<ellipse fill=\"none\" stroke=\"#ff4500\" cx=\"298.1141\" cy=\"-55.5653\" rx=\"15.6129\" ry=\"12.0417\"/>\n<text text-anchor=\"middle\" x=\"298.1141\" y=\"-53.6653\" font-family=\"monospace\" font-size=\"8.00\" fill=\"#7b68ee\">5</text>\n</g>\n<!-- 1&#45;&#45;5 -->\n<g id=\"edge6\" class=\"edge\">\n<title>1&#45;&#45;5</title>\n<path fill=\"none\" stroke=\"#c0c0c0\" d=\"M348.379,-72.7453C337.6733,-69.0862 323.1074,-64.1078 312.4113,-60.452\"/>\n</g>\n<!-- 3 -->\n<g id=\"node4\" class=\"node\">\n<title>3</title>\n<ellipse fill=\"none\" stroke=\"#ff4500\" cx=\"123.24\" cy=\"-12.0208\" rx=\"15.6129\" ry=\"12.0417\"/>\n<text text-anchor=\"middle\" x=\"123.24\" y=\"-10.1208\" font-family=\"monospace\" font-size=\"8.00\" fill=\"#7b68ee\">3</text>\n</g>\n<!-- 6 -->\n<g id=\"node7\" class=\"node\">\n<title>6</title>\n<ellipse fill=\"none\" stroke=\"#ff4500\" cx=\"191.1957\" cy=\"-38.3988\" rx=\"15.6129\" ry=\"12.0417\"/>\n<text text-anchor=\"middle\" x=\"191.1957\" y=\"-36.4988\" font-family=\"monospace\" font-size=\"8.00\" fill=\"#7b68ee\">6</text>\n</g>\n<!-- 3&#45;&#45;6 -->\n<g id=\"edge7\" class=\"edge\">\n<title>3&#45;&#45;6</title>\n<path fill=\"none\" stroke=\"#c0c0c0\" d=\"M137.3204,-17.4864C148.9833,-22.0135 165.4753,-28.4151 177.1332,-32.9403\"/>\n</g>\n<!-- 10 -->\n<g id=\"node11\" class=\"node\">\n<title>10</title>\n<ellipse fill=\"none\" stroke=\"#ff4500\" cx=\"58.7578\" cy=\"-51.0124\" rx=\"19.1842\" ry=\"12.0417\"/>\n<text text-anchor=\"middle\" x=\"58.7578\" y=\"-49.1124\" font-family=\"monospace\" font-size=\"8.00\" fill=\"#7b68ee\">10</text>\n</g>\n<!-- 3&#45;&#45;10 -->\n<g id=\"edge8\" class=\"edge\">\n<title>3&#45;&#45;10</title>\n<path fill=\"none\" stroke=\"#c0c0c0\" d=\"M110.8072,-19.5388C99.9744,-26.0892 84.2706,-35.5851 72.9486,-42.4314\"/>\n</g>\n<!-- 4&#45;&#45;5 -->\n<g id=\"edge9\" class=\"edge\">\n<title>4&#45;&#45;5</title>\n<path fill=\"none\" stroke=\"#c0c0c0\" d=\"M359.747,-55.2267C346.3411,-55.3003 327.1267,-55.4059 313.7275,-55.4795\"/>\n</g>\n<!-- 5&#45;&#45;6 -->\n<g id=\"edge10\" class=\"edge\">\n<title>5&#45;&#45;6</title>\n<path fill=\"none\" stroke=\"#c0c0c0\" d=\"M282.7953,-53.1058C262.4701,-49.8424 226.7969,-44.1148 206.4861,-40.8538\"/>\n</g>\n<!-- 8 -->\n<g id=\"node9\" class=\"node\">\n<title>8</title>\n<ellipse fill=\"none\" stroke=\"#ff4500\" cx=\"313.0742\" cy=\"-116.1318\" rx=\"15.6129\" ry=\"12.0417\"/>\n<text text-anchor=\"middle\" x=\"313.0742\" y=\"-114.2318\" font-family=\"monospace\" font-size=\"8.00\" fill=\"#7b68ee\">8</text>\n</g>\n<!-- 5&#45;&#45;8 -->\n<g id=\"edge11\" class=\"edge\">\n<title>5&#45;&#45;8</title>\n<path fill=\"none\" stroke=\"#c0c0c0\" d=\"M301.0697,-67.5313C303.6924,-78.1494 307.5039,-93.58 310.1247,-104.1906\"/>\n</g>\n<!-- 9 -->\n<g id=\"node10\" class=\"node\">\n<title>9</title>\n<ellipse fill=\"none\" stroke=\"#ff4500\" cx=\"105.979\" cy=\"-69.1184\" rx=\"15.6129\" ry=\"12.0417\"/>\n<text text-anchor=\"middle\" x=\"105.979\" y=\"-67.2184\" font-family=\"monospace\" font-size=\"8.00\" fill=\"#7b68ee\">9</text>\n</g>\n<!-- 6&#45;&#45;9 -->\n<g id=\"edge12\" class=\"edge\">\n<title>6&#45;&#45;9</title>\n<path fill=\"none\" stroke=\"#c0c0c0\" d=\"M176.7398,-43.61C160.9746,-49.2932 135.902,-58.3315 120.2213,-63.9842\"/>\n</g>\n<!-- 7&#45;&#45;8 -->\n<g id=\"edge13\" class=\"edge\">\n<title>7&#45;&#45;8</title>\n<path fill=\"none\" stroke=\"#c0c0c0\" d=\"M316.973,-158.7208C316.1426,-149.6499 315.0128,-137.3084 314.1832,-128.2457\"/>\n</g>\n<!-- 14 -->\n<g id=\"node15\" class=\"node\">\n<title>14</title>\n<ellipse fill=\"none\" stroke=\"#ff4500\" cx=\"229.2884\" cy=\"-206.1101\" rx=\"19.1842\" ry=\"12.0417\"/>\n<text text-anchor=\"middle\" x=\"229.2884\" y=\"-204.2101\" font-family=\"monospace\" font-size=\"8.00\" fill=\"#7b68ee\">14</text>\n</g>\n<!-- 7&#45;&#45;14 -->\n<g id=\"edge14\" class=\"edge\">\n<title>7&#45;&#45;14</title>\n<path fill=\"none\" stroke=\"#c0c0c0\" d=\"M304.2105,-176.3751C288.3091,-182.6861 262.2829,-193.0153 245.4718,-199.6872\"/>\n</g>\n<!-- 9&#45;&#45;10 -->\n<g id=\"edge15\" class=\"edge\">\n<title>9&#45;&#45;10</title>\n<path fill=\"none\" stroke=\"#c0c0c0\" d=\"M91.8111,-63.686C86.5951,-61.686 80.643,-59.4038 75.2404,-57.3323\"/>\n</g>\n<!-- 12 -->\n<g id=\"node13\" class=\"node\">\n<title>12</title>\n<ellipse fill=\"none\" stroke=\"#ff4500\" cx=\"96.3301\" cy=\"-160.2982\" rx=\"19.1842\" ry=\"12.0417\"/>\n<text text-anchor=\"middle\" x=\"96.3301\" y=\"-158.3982\" font-family=\"monospace\" font-size=\"8.00\" fill=\"#7b68ee\">12</text>\n</g>\n<!-- 9&#45;&#45;12 -->\n<g id=\"edge16\" class=\"edge\">\n<title>9&#45;&#45;12</title>\n<path fill=\"none\" stroke=\"#c0c0c0\" d=\"M104.6777,-81.4153C102.8259,-98.9148 99.4513,-130.8041 97.6108,-148.1961\"/>\n</g>\n<!-- 13 -->\n<g id=\"node14\" class=\"node\">\n<title>13</title>\n<ellipse fill=\"none\" stroke=\"#ff4500\" cx=\"52.7332\" cy=\"-15.0799\" rx=\"19.1842\" ry=\"12.0417\"/>\n<text text-anchor=\"middle\" x=\"52.7332\" y=\"-13.1799\" font-family=\"monospace\" font-size=\"8.00\" fill=\"#7b68ee\">13</text>\n</g>\n<!-- 9&#45;&#45;13 -->\n<g id=\"edge17\" class=\"edge\">\n<title>9&#45;&#45;13</title>\n<path fill=\"none\" stroke=\"#c0c0c0\" d=\"M96.2129,-59.2069C86.7257,-49.5785 72.387,-35.0263 62.7992,-25.2957\"/>\n</g>\n<!-- 10&#45;&#45;13 -->\n<g id=\"edge18\" class=\"edge\">\n<title>10&#45;&#45;13</title>\n<path fill=\"none\" stroke=\"#c0c0c0\" d=\"M56.7182,-38.8473C56.0901,-35.1011 55.3987,-30.9779 54.7708,-27.2325\"/>\n</g>\n<!-- 17 -->\n<g id=\"node18\" class=\"node\">\n<title>17</title>\n<ellipse fill=\"none\" stroke=\"#ff4500\" cx=\"19.0919\" cy=\"-113.4052\" rx=\"19.1842\" ry=\"12.0417\"/>\n<text text-anchor=\"middle\" x=\"19.0919\" y=\"-111.5052\" font-family=\"monospace\" font-size=\"8.00\" fill=\"#7b68ee\">17</text>\n</g>\n<!-- 10&#45;&#45;17 -->\n<g id=\"edge19\" class=\"edge\">\n<title>10&#45;&#45;17</title>\n<path fill=\"none\" stroke=\"#c0c0c0\" d=\"M51.4825,-62.4562C44.3255,-73.7139 33.4622,-90.8014 26.3211,-102.0339\"/>\n</g>\n<!-- 11 -->\n<g id=\"node12\" class=\"node\">\n<title>11</title>\n<ellipse fill=\"none\" stroke=\"#ff4500\" cx=\"89.0903\" cy=\"-227.5107\" rx=\"19.1842\" ry=\"12.0417\"/>\n<text text-anchor=\"middle\" x=\"89.0903\" y=\"-225.6107\" font-family=\"monospace\" font-size=\"8.00\" fill=\"#7b68ee\">11</text>\n</g>\n<!-- 11&#45;&#45;12 -->\n<g id=\"edge20\" class=\"edge\">\n<title>11&#45;&#45;12</title>\n<path fill=\"none\" stroke=\"#c0c0c0\" d=\"M90.3846,-215.4945C91.6861,-203.4115 93.6832,-184.8712 94.998,-172.6651\"/>\n</g>\n<!-- 15 -->\n<g id=\"node16\" class=\"node\">\n<title>15</title>\n<ellipse fill=\"none\" stroke=\"#ff4500\" cx=\"132.4657\" cy=\"-204.4575\" rx=\"19.1842\" ry=\"12.0417\"/>\n<text text-anchor=\"middle\" x=\"132.4657\" y=\"-202.5575\" font-family=\"monospace\" font-size=\"8.00\" fill=\"#7b68ee\">15</text>\n</g>\n<!-- 11&#45;&#45;15 -->\n<g id=\"edge21\" class=\"edge\">\n<title>11&#45;&#45;15</title>\n<path fill=\"none\" stroke=\"#c0c0c0\" d=\"M103.7752,-219.706C108.2974,-217.3025 113.2747,-214.6572 117.7958,-212.2542\"/>\n</g>\n<!-- 12&#45;&#45;15 -->\n<g id=\"edge22\" class=\"edge\">\n<title>12&#45;&#45;15</title>\n<path fill=\"none\" stroke=\"#c0c0c0\" d=\"M105.0775,-170.9879C110.6754,-177.8288 117.917,-186.6783 123.5478,-193.5594\"/>\n</g>\n<!-- 16 -->\n<g id=\"node17\" class=\"node\">\n<title>16</title>\n<ellipse fill=\"none\" stroke=\"#ff4500\" cx=\"56.7789\" cy=\"-174.8093\" rx=\"19.1842\" ry=\"12.0417\"/>\n<text text-anchor=\"middle\" x=\"56.7789\" y=\"-172.9093\" font-family=\"monospace\" font-size=\"8.00\" fill=\"#7b68ee\">16</text>\n</g>\n<!-- 12&#45;&#45;16 -->\n<g id=\"edge23\" class=\"edge\">\n<title>12&#45;&#45;16</title>\n<path fill=\"none\" stroke=\"#c0c0c0\" d=\"M79.786,-166.3681C77.6692,-167.1448 75.5016,-167.9401 73.3839,-168.7171\"/>\n</g>\n<!-- 14&#45;&#45;15 -->\n<g id=\"edge24\" class=\"edge\">\n<title>14&#45;&#45;15</title>\n<path fill=\"none\" stroke=\"#c0c0c0\" d=\"M210.1593,-205.7836C193.185,-205.4939 168.5173,-205.0728 151.555,-204.7833\"/>\n</g>\n<!-- 15&#45;&#45;16 -->\n<g id=\"edge25\" class=\"edge\">\n<title>15&#45;&#45;16</title>\n<path fill=\"none\" stroke=\"#c0c0c0\" d=\"M116.0428,-198.0243C103.3476,-193.0513 85.8569,-186.1998 73.1698,-181.23\"/>\n</g>\n<!-- 16&#45;&#45;17 -->\n<g id=\"edge26\" class=\"edge\">\n<title>16&#45;&#45;17</title>\n<path fill=\"none\" stroke=\"#c0c0c0\" d=\"M49.8665,-163.5469C43.1516,-152.6061 33.0027,-136.0703 26.2165,-125.0135\"/>\n</g>\n</g>\n</svg>\n"
          },
          "metadata": {},
          "execution_count": 6
        }
      ]
    },
    {
      "cell_type": "code",
      "metadata": {
        "colab": {
          "base_uri": "https://localhost:8080/"
        },
        "id": "BZ6fxl2JXOdJ",
        "outputId": "48ddb41a-235f-48e9-f537-0a3ccc9215f0"
      },
      "source": [
        "relations = bfs(G, 6)\n",
        "print(f\"Padres = {relations}\")\n",
        "for i in range(len(relations)):\n",
        "  print(f\"Hijo: {i} <- Padre: {relations[i]}\")"
      ],
      "execution_count": 7,
      "outputs": [
        {
          "output_type": "stream",
          "name": "stdout",
          "text": [
            "Padres = [1, 5, 0, 6, 5, 6, None, 8, 5, 6, 3, 12, 9, 9, 7, 12, 12, 10]\n",
            "Hijo: 0 <- Padre: 1\n",
            "Hijo: 1 <- Padre: 5\n",
            "Hijo: 2 <- Padre: 0\n",
            "Hijo: 3 <- Padre: 6\n",
            "Hijo: 4 <- Padre: 5\n",
            "Hijo: 5 <- Padre: 6\n",
            "Hijo: 6 <- Padre: None\n",
            "Hijo: 7 <- Padre: 8\n",
            "Hijo: 8 <- Padre: 5\n",
            "Hijo: 9 <- Padre: 6\n",
            "Hijo: 10 <- Padre: 3\n",
            "Hijo: 11 <- Padre: 12\n",
            "Hijo: 12 <- Padre: 9\n",
            "Hijo: 13 <- Padre: 9\n",
            "Hijo: 14 <- Padre: 7\n",
            "Hijo: 15 <- Padre: 12\n",
            "Hijo: 16 <- Padre: 12\n",
            "Hijo: 17 <- Padre: 10\n"
          ]
        }
      ]
    },
    {
      "cell_type": "code",
      "metadata": {
        "colab": {
          "base_uri": "https://localhost:8080/",
          "height": 401
        },
        "id": "jnBHPmW_Ui3M",
        "outputId": "a57a0bb7-aa81-4565-91b0-7f20046aeadd"
      },
      "source": [
        "adjlShow(G,path=relations)"
      ],
      "execution_count": 8,
      "outputs": [
        {
          "output_type": "execute_result",
          "data": {
            "text/plain": [
              "<graphviz.dot.Graph at 0x7f1f430b9c90>"
            ],
            "image/svg+xml": "<?xml version=\"1.0\" encoding=\"UTF-8\" standalone=\"no\"?>\n<!DOCTYPE svg PUBLIC \"-//W3C//DTD SVG 1.1//EN\"\n \"http://www.w3.org/Graphics/SVG/1.1/DTD/svg11.dtd\">\n<!-- Generated by graphviz version 2.40.1 (20161225.0304)\n -->\n<!-- Title: G Pages: 1 -->\n<svg width=\"506pt\" height=\"270pt\"\n viewBox=\"0.00 0.00 506.01 269.70\" xmlns=\"http://www.w3.org/2000/svg\" xmlns:xlink=\"http://www.w3.org/1999/xlink\">\n<g id=\"graph0\" class=\"graph\" transform=\"scale(1 1) rotate(0) translate(4 265.6957)\">\n<title>G</title>\n<polygon fill=\"#ffffff\" stroke=\"transparent\" points=\"-4,4 -4,-265.6957 502.0078,-265.6957 502.0078,4 -4,4\"/>\n<!-- 0 -->\n<g id=\"node1\" class=\"node\">\n<title>0</title>\n<ellipse fill=\"none\" stroke=\"#ff4500\" cx=\"83.6151\" cy=\"-145.0171\" rx=\"15.6129\" ry=\"12.0417\"/>\n<text text-anchor=\"middle\" x=\"83.6151\" y=\"-143.1171\" font-family=\"monospace\" font-size=\"8.00\" fill=\"#7b68ee\">0</text>\n</g>\n<!-- 2 -->\n<g id=\"node3\" class=\"node\">\n<title>2</title>\n<ellipse fill=\"none\" stroke=\"#ff4500\" cx=\"15.5563\" cy=\"-162.5747\" rx=\"15.6129\" ry=\"12.0417\"/>\n<text text-anchor=\"middle\" x=\"15.5563\" y=\"-160.6747\" font-family=\"monospace\" font-size=\"8.00\" fill=\"#7b68ee\">2</text>\n</g>\n<!-- 0&#45;&#45;2 -->\n<g id=\"edge3\" class=\"edge\">\n<title>0&#45;&#45;2</title>\n<path fill=\"none\" stroke=\"#ffa500\" stroke-width=\"2\" d=\"M68.8474,-148.8268C60.5788,-150.9599 50.0479,-153.6767 40.5347,-156.1309\"/>\n<polygon fill=\"#ffa500\" stroke=\"#ffa500\" stroke-width=\"2\" points=\"39.5752,-152.7637 30.7665,-158.6508 41.3238,-159.5418 39.5752,-152.7637\"/>\n</g>\n<!-- 4 -->\n<g id=\"node5\" class=\"node\">\n<title>4</title>\n<ellipse fill=\"none\" stroke=\"#ff4500\" cx=\"107.6096\" cy=\"-92.5857\" rx=\"15.6129\" ry=\"12.0417\"/>\n<text text-anchor=\"middle\" x=\"107.6096\" y=\"-90.6857\" font-family=\"monospace\" font-size=\"8.00\" fill=\"#7b68ee\">4</text>\n</g>\n<!-- 0&#45;&#45;4 -->\n<g id=\"edge18\" class=\"edge\">\n<title>0&#45;&#45;4</title>\n<path fill=\"none\" stroke=\"#c0c0c0\" d=\"M88.8215,-133.6403C92.8462,-124.8457 98.3912,-112.7292 102.4133,-103.9403\"/>\n</g>\n<!-- 7 -->\n<g id=\"node8\" class=\"node\">\n<title>7</title>\n<ellipse fill=\"none\" stroke=\"#ff4500\" cx=\"165.6596\" cy=\"-196.5376\" rx=\"15.6129\" ry=\"12.0417\"/>\n<text text-anchor=\"middle\" x=\"165.6596\" y=\"-194.6376\" font-family=\"monospace\" font-size=\"8.00\" fill=\"#7b68ee\">7</text>\n</g>\n<!-- 0&#45;&#45;7 -->\n<g id=\"edge19\" class=\"edge\">\n<title>0&#45;&#45;7</title>\n<path fill=\"none\" stroke=\"#c0c0c0\" d=\"M95.721,-152.6191C111.2329,-162.3599 137.9682,-179.1486 153.5039,-188.9044\"/>\n</g>\n<!-- 1 -->\n<g id=\"node2\" class=\"node\">\n<title>1</title>\n<ellipse fill=\"none\" stroke=\"#ff4500\" cx=\"91.4707\" cy=\"-69.6642\" rx=\"15.6129\" ry=\"12.0417\"/>\n<text text-anchor=\"middle\" x=\"91.4707\" y=\"-67.7642\" font-family=\"monospace\" font-size=\"8.00\" fill=\"#7b68ee\">1</text>\n</g>\n<!-- 1&#45;&#45;0 -->\n<g id=\"edge1\" class=\"edge\">\n<title>1&#45;&#45;0</title>\n<path fill=\"none\" stroke=\"#ffa500\" stroke-width=\"2\" d=\"M90.2085,-81.7709C89.07,-92.6916 87.3658,-109.039 85.9752,-122.378\"/>\n<polygon fill=\"#ffa500\" stroke=\"#ffa500\" stroke-width=\"2\" points=\"82.456,-122.381 84.9002,-132.6901 89.4183,-123.1069 82.456,-122.381\"/>\n</g>\n<!-- 1&#45;&#45;4 -->\n<g id=\"edge20\" class=\"edge\">\n<title>1&#45;&#45;4</title>\n<path fill=\"none\" stroke=\"#c0c0c0\" d=\"M98.9731,-80.3197C99.3683,-80.8808 99.7652,-81.4446 100.1601,-82.0055\"/>\n</g>\n<!-- 3 -->\n<g id=\"node4\" class=\"node\">\n<title>3</title>\n<ellipse fill=\"none\" stroke=\"#ff4500\" cx=\"354.9727\" cy=\"-12.0208\" rx=\"15.6129\" ry=\"12.0417\"/>\n<text text-anchor=\"middle\" x=\"354.9727\" y=\"-10.1208\" font-family=\"monospace\" font-size=\"8.00\" fill=\"#7b68ee\">3</text>\n</g>\n<!-- 10 -->\n<g id=\"node11\" class=\"node\">\n<title>10</title>\n<ellipse fill=\"none\" stroke=\"#ff4500\" cx=\"427.5607\" cy=\"-52.6758\" rx=\"19.1842\" ry=\"12.0417\"/>\n<text text-anchor=\"middle\" x=\"427.5607\" y=\"-50.7758\" font-family=\"monospace\" font-size=\"8.00\" fill=\"#7b68ee\">10</text>\n</g>\n<!-- 3&#45;&#45;10 -->\n<g id=\"edge10\" class=\"edge\">\n<title>3&#45;&#45;10</title>\n<path fill=\"none\" stroke=\"#ffa500\" stroke-width=\"2\" d=\"M367.6165,-19.1024C377.7154,-24.7585 392.1414,-32.8382 404.3107,-39.6539\"/>\n<polygon fill=\"#ffa500\" stroke=\"#ffa500\" stroke-width=\"2\" points=\"402.6326,-42.7256 413.0676,-44.5585 406.0532,-36.6182 402.6326,-42.7256\"/>\n</g>\n<!-- 5 -->\n<g id=\"node6\" class=\"node\">\n<title>5</title>\n<ellipse fill=\"none\" stroke=\"#ff4500\" cx=\"173.501\" cy=\"-67.9597\" rx=\"15.6129\" ry=\"12.0417\"/>\n<text text-anchor=\"middle\" x=\"173.501\" y=\"-66.0597\" font-family=\"monospace\" font-size=\"8.00\" fill=\"#7b68ee\">5</text>\n</g>\n<!-- 5&#45;&#45;1 -->\n<g id=\"edge2\" class=\"edge\">\n<title>5&#45;&#45;1</title>\n<path fill=\"none\" stroke=\"#ffa500\" stroke-width=\"2\" d=\"M157.6847,-68.2884C146.3365,-68.5241 130.7863,-68.8473 117.607,-69.1211\"/>\n<polygon fill=\"#ffa500\" stroke=\"#ffa500\" stroke-width=\"2\" points=\"117.1635,-65.6295 107.2384,-69.3365 117.309,-72.628 117.1635,-65.6295\"/>\n</g>\n<!-- 5&#45;&#45;4 -->\n<g id=\"edge5\" class=\"edge\">\n<title>5&#45;&#45;4</title>\n<path fill=\"none\" stroke=\"#ffa500\" stroke-width=\"2\" d=\"M159.2036,-73.3032C151.0871,-76.3366 140.7191,-80.2115 131.4093,-83.6909\"/>\n<polygon fill=\"#ffa500\" stroke=\"#ffa500\" stroke-width=\"2\" points=\"130.021,-80.4732 121.8791,-87.2526 132.4716,-87.0302 130.021,-80.4732\"/>\n</g>\n<!-- 8 -->\n<g id=\"node9\" class=\"node\">\n<title>8</title>\n<ellipse fill=\"none\" stroke=\"#ff4500\" cx=\"163.6869\" cy=\"-136.2709\" rx=\"15.6129\" ry=\"12.0417\"/>\n<text text-anchor=\"middle\" x=\"163.6869\" y=\"-134.3709\" font-family=\"monospace\" font-size=\"8.00\" fill=\"#7b68ee\">8</text>\n</g>\n<!-- 5&#45;&#45;8 -->\n<g id=\"edge8\" class=\"edge\">\n<title>5&#45;&#45;8</title>\n<path fill=\"none\" stroke=\"#ffa500\" stroke-width=\"2\" d=\"M171.7465,-80.1724C170.3927,-89.595 168.4839,-102.8814 166.8637,-114.1588\"/>\n<polygon fill=\"#ffa500\" stroke=\"#ffa500\" stroke-width=\"2\" points=\"163.384,-113.7678 165.4263,-124.1639 170.3129,-114.7633 163.384,-113.7678\"/>\n</g>\n<!-- 6 -->\n<g id=\"node7\" class=\"node\">\n<title>6</title>\n<ellipse fill=\"none\" stroke=\"#ff4500\" cx=\"284.5023\" cy=\"-46.0435\" rx=\"15.6129\" ry=\"12.0417\"/>\n<text text-anchor=\"middle\" x=\"284.5023\" y=\"-44.1435\" font-family=\"monospace\" font-size=\"8.00\" fill=\"#7b68ee\">6</text>\n</g>\n<!-- 6&#45;&#45;3 -->\n<g id=\"edge4\" class=\"edge\">\n<title>6&#45;&#45;3</title>\n<path fill=\"none\" stroke=\"#ffa500\" stroke-width=\"2\" d=\"M297.7573,-39.6441C307.6002,-34.892 321.2534,-28.3003 332.7539,-22.7479\"/>\n<polygon fill=\"#ffa500\" stroke=\"#ffa500\" stroke-width=\"2\" points=\"334.2935,-25.8912 341.7772,-18.3915 331.25,-19.5874 334.2935,-25.8912\"/>\n</g>\n<!-- 6&#45;&#45;5 -->\n<g id=\"edge6\" class=\"edge\">\n<title>6&#45;&#45;5</title>\n<path fill=\"none\" stroke=\"#ffa500\" stroke-width=\"2\" d=\"M269.0681,-49.0909C250.8432,-52.6892 220.2764,-58.7243 198.6242,-62.9994\"/>\n<polygon fill=\"#ffa500\" stroke=\"#ffa500\" stroke-width=\"2\" points=\"197.9368,-59.5674 188.8042,-64.9382 199.2928,-66.4349 197.9368,-59.5674\"/>\n</g>\n<!-- 9 -->\n<g id=\"node10\" class=\"node\">\n<title>9</title>\n<ellipse fill=\"none\" stroke=\"#ff4500\" cx=\"373.9968\" cy=\"-80.779\" rx=\"15.6129\" ry=\"12.0417\"/>\n<text text-anchor=\"middle\" x=\"373.9968\" y=\"-78.879\" font-family=\"monospace\" font-size=\"8.00\" fill=\"#7b68ee\">9</text>\n</g>\n<!-- 6&#45;&#45;9 -->\n<g id=\"edge9\" class=\"edge\">\n<title>6&#45;&#45;9</title>\n<path fill=\"none\" stroke=\"#ffa500\" stroke-width=\"2\" d=\"M298.4858,-51.4709C312.3277,-56.8434 333.7815,-65.1702 350.2892,-71.5774\"/>\n<polygon fill=\"#ffa500\" stroke=\"#ffa500\" stroke-width=\"2\" points=\"349.2273,-74.9195 359.8162,-75.2751 351.7602,-68.3938 349.2273,-74.9195\"/>\n</g>\n<!-- 14 -->\n<g id=\"node15\" class=\"node\">\n<title>14</title>\n<ellipse fill=\"none\" stroke=\"#ff4500\" cx=\"262.3384\" cy=\"-233.0663\" rx=\"19.1842\" ry=\"12.0417\"/>\n<text text-anchor=\"middle\" x=\"262.3384\" y=\"-231.1663\" font-family=\"monospace\" font-size=\"8.00\" fill=\"#7b68ee\">14</text>\n</g>\n<!-- 7&#45;&#45;14 -->\n<g id=\"edge14\" class=\"edge\">\n<title>7&#45;&#45;14</title>\n<path fill=\"none\" stroke=\"#ffa500\" stroke-width=\"2\" d=\"M179.9248,-201.9275C194.7271,-207.5203 218.2023,-216.3901 236.3186,-223.2351\"/>\n<polygon fill=\"#ffa500\" stroke=\"#ffa500\" stroke-width=\"2\" points=\"235.1511,-226.5354 245.7428,-226.7959 237.6253,-219.9873 235.1511,-226.5354\"/>\n</g>\n<!-- 8&#45;&#45;7 -->\n<g id=\"edge7\" class=\"edge\">\n<title>8&#45;&#45;7</title>\n<path fill=\"none\" stroke=\"#ffa500\" stroke-width=\"2\" d=\"M164.0861,-148.4668C164.3268,-155.8186 164.6407,-165.4102 164.9248,-174.0901\"/>\n<polygon fill=\"#ffa500\" stroke=\"#ffa500\" stroke-width=\"2\" points=\"161.4356,-174.4798 165.261,-184.3599 168.4319,-174.2507 161.4356,-174.4798\"/>\n</g>\n<!-- 9&#45;&#45;10 -->\n<g id=\"edge21\" class=\"edge\">\n<title>9&#45;&#45;10</title>\n<path fill=\"none\" stroke=\"#c0c0c0\" d=\"M386.9632,-73.976C394.7655,-69.8824 404.7221,-64.6584 412.8223,-60.4085\"/>\n</g>\n<!-- 12 -->\n<g id=\"node13\" class=\"node\">\n<title>12</title>\n<ellipse fill=\"none\" stroke=\"#ff4500\" cx=\"399.6111\" cy=\"-177.4031\" rx=\"19.1842\" ry=\"12.0417\"/>\n<text text-anchor=\"middle\" x=\"399.6111\" y=\"-175.5031\" font-family=\"monospace\" font-size=\"8.00\" fill=\"#7b68ee\">12</text>\n</g>\n<!-- 9&#45;&#45;12 -->\n<g id=\"edge12\" class=\"edge\">\n<title>9&#45;&#45;12</title>\n<path fill=\"none\" stroke=\"#ffa500\" stroke-width=\"2\" d=\"M377.1377,-92.627C381.2856,-108.2742 388.6677,-136.1216 393.8358,-155.6171\"/>\n<polygon fill=\"#ffa500\" stroke=\"#ffa500\" stroke-width=\"2\" points=\"390.499,-156.6889 396.4446,-165.4582 397.2653,-154.8952 390.499,-156.6889\"/>\n</g>\n<!-- 13 -->\n<g id=\"node14\" class=\"node\">\n<title>13</title>\n<ellipse fill=\"none\" stroke=\"#ff4500\" cx=\"407.1264\" cy=\"-18.5112\" rx=\"19.1842\" ry=\"12.0417\"/>\n<text text-anchor=\"middle\" x=\"407.1264\" y=\"-16.6112\" font-family=\"monospace\" font-size=\"8.00\" fill=\"#7b68ee\">13</text>\n</g>\n<!-- 9&#45;&#45;13 -->\n<g id=\"edge13\" class=\"edge\">\n<title>9&#45;&#45;13</title>\n<path fill=\"none\" stroke=\"#ffa500\" stroke-width=\"2\" d=\"M379.9197,-69.6468C384.4331,-61.1638 390.7743,-49.2453 396.1995,-39.0486\"/>\n<polygon fill=\"#ffa500\" stroke=\"#ffa500\" stroke-width=\"2\" points=\"399.4234,-40.4406 401.0306,-29.9684 393.2436,-37.1526 399.4234,-40.4406\"/>\n</g>\n<!-- 10&#45;&#45;13 -->\n<g id=\"edge22\" class=\"edge\">\n<title>10&#45;&#45;13</title>\n<path fill=\"none\" stroke=\"#c0c0c0\" d=\"M420.6426,-41.1092C418.5122,-37.5473 416.1674,-33.627 414.0374,-30.0659\"/>\n</g>\n<!-- 17 -->\n<g id=\"node18\" class=\"node\">\n<title>17</title>\n<ellipse fill=\"none\" stroke=\"#ff4500\" cx=\"478.9159\" cy=\"-115.4868\" rx=\"19.1842\" ry=\"12.0417\"/>\n<text text-anchor=\"middle\" x=\"478.9159\" y=\"-113.5868\" font-family=\"monospace\" font-size=\"8.00\" fill=\"#7b68ee\">17</text>\n</g>\n<!-- 10&#45;&#45;17 -->\n<g id=\"edge17\" class=\"edge\">\n<title>10&#45;&#45;17</title>\n<path fill=\"none\" stroke=\"#ffa500\" stroke-width=\"2\" d=\"M436.5061,-63.6166C443.9437,-72.7134 454.6987,-85.8675 463.5168,-96.6526\"/>\n<polygon fill=\"#ffa500\" stroke=\"#ffa500\" stroke-width=\"2\" points=\"461.0336,-99.145 470.073,-104.6714 466.4529,-94.7142 461.0336,-99.145\"/>\n</g>\n<!-- 11 -->\n<g id=\"node12\" class=\"node\">\n<title>11</title>\n<ellipse fill=\"none\" stroke=\"#ff4500\" cx=\"415.7296\" cy=\"-249.6749\" rx=\"19.1842\" ry=\"12.0417\"/>\n<text text-anchor=\"middle\" x=\"415.7296\" y=\"-247.7749\" font-family=\"monospace\" font-size=\"8.00\" fill=\"#7b68ee\">11</text>\n</g>\n<!-- 15 -->\n<g id=\"node16\" class=\"node\">\n<title>15</title>\n<ellipse fill=\"none\" stroke=\"#ff4500\" cx=\"366.4668\" cy=\"-227.0836\" rx=\"19.1842\" ry=\"12.0417\"/>\n<text text-anchor=\"middle\" x=\"366.4668\" y=\"-225.1836\" font-family=\"monospace\" font-size=\"8.00\" fill=\"#7b68ee\">15</text>\n</g>\n<!-- 11&#45;&#45;15 -->\n<g id=\"edge23\" class=\"edge\">\n<title>11&#45;&#45;15</title>\n<path fill=\"none\" stroke=\"#c0c0c0\" d=\"M400.1425,-242.5268C394.3921,-239.8898 387.8779,-236.9025 382.1215,-234.2626\"/>\n</g>\n<!-- 12&#45;&#45;11 -->\n<g id=\"edge11\" class=\"edge\">\n<title>12&#45;&#45;11</title>\n<path fill=\"none\" stroke=\"#ffa500\" stroke-width=\"2\" d=\"M402.2727,-189.3373C404.592,-199.7362 408.0149,-215.0839 410.8281,-227.6976\"/>\n<polygon fill=\"#ffa500\" stroke=\"#ffa500\" stroke-width=\"2\" points=\"407.4172,-228.4831 413.0101,-237.4814 414.2493,-226.9593 407.4172,-228.4831\"/>\n</g>\n<!-- 12&#45;&#45;15 -->\n<g id=\"edge15\" class=\"edge\">\n<title>12&#45;&#45;15</title>\n<path fill=\"none\" stroke=\"#ffa500\" stroke-width=\"2\" d=\"M391.9238,-188.9257C388.2748,-194.3952 383.8099,-201.0877 379.644,-207.332\"/>\n<polygon fill=\"#ffa500\" stroke=\"#ffa500\" stroke-width=\"2\" points=\"376.5227,-205.7041 373.8844,-215.9652 382.3457,-209.589 376.5227,-205.7041\"/>\n</g>\n<!-- 16 -->\n<g id=\"node17\" class=\"node\">\n<title>16</title>\n<ellipse fill=\"none\" stroke=\"#ff4500\" cx=\"445.2236\" cy=\"-186.8196\" rx=\"19.1842\" ry=\"12.0417\"/>\n<text text-anchor=\"middle\" x=\"445.2236\" y=\"-184.9196\" font-family=\"monospace\" font-size=\"8.00\" fill=\"#7b68ee\">16</text>\n</g>\n<!-- 12&#45;&#45;16 -->\n<g id=\"edge16\" class=\"edge\">\n<title>12&#45;&#45;16</title>\n<path fill=\"none\" stroke=\"#ffa500\" stroke-width=\"2\" d=\"M417.9006,-181.1789C417.9936,-181.1981 418.0866,-181.2173 418.1798,-181.2365\"/>\n<polygon fill=\"#ffa500\" stroke=\"#ffa500\" stroke-width=\"2\" points=\"416.4288,-184.4488 426.93,-183.043 417.8441,-177.5933 416.4288,-184.4488\"/>\n</g>\n<!-- 14&#45;&#45;15 -->\n<g id=\"edge24\" class=\"edge\">\n<title>14&#45;&#45;15</title>\n<path fill=\"none\" stroke=\"#c0c0c0\" d=\"M281.4371,-231.969C300.1078,-230.8963 328.3868,-229.2715 347.1365,-228.1942\"/>\n</g>\n<!-- 15&#45;&#45;16 -->\n<g id=\"edge25\" class=\"edge\">\n<title>15&#45;&#45;16</title>\n<path fill=\"none\" stroke=\"#c0c0c0\" d=\"M381.6519,-219.3203C395.6873,-212.1447 416.4176,-201.5465 430.3522,-194.4225\"/>\n</g>\n<!-- 16&#45;&#45;17 -->\n<g id=\"edge26\" class=\"edge\">\n<title>16&#45;&#45;17</title>\n<path fill=\"none\" stroke=\"#c0c0c0\" d=\"M450.7872,-175.0405C457.0672,-161.7445 467.2187,-140.2519 473.4558,-127.0468\"/>\n</g>\n</g>\n</svg>\n"
          },
          "metadata": {},
          "execution_count": 8
        }
      ]
    }
  ]
}