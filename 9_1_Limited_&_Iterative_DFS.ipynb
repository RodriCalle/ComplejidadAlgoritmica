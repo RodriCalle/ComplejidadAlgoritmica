{
  "nbformat": 4,
  "nbformat_minor": 0,
  "metadata": {
    "colab": {
      "name": "9.1 Limited & Iterative DFS.ipynb",
      "provenance": [],
      "collapsed_sections": [],
      "authorship_tag": "ABX9TyMft1v4YRqBrEsn0H4X/6i4",
      "include_colab_link": true
    },
    "kernelspec": {
      "name": "python3",
      "display_name": "Python 3"
    },
    "language_info": {
      "name": "python"
    }
  },
  "cells": [
    {
      "cell_type": "markdown",
      "metadata": {
        "id": "view-in-github",
        "colab_type": "text"
      },
      "source": [
        "<a href=\"https://colab.research.google.com/github/RodriCalle/ComplejidadAlgoritmica/blob/main/9_1_Limited_%26_Iterative_DFS.ipynb\" target=\"_parent\"><img src=\"https://colab.research.google.com/assets/colab-badge.svg\" alt=\"Open In Colab\"/></a>"
      ]
    },
    {
      "cell_type": "markdown",
      "metadata": {
        "id": "Chsgmhubs_3A"
      },
      "source": [
        "# Limited DFS"
      ]
    },
    {
      "cell_type": "code",
      "metadata": {
        "id": "gukOYNIPDm8h"
      },
      "source": [
        "import graphviz as gv\n",
        "import numpy as np\n",
        "import pandas as pd"
      ],
      "execution_count": 1,
      "outputs": []
    },
    {
      "cell_type": "code",
      "metadata": {
        "id": "rlw_e6_jSp4b"
      },
      "source": [
        "def readAdjl(fn, haslabels=False, weighted=False, sep=\"|\"):\n",
        "  with open(fn) as f:\n",
        "    labels = None\n",
        "    if haslabels:\n",
        "      labels = f.readline().strip().split()\n",
        "    L = []\n",
        "    for line in f:\n",
        "      if weighted:\n",
        "        L.append([tuple(map(int, p.split(sep))) for p in line.strip().split()])\n",
        "        # line => \"1|3 2|5 4|4\" ==> [(1, 3), (2, 5), (4, 4)]\n",
        "      else: \n",
        "        L.append(list(map(int, line.strip().split()))) # \"1 3 5\" => [1, 3, 5]\n",
        "        # L.append([int(x) for x in line.strip().split()])\n",
        "  return L, labels\n",
        "\n",
        "def adjlShow(L, labels=None, directed=False, weighted=False, path=[], layout=\"sfdp\"):\n",
        "  g = gv.Digraph(\"G\") if directed else gv.Graph(\"G\")\n",
        "  g.graph_attr[\"layout\"] = layout\n",
        "  g.edge_attr[\"color\"] = \"gray\"\n",
        "  g.node_attr[\"color\"] = \"orangered\"\n",
        "  g.node_attr[\"width\"] = \"0.1\"\n",
        "  g.node_attr[\"height\"] = \"0.1\"\n",
        "  g.node_attr[\"fontsize\"] = \"8\"\n",
        "  g.node_attr[\"fontcolor\"] = \"mediumslateblue\"\n",
        "  g.node_attr[\"fontname\"] = \"monospace\"\n",
        "  n = len(L)\n",
        "  for u in range(n):\n",
        "    g.node(str(u), labels[u] if labels else str(u))\n",
        "  added = set()\n",
        "  for v, u in enumerate(path):\n",
        "    if u != None:\n",
        "      g.edge(str(u), str(v), dir=\"forward\", penwidth=\"2\", color=\"orange\")\n",
        "      added.add(f\"{u},{v}\")\n",
        "      added.add(f\"{v},{u}\")\n",
        "  if weighted:\n",
        "    for u in range(n):\n",
        "      for v, w in L[u]:\n",
        "        if not directed and not f\"{u},{v}\" in added:\n",
        "          added.add(f\"{u},{v}\")\n",
        "          added.add(f\"{v},{u}\")\n",
        "          g.edge(str(u), str(v), str(w))\n",
        "        elif directed:\n",
        "          g.edge(str(u), str(v), str(w))\n",
        "  else:\n",
        "    for u in range(n):\n",
        "      for v in L[u]:\n",
        "        if not directed and not f\"{u},{v}\" in added:\n",
        "          added.add(f\"{u},{v}\")\n",
        "          added.add(f\"{v},{u}\")\n",
        "          g.edge(str(u), str(v))\n",
        "        elif directed:\n",
        "          g.edge(str(u), str(v))\n",
        "  return g"
      ],
      "execution_count": 2,
      "outputs": []
    },
    {
      "cell_type": "code",
      "metadata": {
        "id": "x0xDJqynHj0x"
      },
      "source": [
        "def ldfs(G, start, limit):\n",
        "  n = len(G)\n",
        "  path = [None]*n\n",
        "  visited = [False] *n\n",
        "\n",
        "  def _ldfs(G, u,limit):\n",
        "    if limit > 0:\n",
        "      visited[u] = True\n",
        "      for v in G[u]:\n",
        "        if not visited[v]:\n",
        "          visited[v] = True\n",
        "          path[v] = u\n",
        "          _ldfs(G, v, limit - 1)\n",
        "          \n",
        "  _ldfs(G, start, limit)\n",
        "  return path, visited"
      ],
      "execution_count": 3,
      "outputs": []
    },
    {
      "cell_type": "code",
      "metadata": {
        "colab": {
          "base_uri": "https://localhost:8080/"
        },
        "id": "WkEHlxDpLDlC",
        "outputId": "63bd529d-48ba-410a-98bf-a7fc9a79c600"
      },
      "source": [
        "%%file 1.adjlist\n",
        "1 4\n",
        "\n",
        "\n",
        "2 6 17\n",
        "7\n",
        "2\n",
        "10\n",
        "0 8\n",
        "4\n",
        "8\n",
        "\n",
        "8 14\n",
        "16\n",
        "9 17\n",
        "15\n",
        "11 17\n",
        "15 17\n",
        "13"
      ],
      "execution_count": 4,
      "outputs": [
        {
          "output_type": "stream",
          "name": "stdout",
          "text": [
            "Writing 1.adjlist\n"
          ]
        }
      ]
    },
    {
      "cell_type": "code",
      "metadata": {
        "colab": {
          "base_uri": "https://localhost:8080/",
          "height": 686
        },
        "id": "S_o9sQZfTY1z",
        "outputId": "362beb0b-2126-4d5b-c644-6051b35b588e"
      },
      "source": [
        "G, _ = readAdjl(\"1.adjlist\")\n",
        "for i, edges in enumerate(G):\n",
        "  print(f\"{i:2}:{edges}\")\n",
        "adjlShow(G, layout='dot')"
      ],
      "execution_count": 5,
      "outputs": [
        {
          "output_type": "stream",
          "name": "stdout",
          "text": [
            " 0:[1, 4]\n",
            " 1:[]\n",
            " 2:[]\n",
            " 3:[2, 6, 17]\n",
            " 4:[7]\n",
            " 5:[2]\n",
            " 6:[10]\n",
            " 7:[0, 8]\n",
            " 8:[4]\n",
            " 9:[8]\n",
            "10:[]\n",
            "11:[8, 14]\n",
            "12:[16]\n",
            "13:[9, 17]\n",
            "14:[15]\n",
            "15:[11, 17]\n",
            "16:[15, 17]\n",
            "17:[13]\n"
          ]
        },
        {
          "output_type": "execute_result",
          "data": {
            "text/plain": [
              "<graphviz.dot.Graph at 0x7faf73cdf310>"
            ],
            "image/svg+xml": "<?xml version=\"1.0\" encoding=\"UTF-8\" standalone=\"no\"?>\n<!DOCTYPE svg PUBLIC \"-//W3C//DTD SVG 1.1//EN\"\n \"http://www.w3.org/Graphics/SVG/1.1/DTD/svg11.dtd\">\n<!-- Generated by graphviz version 2.40.1 (20161225.0304)\n -->\n<!-- Title: G Pages: 1 -->\n<svg width=\"420pt\" height=\"272pt\"\n viewBox=\"0.00 0.00 420.11 272.21\" xmlns=\"http://www.w3.org/2000/svg\" xmlns:xlink=\"http://www.w3.org/1999/xlink\">\n<g id=\"graph0\" class=\"graph\" transform=\"scale(1 1) rotate(0) translate(4 268.2082)\">\n<title>G</title>\n<polygon fill=\"#ffffff\" stroke=\"transparent\" points=\"-4,4 -4,-268.2082 416.1127,-268.2082 416.1127,4 -4,4\"/>\n<!-- 0 -->\n<g id=\"node1\" class=\"node\">\n<title>0</title>\n<ellipse fill=\"none\" stroke=\"#ff4500\" cx=\"59.5563\" cy=\"-192.1457\" rx=\"15.6129\" ry=\"12.0417\"/>\n<text text-anchor=\"middle\" x=\"59.5563\" y=\"-190.2457\" font-family=\"monospace\" font-size=\"8.00\" fill=\"#7b68ee\">0</text>\n</g>\n<!-- 1 -->\n<g id=\"node2\" class=\"node\">\n<title>1</title>\n<ellipse fill=\"none\" stroke=\"#ff4500\" cx=\"15.5563\" cy=\"-132.1041\" rx=\"15.6129\" ry=\"12.0417\"/>\n<text text-anchor=\"middle\" x=\"15.5563\" y=\"-130.2041\" font-family=\"monospace\" font-size=\"8.00\" fill=\"#7b68ee\">1</text>\n</g>\n<!-- 0&#45;&#45;1 -->\n<g id=\"edge1\" class=\"edge\">\n<title>0&#45;&#45;1</title>\n<path fill=\"none\" stroke=\"#c0c0c0\" d=\"M51.69,-181.4115C43.6812,-170.4827 31.3387,-153.6404 23.3546,-142.7454\"/>\n</g>\n<!-- 4 -->\n<g id=\"node5\" class=\"node\">\n<title>4</title>\n<ellipse fill=\"none\" stroke=\"#ff4500\" cx=\"103.5563\" cy=\"-132.1041\" rx=\"15.6129\" ry=\"12.0417\"/>\n<text text-anchor=\"middle\" x=\"103.5563\" y=\"-130.2041\" font-family=\"monospace\" font-size=\"8.00\" fill=\"#7b68ee\">4</text>\n</g>\n<!-- 0&#45;&#45;4 -->\n<g id=\"edge2\" class=\"edge\">\n<title>0&#45;&#45;4</title>\n<path fill=\"none\" stroke=\"#c0c0c0\" d=\"M67.4227,-181.4115C75.4315,-170.4827 87.774,-153.6404 95.7581,-142.7454\"/>\n</g>\n<!-- 2 -->\n<g id=\"node3\" class=\"node\">\n<title>2</title>\n<ellipse fill=\"none\" stroke=\"#ff4500\" cx=\"396.5563\" cy=\"-72.0624\" rx=\"15.6129\" ry=\"12.0417\"/>\n<text text-anchor=\"middle\" x=\"396.5563\" y=\"-70.1624\" font-family=\"monospace\" font-size=\"8.00\" fill=\"#7b68ee\">2</text>\n</g>\n<!-- 3 -->\n<g id=\"node4\" class=\"node\">\n<title>3</title>\n<ellipse fill=\"none\" stroke=\"#ff4500\" cx=\"347.5563\" cy=\"-132.1041\" rx=\"15.6129\" ry=\"12.0417\"/>\n<text text-anchor=\"middle\" x=\"347.5563\" y=\"-130.2041\" font-family=\"monospace\" font-size=\"8.00\" fill=\"#7b68ee\">3</text>\n</g>\n<!-- 3&#45;&#45;2 -->\n<g id=\"edge3\" class=\"edge\">\n<title>3&#45;&#45;2</title>\n<path fill=\"none\" stroke=\"#c0c0c0\" d=\"M355.8685,-121.9188C364.8244,-110.9448 379.0039,-93.5702 388.0387,-82.4995\"/>\n</g>\n<!-- 6 -->\n<g id=\"node7\" class=\"node\">\n<title>6</title>\n<ellipse fill=\"none\" stroke=\"#ff4500\" cx=\"347.5563\" cy=\"-72.0624\" rx=\"15.6129\" ry=\"12.0417\"/>\n<text text-anchor=\"middle\" x=\"347.5563\" y=\"-70.1624\" font-family=\"monospace\" font-size=\"8.00\" fill=\"#7b68ee\">6</text>\n</g>\n<!-- 3&#45;&#45;6 -->\n<g id=\"edge4\" class=\"edge\">\n<title>3&#45;&#45;6</title>\n<path fill=\"none\" stroke=\"#c0c0c0\" d=\"M347.5563,-119.9538C347.5563,-109.5368 347.5563,-94.6064 347.5563,-84.1947\"/>\n</g>\n<!-- 17 -->\n<g id=\"node18\" class=\"node\">\n<title>17</title>\n<ellipse fill=\"none\" stroke=\"#ff4500\" cx=\"294.5563\" cy=\"-72.0624\" rx=\"19.1842\" ry=\"12.0417\"/>\n<text text-anchor=\"middle\" x=\"294.5563\" y=\"-70.1624\" font-family=\"monospace\" font-size=\"8.00\" fill=\"#7b68ee\">17</text>\n</g>\n<!-- 3&#45;&#45;17 -->\n<g id=\"edge5\" class=\"edge\">\n<title>3&#45;&#45;17</title>\n<path fill=\"none\" stroke=\"#c0c0c0\" d=\"M338.5656,-121.9188C328.9968,-111.0787 313.9149,-93.993 304.1293,-82.9073\"/>\n</g>\n<!-- 7 -->\n<g id=\"node8\" class=\"node\">\n<title>7</title>\n<ellipse fill=\"none\" stroke=\"#ff4500\" cx=\"59.5563\" cy=\"-72.0624\" rx=\"15.6129\" ry=\"12.0417\"/>\n<text text-anchor=\"middle\" x=\"59.5563\" y=\"-70.1624\" font-family=\"monospace\" font-size=\"8.00\" fill=\"#7b68ee\">7</text>\n</g>\n<!-- 4&#45;&#45;7 -->\n<g id=\"edge6\" class=\"edge\">\n<title>4&#45;&#45;7</title>\n<path fill=\"none\" stroke=\"#c0c0c0\" d=\"M95.69,-121.3698C87.6812,-110.4411 75.3387,-93.5988 67.3546,-82.7038\"/>\n</g>\n<!-- 5 -->\n<g id=\"node6\" class=\"node\">\n<title>5</title>\n<ellipse fill=\"none\" stroke=\"#ff4500\" cx=\"396.5563\" cy=\"-132.1041\" rx=\"15.6129\" ry=\"12.0417\"/>\n<text text-anchor=\"middle\" x=\"396.5563\" y=\"-130.2041\" font-family=\"monospace\" font-size=\"8.00\" fill=\"#7b68ee\">5</text>\n</g>\n<!-- 5&#45;&#45;2 -->\n<g id=\"edge7\" class=\"edge\">\n<title>5&#45;&#45;2</title>\n<path fill=\"none\" stroke=\"#c0c0c0\" d=\"M396.5563,-119.9538C396.5563,-109.5368 396.5563,-94.6064 396.5563,-84.1947\"/>\n</g>\n<!-- 10 -->\n<g id=\"node11\" class=\"node\">\n<title>10</title>\n<ellipse fill=\"none\" stroke=\"#ff4500\" cx=\"347.5563\" cy=\"-12.0208\" rx=\"19.1842\" ry=\"12.0417\"/>\n<text text-anchor=\"middle\" x=\"347.5563\" y=\"-10.1208\" font-family=\"monospace\" font-size=\"8.00\" fill=\"#7b68ee\">10</text>\n</g>\n<!-- 6&#45;&#45;10 -->\n<g id=\"edge8\" class=\"edge\">\n<title>6&#45;&#45;10</title>\n<path fill=\"none\" stroke=\"#c0c0c0\" d=\"M347.5563,-59.9121C347.5563,-49.4952 347.5563,-34.5648 347.5563,-24.1531\"/>\n</g>\n<!-- 7&#45;&#45;0 -->\n<g id=\"edge9\" class=\"edge\">\n<title>7&#45;&#45;0</title>\n<path fill=\"none\" stroke=\"#c0c0c0\" d=\"M59.5563,-84.2149C59.5563,-107.1572 59.5563,-156.6163 59.5563,-179.747\"/>\n</g>\n<!-- 8 -->\n<g id=\"node9\" class=\"node\">\n<title>8</title>\n<ellipse fill=\"none\" stroke=\"#ff4500\" cx=\"136.5563\" cy=\"-12.0208\" rx=\"15.6129\" ry=\"12.0417\"/>\n<text text-anchor=\"middle\" x=\"136.5563\" y=\"-10.1208\" font-family=\"monospace\" font-size=\"8.00\" fill=\"#7b68ee\">8</text>\n</g>\n<!-- 7&#45;&#45;8 -->\n<g id=\"edge10\" class=\"edge\">\n<title>7&#45;&#45;8</title>\n<path fill=\"none\" stroke=\"#c0c0c0\" d=\"M70.5886,-63.4599C85.2263,-52.046 110.9172,-32.0132 125.5446,-20.6074\"/>\n</g>\n<!-- 8&#45;&#45;4 -->\n<g id=\"edge11\" class=\"edge\">\n<title>8&#45;&#45;4</title>\n<path fill=\"none\" stroke=\"#c0c0c0\" d=\"M133.0189,-23.8372C130.1357,-33.5425 125.9936,-47.6574 122.5563,-60.0416 116.7431,-80.9864 110.3771,-105.4758 106.6874,-119.8374\"/>\n</g>\n<!-- 9 -->\n<g id=\"node10\" class=\"node\">\n<title>9</title>\n<ellipse fill=\"none\" stroke=\"#ff4500\" cx=\"147.5563\" cy=\"-72.0624\" rx=\"15.6129\" ry=\"12.0417\"/>\n<text text-anchor=\"middle\" x=\"147.5563\" y=\"-70.1624\" font-family=\"monospace\" font-size=\"8.00\" fill=\"#7b68ee\">9</text>\n</g>\n<!-- 9&#45;&#45;8 -->\n<g id=\"edge12\" class=\"edge\">\n<title>9&#45;&#45;8</title>\n<path fill=\"none\" stroke=\"#c0c0c0\" d=\"M145.3303,-59.9121C143.4219,-49.4952 140.6865,-34.5648 138.7791,-24.1531\"/>\n</g>\n<!-- 11 -->\n<g id=\"node12\" class=\"node\">\n<title>11</title>\n<ellipse fill=\"none\" stroke=\"#ff4500\" cx=\"200.5563\" cy=\"-72.0624\" rx=\"19.1842\" ry=\"12.0417\"/>\n<text text-anchor=\"middle\" x=\"200.5563\" y=\"-70.1624\" font-family=\"monospace\" font-size=\"8.00\" fill=\"#7b68ee\">11</text>\n</g>\n<!-- 11&#45;&#45;8 -->\n<g id=\"edge13\" class=\"edge\">\n<title>11&#45;&#45;8</title>\n<path fill=\"none\" stroke=\"#c0c0c0\" d=\"M189.6996,-61.8772C177.7168,-50.6355 158.5746,-32.6772 146.8302,-21.6592\"/>\n</g>\n<!-- 14 -->\n<g id=\"node15\" class=\"node\">\n<title>14</title>\n<ellipse fill=\"none\" stroke=\"#ff4500\" cx=\"211.5563\" cy=\"-12.0208\" rx=\"19.1842\" ry=\"12.0417\"/>\n<text text-anchor=\"middle\" x=\"211.5563\" y=\"-10.1208\" font-family=\"monospace\" font-size=\"8.00\" fill=\"#7b68ee\">14</text>\n</g>\n<!-- 11&#45;&#45;14 -->\n<g id=\"edge14\" class=\"edge\">\n<title>11&#45;&#45;14</title>\n<path fill=\"none\" stroke=\"#c0c0c0\" d=\"M202.7824,-59.9121C204.6908,-49.4952 207.4262,-34.5648 209.3336,-24.1531\"/>\n</g>\n<!-- 12 -->\n<g id=\"node13\" class=\"node\">\n<title>12</title>\n<ellipse fill=\"none\" stroke=\"#ff4500\" cx=\"270.5563\" cy=\"-252.1873\" rx=\"19.1842\" ry=\"12.0417\"/>\n<text text-anchor=\"middle\" x=\"270.5563\" y=\"-250.2873\" font-family=\"monospace\" font-size=\"8.00\" fill=\"#7b68ee\">12</text>\n</g>\n<!-- 16 -->\n<g id=\"node17\" class=\"node\">\n<title>16</title>\n<ellipse fill=\"none\" stroke=\"#ff4500\" cx=\"270.5563\" cy=\"-192.1457\" rx=\"19.1842\" ry=\"12.0417\"/>\n<text text-anchor=\"middle\" x=\"270.5563\" y=\"-190.2457\" font-family=\"monospace\" font-size=\"8.00\" fill=\"#7b68ee\">16</text>\n</g>\n<!-- 12&#45;&#45;16 -->\n<g id=\"edge15\" class=\"edge\">\n<title>12&#45;&#45;16</title>\n<path fill=\"none\" stroke=\"#c0c0c0\" d=\"M270.5563,-240.037C270.5563,-229.6201 270.5563,-214.6897 270.5563,-204.278\"/>\n</g>\n<!-- 13 -->\n<g id=\"node14\" class=\"node\">\n<title>13</title>\n<ellipse fill=\"none\" stroke=\"#ff4500\" cx=\"174.5563\" cy=\"-132.1041\" rx=\"19.1842\" ry=\"12.0417\"/>\n<text text-anchor=\"middle\" x=\"174.5563\" y=\"-130.2041\" font-family=\"monospace\" font-size=\"8.00\" fill=\"#7b68ee\">13</text>\n</g>\n<!-- 13&#45;&#45;9 -->\n<g id=\"edge16\" class=\"edge\">\n<title>13&#45;&#45;9</title>\n<path fill=\"none\" stroke=\"#c0c0c0\" d=\"M169.3505,-120.5274C164.5694,-109.8954 157.5223,-94.2243 152.7462,-83.6035\"/>\n</g>\n<!-- 13&#45;&#45;17 -->\n<g id=\"edge17\" class=\"edge\">\n<title>13&#45;&#45;17</title>\n<path fill=\"none\" stroke=\"#c0c0c0\" d=\"M189.7544,-124.4998C212.837,-112.9505 256.4726,-91.1175 279.4817,-79.605\"/>\n</g>\n<!-- 15 -->\n<g id=\"node16\" class=\"node\">\n<title>15</title>\n<ellipse fill=\"none\" stroke=\"#ff4500\" cx=\"247.5563\" cy=\"-132.1041\" rx=\"19.1842\" ry=\"12.0417\"/>\n<text text-anchor=\"middle\" x=\"247.5563\" y=\"-130.2041\" font-family=\"monospace\" font-size=\"8.00\" fill=\"#7b68ee\">15</text>\n</g>\n<!-- 14&#45;&#45;15 -->\n<g id=\"edge18\" class=\"edge\">\n<title>14&#45;&#45;15</title>\n<path fill=\"none\" stroke=\"#c0c0c0\" d=\"M216.0216,-23.771C219.6211,-33.4379 224.7005,-47.5334 228.5563,-60.0416 234.9977,-80.9372 241.2148,-105.6494 244.6965,-120.0326\"/>\n</g>\n<!-- 15&#45;&#45;11 -->\n<g id=\"edge19\" class=\"edge\">\n<title>15&#45;&#45;11</title>\n<path fill=\"none\" stroke=\"#c0c0c0\" d=\"M238.9358,-121.0915C230.4555,-110.2581 217.5836,-93.8145 209.1222,-83.0052\"/>\n</g>\n<!-- 15&#45;&#45;17 -->\n<g id=\"edge20\" class=\"edge\">\n<title>15&#45;&#45;17</title>\n<path fill=\"none\" stroke=\"#c0c0c0\" d=\"M256.1769,-121.0915C264.6572,-110.2581 277.5291,-93.8145 285.9905,-83.0052\"/>\n</g>\n<!-- 16&#45;&#45;15 -->\n<g id=\"edge21\" class=\"edge\">\n<title>16&#45;&#45;15</title>\n<path fill=\"none\" stroke=\"#c0c0c0\" d=\"M266.0123,-180.2834C261.9801,-169.7573 256.1203,-154.4604 252.091,-143.9417\"/>\n</g>\n<!-- 16&#45;&#45;17 -->\n<g id=\"edge22\" class=\"edge\">\n<title>16&#45;&#45;17</title>\n<path fill=\"none\" stroke=\"#c0c0c0\" d=\"M272.9453,-180.1926C277.5219,-157.2938 287.481,-107.4636 292.1056,-84.3247\"/>\n</g>\n</g>\n</svg>\n"
          },
          "metadata": {},
          "execution_count": 5
        }
      ]
    },
    {
      "cell_type": "code",
      "metadata": {
        "colab": {
          "base_uri": "https://localhost:8080/",
          "height": 450
        },
        "id": "Qj5lT9UVWZ5Y",
        "outputId": "3d118b1f-5240-4d7d-93cf-fd43a3dfbe1b"
      },
      "source": [
        "path, visited = ldfs(G, 12, limit=2)\n",
        "print(path)\n",
        "adjlShow(G, path =path)"
      ],
      "execution_count": 6,
      "outputs": [
        {
          "output_type": "stream",
          "name": "stdout",
          "text": [
            "[None, None, None, None, None, None, None, None, None, None, None, None, None, None, None, 16, 12, 16]\n"
          ]
        },
        {
          "output_type": "execute_result",
          "data": {
            "text/plain": [
              "<graphviz.dot.Graph at 0x7faf73cdfcd0>"
            ],
            "image/svg+xml": "<?xml version=\"1.0\" encoding=\"UTF-8\" standalone=\"no\"?>\n<!DOCTYPE svg PUBLIC \"-//W3C//DTD SVG 1.1//EN\"\n \"http://www.w3.org/Graphics/SVG/1.1/DTD/svg11.dtd\">\n<!-- Generated by graphviz version 2.40.1 (20161225.0304)\n -->\n<!-- Title: G Pages: 1 -->\n<svg width=\"558pt\" height=\"294pt\"\n viewBox=\"0.00 0.00 558.23 294.45\" xmlns=\"http://www.w3.org/2000/svg\" xmlns:xlink=\"http://www.w3.org/1999/xlink\">\n<g id=\"graph0\" class=\"graph\" transform=\"scale(1 1) rotate(0) translate(4 290.4496)\">\n<title>G</title>\n<polygon fill=\"#ffffff\" stroke=\"transparent\" points=\"-4,4 -4,-290.4496 554.2283,-290.4496 554.2283,4 -4,4\"/>\n<!-- 0 -->\n<g id=\"node1\" class=\"node\">\n<title>0</title>\n<ellipse fill=\"none\" stroke=\"#ff4500\" cx=\"37.6262\" cy=\"-94.4398\" rx=\"15.6129\" ry=\"12.0417\"/>\n<text text-anchor=\"middle\" x=\"37.6262\" y=\"-92.5398\" font-family=\"monospace\" font-size=\"8.00\" fill=\"#7b68ee\">0</text>\n</g>\n<!-- 1 -->\n<g id=\"node2\" class=\"node\">\n<title>1</title>\n<ellipse fill=\"none\" stroke=\"#ff4500\" cx=\"15.5563\" cy=\"-50.2459\" rx=\"15.6129\" ry=\"12.0417\"/>\n<text text-anchor=\"middle\" x=\"15.5563\" y=\"-48.3459\" font-family=\"monospace\" font-size=\"8.00\" fill=\"#7b68ee\">1</text>\n</g>\n<!-- 0&#45;&#45;1 -->\n<g id=\"edge4\" class=\"edge\">\n<title>0&#45;&#45;1</title>\n<path fill=\"none\" stroke=\"#c0c0c0\" d=\"M31.8276,-82.8284C28.5581,-76.2814 24.4903,-68.1358 21.2399,-61.6269\"/>\n</g>\n<!-- 4 -->\n<g id=\"node5\" class=\"node\">\n<title>4</title>\n<ellipse fill=\"none\" stroke=\"#ff4500\" cx=\"74.298\" cy=\"-133.9311\" rx=\"15.6129\" ry=\"12.0417\"/>\n<text text-anchor=\"middle\" x=\"74.298\" y=\"-132.0311\" font-family=\"monospace\" font-size=\"8.00\" fill=\"#7b68ee\">4</text>\n</g>\n<!-- 0&#45;&#45;4 -->\n<g id=\"edge5\" class=\"edge\">\n<title>0&#45;&#45;4</title>\n<path fill=\"none\" stroke=\"#c0c0c0\" d=\"M46.88,-104.4051C52.4816,-110.4374 59.5962,-118.0989 65.1741,-124.1057\"/>\n</g>\n<!-- 2 -->\n<g id=\"node3\" class=\"node\">\n<title>2</title>\n<ellipse fill=\"none\" stroke=\"#ff4500\" cx=\"489.5577\" cy=\"-127.8498\" rx=\"15.6129\" ry=\"12.0417\"/>\n<text text-anchor=\"middle\" x=\"489.5577\" y=\"-125.9498\" font-family=\"monospace\" font-size=\"8.00\" fill=\"#7b68ee\">2</text>\n</g>\n<!-- 3 -->\n<g id=\"node4\" class=\"node\">\n<title>3</title>\n<ellipse fill=\"none\" stroke=\"#ff4500\" cx=\"427.9919\" cy=\"-114.6877\" rx=\"15.6129\" ry=\"12.0417\"/>\n<text text-anchor=\"middle\" x=\"427.9919\" y=\"-112.7877\" font-family=\"monospace\" font-size=\"8.00\" fill=\"#7b68ee\">3</text>\n</g>\n<!-- 3&#45;&#45;2 -->\n<g id=\"edge6\" class=\"edge\">\n<title>3&#45;&#45;2</title>\n<path fill=\"none\" stroke=\"#c0c0c0\" d=\"M443.2104,-117.9412C452.7534,-119.9814 465.0046,-122.6006 474.5142,-124.6337\"/>\n</g>\n<!-- 6 -->\n<g id=\"node7\" class=\"node\">\n<title>6</title>\n<ellipse fill=\"none\" stroke=\"#ff4500\" cx=\"473.9189\" cy=\"-55.7691\" rx=\"15.6129\" ry=\"12.0417\"/>\n<text text-anchor=\"middle\" x=\"473.9189\" y=\"-53.8691\" font-family=\"monospace\" font-size=\"8.00\" fill=\"#7b68ee\">6</text>\n</g>\n<!-- 3&#45;&#45;6 -->\n<g id=\"edge7\" class=\"edge\">\n<title>3&#45;&#45;6</title>\n<path fill=\"none\" stroke=\"#c0c0c0\" d=\"M436.2027,-104.1542C444.5623,-93.4299 457.4453,-76.9027 465.7792,-66.2114\"/>\n</g>\n<!-- 17 -->\n<g id=\"node18\" class=\"node\">\n<title>17</title>\n<ellipse fill=\"none\" stroke=\"#ff4500\" cx=\"343.0326\" cy=\"-157.8401\" rx=\"19.1842\" ry=\"12.0417\"/>\n<text text-anchor=\"middle\" x=\"343.0326\" y=\"-155.9401\" font-family=\"monospace\" font-size=\"8.00\" fill=\"#7b68ee\">17</text>\n</g>\n<!-- 3&#45;&#45;17 -->\n<g id=\"edge8\" class=\"edge\">\n<title>3&#45;&#45;17</title>\n<path fill=\"none\" stroke=\"#c0c0c0\" d=\"M414.717,-121.4303C399.316,-129.2527 373.9887,-142.1169 357.9286,-150.2742\"/>\n</g>\n<!-- 7 -->\n<g id=\"node8\" class=\"node\">\n<title>7</title>\n<ellipse fill=\"none\" stroke=\"#ff4500\" cx=\"85.5768\" cy=\"-109.8853\" rx=\"15.6129\" ry=\"12.0417\"/>\n<text text-anchor=\"middle\" x=\"85.5768\" y=\"-107.9853\" font-family=\"monospace\" font-size=\"8.00\" fill=\"#7b68ee\">7</text>\n</g>\n<!-- 4&#45;&#45;7 -->\n<g id=\"edge9\" class=\"edge\">\n<title>4&#45;&#45;7</title>\n<path fill=\"none\" stroke=\"#c0c0c0\" d=\"M79.6731,-122.4716C79.8547,-122.0845 80.0366,-121.6966 80.2182,-121.3096\"/>\n</g>\n<!-- 5 -->\n<g id=\"node6\" class=\"node\">\n<title>5</title>\n<ellipse fill=\"none\" stroke=\"#ff4500\" cx=\"534.672\" cy=\"-137.3053\" rx=\"15.6129\" ry=\"12.0417\"/>\n<text text-anchor=\"middle\" x=\"534.672\" y=\"-135.4053\" font-family=\"monospace\" font-size=\"8.00\" fill=\"#7b68ee\">5</text>\n</g>\n<!-- 5&#45;&#45;2 -->\n<g id=\"edge10\" class=\"edge\">\n<title>5&#45;&#45;2</title>\n<path fill=\"none\" stroke=\"#c0c0c0\" d=\"M519.6496,-134.1567C514.8307,-133.1467 509.4935,-132.0281 504.6683,-131.0168\"/>\n</g>\n<!-- 10 -->\n<g id=\"node11\" class=\"node\">\n<title>10</title>\n<ellipse fill=\"none\" stroke=\"#ff4500\" cx=\"511.9182\" cy=\"-12.0208\" rx=\"19.1842\" ry=\"12.0417\"/>\n<text text-anchor=\"middle\" x=\"511.9182\" y=\"-10.1208\" font-family=\"monospace\" font-size=\"8.00\" fill=\"#7b68ee\">10</text>\n</g>\n<!-- 6&#45;&#45;10 -->\n<g id=\"edge11\" class=\"edge\">\n<title>6&#45;&#45;10</title>\n<path fill=\"none\" stroke=\"#c0c0c0\" d=\"M482.7322,-45.6224C488.6957,-38.7567 496.5601,-29.7025 502.6225,-22.7229\"/>\n</g>\n<!-- 7&#45;&#45;0 -->\n<g id=\"edge12\" class=\"edge\">\n<title>7&#45;&#45;0</title>\n<path fill=\"none\" stroke=\"#c0c0c0\" d=\"M71.1901,-105.2511C65.1211,-103.2962 58.0707,-101.0252 52.0028,-99.0707\"/>\n</g>\n<!-- 8 -->\n<g id=\"node9\" class=\"node\">\n<title>8</title>\n<ellipse fill=\"none\" stroke=\"#ff4500\" cx=\"141.9113\" cy=\"-141.8675\" rx=\"15.6129\" ry=\"12.0417\"/>\n<text text-anchor=\"middle\" x=\"141.9113\" y=\"-139.9675\" font-family=\"monospace\" font-size=\"8.00\" fill=\"#7b68ee\">8</text>\n</g>\n<!-- 7&#45;&#45;8 -->\n<g id=\"edge13\" class=\"edge\">\n<title>7&#45;&#45;8</title>\n<path fill=\"none\" stroke=\"#c0c0c0\" d=\"M98.36,-117.1425C107.5795,-122.3766 119.9709,-129.4115 129.1787,-134.6389\"/>\n</g>\n<!-- 8&#45;&#45;4 -->\n<g id=\"edge14\" class=\"edge\">\n<title>8&#45;&#45;4</title>\n<path fill=\"none\" stroke=\"#c0c0c0\" d=\"M126.2295,-140.0268C115.3064,-138.7446 100.7992,-137.0418 89.8947,-135.7618\"/>\n</g>\n<!-- 9 -->\n<g id=\"node10\" class=\"node\">\n<title>9</title>\n<ellipse fill=\"none\" stroke=\"#ff4500\" cx=\"206.2616\" cy=\"-120.3356\" rx=\"15.6129\" ry=\"12.0417\"/>\n<text text-anchor=\"middle\" x=\"206.2616\" y=\"-118.4356\" font-family=\"monospace\" font-size=\"8.00\" fill=\"#7b68ee\">9</text>\n</g>\n<!-- 9&#45;&#45;8 -->\n<g id=\"edge15\" class=\"edge\">\n<title>9&#45;&#45;8</title>\n<path fill=\"none\" stroke=\"#c0c0c0\" d=\"M191.9802,-125.1142C181.4644,-128.6328 167.2094,-133.4026 156.599,-136.9529\"/>\n</g>\n<!-- 11 -->\n<g id=\"node12\" class=\"node\">\n<title>11</title>\n<ellipse fill=\"none\" stroke=\"#ff4500\" cx=\"207.128\" cy=\"-189.0884\" rx=\"19.1842\" ry=\"12.0417\"/>\n<text text-anchor=\"middle\" x=\"207.128\" y=\"-187.1884\" font-family=\"monospace\" font-size=\"8.00\" fill=\"#7b68ee\">11</text>\n</g>\n<!-- 11&#45;&#45;8 -->\n<g id=\"edge16\" class=\"edge\">\n<title>11&#45;&#45;8</title>\n<path fill=\"none\" stroke=\"#c0c0c0\" d=\"M194.5535,-179.9837C182.709,-171.4076 165.1068,-158.6625 153.5708,-150.3096\"/>\n</g>\n<!-- 14 -->\n<g id=\"node15\" class=\"node\">\n<title>14</title>\n<ellipse fill=\"none\" stroke=\"#ff4500\" cx=\"236.1314\" cy=\"-227.1369\" rx=\"19.1842\" ry=\"12.0417\"/>\n<text text-anchor=\"middle\" x=\"236.1314\" y=\"-225.2369\" font-family=\"monospace\" font-size=\"8.00\" fill=\"#7b68ee\">14</text>\n</g>\n<!-- 11&#45;&#45;14 -->\n<g id=\"edge17\" class=\"edge\">\n<title>11&#45;&#45;14</title>\n<path fill=\"none\" stroke=\"#c0c0c0\" d=\"M215.6731,-200.2984C219.4829,-205.2963 223.9565,-211.1651 227.7473,-216.1381\"/>\n</g>\n<!-- 12 -->\n<g id=\"node13\" class=\"node\">\n<title>12</title>\n<ellipse fill=\"none\" stroke=\"#ff4500\" cx=\"364.4336\" cy=\"-274.4288\" rx=\"19.1842\" ry=\"12.0417\"/>\n<text text-anchor=\"middle\" x=\"364.4336\" y=\"-272.5288\" font-family=\"monospace\" font-size=\"8.00\" fill=\"#7b68ee\">12</text>\n</g>\n<!-- 16 -->\n<g id=\"node17\" class=\"node\">\n<title>16</title>\n<ellipse fill=\"none\" stroke=\"#ff4500\" cx=\"338.0162\" cy=\"-220.687\" rx=\"19.1842\" ry=\"12.0417\"/>\n<text text-anchor=\"middle\" x=\"338.0162\" y=\"-218.787\" font-family=\"monospace\" font-size=\"8.00\" fill=\"#7b68ee\">16</text>\n</g>\n<!-- 12&#45;&#45;16 -->\n<g id=\"edge2\" class=\"edge\">\n<title>12&#45;&#45;16</title>\n<path fill=\"none\" stroke=\"#ffa500\" stroke-width=\"2\" d=\"M358.7014,-262.7676C355.655,-256.5703 351.8175,-248.7635 348.2776,-241.5622\"/>\n<polygon fill=\"#ffa500\" stroke=\"#ffa500\" stroke-width=\"2\" points=\"351.2897,-239.7558 343.7372,-232.3254 345.0077,-242.8438 351.2897,-239.7558\"/>\n</g>\n<!-- 13 -->\n<g id=\"node14\" class=\"node\">\n<title>13</title>\n<ellipse fill=\"none\" stroke=\"#ff4500\" cx=\"277.4284\" cy=\"-125.8023\" rx=\"19.1842\" ry=\"12.0417\"/>\n<text text-anchor=\"middle\" x=\"277.4284\" y=\"-123.9023\" font-family=\"monospace\" font-size=\"8.00\" fill=\"#7b68ee\">13</text>\n</g>\n<!-- 13&#45;&#45;9 -->\n<g id=\"edge18\" class=\"edge\">\n<title>13&#45;&#45;9</title>\n<path fill=\"none\" stroke=\"#c0c0c0\" d=\"M258.357,-124.3373C246.9933,-123.4644 232.7428,-122.3697 222.02,-121.546\"/>\n</g>\n<!-- 13&#45;&#45;17 -->\n<g id=\"edge19\" class=\"edge\">\n<title>13&#45;&#45;17</title>\n<path fill=\"none\" stroke=\"#c0c0c0\" d=\"M292.6442,-133.2329C303.2427,-138.4087 317.3188,-145.2828 327.8992,-150.4498\"/>\n</g>\n<!-- 15 -->\n<g id=\"node16\" class=\"node\">\n<title>15</title>\n<ellipse fill=\"none\" stroke=\"#ff4500\" cx=\"281.9387\" cy=\"-200.0407\" rx=\"19.1842\" ry=\"12.0417\"/>\n<text text-anchor=\"middle\" x=\"281.9387\" y=\"-198.1407\" font-family=\"monospace\" font-size=\"8.00\" fill=\"#7b68ee\">15</text>\n</g>\n<!-- 14&#45;&#45;15 -->\n<g id=\"edge20\" class=\"edge\">\n<title>14&#45;&#45;15</title>\n<path fill=\"none\" stroke=\"#c0c0c0\" d=\"M250.124,-218.8599C255.7019,-215.5604 262.1151,-211.7668 267.7157,-208.454\"/>\n</g>\n<!-- 15&#45;&#45;11 -->\n<g id=\"edge21\" class=\"edge\">\n<title>15&#45;&#45;11</title>\n<path fill=\"none\" stroke=\"#c0c0c0\" d=\"M263.0608,-197.2769C251.6335,-195.604 237.1198,-193.4792 225.7407,-191.8133\"/>\n</g>\n<!-- 15&#45;&#45;17 -->\n<g id=\"edge22\" class=\"edge\">\n<title>15&#45;&#45;17</title>\n<path fill=\"none\" stroke=\"#c0c0c0\" d=\"M294.8952,-191.091C305.263,-183.9294 319.7319,-173.935 330.0948,-166.7769\"/>\n</g>\n<!-- 16&#45;&#45;15 -->\n<g id=\"edge1\" class=\"edge\">\n<title>16&#45;&#45;15</title>\n<path fill=\"none\" stroke=\"#ffa500\" stroke-width=\"2\" d=\"M321.4944,-214.6041C317.3106,-213.0637 312.7127,-211.3709 308.1778,-209.7012\"/>\n<polygon fill=\"#ffa500\" stroke=\"#ffa500\" stroke-width=\"2\" points=\"309.1297,-206.3221 298.5362,-206.1514 306.7111,-212.891 309.1297,-206.3221\"/>\n</g>\n<!-- 16&#45;&#45;17 -->\n<g id=\"edge3\" class=\"edge\">\n<title>16&#45;&#45;17</title>\n<path fill=\"none\" stroke=\"#ffa500\" stroke-width=\"2\" d=\"M338.9834,-208.5695C339.6288,-200.4838 340.4964,-189.6136 341.263,-180.0097\"/>\n<polygon fill=\"#ffa500\" stroke=\"#ffa500\" stroke-width=\"2\" points=\"344.7615,-180.1672 342.0683,-169.9204 337.7837,-179.6102 344.7615,-180.1672\"/>\n</g>\n</g>\n</svg>\n"
          },
          "metadata": {},
          "execution_count": 6
        }
      ]
    },
    {
      "cell_type": "code",
      "metadata": {
        "colab": {
          "base_uri": "https://localhost:8080/",
          "height": 413
        },
        "id": "DGEh23uvaJsp",
        "outputId": "9a73748a-c915-4af3-9fbb-2170c9f2ef15"
      },
      "source": [
        "path1, visited = ldfs(G, 12, limit=100)\n",
        "print(path1)\n",
        "adjlShow(G, path =path1)"
      ],
      "execution_count": 7,
      "outputs": [
        {
          "output_type": "stream",
          "name": "stdout",
          "text": [
            "[7, 0, None, None, 8, None, None, 4, 11, 13, None, 15, None, 17, 11, 16, 12, 15]\n"
          ]
        },
        {
          "output_type": "execute_result",
          "data": {
            "text/plain": [
              "<graphviz.dot.Graph at 0x7faf798169d0>"
            ],
            "image/svg+xml": "<?xml version=\"1.0\" encoding=\"UTF-8\" standalone=\"no\"?>\n<!DOCTYPE svg PUBLIC \"-//W3C//DTD SVG 1.1//EN\"\n \"http://www.w3.org/Graphics/SVG/1.1/DTD/svg11.dtd\">\n<!-- Generated by graphviz version 2.40.1 (20161225.0304)\n -->\n<!-- Title: G Pages: 1 -->\n<svg width=\"620pt\" height=\"266pt\"\n viewBox=\"0.00 0.00 619.69 266.35\" xmlns=\"http://www.w3.org/2000/svg\" xmlns:xlink=\"http://www.w3.org/1999/xlink\">\n<g id=\"graph0\" class=\"graph\" transform=\"scale(1 1) rotate(0) translate(4 262.3549)\">\n<title>G</title>\n<polygon fill=\"#ffffff\" stroke=\"transparent\" points=\"-4,4 -4,-262.3549 615.6945,-262.3549 615.6945,4 -4,4\"/>\n<!-- 0 -->\n<g id=\"node1\" class=\"node\">\n<title>0</title>\n<ellipse fill=\"none\" stroke=\"#ff4500\" cx=\"64.1064\" cy=\"-95.4834\" rx=\"15.6129\" ry=\"12.0417\"/>\n<text text-anchor=\"middle\" x=\"64.1064\" y=\"-93.5834\" font-family=\"monospace\" font-size=\"8.00\" fill=\"#7b68ee\">0</text>\n</g>\n<!-- 1 -->\n<g id=\"node2\" class=\"node\">\n<title>1</title>\n<ellipse fill=\"none\" stroke=\"#ff4500\" cx=\"15.5563\" cy=\"-88.138\" rx=\"15.6129\" ry=\"12.0417\"/>\n<text text-anchor=\"middle\" x=\"15.5563\" y=\"-86.238\" font-family=\"monospace\" font-size=\"8.00\" fill=\"#7b68ee\">1</text>\n</g>\n<!-- 0&#45;&#45;1 -->\n<g id=\"edge2\" class=\"edge\">\n<title>0&#45;&#45;1</title>\n<path fill=\"none\" stroke=\"#ffa500\" stroke-width=\"2\" d=\"M48.7449,-93.1592C46.2655,-92.7841 43.642,-92.3872 41,-91.9875\"/>\n<polygon fill=\"#ffa500\" stroke=\"#ffa500\" stroke-width=\"2\" points=\"41.3957,-88.5076 30.9846,-90.4722 40.3485,-95.4288 41.3957,-88.5076\"/>\n</g>\n<!-- 4 -->\n<g id=\"node5\" class=\"node\">\n<title>4</title>\n<ellipse fill=\"none\" stroke=\"#ff4500\" cx=\"116.576\" cy=\"-90.9513\" rx=\"15.6129\" ry=\"12.0417\"/>\n<text text-anchor=\"middle\" x=\"116.576\" y=\"-89.0513\" font-family=\"monospace\" font-size=\"8.00\" fill=\"#7b68ee\">4</text>\n</g>\n<!-- 0&#45;&#45;4 -->\n<g id=\"edge13\" class=\"edge\">\n<title>0&#45;&#45;4</title>\n<path fill=\"none\" stroke=\"#c0c0c0\" d=\"M79.849,-94.1236C86.49,-93.55 94.2048,-92.8836 100.8445,-92.3101\"/>\n</g>\n<!-- 2 -->\n<g id=\"node3\" class=\"node\">\n<title>2</title>\n<ellipse fill=\"none\" stroke=\"#ff4500\" cx=\"518.0816\" cy=\"-53.6008\" rx=\"15.6129\" ry=\"12.0417\"/>\n<text text-anchor=\"middle\" x=\"518.0816\" y=\"-51.7008\" font-family=\"monospace\" font-size=\"8.00\" fill=\"#7b68ee\">2</text>\n</g>\n<!-- 3 -->\n<g id=\"node4\" class=\"node\">\n<title>3</title>\n<ellipse fill=\"none\" stroke=\"#ff4500\" cx=\"473.6785\" cy=\"-107.3197\" rx=\"15.6129\" ry=\"12.0417\"/>\n<text text-anchor=\"middle\" x=\"473.6785\" y=\"-105.4197\" font-family=\"monospace\" font-size=\"8.00\" fill=\"#7b68ee\">3</text>\n</g>\n<!-- 3&#45;&#45;2 -->\n<g id=\"edge14\" class=\"edge\">\n<title>3&#45;&#45;2</title>\n<path fill=\"none\" stroke=\"#c0c0c0\" d=\"M482.2398,-96.9622C490.1026,-87.4498 501.692,-73.4289 509.5465,-63.9266\"/>\n</g>\n<!-- 6 -->\n<g id=\"node7\" class=\"node\">\n<title>6</title>\n<ellipse fill=\"none\" stroke=\"#ff4500\" cx=\"540.8258\" cy=\"-127.3057\" rx=\"15.6129\" ry=\"12.0417\"/>\n<text text-anchor=\"middle\" x=\"540.8258\" y=\"-125.4057\" font-family=\"monospace\" font-size=\"8.00\" fill=\"#7b68ee\">6</text>\n</g>\n<!-- 3&#45;&#45;6 -->\n<g id=\"edge15\" class=\"edge\">\n<title>3&#45;&#45;6</title>\n<path fill=\"none\" stroke=\"#c0c0c0\" d=\"M488.2484,-111.6564C499.5113,-115.0087 515.0286,-119.6273 526.2843,-122.9775\"/>\n</g>\n<!-- 17 -->\n<g id=\"node18\" class=\"node\">\n<title>17</title>\n<ellipse fill=\"none\" stroke=\"#ff4500\" cx=\"382.2802\" cy=\"-134.7271\" rx=\"19.1842\" ry=\"12.0417\"/>\n<text text-anchor=\"middle\" x=\"382.2802\" y=\"-132.8271\" font-family=\"monospace\" font-size=\"8.00\" fill=\"#7b68ee\">17</text>\n</g>\n<!-- 3&#45;&#45;17 -->\n<g id=\"edge16\" class=\"edge\">\n<title>3&#45;&#45;17</title>\n<path fill=\"none\" stroke=\"#c0c0c0\" d=\"M458.9938,-111.7232C442.8462,-116.5653 416.9168,-124.3407 399.7406,-129.4913\"/>\n</g>\n<!-- 7 -->\n<g id=\"node8\" class=\"node\">\n<title>7</title>\n<ellipse fill=\"none\" stroke=\"#ff4500\" cx=\"112.1394\" cy=\"-116.6912\" rx=\"15.6129\" ry=\"12.0417\"/>\n<text text-anchor=\"middle\" x=\"112.1394\" y=\"-114.7912\" font-family=\"monospace\" font-size=\"8.00\" fill=\"#7b68ee\">7</text>\n</g>\n<!-- 4&#45;&#45;7 -->\n<g id=\"edge4\" class=\"edge\">\n<title>4&#45;&#45;7</title>\n<path fill=\"none\" stroke=\"#ffa500\" stroke-width=\"2\" d=\"M114.5136,-102.917C114.4909,-103.0483 114.4683,-103.1797 114.4456,-103.3112\"/>\n<polygon fill=\"#ffa500\" stroke=\"#ffa500\" stroke-width=\"2\" points=\"112.4917,-94.0455 114.2416,-104.495 119.39,-95.235 112.4917,-94.0455\"/>\n</g>\n<!-- 5 -->\n<g id=\"node6\" class=\"node\">\n<title>5</title>\n<ellipse fill=\"none\" stroke=\"#ff4500\" cx=\"551.9783\" cy=\"-12.0208\" rx=\"15.6129\" ry=\"12.0417\"/>\n<text text-anchor=\"middle\" x=\"551.9783\" y=\"-10.1208\" font-family=\"monospace\" font-size=\"8.00\" fill=\"#7b68ee\">5</text>\n</g>\n<!-- 5&#45;&#45;2 -->\n<g id=\"edge17\" class=\"edge\">\n<title>5&#45;&#45;2</title>\n<path fill=\"none\" stroke=\"#c0c0c0\" d=\"M543.4247,-22.5132C538.247,-28.8645 531.6709,-36.9313 526.515,-43.2558\"/>\n</g>\n<!-- 10 -->\n<g id=\"node11\" class=\"node\">\n<title>10</title>\n<ellipse fill=\"none\" stroke=\"#ff4500\" cx=\"592.6026\" cy=\"-141.8556\" rx=\"19.1842\" ry=\"12.0417\"/>\n<text text-anchor=\"middle\" x=\"592.6026\" y=\"-139.9556\" font-family=\"monospace\" font-size=\"8.00\" fill=\"#7b68ee\">10</text>\n</g>\n<!-- 6&#45;&#45;10 -->\n<g id=\"edge18\" class=\"edge\">\n<title>6&#45;&#45;10</title>\n<path fill=\"none\" stroke=\"#c0c0c0\" d=\"M555.5245,-131.4362C561.6235,-133.1501 568.7487,-135.1524 575.1139,-136.9411\"/>\n</g>\n<!-- 7&#45;&#45;0 -->\n<g id=\"edge1\" class=\"edge\">\n<title>7&#45;&#45;0</title>\n<path fill=\"none\" stroke=\"#ffa500\" stroke-width=\"2\" d=\"M98.5035,-110.6706C94.9846,-109.1169 91.0974,-107.4006 87.2407,-105.6978\"/>\n<polygon fill=\"#ffa500\" stroke=\"#ffa500\" stroke-width=\"2\" points=\"88.5049,-102.43 77.9432,-101.5927 85.6775,-108.8336 88.5049,-102.43\"/>\n</g>\n<!-- 8 -->\n<g id=\"node9\" class=\"node\">\n<title>8</title>\n<ellipse fill=\"none\" stroke=\"#ff4500\" cx=\"178.592\" cy=\"-115.0798\" rx=\"15.6129\" ry=\"12.0417\"/>\n<text text-anchor=\"middle\" x=\"178.592\" y=\"-113.1798\" font-family=\"monospace\" font-size=\"8.00\" fill=\"#7b68ee\">8</text>\n</g>\n<!-- 7&#45;&#45;8 -->\n<g id=\"edge19\" class=\"edge\">\n<title>7&#45;&#45;8</title>\n<path fill=\"none\" stroke=\"#c0c0c0\" d=\"M127.8877,-116.3093C138.4808,-116.0524 152.3873,-115.7152 162.9567,-115.4589\"/>\n</g>\n<!-- 8&#45;&#45;4 -->\n<g id=\"edge3\" class=\"edge\">\n<title>8&#45;&#45;4</title>\n<path fill=\"none\" stroke=\"#ffa500\" stroke-width=\"2\" d=\"M164.5196,-109.6046C157.3041,-106.7973 148.3237,-103.3033 140.0925,-100.1008\"/>\n<polygon fill=\"#ffa500\" stroke=\"#ffa500\" stroke-width=\"2\" points=\"141.1813,-96.7689 130.5927,-96.4048 138.6431,-103.2926 141.1813,-96.7689\"/>\n</g>\n<!-- 9 -->\n<g id=\"node10\" class=\"node\">\n<title>9</title>\n<ellipse fill=\"none\" stroke=\"#ff4500\" cx=\"244.1693\" cy=\"-91.744\" rx=\"15.6129\" ry=\"12.0417\"/>\n<text text-anchor=\"middle\" x=\"244.1693\" y=\"-89.844\" font-family=\"monospace\" font-size=\"8.00\" fill=\"#7b68ee\">9</text>\n</g>\n<!-- 9&#45;&#45;8 -->\n<g id=\"edge20\" class=\"edge\">\n<title>9&#45;&#45;8</title>\n<path fill=\"none\" stroke=\"#c0c0c0\" d=\"M229.94,-96.8075C218.9405,-100.7217 203.786,-106.1144 192.7935,-110.0261\"/>\n</g>\n<!-- 11 -->\n<g id=\"node12\" class=\"node\">\n<title>11</title>\n<ellipse fill=\"none\" stroke=\"#ff4500\" cx=\"244.3516\" cy=\"-157.7203\" rx=\"19.1842\" ry=\"12.0417\"/>\n<text text-anchor=\"middle\" x=\"244.3516\" y=\"-155.8203\" font-family=\"monospace\" font-size=\"8.00\" fill=\"#7b68ee\">11</text>\n</g>\n<!-- 11&#45;&#45;8 -->\n<g id=\"edge5\" class=\"edge\">\n<title>11&#45;&#45;8</title>\n<path fill=\"none\" stroke=\"#ffa500\" stroke-width=\"2\" d=\"M231.0441,-149.0914C221.8717,-143.1437 209.5041,-135.1241 199.0819,-128.366\"/>\n<polygon fill=\"#ffa500\" stroke=\"#ffa500\" stroke-width=\"2\" points=\"200.8477,-125.3397 190.553,-122.8356 197.0392,-131.213 200.8477,-125.3397\"/>\n</g>\n<!-- 14 -->\n<g id=\"node15\" class=\"node\">\n<title>14</title>\n<ellipse fill=\"none\" stroke=\"#ff4500\" cx=\"272.866\" cy=\"-193.7267\" rx=\"19.1842\" ry=\"12.0417\"/>\n<text text-anchor=\"middle\" x=\"272.866\" y=\"-191.8267\" font-family=\"monospace\" font-size=\"8.00\" fill=\"#7b68ee\">14</text>\n</g>\n<!-- 11&#45;&#45;14 -->\n<g id=\"edge9\" class=\"edge\">\n<title>11&#45;&#45;14</title>\n<path fill=\"none\" stroke=\"#ffa500\" stroke-width=\"2\" d=\"M253.0618,-168.7191C254.6095,-170.6734 256.2606,-172.7583 257.9241,-174.8589\"/>\n<polygon fill=\"#ffa500\" stroke=\"#ffa500\" stroke-width=\"2\" points=\"255.257,-177.1287 264.2091,-182.7953 260.7446,-172.7829 255.257,-177.1287\"/>\n</g>\n<!-- 12 -->\n<g id=\"node13\" class=\"node\">\n<title>12</title>\n<ellipse fill=\"none\" stroke=\"#ff4500\" cx=\"388.5369\" cy=\"-246.3341\" rx=\"19.1842\" ry=\"12.0417\"/>\n<text text-anchor=\"middle\" x=\"388.5369\" y=\"-244.4341\" font-family=\"monospace\" font-size=\"8.00\" fill=\"#7b68ee\">12</text>\n</g>\n<!-- 16 -->\n<g id=\"node17\" class=\"node\">\n<title>16</title>\n<ellipse fill=\"none\" stroke=\"#ff4500\" cx=\"370.6555\" cy=\"-192.9935\" rx=\"19.1842\" ry=\"12.0417\"/>\n<text text-anchor=\"middle\" x=\"370.6555\" y=\"-191.0935\" font-family=\"monospace\" font-size=\"8.00\" fill=\"#7b68ee\">16</text>\n</g>\n<!-- 12&#45;&#45;16 -->\n<g id=\"edge11\" class=\"edge\">\n<title>12&#45;&#45;16</title>\n<path fill=\"none\" stroke=\"#ffa500\" stroke-width=\"2\" d=\"M384.5685,-234.4961C382.5775,-228.5571 380.1043,-221.1793 377.7976,-214.2985\"/>\n<polygon fill=\"#ffa500\" stroke=\"#ffa500\" stroke-width=\"2\" points=\"381.1099,-213.1674 374.6129,-204.7984 374.4729,-215.3923 381.1099,-213.1674\"/>\n</g>\n<!-- 13 -->\n<g id=\"node14\" class=\"node\">\n<title>13</title>\n<ellipse fill=\"none\" stroke=\"#ff4500\" cx=\"316.5462\" cy=\"-99.1078\" rx=\"19.1842\" ry=\"12.0417\"/>\n<text text-anchor=\"middle\" x=\"316.5462\" y=\"-97.2078\" font-family=\"monospace\" font-size=\"8.00\" fill=\"#7b68ee\">13</text>\n</g>\n<!-- 13&#45;&#45;9 -->\n<g id=\"edge6\" class=\"edge\">\n<title>13&#45;&#45;9</title>\n<path fill=\"none\" stroke=\"#ffa500\" stroke-width=\"2\" d=\"M297.53,-97.1731C289.1011,-96.3155 279.0541,-95.2933 269.9634,-94.3684\"/>\n<polygon fill=\"#ffa500\" stroke=\"#ffa500\" stroke-width=\"2\" points=\"270.1881,-90.8733 259.8852,-93.343 269.4795,-97.8373 270.1881,-90.8733\"/>\n</g>\n<!-- 15 -->\n<g id=\"node16\" class=\"node\">\n<title>15</title>\n<ellipse fill=\"none\" stroke=\"#ff4500\" cx=\"318.2149\" cy=\"-169.895\" rx=\"19.1842\" ry=\"12.0417\"/>\n<text text-anchor=\"middle\" x=\"318.2149\" y=\"-167.995\" font-family=\"monospace\" font-size=\"8.00\" fill=\"#7b68ee\">15</text>\n</g>\n<!-- 14&#45;&#45;15 -->\n<g id=\"edge21\" class=\"edge\">\n<title>14&#45;&#45;15</title>\n<path fill=\"none\" stroke=\"#c0c0c0\" d=\"M287.7149,-185.9233C292.7779,-183.2626 298.4341,-180.2902 303.4875,-177.6345\"/>\n</g>\n<!-- 15&#45;&#45;11 -->\n<g id=\"edge7\" class=\"edge\">\n<title>15&#45;&#45;11</title>\n<path fill=\"none\" stroke=\"#ffa500\" stroke-width=\"2\" d=\"M299.5761,-166.8228C291.5282,-165.4963 281.9297,-163.9142 273.0101,-162.444\"/>\n<polygon fill=\"#ffa500\" stroke=\"#ffa500\" stroke-width=\"2\" points=\"273.4206,-158.9646 262.9845,-160.7915 272.2821,-165.8714 273.4206,-158.9646\"/>\n</g>\n<!-- 15&#45;&#45;17 -->\n<g id=\"edge12\" class=\"edge\">\n<title>15&#45;&#45;17</title>\n<path fill=\"none\" stroke=\"#ffa500\" stroke-width=\"2\" d=\"M332.7523,-161.9149C340.452,-157.6882 350.0971,-152.3937 358.825,-147.6026\"/>\n<polygon fill=\"#ffa500\" stroke=\"#ffa500\" stroke-width=\"2\" points=\"360.7185,-150.5559 367.8004,-142.6757 357.35,-144.4196 360.7185,-150.5559\"/>\n</g>\n<!-- 16&#45;&#45;15 -->\n<g id=\"edge10\" class=\"edge\">\n<title>16&#45;&#45;15</title>\n<path fill=\"none\" stroke=\"#ffa500\" stroke-width=\"2\" d=\"M354.9216,-186.0632C351.2919,-184.4644 347.3411,-182.7242 343.4207,-180.9974\"/>\n<polygon fill=\"#ffa500\" stroke=\"#ffa500\" stroke-width=\"2\" points=\"344.5002,-177.6484 333.9377,-176.8204 341.6784,-184.0545 344.5002,-177.6484\"/>\n</g>\n<!-- 16&#45;&#45;17 -->\n<g id=\"edge22\" class=\"edge\">\n<title>16&#45;&#45;17</title>\n<path fill=\"none\" stroke=\"#c0c0c0\" d=\"M373.0642,-180.9206C375.0593,-170.9207 377.8804,-156.7801 379.8747,-146.7845\"/>\n</g>\n<!-- 17&#45;&#45;13 -->\n<g id=\"edge8\" class=\"edge\">\n<title>17&#45;&#45;13</title>\n<path fill=\"none\" stroke=\"#ffa500\" stroke-width=\"2\" d=\"M367.6917,-126.822C359.6069,-122.4411 349.3584,-116.8878 340.162,-111.9045\"/>\n<polygon fill=\"#ffa500\" stroke=\"#ffa500\" stroke-width=\"2\" points=\"341.5536,-108.6778 331.0939,-106.9908 338.2186,-114.8323 341.5536,-108.6778\"/>\n</g>\n</g>\n</svg>\n"
          },
          "metadata": {},
          "execution_count": 7
        }
      ]
    },
    {
      "cell_type": "markdown",
      "metadata": {
        "id": "OGYZj4zntD3X"
      },
      "source": [
        "# Iterative DFS"
      ]
    },
    {
      "cell_type": "code",
      "metadata": {
        "id": "eK2w4uJ7tDiZ"
      },
      "source": [
        "def idfs(G, start, target):\n",
        "  for limit in range(0, len(G)):\n",
        "    path, visited = ldfs(G, start, limit)\n",
        "    if visited[target]:\n",
        "      break\n",
        "  return path"
      ],
      "execution_count": 8,
      "outputs": []
    },
    {
      "cell_type": "code",
      "metadata": {
        "colab": {
          "base_uri": "https://localhost:8080/",
          "height": 413
        },
        "id": "bXB9XhP4xJyk",
        "outputId": "7ae2dfd4-f759-4811-940b-37409598550f"
      },
      "source": [
        "path = idfs(G, start=12, target=7)\n",
        "print(path)\n",
        "adjlShow(G, path=path)"
      ],
      "execution_count": 9,
      "outputs": [
        {
          "output_type": "stream",
          "name": "stdout",
          "text": [
            "[None, None, None, None, 8, None, None, 4, 11, 13, None, 15, None, 17, 11, 16, 12, 15]\n"
          ]
        },
        {
          "output_type": "execute_result",
          "data": {
            "text/plain": [
              "<graphviz.dot.Graph at 0x7faf78582f50>"
            ],
            "image/svg+xml": "<?xml version=\"1.0\" encoding=\"UTF-8\" standalone=\"no\"?>\n<!DOCTYPE svg PUBLIC \"-//W3C//DTD SVG 1.1//EN\"\n \"http://www.w3.org/Graphics/SVG/1.1/DTD/svg11.dtd\">\n<!-- Generated by graphviz version 2.40.1 (20161225.0304)\n -->\n<!-- Title: G Pages: 1 -->\n<svg width=\"620pt\" height=\"266pt\"\n viewBox=\"0.00 0.00 619.69 266.35\" xmlns=\"http://www.w3.org/2000/svg\" xmlns:xlink=\"http://www.w3.org/1999/xlink\">\n<g id=\"graph0\" class=\"graph\" transform=\"scale(1 1) rotate(0) translate(4 262.3549)\">\n<title>G</title>\n<polygon fill=\"#ffffff\" stroke=\"transparent\" points=\"-4,4 -4,-262.3549 615.6945,-262.3549 615.6945,4 -4,4\"/>\n<!-- 0 -->\n<g id=\"node1\" class=\"node\">\n<title>0</title>\n<ellipse fill=\"none\" stroke=\"#ff4500\" cx=\"64.1064\" cy=\"-95.4834\" rx=\"15.6129\" ry=\"12.0417\"/>\n<text text-anchor=\"middle\" x=\"64.1064\" y=\"-93.5834\" font-family=\"monospace\" font-size=\"8.00\" fill=\"#7b68ee\">0</text>\n</g>\n<!-- 1 -->\n<g id=\"node2\" class=\"node\">\n<title>1</title>\n<ellipse fill=\"none\" stroke=\"#ff4500\" cx=\"15.5563\" cy=\"-88.138\" rx=\"15.6129\" ry=\"12.0417\"/>\n<text text-anchor=\"middle\" x=\"15.5563\" y=\"-86.238\" font-family=\"monospace\" font-size=\"8.00\" fill=\"#7b68ee\">1</text>\n</g>\n<!-- 0&#45;&#45;1 -->\n<g id=\"edge11\" class=\"edge\">\n<title>0&#45;&#45;1</title>\n<path fill=\"none\" stroke=\"#c0c0c0\" d=\"M48.7449,-93.1592C43.0776,-92.3018 36.6577,-91.3305 30.9846,-90.4722\"/>\n</g>\n<!-- 4 -->\n<g id=\"node5\" class=\"node\">\n<title>4</title>\n<ellipse fill=\"none\" stroke=\"#ff4500\" cx=\"116.576\" cy=\"-90.9513\" rx=\"15.6129\" ry=\"12.0417\"/>\n<text text-anchor=\"middle\" x=\"116.576\" y=\"-89.0513\" font-family=\"monospace\" font-size=\"8.00\" fill=\"#7b68ee\">4</text>\n</g>\n<!-- 0&#45;&#45;4 -->\n<g id=\"edge12\" class=\"edge\">\n<title>0&#45;&#45;4</title>\n<path fill=\"none\" stroke=\"#c0c0c0\" d=\"M79.849,-94.1236C86.49,-93.55 94.2048,-92.8836 100.8445,-92.3101\"/>\n</g>\n<!-- 2 -->\n<g id=\"node3\" class=\"node\">\n<title>2</title>\n<ellipse fill=\"none\" stroke=\"#ff4500\" cx=\"518.0816\" cy=\"-53.6008\" rx=\"15.6129\" ry=\"12.0417\"/>\n<text text-anchor=\"middle\" x=\"518.0816\" y=\"-51.7008\" font-family=\"monospace\" font-size=\"8.00\" fill=\"#7b68ee\">2</text>\n</g>\n<!-- 3 -->\n<g id=\"node4\" class=\"node\">\n<title>3</title>\n<ellipse fill=\"none\" stroke=\"#ff4500\" cx=\"473.6785\" cy=\"-107.3197\" rx=\"15.6129\" ry=\"12.0417\"/>\n<text text-anchor=\"middle\" x=\"473.6785\" y=\"-105.4197\" font-family=\"monospace\" font-size=\"8.00\" fill=\"#7b68ee\">3</text>\n</g>\n<!-- 3&#45;&#45;2 -->\n<g id=\"edge13\" class=\"edge\">\n<title>3&#45;&#45;2</title>\n<path fill=\"none\" stroke=\"#c0c0c0\" d=\"M482.2398,-96.9622C490.1026,-87.4498 501.692,-73.4289 509.5465,-63.9266\"/>\n</g>\n<!-- 6 -->\n<g id=\"node7\" class=\"node\">\n<title>6</title>\n<ellipse fill=\"none\" stroke=\"#ff4500\" cx=\"540.8258\" cy=\"-127.3057\" rx=\"15.6129\" ry=\"12.0417\"/>\n<text text-anchor=\"middle\" x=\"540.8258\" y=\"-125.4057\" font-family=\"monospace\" font-size=\"8.00\" fill=\"#7b68ee\">6</text>\n</g>\n<!-- 3&#45;&#45;6 -->\n<g id=\"edge14\" class=\"edge\">\n<title>3&#45;&#45;6</title>\n<path fill=\"none\" stroke=\"#c0c0c0\" d=\"M488.2484,-111.6564C499.5113,-115.0087 515.0286,-119.6273 526.2843,-122.9775\"/>\n</g>\n<!-- 17 -->\n<g id=\"node18\" class=\"node\">\n<title>17</title>\n<ellipse fill=\"none\" stroke=\"#ff4500\" cx=\"382.2802\" cy=\"-134.7271\" rx=\"19.1842\" ry=\"12.0417\"/>\n<text text-anchor=\"middle\" x=\"382.2802\" y=\"-132.8271\" font-family=\"monospace\" font-size=\"8.00\" fill=\"#7b68ee\">17</text>\n</g>\n<!-- 3&#45;&#45;17 -->\n<g id=\"edge15\" class=\"edge\">\n<title>3&#45;&#45;17</title>\n<path fill=\"none\" stroke=\"#c0c0c0\" d=\"M458.9938,-111.7232C442.8462,-116.5653 416.9168,-124.3407 399.7406,-129.4913\"/>\n</g>\n<!-- 7 -->\n<g id=\"node8\" class=\"node\">\n<title>7</title>\n<ellipse fill=\"none\" stroke=\"#ff4500\" cx=\"112.1394\" cy=\"-116.6912\" rx=\"15.6129\" ry=\"12.0417\"/>\n<text text-anchor=\"middle\" x=\"112.1394\" y=\"-114.7912\" font-family=\"monospace\" font-size=\"8.00\" fill=\"#7b68ee\">7</text>\n</g>\n<!-- 4&#45;&#45;7 -->\n<g id=\"edge2\" class=\"edge\">\n<title>4&#45;&#45;7</title>\n<path fill=\"none\" stroke=\"#ffa500\" stroke-width=\"2\" d=\"M114.5136,-102.917C114.4909,-103.0483 114.4683,-103.1797 114.4456,-103.3112\"/>\n<polygon fill=\"#ffa500\" stroke=\"#ffa500\" stroke-width=\"2\" points=\"112.4917,-94.0455 114.2416,-104.495 119.39,-95.235 112.4917,-94.0455\"/>\n</g>\n<!-- 5 -->\n<g id=\"node6\" class=\"node\">\n<title>5</title>\n<ellipse fill=\"none\" stroke=\"#ff4500\" cx=\"551.9783\" cy=\"-12.0208\" rx=\"15.6129\" ry=\"12.0417\"/>\n<text text-anchor=\"middle\" x=\"551.9783\" y=\"-10.1208\" font-family=\"monospace\" font-size=\"8.00\" fill=\"#7b68ee\">5</text>\n</g>\n<!-- 5&#45;&#45;2 -->\n<g id=\"edge16\" class=\"edge\">\n<title>5&#45;&#45;2</title>\n<path fill=\"none\" stroke=\"#c0c0c0\" d=\"M543.4247,-22.5132C538.247,-28.8645 531.6709,-36.9313 526.515,-43.2558\"/>\n</g>\n<!-- 10 -->\n<g id=\"node11\" class=\"node\">\n<title>10</title>\n<ellipse fill=\"none\" stroke=\"#ff4500\" cx=\"592.6026\" cy=\"-141.8556\" rx=\"19.1842\" ry=\"12.0417\"/>\n<text text-anchor=\"middle\" x=\"592.6026\" y=\"-139.9556\" font-family=\"monospace\" font-size=\"8.00\" fill=\"#7b68ee\">10</text>\n</g>\n<!-- 6&#45;&#45;10 -->\n<g id=\"edge17\" class=\"edge\">\n<title>6&#45;&#45;10</title>\n<path fill=\"none\" stroke=\"#c0c0c0\" d=\"M555.5245,-131.4362C561.6235,-133.1501 568.7487,-135.1524 575.1139,-136.9411\"/>\n</g>\n<!-- 7&#45;&#45;0 -->\n<g id=\"edge18\" class=\"edge\">\n<title>7&#45;&#45;0</title>\n<path fill=\"none\" stroke=\"#c0c0c0\" d=\"M98.5035,-110.6706C92.0689,-107.8295 84.4031,-104.4449 77.9432,-101.5927\"/>\n</g>\n<!-- 8 -->\n<g id=\"node9\" class=\"node\">\n<title>8</title>\n<ellipse fill=\"none\" stroke=\"#ff4500\" cx=\"178.592\" cy=\"-115.0798\" rx=\"15.6129\" ry=\"12.0417\"/>\n<text text-anchor=\"middle\" x=\"178.592\" y=\"-113.1798\" font-family=\"monospace\" font-size=\"8.00\" fill=\"#7b68ee\">8</text>\n</g>\n<!-- 7&#45;&#45;8 -->\n<g id=\"edge19\" class=\"edge\">\n<title>7&#45;&#45;8</title>\n<path fill=\"none\" stroke=\"#c0c0c0\" d=\"M127.8877,-116.3093C138.4808,-116.0524 152.3873,-115.7152 162.9567,-115.4589\"/>\n</g>\n<!-- 8&#45;&#45;4 -->\n<g id=\"edge1\" class=\"edge\">\n<title>8&#45;&#45;4</title>\n<path fill=\"none\" stroke=\"#ffa500\" stroke-width=\"2\" d=\"M164.5196,-109.6046C157.3041,-106.7973 148.3237,-103.3033 140.0925,-100.1008\"/>\n<polygon fill=\"#ffa500\" stroke=\"#ffa500\" stroke-width=\"2\" points=\"141.1813,-96.7689 130.5927,-96.4048 138.6431,-103.2926 141.1813,-96.7689\"/>\n</g>\n<!-- 9 -->\n<g id=\"node10\" class=\"node\">\n<title>9</title>\n<ellipse fill=\"none\" stroke=\"#ff4500\" cx=\"244.1693\" cy=\"-91.744\" rx=\"15.6129\" ry=\"12.0417\"/>\n<text text-anchor=\"middle\" x=\"244.1693\" y=\"-89.844\" font-family=\"monospace\" font-size=\"8.00\" fill=\"#7b68ee\">9</text>\n</g>\n<!-- 9&#45;&#45;8 -->\n<g id=\"edge20\" class=\"edge\">\n<title>9&#45;&#45;8</title>\n<path fill=\"none\" stroke=\"#c0c0c0\" d=\"M229.94,-96.8075C218.9405,-100.7217 203.786,-106.1144 192.7935,-110.0261\"/>\n</g>\n<!-- 11 -->\n<g id=\"node12\" class=\"node\">\n<title>11</title>\n<ellipse fill=\"none\" stroke=\"#ff4500\" cx=\"244.3516\" cy=\"-157.7203\" rx=\"19.1842\" ry=\"12.0417\"/>\n<text text-anchor=\"middle\" x=\"244.3516\" y=\"-155.8203\" font-family=\"monospace\" font-size=\"8.00\" fill=\"#7b68ee\">11</text>\n</g>\n<!-- 11&#45;&#45;8 -->\n<g id=\"edge3\" class=\"edge\">\n<title>11&#45;&#45;8</title>\n<path fill=\"none\" stroke=\"#ffa500\" stroke-width=\"2\" d=\"M231.0441,-149.0914C221.8717,-143.1437 209.5041,-135.1241 199.0819,-128.366\"/>\n<polygon fill=\"#ffa500\" stroke=\"#ffa500\" stroke-width=\"2\" points=\"200.8477,-125.3397 190.553,-122.8356 197.0392,-131.213 200.8477,-125.3397\"/>\n</g>\n<!-- 14 -->\n<g id=\"node15\" class=\"node\">\n<title>14</title>\n<ellipse fill=\"none\" stroke=\"#ff4500\" cx=\"272.866\" cy=\"-193.7267\" rx=\"19.1842\" ry=\"12.0417\"/>\n<text text-anchor=\"middle\" x=\"272.866\" y=\"-191.8267\" font-family=\"monospace\" font-size=\"8.00\" fill=\"#7b68ee\">14</text>\n</g>\n<!-- 11&#45;&#45;14 -->\n<g id=\"edge7\" class=\"edge\">\n<title>11&#45;&#45;14</title>\n<path fill=\"none\" stroke=\"#ffa500\" stroke-width=\"2\" d=\"M253.0618,-168.7191C254.6095,-170.6734 256.2606,-172.7583 257.9241,-174.8589\"/>\n<polygon fill=\"#ffa500\" stroke=\"#ffa500\" stroke-width=\"2\" points=\"255.257,-177.1287 264.2091,-182.7953 260.7446,-172.7829 255.257,-177.1287\"/>\n</g>\n<!-- 12 -->\n<g id=\"node13\" class=\"node\">\n<title>12</title>\n<ellipse fill=\"none\" stroke=\"#ff4500\" cx=\"388.5369\" cy=\"-246.3341\" rx=\"19.1842\" ry=\"12.0417\"/>\n<text text-anchor=\"middle\" x=\"388.5369\" y=\"-244.4341\" font-family=\"monospace\" font-size=\"8.00\" fill=\"#7b68ee\">12</text>\n</g>\n<!-- 16 -->\n<g id=\"node17\" class=\"node\">\n<title>16</title>\n<ellipse fill=\"none\" stroke=\"#ff4500\" cx=\"370.6555\" cy=\"-192.9935\" rx=\"19.1842\" ry=\"12.0417\"/>\n<text text-anchor=\"middle\" x=\"370.6555\" y=\"-191.0935\" font-family=\"monospace\" font-size=\"8.00\" fill=\"#7b68ee\">16</text>\n</g>\n<!-- 12&#45;&#45;16 -->\n<g id=\"edge9\" class=\"edge\">\n<title>12&#45;&#45;16</title>\n<path fill=\"none\" stroke=\"#ffa500\" stroke-width=\"2\" d=\"M384.5685,-234.4961C382.5775,-228.5571 380.1043,-221.1793 377.7976,-214.2985\"/>\n<polygon fill=\"#ffa500\" stroke=\"#ffa500\" stroke-width=\"2\" points=\"381.1099,-213.1674 374.6129,-204.7984 374.4729,-215.3923 381.1099,-213.1674\"/>\n</g>\n<!-- 13 -->\n<g id=\"node14\" class=\"node\">\n<title>13</title>\n<ellipse fill=\"none\" stroke=\"#ff4500\" cx=\"316.5462\" cy=\"-99.1078\" rx=\"19.1842\" ry=\"12.0417\"/>\n<text text-anchor=\"middle\" x=\"316.5462\" y=\"-97.2078\" font-family=\"monospace\" font-size=\"8.00\" fill=\"#7b68ee\">13</text>\n</g>\n<!-- 13&#45;&#45;9 -->\n<g id=\"edge4\" class=\"edge\">\n<title>13&#45;&#45;9</title>\n<path fill=\"none\" stroke=\"#ffa500\" stroke-width=\"2\" d=\"M297.53,-97.1731C289.1011,-96.3155 279.0541,-95.2933 269.9634,-94.3684\"/>\n<polygon fill=\"#ffa500\" stroke=\"#ffa500\" stroke-width=\"2\" points=\"270.1881,-90.8733 259.8852,-93.343 269.4795,-97.8373 270.1881,-90.8733\"/>\n</g>\n<!-- 15 -->\n<g id=\"node16\" class=\"node\">\n<title>15</title>\n<ellipse fill=\"none\" stroke=\"#ff4500\" cx=\"318.2149\" cy=\"-169.895\" rx=\"19.1842\" ry=\"12.0417\"/>\n<text text-anchor=\"middle\" x=\"318.2149\" y=\"-167.995\" font-family=\"monospace\" font-size=\"8.00\" fill=\"#7b68ee\">15</text>\n</g>\n<!-- 14&#45;&#45;15 -->\n<g id=\"edge21\" class=\"edge\">\n<title>14&#45;&#45;15</title>\n<path fill=\"none\" stroke=\"#c0c0c0\" d=\"M287.7149,-185.9233C292.7779,-183.2626 298.4341,-180.2902 303.4875,-177.6345\"/>\n</g>\n<!-- 15&#45;&#45;11 -->\n<g id=\"edge5\" class=\"edge\">\n<title>15&#45;&#45;11</title>\n<path fill=\"none\" stroke=\"#ffa500\" stroke-width=\"2\" d=\"M299.5761,-166.8228C291.5282,-165.4963 281.9297,-163.9142 273.0101,-162.444\"/>\n<polygon fill=\"#ffa500\" stroke=\"#ffa500\" stroke-width=\"2\" points=\"273.4206,-158.9646 262.9845,-160.7915 272.2821,-165.8714 273.4206,-158.9646\"/>\n</g>\n<!-- 15&#45;&#45;17 -->\n<g id=\"edge10\" class=\"edge\">\n<title>15&#45;&#45;17</title>\n<path fill=\"none\" stroke=\"#ffa500\" stroke-width=\"2\" d=\"M332.7523,-161.9149C340.452,-157.6882 350.0971,-152.3937 358.825,-147.6026\"/>\n<polygon fill=\"#ffa500\" stroke=\"#ffa500\" stroke-width=\"2\" points=\"360.7185,-150.5559 367.8004,-142.6757 357.35,-144.4196 360.7185,-150.5559\"/>\n</g>\n<!-- 16&#45;&#45;15 -->\n<g id=\"edge8\" class=\"edge\">\n<title>16&#45;&#45;15</title>\n<path fill=\"none\" stroke=\"#ffa500\" stroke-width=\"2\" d=\"M354.9216,-186.0632C351.2919,-184.4644 347.3411,-182.7242 343.4207,-180.9974\"/>\n<polygon fill=\"#ffa500\" stroke=\"#ffa500\" stroke-width=\"2\" points=\"344.5002,-177.6484 333.9377,-176.8204 341.6784,-184.0545 344.5002,-177.6484\"/>\n</g>\n<!-- 16&#45;&#45;17 -->\n<g id=\"edge22\" class=\"edge\">\n<title>16&#45;&#45;17</title>\n<path fill=\"none\" stroke=\"#c0c0c0\" d=\"M373.0642,-180.9206C375.0593,-170.9207 377.8804,-156.7801 379.8747,-146.7845\"/>\n</g>\n<!-- 17&#45;&#45;13 -->\n<g id=\"edge6\" class=\"edge\">\n<title>17&#45;&#45;13</title>\n<path fill=\"none\" stroke=\"#ffa500\" stroke-width=\"2\" d=\"M367.6917,-126.822C359.6069,-122.4411 349.3584,-116.8878 340.162,-111.9045\"/>\n<polygon fill=\"#ffa500\" stroke=\"#ffa500\" stroke-width=\"2\" points=\"341.5536,-108.6778 331.0939,-106.9908 338.2186,-114.8323 341.5536,-108.6778\"/>\n</g>\n</g>\n</svg>\n"
          },
          "metadata": {},
          "execution_count": 9
        }
      ]
    }
  ]
}