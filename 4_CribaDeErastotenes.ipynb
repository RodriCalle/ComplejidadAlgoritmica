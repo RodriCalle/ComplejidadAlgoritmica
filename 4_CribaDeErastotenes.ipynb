{
  "nbformat": 4,
  "nbformat_minor": 0,
  "metadata": {
    "colab": {
      "name": "4. CribaDeErastotenes.ipynb",
      "provenance": [],
      "collapsed_sections": [],
      "authorship_tag": "ABX9TyNeZI3ZSWVI7ItOBjDDQgtm",
      "include_colab_link": true
    },
    "kernelspec": {
      "name": "python3",
      "display_name": "Python 3"
    },
    "language_info": {
      "name": "python"
    }
  },
  "cells": [
    {
      "cell_type": "markdown",
      "metadata": {
        "id": "view-in-github",
        "colab_type": "text"
      },
      "source": [
        "<a href=\"https://colab.research.google.com/github/RodriCalle/ComplejidadAlgoritmica/blob/main/4_CribaDeErastotenes.ipynb\" target=\"_parent\"><img src=\"https://colab.research.google.com/assets/colab-badge.svg\" alt=\"Open In Colab\"/></a>"
      ]
    },
    {
      "cell_type": "code",
      "metadata": {
        "colab": {
          "base_uri": "https://localhost:8080/"
        },
        "id": "1qqoF9hmWkfM",
        "outputId": "c1b6d72c-a985-400b-da09-40b99f1d29bb"
      },
      "source": [
        "def criba(n):\n",
        "  if n >= 2:\n",
        "    numbers = list(range(n+1))\n",
        "    primes = []\n",
        "    for i in range(2, n+1):\n",
        "      if numbers[i] > 0:\n",
        "        primes.append(i)\n",
        "        for j in range(i * 2, n+1, i):\n",
        "          numbers[j] = -i\n",
        "  return primes\n",
        "\n",
        "%timeit criba(100)\n",
        "%timeit criba(500)\n",
        "%timeit criba(1000)"
      ],
      "execution_count": null,
      "outputs": [
        {
          "output_type": "stream",
          "name": "stdout",
          "text": [
            "10000 loops, best of 5: 25.8 µs per loop\n",
            "10000 loops, best of 5: 145 µs per loop\n",
            "1000 loops, best of 5: 310 µs per loop\n"
          ]
        }
      ]
    },
    {
      "cell_type": "markdown",
      "metadata": {
        "id": "edSU-x5cWotE"
      },
      "source": [
        "Criba de Eratostenes menos eficientes"
      ]
    },
    {
      "cell_type": "code",
      "metadata": {
        "colab": {
          "base_uri": "https://localhost:8080/"
        },
        "id": "80oloLqUWwo3",
        "outputId": "f1675ec3-43db-4b66-aa8e-cb9fbe1d372c"
      },
      "source": [
        "def criba_eratostenes(n):  \n",
        "  primos=[]\n",
        "  no_primos=[]\n",
        " \n",
        "  for i in range(2, n+1):\n",
        "    if i not in no_primos:\n",
        "      primos.append(i)\n",
        "\n",
        "      for j in range(i*i, n+1, i):\n",
        "        no_primos.append(j)\n",
        "\n",
        "  return primos\n",
        "\n",
        "%timeit criba_eratostenes(100)\n",
        "%timeit criba_eratostenes(500)\n",
        "%timeit criba_eratostenes(1000)"
      ],
      "execution_count": null,
      "outputs": [
        {
          "output_type": "stream",
          "name": "stdout",
          "text": [
            "10000 loops, best of 5: 106 µs per loop\n",
            "100 loops, best of 5: 2.45 ms per loop\n",
            "100 loops, best of 5: 9.98 ms per loop\n"
          ]
        }
      ]
    },
    {
      "cell_type": "code",
      "metadata": {
        "colab": {
          "base_uri": "https://localhost:8080/"
        },
        "id": "kh-qTcFrW0Hn",
        "outputId": "fd8dc251-94fc-41e7-dce3-aec6b9aab9bc"
      },
      "source": [
        "def mark(n):\n",
        "    if n < 2:\n",
        "        return\n",
        "    numbers = list(range(2,n + 1))\n",
        "    numbers2 = list(range(2,n + 1))\n",
        "    for i in range(n - 1):\n",
        "        for j in range(i + 1, n - 2):\n",
        "            if numbers[j] % numbers[i] == 0:\n",
        "                numbers2[j] = -1\n",
        "    primes = list()\n",
        "    for k in range(n - 2):\n",
        "        if numbers2[k] != -1:\n",
        "            primes.append(numbers[k])\n",
        "    return primes\n",
        "\n",
        "%timeit mark(100)\n",
        "%timeit mark(500)\n",
        "%timeit mark(1000)"
      ],
      "execution_count": null,
      "outputs": [
        {
          "output_type": "stream",
          "name": "stdout",
          "text": [
            "1000 loops, best of 5: 569 µs per loop\n",
            "100 loops, best of 5: 14.8 ms per loop\n",
            "10 loops, best of 5: 60.5 ms per loop\n"
          ]
        }
      ]
    }
  ]
}