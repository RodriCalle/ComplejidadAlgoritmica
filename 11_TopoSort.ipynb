{
  "nbformat": 4,
  "nbformat_minor": 0,
  "metadata": {
    "colab": {
      "name": "11. TopoSort.ipynb",
      "provenance": [],
      "collapsed_sections": [],
      "include_colab_link": true
    },
    "kernelspec": {
      "name": "python3",
      "display_name": "Python 3"
    },
    "language_info": {
      "name": "python"
    }
  },
  "cells": [
    {
      "cell_type": "markdown",
      "metadata": {
        "id": "view-in-github",
        "colab_type": "text"
      },
      "source": [
        "<a href=\"https://colab.research.google.com/github/RodriCalle/ComplejidadAlgoritmica/blob/main/11_TopoSort.ipynb\" target=\"_parent\"><img src=\"https://colab.research.google.com/assets/colab-badge.svg\" alt=\"Open In Colab\"/></a>"
      ]
    },
    {
      "cell_type": "code",
      "metadata": {
        "id": "vMO0Z-G9whm2"
      },
      "source": [
        "import graphviz as gv\n",
        "import numpy as np\n",
        "import pandas as pd"
      ],
      "execution_count": 1,
      "outputs": []
    },
    {
      "cell_type": "code",
      "metadata": {
        "id": "OSQJ5wsIwxax"
      },
      "source": [
        "def readAdjl(fn, haslabels=False, weighted=False, sep=\"|\"):\n",
        "  with open(fn) as f:\n",
        "    labels = None\n",
        "    if haslabels:\n",
        "      labels = f.readline().strip().split()\n",
        "    L = []\n",
        "    for line in f:\n",
        "      if weighted:\n",
        "        L.append([tuple(map(int, p.split(sep))) for p in line.strip().split()])\n",
        "        # line => \"1|3 2|5 4|4\" ==> [(1, 3), (2, 5), (4, 4)]\n",
        "      else: \n",
        "        L.append(list(map(int, line.strip().split()))) # \"1 3 5\" => [1, 3, 5]\n",
        "        # L.append([int(x) for x in line.strip().split()])\n",
        "  return L, labels\n",
        "\n",
        "def adjlShow(L, labels=None, directed=False, weighted=False, path=[],\n",
        "             layout=\"sfdp\"):\n",
        "  g = gv.Digraph(\"G\") if directed else gv.Graph(\"G\")\n",
        "  g.graph_attr[\"layout\"] = layout\n",
        "  g.edge_attr[\"color\"] = \"gray\"\n",
        "  g.node_attr[\"color\"] = \"orangered\"\n",
        "  g.node_attr[\"width\"] = \"0.1\"\n",
        "  g.node_attr[\"height\"] = \"0.1\"\n",
        "  g.node_attr[\"fontsize\"] = \"8\"\n",
        "  g.node_attr[\"fontcolor\"] = \"mediumslateblue\"\n",
        "  g.node_attr[\"fontname\"] = \"monospace\"\n",
        "  g.edge_attr[\"fontsize\"] = \"8\"\n",
        "  g.edge_attr[\"fontname\"] = \"monospace\"\n",
        "  n = len(L)\n",
        "  for u in range(n):\n",
        "    g.node(str(u), labels[u] if labels else str(u))\n",
        "  added = set()\n",
        "  for v, u in enumerate(path):\n",
        "    if u != None:\n",
        "      if weighted:\n",
        "        for vi, w in G[u]:\n",
        "          if vi == v:\n",
        "            break\n",
        "        g.edge(str(u), str(v), str(w), dir=\"forward\", penwidth=\"2\", color=\"orange\")\n",
        "      else:\n",
        "        g.edge(str(u), str(v), dir=\"forward\", penwidth=\"2\", color=\"orange\")\n",
        "      added.add(f\"{u},{v}\")\n",
        "      added.add(f\"{v},{u}\")\n",
        "  if weighted:\n",
        "    for u in range(n):\n",
        "      for v, w in L[u]:\n",
        "        if not directed and not f\"{u},{v}\" in added:\n",
        "          added.add(f\"{u},{v}\")\n",
        "          added.add(f\"{v},{u}\")\n",
        "          g.edge(str(u), str(v), str(w))\n",
        "        elif directed:\n",
        "          g.edge(str(u), str(v), str(w))\n",
        "  else:\n",
        "    for u in range(n):\n",
        "      for v in L[u]:\n",
        "        if not directed and not f\"{u},{v}\" in added:\n",
        "          added.add(f\"{u},{v}\")\n",
        "          added.add(f\"{v},{u}\")\n",
        "          g.edge(str(u), str(v))\n",
        "        elif directed:\n",
        "          g.edge(str(u), str(v))\n",
        "  return g"
      ],
      "execution_count": 2,
      "outputs": []
    },
    {
      "cell_type": "code",
      "metadata": {
        "colab": {
          "base_uri": "https://localhost:8080/"
        },
        "id": "0-EI_jURw1YP",
        "outputId": "9a2266d6-8015-4a1c-deb1-e845cfb91e83"
      },
      "source": [
        "%%file 1.in\n",
        "watch undies pants belt shirt tie jacket shoes socks\n",
        "\n",
        "2 7\n",
        "3 7\n",
        "6\n",
        "3 5\n",
        "6\n",
        "\n",
        "\n",
        "7"
      ],
      "execution_count": 3,
      "outputs": [
        {
          "output_type": "stream",
          "name": "stdout",
          "text": [
            "Writing 1.in\n"
          ]
        }
      ]
    },
    {
      "cell_type": "code",
      "metadata": {
        "colab": {
          "base_uri": "https://localhost:8080/",
          "height": 304
        },
        "id": "KaYsUvUTxY_1",
        "outputId": "5ba1c205-2230-4c17-c134-2b2e6bc74ac6"
      },
      "source": [
        "G, labels = readAdjl(\"1.in\", haslabels=True)\n",
        "adjlShow(G, labels=labels, directed=True, layout=\"dot\")"
      ],
      "execution_count": 4,
      "outputs": [
        {
          "output_type": "execute_result",
          "data": {
            "text/plain": [
              "<graphviz.dot.Digraph at 0x7f586b321c10>"
            ],
            "image/svg+xml": "<?xml version=\"1.0\" encoding=\"UTF-8\" standalone=\"no\"?>\n<!DOCTYPE svg PUBLIC \"-//W3C//DTD SVG 1.1//EN\"\n \"http://www.w3.org/Graphics/SVG/1.1/DTD/svg11.dtd\">\n<!-- Generated by graphviz version 2.40.1 (20161225.0304)\n -->\n<!-- Title: G Pages: 1 -->\n<svg width=\"298pt\" height=\"212pt\"\n viewBox=\"0.00 0.00 297.81 212.17\" xmlns=\"http://www.w3.org/2000/svg\" xmlns:xlink=\"http://www.w3.org/1999/xlink\">\n<g id=\"graph0\" class=\"graph\" transform=\"scale(1 1) rotate(0) translate(4 208.1665)\">\n<title>G</title>\n<polygon fill=\"#ffffff\" stroke=\"transparent\" points=\"-4,4 -4,-208.1665 293.8112,-208.1665 293.8112,4 -4,4\"/>\n<!-- 0 -->\n<g id=\"node1\" class=\"node\">\n<title>0</title>\n<ellipse fill=\"none\" stroke=\"#ff4500\" cx=\"30.4056\" cy=\"-192.1457\" rx=\"30.3115\" ry=\"12.0417\"/>\n<text text-anchor=\"middle\" x=\"30.4056\" y=\"-190.2457\" font-family=\"monospace\" font-size=\"8.00\" fill=\"#7b68ee\">watch</text>\n</g>\n<!-- 1 -->\n<g id=\"node2\" class=\"node\">\n<title>1</title>\n<ellipse fill=\"none\" stroke=\"#ff4500\" cx=\"112.4056\" cy=\"-192.1457\" rx=\"33.8824\" ry=\"12.0417\"/>\n<text text-anchor=\"middle\" x=\"112.4056\" y=\"-190.2457\" font-family=\"monospace\" font-size=\"8.00\" fill=\"#7b68ee\">undies</text>\n</g>\n<!-- 2 -->\n<g id=\"node3\" class=\"node\">\n<title>2</title>\n<ellipse fill=\"none\" stroke=\"#ff4500\" cx=\"180.4056\" cy=\"-132.1041\" rx=\"30.3115\" ry=\"12.0417\"/>\n<text text-anchor=\"middle\" x=\"180.4056\" y=\"-130.2041\" font-family=\"monospace\" font-size=\"8.00\" fill=\"#7b68ee\">pants</text>\n</g>\n<!-- 1&#45;&gt;2 -->\n<g id=\"edge1\" class=\"edge\">\n<title>1&#45;&gt;2</title>\n<path fill=\"none\" stroke=\"#c0c0c0\" d=\"M125.1959,-180.8523C134.9787,-172.2144 148.6621,-160.1325 159.9587,-150.158\"/>\n<polygon fill=\"#c0c0c0\" stroke=\"#c0c0c0\" points=\"162.4931,-152.5893 167.6727,-143.3468 157.8599,-147.342 162.4931,-152.5893\"/>\n</g>\n<!-- 7 -->\n<g id=\"node8\" class=\"node\">\n<title>7</title>\n<ellipse fill=\"none\" stroke=\"#ff4500\" cx=\"101.4056\" cy=\"-72.0624\" rx=\"30.3115\" ry=\"12.0417\"/>\n<text text-anchor=\"middle\" x=\"101.4056\" y=\"-70.1624\" font-family=\"monospace\" font-size=\"8.00\" fill=\"#7b68ee\">shoes</text>\n</g>\n<!-- 1&#45;&gt;7 -->\n<g id=\"edge2\" class=\"edge\">\n<title>1&#45;&gt;7</title>\n<path fill=\"none\" stroke=\"#c0c0c0\" d=\"M95.4763,-181.4125C83.7561,-172.903 69.1049,-159.8477 62.4056,-144.1249 54.313,-125.1323 67.9291,-104.5147 81.2416,-90.218\"/>\n<polygon fill=\"#c0c0c0\" stroke=\"#c0c0c0\" points=\"83.8813,-92.5276 88.4663,-82.9763 78.9258,-87.5837 83.8813,-92.5276\"/>\n</g>\n<!-- 3 -->\n<g id=\"node4\" class=\"node\">\n<title>3</title>\n<ellipse fill=\"none\" stroke=\"#ff4500\" cx=\"192.4056\" cy=\"-72.0624\" rx=\"26.7407\" ry=\"12.0417\"/>\n<text text-anchor=\"middle\" x=\"192.4056\" y=\"-70.1624\" font-family=\"monospace\" font-size=\"8.00\" fill=\"#7b68ee\">belt</text>\n</g>\n<!-- 2&#45;&gt;3 -->\n<g id=\"edge3\" class=\"edge\">\n<title>2&#45;&gt;3</title>\n<path fill=\"none\" stroke=\"#c0c0c0\" d=\"M182.834,-119.9538C184.3141,-112.548 186.2502,-102.8609 187.9935,-94.1382\"/>\n<polygon fill=\"#c0c0c0\" stroke=\"#c0c0c0\" points=\"191.453,-94.6867 189.9808,-84.1947 184.5888,-93.3148 191.453,-94.6867\"/>\n</g>\n<!-- 2&#45;&gt;7 -->\n<g id=\"edge4\" class=\"edge\">\n<title>2&#45;&gt;7</title>\n<path fill=\"none\" stroke=\"#c0c0c0\" d=\"M166.282,-121.3698C154.4474,-112.3753 137.3426,-99.3753 123.6672,-88.9817\"/>\n<polygon fill=\"#c0c0c0\" stroke=\"#c0c0c0\" points=\"125.7527,-86.1706 115.6733,-82.9062 121.517,-91.7437 125.7527,-86.1706\"/>\n</g>\n<!-- 6 -->\n<g id=\"node7\" class=\"node\">\n<title>6</title>\n<ellipse fill=\"none\" stroke=\"#ff4500\" cx=\"225.4056\" cy=\"-12.0208\" rx=\"33.8824\" ry=\"12.0417\"/>\n<text text-anchor=\"middle\" x=\"225.4056\" y=\"-10.1208\" font-family=\"monospace\" font-size=\"8.00\" fill=\"#7b68ee\">jacket</text>\n</g>\n<!-- 3&#45;&gt;6 -->\n<g id=\"edge5\" class=\"edge\">\n<title>3&#45;&gt;6</title>\n<path fill=\"none\" stroke=\"#c0c0c0\" d=\"M198.9253,-60.2002C203.2191,-52.3878 208.9573,-41.9475 213.9942,-32.7832\"/>\n<polygon fill=\"#c0c0c0\" stroke=\"#c0c0c0\" points=\"217.15,-34.3079 218.8994,-23.8585 211.0155,-30.9362 217.15,-34.3079\"/>\n</g>\n<!-- 4 -->\n<g id=\"node5\" class=\"node\">\n<title>4</title>\n<ellipse fill=\"none\" stroke=\"#ff4500\" cx=\"259.4056\" cy=\"-132.1041\" rx=\"30.3115\" ry=\"12.0417\"/>\n<text text-anchor=\"middle\" x=\"259.4056\" y=\"-130.2041\" font-family=\"monospace\" font-size=\"8.00\" fill=\"#7b68ee\">shirt</text>\n</g>\n<!-- 4&#45;&gt;3 -->\n<g id=\"edge6\" class=\"edge\">\n<title>4&#45;&gt;3</title>\n<path fill=\"none\" stroke=\"#c0c0c0\" d=\"M247.1168,-121.0915C237.3889,-112.374 223.6074,-100.0237 212.3101,-89.8998\"/>\n<polygon fill=\"#c0c0c0\" stroke=\"#c0c0c0\" points=\"214.3996,-87.0725 204.6165,-83.0052 209.7279,-92.2855 214.3996,-87.0725\"/>\n</g>\n<!-- 5 -->\n<g id=\"node6\" class=\"node\">\n<title>5</title>\n<ellipse fill=\"none\" stroke=\"#ff4500\" cx=\"259.4056\" cy=\"-72.0624\" rx=\"22.7556\" ry=\"12.0417\"/>\n<text text-anchor=\"middle\" x=\"259.4056\" y=\"-70.1624\" font-family=\"monospace\" font-size=\"8.00\" fill=\"#7b68ee\">tie</text>\n</g>\n<!-- 4&#45;&gt;5 -->\n<g id=\"edge7\" class=\"edge\">\n<title>4&#45;&gt;5</title>\n<path fill=\"none\" stroke=\"#c0c0c0\" d=\"M259.4056,-119.9538C259.4056,-112.6293 259.4056,-103.0735 259.4056,-94.4261\"/>\n<polygon fill=\"#c0c0c0\" stroke=\"#c0c0c0\" points=\"262.9057,-94.1947 259.4056,-84.1947 255.9057,-94.1947 262.9057,-94.1947\"/>\n</g>\n<!-- 5&#45;&gt;6 -->\n<g id=\"edge8\" class=\"edge\">\n<title>5&#45;&gt;6</title>\n<path fill=\"none\" stroke=\"#c0c0c0\" d=\"M252.85,-60.4858C248.3925,-52.614 242.3707,-41.98 237.1035,-32.6785\"/>\n<polygon fill=\"#c0c0c0\" stroke=\"#c0c0c0\" points=\"240.1469,-30.9499 232.1737,-23.9729 234.0557,-34.3992 240.1469,-30.9499\"/>\n</g>\n<!-- 8 -->\n<g id=\"node9\" class=\"node\">\n<title>8</title>\n<ellipse fill=\"none\" stroke=\"#ff4500\" cx=\"101.4056\" cy=\"-132.1041\" rx=\"30.3115\" ry=\"12.0417\"/>\n<text text-anchor=\"middle\" x=\"101.4056\" y=\"-130.2041\" font-family=\"monospace\" font-size=\"8.00\" fill=\"#7b68ee\">socks</text>\n</g>\n<!-- 8&#45;&gt;7 -->\n<g id=\"edge9\" class=\"edge\">\n<title>8&#45;&gt;7</title>\n<path fill=\"none\" stroke=\"#c0c0c0\" d=\"M101.4056,-119.9538C101.4056,-112.6293 101.4056,-103.0735 101.4056,-94.4261\"/>\n<polygon fill=\"#c0c0c0\" stroke=\"#c0c0c0\" points=\"104.9057,-94.1947 101.4056,-84.1947 97.9057,-94.1947 104.9057,-94.1947\"/>\n</g>\n</g>\n</svg>\n"
          },
          "metadata": {},
          "execution_count": 4
        }
      ]
    },
    {
      "cell_type": "markdown",
      "metadata": {
        "id": "781UwGvhYV3D"
      },
      "source": [
        "## Topological Sort"
      ]
    },
    {
      "cell_type": "code",
      "metadata": {
        "id": "dDLpWvzGxoS5"
      },
      "source": [
        "def topoSort(G):\n",
        "  n = len(G)\n",
        "  visited = [False]*n\n",
        "  ts = []\n",
        "\n",
        "  def dfs(u):\n",
        "    if not visited[u]:\n",
        "      visited[u] = True\n",
        "      for v in G[u]:\n",
        "        if not visited[v]:\n",
        "          dfs(v)\n",
        "      ts.append(u)\n",
        "\n",
        "  for u in range(n):\n",
        "    dfs(u)\n",
        "\n",
        "  return ts"
      ],
      "execution_count": 5,
      "outputs": []
    },
    {
      "cell_type": "code",
      "metadata": {
        "colab": {
          "base_uri": "https://localhost:8080/"
        },
        "id": "X_vFOZP3Y7Cf",
        "outputId": "c4a81e5a-9522-4dce-c7b8-c989d3d03d41"
      },
      "source": [
        "ts = topoSort(G)\n",
        "print(list(reversed([labels[u] for u in ts])))"
      ],
      "execution_count": 6,
      "outputs": [
        {
          "output_type": "stream",
          "name": "stdout",
          "text": [
            "['socks', 'shirt', 'tie', 'undies', 'pants', 'shoes', 'belt', 'jacket', 'watch']\n"
          ]
        }
      ]
    }
  ]
}