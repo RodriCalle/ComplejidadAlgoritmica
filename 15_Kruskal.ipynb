{
  "nbformat": 4,
  "nbformat_minor": 0,
  "metadata": {
    "colab": {
      "name": "15. Kruskal.ipynb",
      "provenance": [],
      "collapsed_sections": [],
      "authorship_tag": "ABX9TyNy1127Mvv5jc48NLyM6zyt",
      "include_colab_link": true
    },
    "kernelspec": {
      "name": "python3",
      "display_name": "Python 3"
    },
    "language_info": {
      "name": "python"
    }
  },
  "cells": [
    {
      "cell_type": "markdown",
      "metadata": {
        "id": "view-in-github",
        "colab_type": "text"
      },
      "source": [
        "<a href=\"https://colab.research.google.com/github/RodriCalle/ComplejidadAlgoritmica/blob/main/15_Kruskal.ipynb\" target=\"_parent\"><img src=\"https://colab.research.google.com/assets/colab-badge.svg\" alt=\"Open In Colab\"/></a>"
      ]
    },
    {
      "cell_type": "code",
      "metadata": {
        "id": "Z77sskJYorBh"
      },
      "source": [
        "import heapq as hq"
      ],
      "execution_count": 1,
      "outputs": []
    },
    {
      "cell_type": "code",
      "metadata": {
        "id": "NFIMRIvf8o9J"
      },
      "source": [
        "import graphviz as gv\n",
        "import numpy as np\n",
        "import pandas as pd\n",
        "import heapq as hq\n",
        "import math\n",
        "\n",
        "def readAdjl(fn, haslabels=False, weighted=False, sep=\"|\"):\n",
        "  with open(fn) as f:\n",
        "    labels = None\n",
        "    if haslabels:\n",
        "      labels = f.readline().strip().split()\n",
        "    L = []\n",
        "    for line in f:\n",
        "      if weighted:\n",
        "        L.append([tuple(map(int, p.split(sep))) for p in line.strip().split()])\n",
        "        # line => \"1|3 2|5 4|4\" ==> [(1, 3), (2, 5), (4, 4)]\n",
        "      else: \n",
        "        L.append(list(map(int, line.strip().split()))) # \"1 3 5\" => [1, 3, 5]\n",
        "        # L.append([int(x) for x in line.strip().split()])\n",
        "  return L, labels\n",
        "\n",
        "def adjlShow(L, labels=None, directed=False, weighted=False, path=[],\n",
        "             layout=\"sfdp\"):\n",
        "  g = gv.Digraph(\"G\") if directed else gv.Graph(\"G\")\n",
        "  g.graph_attr[\"layout\"] = layout\n",
        "  g.edge_attr[\"color\"] = \"gray\"\n",
        "  g.node_attr[\"color\"] = \"orangered\"\n",
        "  g.node_attr[\"width\"] = \"0.1\"\n",
        "  g.node_attr[\"height\"] = \"0.1\"\n",
        "  g.node_attr[\"fontsize\"] = \"8\"\n",
        "  g.node_attr[\"fontcolor\"] = \"mediumslateblue\"\n",
        "  g.node_attr[\"fontname\"] = \"monospace\"\n",
        "  g.edge_attr[\"fontsize\"] = \"8\"\n",
        "  g.edge_attr[\"fontname\"] = \"monospace\"\n",
        "  n = len(L)\n",
        "  for u in range(n):\n",
        "    g.node(str(u), labels[u] if labels else str(u))\n",
        "  added = set()\n",
        "  for v, u in enumerate(path):\n",
        "    if u != None:\n",
        "      if weighted:\n",
        "        for vi, w in G[u]:\n",
        "          if vi == v:\n",
        "            break\n",
        "        g.edge(str(u), str(v), str(w), dir=\"forward\", penwidth=\"2\", color=\"orange\")\n",
        "      else:\n",
        "        g.edge(str(u), str(v), dir=\"forward\", penwidth=\"2\", color=\"orange\")\n",
        "      added.add(f\"{u},{v}\")\n",
        "      added.add(f\"{v},{u}\")\n",
        "  if weighted:\n",
        "    for u in range(n):\n",
        "      for v, w in L[u]:\n",
        "        if not directed and not f\"{u},{v}\" in added:\n",
        "          added.add(f\"{u},{v}\")\n",
        "          added.add(f\"{v},{u}\")\n",
        "          g.edge(str(u), str(v), str(w))\n",
        "        elif directed:\n",
        "          g.edge(str(u), str(v), str(w))\n",
        "  else:\n",
        "    for u in range(n):\n",
        "      for v in L[u]:\n",
        "        if not directed and not f\"{u},{v}\" in added:\n",
        "          added.add(f\"{u},{v}\")\n",
        "          added.add(f\"{v},{u}\")\n",
        "          g.edge(str(u), str(v))\n",
        "        elif directed:\n",
        "          g.edge(str(u), str(v))\n",
        "  return g\n"
      ],
      "execution_count": 2,
      "outputs": []
    },
    {
      "cell_type": "code",
      "metadata": {
        "colab": {
          "base_uri": "https://localhost:8080/"
        },
        "id": "2cE7BVn4p0Go",
        "outputId": "78bf99d3-cd28-4f3b-ce95-0861e5fb094b"
      },
      "source": [
        "%%file 1.in\n",
        "2|3 3|8 4|9\n",
        "2|1 3|7 5|7\n",
        "0|3 1|1 4|8 6|7\n",
        "0|8 1|7 5|2\n",
        "0|9 2|8 7|6\n",
        "1|7 3|2 6|2 7|9\n",
        "2|7 5|2 7|1\n",
        "4|6 5|9 6|1"
      ],
      "execution_count": 3,
      "outputs": [
        {
          "output_type": "stream",
          "name": "stdout",
          "text": [
            "Writing 1.in\n"
          ]
        }
      ]
    },
    {
      "cell_type": "code",
      "metadata": {
        "id": "6QPazKYbYJzM"
      },
      "source": [
        "class DisjointSet:\n",
        "  def __init__(self, n):\n",
        "    self.S = [-1]*n\n",
        "  \n",
        "  def find(self, a):\n",
        "    if self.S[a] < 0:\n",
        "      return a\n",
        "    parent = self.find(self.S[a])\n",
        "    self.S[a] = parent\n",
        "    return parent\n",
        "\n",
        "  def sameset(self, a, b):\n",
        "    return self.find(a) == self.find(b)\n",
        "\n",
        "  def union(self, a, b):\n",
        "    if self.sameset(a, b):\n",
        "      return\n",
        "    rx = self.find(a)\n",
        "    ry = self.find(b)\n",
        "    \n",
        "    if self.S[rx] < self.S[ry]:\n",
        "      self.S[rx] += self.S[ry]\n",
        "      self.S[ry] = rx\n",
        "    else:\n",
        "      self.S[ry] += self.S[rx]\n",
        "      self.S[rx] = ry"
      ],
      "execution_count": 4,
      "outputs": []
    },
    {
      "cell_type": "markdown",
      "metadata": {
        "id": "y-HMm_EemeCh"
      },
      "source": [
        "#Kruskal"
      ]
    },
    {
      "cell_type": "code",
      "metadata": {
        "id": "TfuhS94tmcVH"
      },
      "source": [
        "def kruskal(G):\n",
        "  n = len(G)\n",
        "  ds = DisjointSet(n)\n",
        "  edges = []\n",
        "  T = []\n",
        "\n",
        "  for u in range(n):\n",
        "    for v,w in G[u]:\n",
        "      hq.heappush(edges, (w, u, v) )\n",
        "\n",
        "  while edges and n > 0:\n",
        "    w,u,v = hq.heappop(edges)\n",
        "    if not ds.sameset(u,v):\n",
        "      ds.union(u, v)\n",
        "      T.append( [u,v,w] )\n",
        "      n-=1\n",
        "  return T"
      ],
      "execution_count": 5,
      "outputs": []
    },
    {
      "cell_type": "code",
      "metadata": {
        "colab": {
          "base_uri": "https://localhost:8080/",
          "height": 349
        },
        "id": "Fgt5duRHqAaB",
        "outputId": "ee7c19b8-f9e8-4463-ea56-ec5ca8d73314"
      },
      "source": [
        "G, _ = readAdjl(\"1.in\", weighted=True)\n",
        "adjlShow(G, weighted=True)"
      ],
      "execution_count": 6,
      "outputs": [
        {
          "output_type": "execute_result",
          "data": {
            "text/plain": [
              "<graphviz.dot.Graph at 0x7f6a2fd7ebd0>"
            ],
            "image/svg+xml": "<?xml version=\"1.0\" encoding=\"UTF-8\" standalone=\"no\"?>\n<!DOCTYPE svg PUBLIC \"-//W3C//DTD SVG 1.1//EN\"\n \"http://www.w3.org/Graphics/SVG/1.1/DTD/svg11.dtd\">\n<!-- Generated by graphviz version 2.40.1 (20161225.0304)\n -->\n<!-- Title: G Pages: 1 -->\n<svg width=\"305pt\" height=\"246pt\"\n viewBox=\"0.00 0.00 304.62 245.92\" xmlns=\"http://www.w3.org/2000/svg\" xmlns:xlink=\"http://www.w3.org/1999/xlink\">\n<g id=\"graph0\" class=\"graph\" transform=\"scale(1 1) rotate(0) translate(4 241.921)\">\n<title>G</title>\n<polygon fill=\"#ffffff\" stroke=\"transparent\" points=\"-4,4 -4,-241.921 300.6174,-241.921 300.6174,4 -4,4\"/>\n<!-- 0 -->\n<g id=\"node1\" class=\"node\">\n<title>0</title>\n<ellipse fill=\"none\" stroke=\"#ff4500\" cx=\"82.1628\" cy=\"-12.2138\" rx=\"15.6129\" ry=\"12.0417\"/>\n<text text-anchor=\"middle\" x=\"82.1628\" y=\"-10.3138\" font-family=\"monospace\" font-size=\"8.00\" fill=\"#7b68ee\">0</text>\n</g>\n<!-- 2 -->\n<g id=\"node3\" class=\"node\">\n<title>2</title>\n<ellipse fill=\"none\" stroke=\"#ff4500\" cx=\"148.4456\" cy=\"-115.9396\" rx=\"15.6129\" ry=\"12.0417\"/>\n<text text-anchor=\"middle\" x=\"148.4456\" y=\"-114.0396\" font-family=\"monospace\" font-size=\"8.00\" fill=\"#7b68ee\">2</text>\n</g>\n<!-- 0&#45;&#45;2 -->\n<g id=\"edge1\" class=\"edge\">\n<title>0&#45;&#45;2</title>\n<path fill=\"none\" stroke=\"#c0c0c0\" d=\"M89.2562,-23.3143C102.0138,-43.2786 128.6828,-85.0128 141.4031,-104.9189\"/>\n<text text-anchor=\"middle\" x=\"112.3297\" y=\"-66.7166\" font-family=\"monospace\" font-size=\"8.00\" fill=\"#000000\">3</text>\n</g>\n<!-- 3 -->\n<g id=\"node4\" class=\"node\">\n<title>3</title>\n<ellipse fill=\"none\" stroke=\"#ff4500\" cx=\"15.5563\" cy=\"-133.9338\" rx=\"15.6129\" ry=\"12.0417\"/>\n<text text-anchor=\"middle\" x=\"15.5563\" y=\"-132.0338\" font-family=\"monospace\" font-size=\"8.00\" fill=\"#7b68ee\">3</text>\n</g>\n<!-- 0&#45;&#45;3 -->\n<g id=\"edge2\" class=\"edge\">\n<title>0&#45;&#45;3</title>\n<path fill=\"none\" stroke=\"#c0c0c0\" d=\"M76.016,-23.4467C63.3272,-46.6349 34.3644,-99.5631 21.6883,-122.728\"/>\n<text text-anchor=\"middle\" x=\"45.8521\" y=\"-75.6874\" font-family=\"monospace\" font-size=\"8.00\" fill=\"#000000\">8</text>\n</g>\n<!-- 4 -->\n<g id=\"node5\" class=\"node\">\n<title>4</title>\n<ellipse fill=\"none\" stroke=\"#ff4500\" cx=\"214.2043\" cy=\"-12.0208\" rx=\"15.6129\" ry=\"12.0417\"/>\n<text text-anchor=\"middle\" x=\"214.2043\" y=\"-10.1208\" font-family=\"monospace\" font-size=\"8.00\" fill=\"#7b68ee\">4</text>\n</g>\n<!-- 0&#45;&#45;4 -->\n<g id=\"edge3\" class=\"edge\">\n<title>0&#45;&#45;4</title>\n<path fill=\"none\" stroke=\"#c0c0c0\" d=\"M97.8282,-12.1909C123.2408,-12.1538 173.1598,-12.0808 198.5593,-12.0437\"/>\n<text text-anchor=\"middle\" x=\"145.1937\" y=\"-14.7173\" font-family=\"monospace\" font-size=\"8.00\" fill=\"#000000\">9</text>\n</g>\n<!-- 1 -->\n<g id=\"node2\" class=\"node\">\n<title>1</title>\n<ellipse fill=\"none\" stroke=\"#ff4500\" cx=\"43.017\" cy=\"-225.9002\" rx=\"15.6129\" ry=\"12.0417\"/>\n<text text-anchor=\"middle\" x=\"43.017\" y=\"-224.0002\" font-family=\"monospace\" font-size=\"8.00\" fill=\"#7b68ee\">1</text>\n</g>\n<!-- 1&#45;&#45;2 -->\n<g id=\"edge4\" class=\"edge\">\n<title>1&#45;&#45;2</title>\n<path fill=\"none\" stroke=\"#c0c0c0\" d=\"M52.3731,-216.1419C72.3296,-195.3276 118.887,-146.7688 138.9589,-125.834\"/>\n<text text-anchor=\"middle\" x=\"92.666\" y=\"-173.588\" font-family=\"monospace\" font-size=\"8.00\" fill=\"#000000\">1</text>\n</g>\n<!-- 1&#45;&#45;3 -->\n<g id=\"edge5\" class=\"edge\">\n<title>1&#45;&#45;3</title>\n<path fill=\"none\" stroke=\"#c0c0c0\" d=\"M39.427,-213.8772C34.1351,-196.1546 24.3026,-163.2254 19.0604,-145.669\"/>\n<text text-anchor=\"middle\" x=\"26.2437\" y=\"-182.3731\" font-family=\"monospace\" font-size=\"8.00\" fill=\"#000000\">7</text>\n</g>\n<!-- 5 -->\n<g id=\"node6\" class=\"node\">\n<title>5</title>\n<ellipse fill=\"none\" stroke=\"#ff4500\" cx=\"148.3112\" cy=\"-220.6065\" rx=\"15.6129\" ry=\"12.0417\"/>\n<text text-anchor=\"middle\" x=\"148.3112\" y=\"-218.7065\" font-family=\"monospace\" font-size=\"8.00\" fill=\"#7b68ee\">5</text>\n</g>\n<!-- 1&#45;&#45;5 -->\n<g id=\"edge6\" class=\"edge\">\n<title>1&#45;&#45;5</title>\n<path fill=\"none\" stroke=\"#c0c0c0\" d=\"M58.5535,-225.1191C78.4611,-224.1182 112.7727,-222.3932 132.711,-221.3908\"/>\n<text text-anchor=\"middle\" x=\"92.6322\" y=\"-225.855\" font-family=\"monospace\" font-size=\"8.00\" fill=\"#000000\">7</text>\n</g>\n<!-- 2&#45;&#45;4 -->\n<g id=\"edge7\" class=\"edge\">\n<title>2&#45;&#45;4</title>\n<path fill=\"none\" stroke=\"#c0c0c0\" d=\"M155.4829,-104.8184C168.1396,-84.817 194.5977,-43.0051 207.2176,-23.062\"/>\n<text text-anchor=\"middle\" x=\"178.3502\" y=\"-66.5402\" font-family=\"monospace\" font-size=\"8.00\" fill=\"#000000\">8</text>\n</g>\n<!-- 6 -->\n<g id=\"node7\" class=\"node\">\n<title>6</title>\n<ellipse fill=\"none\" stroke=\"#ff4500\" cx=\"254.2273\" cy=\"-225.7049\" rx=\"15.6129\" ry=\"12.0417\"/>\n<text text-anchor=\"middle\" x=\"254.2273\" y=\"-223.8049\" font-family=\"monospace\" font-size=\"8.00\" fill=\"#7b68ee\">6</text>\n</g>\n<!-- 2&#45;&#45;6 -->\n<g id=\"edge8\" class=\"edge\">\n<title>2&#45;&#45;6</title>\n<path fill=\"none\" stroke=\"#c0c0c0\" d=\"M157.833,-125.6805C177.8563,-146.4579 224.5697,-194.9304 244.7089,-215.828\"/>\n<text text-anchor=\"middle\" x=\"198.2709\" y=\"-173.3543\" font-family=\"monospace\" font-size=\"8.00\" fill=\"#000000\">7</text>\n</g>\n<!-- 3&#45;&#45;5 -->\n<g id=\"edge9\" class=\"edge\">\n<title>3&#45;&#45;5</title>\n<path fill=\"none\" stroke=\"#c0c0c0\" d=\"M27.8077,-141.9324C53.098,-158.4439 110.8245,-196.1323 136.0895,-212.6272\"/>\n<text text-anchor=\"middle\" x=\"78.9486\" y=\"-179.8798\" font-family=\"monospace\" font-size=\"8.00\" fill=\"#000000\">2</text>\n</g>\n<!-- 7 -->\n<g id=\"node8\" class=\"node\">\n<title>7</title>\n<ellipse fill=\"none\" stroke=\"#ff4500\" cx=\"281.0611\" cy=\"-133.5426\" rx=\"15.6129\" ry=\"12.0417\"/>\n<text text-anchor=\"middle\" x=\"281.0611\" y=\"-131.6426\" font-family=\"monospace\" font-size=\"8.00\" fill=\"#7b68ee\">7</text>\n</g>\n<!-- 4&#45;&#45;7 -->\n<g id=\"edge10\" class=\"edge\">\n<title>4&#45;&#45;7</title>\n<path fill=\"none\" stroke=\"#c0c0c0\" d=\"M220.3742,-23.2355C233.1107,-46.3859 262.1824,-99.2279 274.9061,-122.3551\"/>\n<text text-anchor=\"middle\" x=\"244.6402\" y=\"-75.3953\" font-family=\"monospace\" font-size=\"8.00\" fill=\"#000000\">6</text>\n</g>\n<!-- 5&#45;&#45;6 -->\n<g id=\"edge11\" class=\"edge\">\n<title>5&#45;&#45;6</title>\n<path fill=\"none\" stroke=\"#c0c0c0\" d=\"M163.9395,-221.3588C183.9647,-222.3227 218.4789,-223.9841 238.5349,-224.9495\"/>\n<text text-anchor=\"middle\" x=\"198.2372\" y=\"-225.7542\" font-family=\"monospace\" font-size=\"8.00\" fill=\"#000000\">2</text>\n</g>\n<!-- 5&#45;&#45;7 -->\n<g id=\"edge12\" class=\"edge\">\n<title>5&#45;&#45;7</title>\n<path fill=\"none\" stroke=\"#c0c0c0\" d=\"M160.5621,-212.5718C185.8515,-195.9858 243.5758,-158.1273 268.8399,-141.5579\"/>\n<text text-anchor=\"middle\" x=\"211.701\" y=\"-179.6649\" font-family=\"monospace\" font-size=\"8.00\" fill=\"#000000\">9</text>\n</g>\n<!-- 6&#45;&#45;7 -->\n<g id=\"edge13\" class=\"edge\">\n<title>6&#45;&#45;7</title>\n<path fill=\"none\" stroke=\"#c0c0c0\" d=\"M257.7354,-213.6563C262.9065,-195.8959 272.5145,-162.8965 277.637,-145.3028\"/>\n<text text-anchor=\"middle\" x=\"264.6862\" y=\"-182.0795\" font-family=\"monospace\" font-size=\"8.00\" fill=\"#000000\">1</text>\n</g>\n</g>\n</svg>\n"
          },
          "metadata": {},
          "execution_count": 6
        }
      ]
    },
    {
      "cell_type": "code",
      "metadata": {
        "colab": {
          "base_uri": "https://localhost:8080/"
        },
        "id": "sYMPA8nsqA2y",
        "outputId": "d3f2f571-24fc-4ebe-dea8-cd106ab784e1"
      },
      "source": [
        "Tkruskal = kruskal(G)\n",
        "print(Tkruskal)"
      ],
      "execution_count": 7,
      "outputs": [
        {
          "output_type": "stream",
          "name": "stdout",
          "text": [
            "[[1, 2, 1], [6, 7, 1], [3, 5, 2], [5, 6, 2], [0, 2, 3], [4, 7, 6], [1, 3, 7]]\n"
          ]
        }
      ]
    }
  ]
}