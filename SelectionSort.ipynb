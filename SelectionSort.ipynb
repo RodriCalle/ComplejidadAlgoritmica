{
  "nbformat": 4,
  "nbformat_minor": 0,
  "metadata": {
    "colab": {
      "name": "SelectionSort.ipynb",
      "provenance": [],
      "collapsed_sections": [],
      "authorship_tag": "ABX9TyO/6tqdpiTOYiJPr2rydz6P",
      "include_colab_link": true
    },
    "kernelspec": {
      "name": "python3",
      "display_name": "Python 3"
    },
    "language_info": {
      "name": "python"
    }
  },
  "cells": [
    {
      "cell_type": "markdown",
      "metadata": {
        "id": "view-in-github",
        "colab_type": "text"
      },
      "source": [
        "<a href=\"https://colab.research.google.com/github/RodriCalle/ComplejidadAlgoritmica/blob/main/SelectionSort.ipynb\" target=\"_parent\"><img src=\"https://colab.research.google.com/assets/colab-badge.svg\" alt=\"Open In Colab\"/></a>"
      ]
    },
    {
      "cell_type": "code",
      "metadata": {
        "colab": {
          "base_uri": "https://localhost:8080/"
        },
        "id": "CsDRlKUsWFTR",
        "outputId": "9409536d-ba6c-4581-d552-6bc661fad94c"
      },
      "source": [
        "def selectionSort(a):\n",
        "  # Traverse through all array elements\n",
        "  for i in range(len(a)):\n",
        "    # Find the minimum element in remaining unsorted array\n",
        "    minIdx = i\n",
        "    for j in range(i + 1, len(a)):\n",
        "      if a[minIdx] > a[j]:\n",
        "        minIdx = j\n",
        "    # Swap the found minimum element with the first element  \n",
        "    a[i], a[minIdx] = a[minIdx], a[i]\n",
        "\n",
        "lista = [64, 25, 12, 22, 11]\n",
        "selectionSort(lista)\n",
        "print(lista)"
      ],
      "execution_count": 1,
      "outputs": [
        {
          "output_type": "stream",
          "name": "stdout",
          "text": [
            "[11, 12, 22, 25, 64]\n"
          ]
        }
      ]
    },
    {
      "cell_type": "code",
      "metadata": {
        "id": "poEJ8hPWYDgY"
      },
      "source": [
        "#Selection Sort\n",
        "def selectionSortAnalysis(a):                     # T(n)\n",
        "  n = len(a)                                # 1+1\n",
        "  for i in range(n-1):                      # n-1 *\n",
        "    minIdx = i                                # 1\n",
        "    for j in range(i + 1, n):                 # i * -> n/2\n",
        "      if a[minIdx] > a[j]:                      # 1+1+1\n",
        "        minIdx = j                                # 1\n",
        "    a[i], a[minIdx] = a[minIdx], a[i]         # 1+1+1+1+1+1     "
      ],
      "execution_count": 2,
      "outputs": []
    },
    {
      "cell_type": "markdown",
      "metadata": {
        "id": "DJTva13BX1q0"
      },
      "source": [
        "$\n",
        "T(n) = 2 + (n-1) * (1 + n/2 * (3+1+6))\n",
        "$\n",
        "\n",
        "$\n",
        "T(n) = 2 + (n-1) * (1 + 10n / 2)\n",
        "$\n",
        "\n",
        "$\n",
        "T(n) = 2 + (n-1) * (1 + 10n / 2)\n",
        "$\n",
        "\n",
        "$\n",
        "T(n) = 2 + (n-1 + (10n^2 - 10n) / 2)\n",
        "$\n",
        "\n",
        "$\n",
        "T(n) = 2 + (n-1 + 5n^2 - 5n)\n",
        "$\n",
        "\n",
        "$\n",
        "T(n) = 2 + (5n^2 - 4n -1)\n",
        "$\n",
        "\n",
        "$\n",
        "T(n) = 5n^2 - 4n + 1\n",
        "$\n",
        "\n",
        "$\n",
        "T(n) => O(n^2)\n",
        "$"
      ]
    },
    {
      "cell_type": "code",
      "metadata": {
        "id": "QHfUDyaWWM4A",
        "colab": {
          "base_uri": "https://localhost:8080/"
        },
        "outputId": "1816823c-0842-46bd-cc5d-64609e62e003"
      },
      "source": [
        "import random\n",
        "\n",
        "lst = [i+1 for i in range(20)]\n",
        "\n",
        "print(\"Estado inicial: \", lst)\n",
        "random.shuffle(lst)\n",
        "print(\"Datos alterados: \", lst)\n",
        "selectionSort(lst)\n",
        "print(\"Datos ordenados:\\n\",lst)"
      ],
      "execution_count": 3,
      "outputs": [
        {
          "output_type": "stream",
          "name": "stdout",
          "text": [
            "Estado inicial:  [1, 2, 3, 4, 5, 6, 7, 8, 9, 10, 11, 12, 13, 14, 15, 16, 17, 18, 19, 20]\n",
            "Datos alterados:  [14, 3, 12, 11, 20, 17, 2, 15, 13, 5, 10, 1, 7, 4, 18, 6, 8, 16, 9, 19]\n",
            "Datos ordenados:\n",
            " [1, 2, 3, 4, 5, 6, 7, 8, 9, 10, 11, 12, 13, 14, 15, 16, 17, 18, 19, 20]\n"
          ]
        }
      ]
    }
  ]
}