{
  "nbformat": 4,
  "nbformat_minor": 0,
  "metadata": {
    "colab": {
      "name": "12. Componentes Fuertemente Conexos.ipynb",
      "provenance": [],
      "collapsed_sections": [],
      "include_colab_link": true
    },
    "kernelspec": {
      "name": "python3",
      "display_name": "Python 3"
    },
    "language_info": {
      "name": "python"
    }
  },
  "cells": [
    {
      "cell_type": "markdown",
      "metadata": {
        "id": "view-in-github",
        "colab_type": "text"
      },
      "source": [
        "<a href=\"https://colab.research.google.com/github/RodriCalle/ComplejidadAlgoritmica/blob/main/12_Componentes_Fuertemente_Conexos.ipynb\" target=\"_parent\"><img src=\"https://colab.research.google.com/assets/colab-badge.svg\" alt=\"Open In Colab\"/></a>"
      ]
    },
    {
      "cell_type": "code",
      "metadata": {
        "id": "-x_ZTyiLGiht"
      },
      "source": [
        "import graphviz as gv\n",
        "import numpy as np\n",
        "import pandas as pd"
      ],
      "execution_count": 1,
      "outputs": []
    },
    {
      "cell_type": "code",
      "metadata": {
        "id": "rlw_e6_jSp4b"
      },
      "source": [
        "def readAdjl(fn, haslabels=False, weighted=False, sep=\"|\"):\n",
        "  with open(fn) as f:\n",
        "    labels = None\n",
        "    if haslabels:\n",
        "      labels = f.readline().strip().split()\n",
        "    L = []\n",
        "    for line in f:\n",
        "      if weighted:\n",
        "        L.append([tuple(map(int, p.split(sep))) for p in line.strip().split()])\n",
        "        # line => \"1|3 2|5 4|4\" ==> [(1, 3), (2, 5), (4, 4)]\n",
        "      else: \n",
        "        L.append(list(map(int, line.strip().split()))) # \"1 3 5\" => [1, 3, 5]\n",
        "        # L.append([int(x) for x in line.strip().split()])\n",
        "  return L, labels\n",
        "\n",
        "def adjlShow(L, labels=None, directed=False, weighted=False, path=[], layout=\"sfdp\"):\n",
        "  g = gv.Digraph(\"G\") if directed else gv.Graph(\"G\")\n",
        "  g.graph_attr[\"layout\"] = layout\n",
        "  g.edge_attr[\"color\"] = \"gray\"\n",
        "  g.node_attr[\"color\"] = \"orangered\"\n",
        "  g.node_attr[\"width\"] = \"0.1\"\n",
        "  g.node_attr[\"height\"] = \"0.1\"\n",
        "  g.node_attr[\"fontsize\"] = \"8\"\n",
        "  g.node_attr[\"fontcolor\"] = \"mediumslateblue\"\n",
        "  g.node_attr[\"fontname\"] = \"monospace\"\n",
        "  n = len(L)\n",
        "  for u in range(n):\n",
        "    g.node(str(u), labels[u] if labels else str(u))\n",
        "  added = set()\n",
        "  for v, u in enumerate(path):\n",
        "    if u != None:\n",
        "      g.edge(str(u), str(v), dir=\"forward\", penwidth=\"2\", color=\"orange\")\n",
        "      added.add(f\"{u},{v}\")\n",
        "      added.add(f\"{v},{u}\")\n",
        "  if weighted:\n",
        "    for u in range(n):\n",
        "      for v, w in L[u]:\n",
        "        if not directed and not f\"{u},{v}\" in added:\n",
        "          added.add(f\"{u},{v}\")\n",
        "          added.add(f\"{v},{u}\")\n",
        "          g.edge(str(u), str(v), str(w))\n",
        "        elif directed:\n",
        "          g.edge(str(u), str(v), str(w))\n",
        "  else:\n",
        "    for u in range(n):\n",
        "      for v in L[u]:\n",
        "        if not directed and not f\"{u},{v}\" in added:\n",
        "          added.add(f\"{u},{v}\")\n",
        "          added.add(f\"{v},{u}\")\n",
        "          g.edge(str(u), str(v))\n",
        "        elif directed:\n",
        "          g.edge(str(u), str(v))\n",
        "  return g"
      ],
      "execution_count": 2,
      "outputs": []
    },
    {
      "cell_type": "code",
      "metadata": {
        "colab": {
          "base_uri": "https://localhost:8080/"
        },
        "id": "8BiRqELBKZUw",
        "outputId": "b204aff0-c1e3-4b7d-cce5-01dabb1381e5"
      },
      "source": [
        "%%file 1.in\n",
        "\n",
        "4\n",
        "8\n",
        "6\n",
        "7\n",
        "2\n",
        "9\n",
        "1\n",
        "5 6\n",
        "3 7"
      ],
      "execution_count": 3,
      "outputs": [
        {
          "output_type": "stream",
          "name": "stdout",
          "text": [
            "Writing 1.in\n"
          ]
        }
      ]
    },
    {
      "cell_type": "code",
      "metadata": {
        "colab": {
          "base_uri": "https://localhost:8080/",
          "height": 200
        },
        "id": "znfmdCjNKtsr",
        "outputId": "704a1aaa-6f63-44ff-8807-932beba95212"
      },
      "source": [
        "G, _ = readAdjl('1.in')\n",
        "adjlShow(G, directed=True)"
      ],
      "execution_count": 4,
      "outputs": [
        {
          "output_type": "execute_result",
          "data": {
            "text/plain": [
              "<graphviz.dot.Digraph at 0x7fd88bcf2390>"
            ],
            "image/svg+xml": "<?xml version=\"1.0\" encoding=\"UTF-8\" standalone=\"no\"?>\n<!DOCTYPE svg PUBLIC \"-//W3C//DTD SVG 1.1//EN\"\n \"http://www.w3.org/Graphics/SVG/1.1/DTD/svg11.dtd\">\n<!-- Generated by graphviz version 2.40.1 (20161225.0304)\n -->\n<!-- Title: G Pages: 1 -->\n<svg width=\"433pt\" height=\"134pt\"\n viewBox=\"0.00 0.00 433.39 134.04\" xmlns=\"http://www.w3.org/2000/svg\" xmlns:xlink=\"http://www.w3.org/1999/xlink\">\n<g id=\"graph0\" class=\"graph\" transform=\"scale(1 1) rotate(0) translate(4 130.0416)\">\n<title>G</title>\n<polygon fill=\"#ffffff\" stroke=\"transparent\" points=\"-4,4 -4,-130.0416 429.3851,-130.0416 429.3851,4 -4,4\"/>\n<!-- 0 -->\n<g id=\"node1\" class=\"node\">\n<title>0</title>\n<ellipse fill=\"none\" stroke=\"#ff4500\" cx=\"287.5563\" cy=\"-114.0208\" rx=\"15.6129\" ry=\"12.0417\"/>\n<text text-anchor=\"middle\" x=\"287.5563\" y=\"-112.1208\" font-family=\"monospace\" font-size=\"8.00\" fill=\"#7b68ee\">0</text>\n</g>\n<!-- 1 -->\n<g id=\"node2\" class=\"node\">\n<title>1</title>\n<ellipse fill=\"none\" stroke=\"#ff4500\" cx=\"15.5563\" cy=\"-54.3347\" rx=\"15.6129\" ry=\"12.0417\"/>\n<text text-anchor=\"middle\" x=\"15.5563\" y=\"-52.4347\" font-family=\"monospace\" font-size=\"8.00\" fill=\"#7b68ee\">1</text>\n</g>\n<!-- 4 -->\n<g id=\"node5\" class=\"node\">\n<title>4</title>\n<ellipse fill=\"none\" stroke=\"#ff4500\" cx=\"20.2067\" cy=\"-12.0208\" rx=\"15.6129\" ry=\"12.0417\"/>\n<text text-anchor=\"middle\" x=\"20.2067\" y=\"-10.1208\" font-family=\"monospace\" font-size=\"8.00\" fill=\"#7b68ee\">4</text>\n</g>\n<!-- 1&#45;&gt;4 -->\n<g id=\"edge1\" class=\"edge\">\n<title>1&#45;&gt;4</title>\n<path fill=\"none\" stroke=\"#c0c0c0\" d=\"M16.8765,-42.3224C17.1491,-39.8424 17.4444,-37.1549 17.7429,-34.4395\"/>\n<polygon fill=\"#c0c0c0\" stroke=\"#c0c0c0\" points=\"21.2536,-34.5326 18.8671,-24.2101 14.2955,-33.7678 21.2536,-34.5326\"/>\n</g>\n<!-- 2 -->\n<g id=\"node3\" class=\"node\">\n<title>2</title>\n<ellipse fill=\"none\" stroke=\"#ff4500\" cx=\"409.8287\" cy=\"-54.346\" rx=\"15.6129\" ry=\"12.0417\"/>\n<text text-anchor=\"middle\" x=\"409.8287\" y=\"-52.446\" font-family=\"monospace\" font-size=\"8.00\" fill=\"#7b68ee\">2</text>\n</g>\n<!-- 8 -->\n<g id=\"node9\" class=\"node\">\n<title>8</title>\n<ellipse fill=\"none\" stroke=\"#ff4500\" cx=\"347.0624\" cy=\"-39.4876\" rx=\"15.6129\" ry=\"12.0417\"/>\n<text text-anchor=\"middle\" x=\"347.0624\" y=\"-37.5876\" font-family=\"monospace\" font-size=\"8.00\" fill=\"#7b68ee\">8</text>\n</g>\n<!-- 2&#45;&gt;8 -->\n<g id=\"edge2\" class=\"edge\">\n<title>2&#45;&gt;8</title>\n<path fill=\"none\" stroke=\"#c0c0c0\" d=\"M394.954,-50.8248C388.0979,-49.2018 379.7723,-47.2309 371.9983,-45.3906\"/>\n<polygon fill=\"#c0c0c0\" stroke=\"#c0c0c0\" points=\"372.8037,-41.9846 362.2664,-43.0868 371.1911,-48.7963 372.8037,-41.9846\"/>\n</g>\n<!-- 3 -->\n<g id=\"node4\" class=\"node\">\n<title>3</title>\n<ellipse fill=\"none\" stroke=\"#ff4500\" cx=\"212.7258\" cy=\"-78.6634\" rx=\"15.6129\" ry=\"12.0417\"/>\n<text text-anchor=\"middle\" x=\"212.7258\" y=\"-76.7634\" font-family=\"monospace\" font-size=\"8.00\" fill=\"#7b68ee\">3</text>\n</g>\n<!-- 6 -->\n<g id=\"node7\" class=\"node\">\n<title>6</title>\n<ellipse fill=\"none\" stroke=\"#ff4500\" cx=\"256.5759\" cy=\"-48.6473\" rx=\"15.6129\" ry=\"12.0417\"/>\n<text text-anchor=\"middle\" x=\"256.5759\" y=\"-46.7473\" font-family=\"monospace\" font-size=\"8.00\" fill=\"#7b68ee\">6</text>\n</g>\n<!-- 3&#45;&gt;6 -->\n<g id=\"edge3\" class=\"edge\">\n<title>3&#45;&gt;6</title>\n<path fill=\"none\" stroke=\"#c0c0c0\" d=\"M224.708,-70.4614C228.3437,-67.9727 232.4421,-65.1672 236.4591,-62.4176\"/>\n<polygon fill=\"#c0c0c0\" stroke=\"#c0c0c0\" points=\"238.6363,-65.1687 244.9112,-56.632 234.6823,-59.3924 238.6363,-65.1687\"/>\n</g>\n<!-- 7 -->\n<g id=\"node8\" class=\"node\">\n<title>7</title>\n<ellipse fill=\"none\" stroke=\"#ff4500\" cx=\"78.5429\" cy=\"-39.5333\" rx=\"15.6129\" ry=\"12.0417\"/>\n<text text-anchor=\"middle\" x=\"78.5429\" y=\"-37.6333\" font-family=\"monospace\" font-size=\"8.00\" fill=\"#7b68ee\">7</text>\n</g>\n<!-- 4&#45;&gt;7 -->\n<g id=\"edge4\" class=\"edge\">\n<title>4&#45;&gt;7</title>\n<path fill=\"none\" stroke=\"#c0c0c0\" d=\"M33.7368,-18.4019C40.2897,-21.4924 48.3376,-25.2879 55.7961,-28.8055\"/>\n<polygon fill=\"#c0c0c0\" stroke=\"#c0c0c0\" points=\"54.5485,-32.0868 65.0861,-33.1869 57.5345,-25.7556 54.5485,-32.0868\"/>\n</g>\n<!-- 5 -->\n<g id=\"node6\" class=\"node\">\n<title>5</title>\n<ellipse fill=\"none\" stroke=\"#ff4500\" cx=\"405.2252\" cy=\"-12.0374\" rx=\"15.6129\" ry=\"12.0417\"/>\n<text text-anchor=\"middle\" x=\"405.2252\" y=\"-10.1374\" font-family=\"monospace\" font-size=\"8.00\" fill=\"#7b68ee\">5</text>\n</g>\n<!-- 5&#45;&gt;2 -->\n<g id=\"edge5\" class=\"edge\">\n<title>5&#45;&gt;2</title>\n<path fill=\"none\" stroke=\"#c0c0c0\" d=\"M406.5321,-24.0482C406.8019,-26.5278 407.0943,-29.2151 407.3897,-31.9301\"/>\n<polygon fill=\"#c0c0c0\" stroke=\"#c0c0c0\" points=\"403.9413,-32.5956 408.5026,-42.1583 410.9003,-31.8383 403.9413,-32.5956\"/>\n</g>\n<!-- 9 -->\n<g id=\"node10\" class=\"node\">\n<title>9</title>\n<ellipse fill=\"none\" stroke=\"#ff4500\" cx=\"168.9657\" cy=\"-48.6269\" rx=\"15.6129\" ry=\"12.0417\"/>\n<text text-anchor=\"middle\" x=\"168.9657\" y=\"-46.7269\" font-family=\"monospace\" font-size=\"8.00\" fill=\"#7b68ee\">9</text>\n</g>\n<!-- 6&#45;&gt;9 -->\n<g id=\"edge6\" class=\"edge\">\n<title>6&#45;&gt;9</title>\n<path fill=\"none\" stroke=\"#c0c0c0\" d=\"M240.9129,-48.6437C228.16,-48.6407 209.8885,-48.6364 194.9502,-48.6329\"/>\n<polygon fill=\"#c0c0c0\" stroke=\"#c0c0c0\" points=\"194.7893,-45.133 184.7884,-48.6306 194.7876,-52.133 194.7893,-45.133\"/>\n</g>\n<!-- 7&#45;&gt;1 -->\n<g id=\"edge7\" class=\"edge\">\n<title>7&#45;&gt;1</title>\n<path fill=\"none\" stroke=\"#c0c0c0\" d=\"M63.6159,-43.041C56.7358,-44.6578 48.381,-46.6211 40.5797,-48.4544\"/>\n<polygon fill=\"#c0c0c0\" stroke=\"#c0c0c0\" points=\"39.7478,-45.0544 30.8137,-50.7493 41.3492,-51.8688 39.7478,-45.0544\"/>\n</g>\n<!-- 8&#45;&gt;5 -->\n<g id=\"edge8\" class=\"edge\">\n<title>8&#45;&gt;5</title>\n<path fill=\"none\" stroke=\"#c0c0c0\" d=\"M360.5523,-33.121C367.0123,-30.0722 374.9295,-26.3356 382.2951,-22.8594\"/>\n<polygon fill=\"#c0c0c0\" stroke=\"#c0c0c0\" points=\"384.2588,-25.8028 391.8084,-18.3695 381.2711,-19.4724 384.2588,-25.8028\"/>\n</g>\n<!-- 8&#45;&gt;6 -->\n<g id=\"edge9\" class=\"edge\">\n<title>8&#45;&gt;6</title>\n<path fill=\"none\" stroke=\"#c0c0c0\" d=\"M331.3008,-41.0831C317.8067,-42.4491 298.115,-44.4424 282.3335,-46.04\"/>\n<polygon fill=\"#c0c0c0\" stroke=\"#c0c0c0\" points=\"281.7534,-42.5807 272.1568,-47.0701 282.4585,-49.5451 281.7534,-42.5807\"/>\n</g>\n<!-- 9&#45;&gt;3 -->\n<g id=\"edge10\" class=\"edge\">\n<title>9&#45;&gt;3</title>\n<path fill=\"none\" stroke=\"#c0c0c0\" d=\"M180.9233,-56.8345C184.5516,-59.3249 188.6416,-62.1322 192.6503,-64.8837\"/>\n<polygon fill=\"#c0c0c0\" stroke=\"#c0c0c0\" points=\"190.8597,-67.8998 201.0851,-70.6733 194.8211,-62.1285 190.8597,-67.8998\"/>\n</g>\n<!-- 9&#45;&gt;7 -->\n<g id=\"edge11\" class=\"edge\">\n<title>9&#45;&gt;7</title>\n<path fill=\"none\" stroke=\"#c0c0c0\" d=\"M153.2153,-47.0429C139.7306,-45.6868 120.0528,-43.7079 104.2824,-42.1219\"/>\n<polygon fill=\"#c0c0c0\" stroke=\"#c0c0c0\" points=\"104.4129,-38.6174 94.1128,-41.0991 103.7124,-45.5823 104.4129,-38.6174\"/>\n</g>\n</g>\n</svg>\n"
          },
          "metadata": {},
          "execution_count": 4
        }
      ]
    },
    {
      "cell_type": "markdown",
      "metadata": {
        "id": "Kj5y3kKobT3a"
      },
      "source": [
        "#Kosaraju"
      ]
    },
    {
      "cell_type": "code",
      "metadata": {
        "id": "M9bUIJdgMtpv"
      },
      "source": [
        "def reverse(G):\n",
        "  n =len(G)\n",
        "  Grev = [[] for _ in range(n)]\n",
        "  for u in range(n):\n",
        "    for v in G[u]:\n",
        "      Grev[v].append(u)\n",
        "  return Grev"
      ],
      "execution_count": 5,
      "outputs": []
    },
    {
      "cell_type": "code",
      "metadata": {
        "id": "AnYnDFnGLAE9"
      },
      "source": [
        "def kosaraju(G):\n",
        "  n = len(G)\n",
        "  visited = [False]*n\n",
        "  f = []\n",
        "\n",
        "  #Producir grafo reverso\n",
        "  Grev = reverse(G)\n",
        "\n",
        "  #Producir orden de finalizacion con dfs sobre grafo reverso\n",
        "  def dfs1(u):\n",
        "    visited[u] = True\n",
        "    for v in Grev[u]:\n",
        "      if not visited[v]:\n",
        "        dfs1(v)\n",
        "    f.append(u)\n",
        "\n",
        "  def dfs2(u, scc):\n",
        "    visited[u] = True\n",
        "    for v in G[u]:\n",
        "      if not visited[v]:\n",
        "        dfs2(v, scc)\n",
        "    scc.append(u)\n",
        "\n",
        "  for u in range(n):\n",
        "    if not visited[u]:\n",
        "      dfs1(u)\n",
        "\n",
        "  scc = []\n",
        "  visited = [False]*n\n",
        "  for u in reversed(f):\n",
        "    if not visited[u]:\n",
        "      scc.append([])\n",
        "      dfs2(u, scc[-1])\n",
        "\n",
        "  return scc"
      ],
      "execution_count": 6,
      "outputs": []
    },
    {
      "cell_type": "code",
      "metadata": {
        "colab": {
          "base_uri": "https://localhost:8080/"
        },
        "id": "QV1feHFZLoyG",
        "outputId": "ec4cffe9-7b3c-4b1f-c19f-3c53ec8c05a7"
      },
      "source": [
        "kosaraju(G)"
      ],
      "execution_count": 7,
      "outputs": [
        {
          "output_type": "execute_result",
          "data": {
            "text/plain": [
              "[[7, 4, 1], [6, 3, 9], [2, 5, 8], [0]]"
            ]
          },
          "metadata": {},
          "execution_count": 7
        }
      ]
    },
    {
      "cell_type": "markdown",
      "metadata": {
        "id": "dc7O2TnqcEEc"
      },
      "source": [
        "#Algoritmo exhaustivo"
      ]
    },
    {
      "cell_type": "code",
      "metadata": {
        "id": "5ziSzTjjcMhG"
      },
      "source": [
        "#Para cada nodo x hacer\n",
        "#  CFC[x] = x // cada nodo esta en su propia CFC\n",
        "#  Para cada arista x→y hacer\n",
        "#    Si CFC[x] != CFC[y] entonces\n",
        "#      Para cada nodo z hacer\n",
        "#        Si CFC[z]==CFC[y] entonces CFC[z]=CFC[x]"
      ],
      "execution_count": 8,
      "outputs": []
    },
    {
      "cell_type": "code",
      "metadata": {
        "id": "fzOsMnfMeM8o"
      },
      "source": [
        "def algExh(G):\n",
        "  n =len(G)\n",
        "  CFC = [i for i in range(n)]\n",
        "  for x in range(n):\n",
        "    for y in G[x]:\n",
        "      if (CFC[x] != CFC[y] and CFC[y] == y):\n",
        "        for z in range(n):\n",
        "          if (CFC[z] == CFC[y]):\n",
        "              CFC[z] = CFC[x]\n",
        "    \n",
        "  return CFC"
      ],
      "execution_count": 9,
      "outputs": []
    },
    {
      "cell_type": "code",
      "metadata": {
        "colab": {
          "base_uri": "https://localhost:8080/"
        },
        "id": "DMEYl0-nhTvh",
        "outputId": "80872f15-5fb0-46ae-85e9-48fafff19f37"
      },
      "source": [
        "cfc = algExh(G)\n",
        "print(cfc)"
      ],
      "execution_count": 10,
      "outputs": [
        {
          "output_type": "stream",
          "name": "stdout",
          "text": [
            "[0, 1, 2, 3, 1, 2, 3, 1, 2, 3]\n"
          ]
        }
      ]
    },
    {
      "cell_type": "code",
      "metadata": {
        "colab": {
          "base_uri": "https://localhost:8080/"
        },
        "id": "eEribm0IsPx0",
        "outputId": "49280770-a5a4-4fa6-bd12-6f3d49a0c99f"
      },
      "source": [
        "scc = dict()\n",
        "for i, j in enumerate(cfc):\n",
        "  if j not in scc.keys():\n",
        "    scc[j] = [i]\n",
        "  else:\n",
        "    scc[j].append(i)\n",
        "\n",
        "print(scc)"
      ],
      "execution_count": 11,
      "outputs": [
        {
          "output_type": "stream",
          "name": "stdout",
          "text": [
            "{0: [0], 1: [1, 4, 7], 2: [2, 5, 8], 3: [3, 6, 9]}\n"
          ]
        }
      ]
    }
  ]
}